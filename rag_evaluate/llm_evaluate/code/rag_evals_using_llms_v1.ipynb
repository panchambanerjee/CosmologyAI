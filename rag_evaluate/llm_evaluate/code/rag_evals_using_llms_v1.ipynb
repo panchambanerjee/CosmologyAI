{
  "nbformat": 4,
  "nbformat_minor": 0,
  "metadata": {
    "colab": {
      "provenance": [],
      "machine_shape": "hm",
      "gpuType": "L4",
      "authorship_tag": "ABX9TyPuRMMeCqV8I3NfohZh5UF6",
      "include_colab_link": true
    },
    "kernelspec": {
      "name": "python3",
      "display_name": "Python 3"
    },
    "language_info": {
      "name": "python"
    },
    "accelerator": "GPU",
    "widgets": {
      "application/vnd.jupyter.widget-state+json": {
        "1ec270082da34b62abb58705a91b20a9": {
          "model_module": "@jupyter-widgets/controls",
          "model_name": "VBoxModel",
          "model_module_version": "1.5.0",
          "state": {
            "_dom_classes": [],
            "_model_module": "@jupyter-widgets/controls",
            "_model_module_version": "1.5.0",
            "_model_name": "VBoxModel",
            "_view_count": null,
            "_view_module": "@jupyter-widgets/controls",
            "_view_module_version": "1.5.0",
            "_view_name": "VBoxView",
            "box_style": "",
            "children": [
              "IPY_MODEL_7980ca15ac6b4e7d91b2fd049e36e4b9",
              "IPY_MODEL_1b2f3db658d1428386d947ec267b6084",
              "IPY_MODEL_98bb27f424cf4c31abdf812aea941571",
              "IPY_MODEL_64c36133733144e48fd1c788dc6e515b"
            ],
            "layout": "IPY_MODEL_37039122468140ab8273087e60f2f5c3"
          }
        },
        "89d551633cbc434f991d7ad252981bcc": {
          "model_module": "@jupyter-widgets/controls",
          "model_name": "HTMLModel",
          "model_module_version": "1.5.0",
          "state": {
            "_dom_classes": [],
            "_model_module": "@jupyter-widgets/controls",
            "_model_module_version": "1.5.0",
            "_model_name": "HTMLModel",
            "_view_count": null,
            "_view_module": "@jupyter-widgets/controls",
            "_view_module_version": "1.5.0",
            "_view_name": "HTMLView",
            "description": "",
            "description_tooltip": null,
            "layout": "IPY_MODEL_660d054548844e4aa2f2ad60069bb5a6",
            "placeholder": "​",
            "style": "IPY_MODEL_89b519ef29fd4c458983823851d8bad2",
            "value": "<center> <img\nsrc=https://huggingface.co/front/assets/huggingface_logo-noborder.svg\nalt='Hugging Face'> <br> Copy a token from <a\nhref=\"https://huggingface.co/settings/tokens\" target=\"_blank\">your Hugging Face\ntokens page</a> and paste it below. <br> Immediately click login after copying\nyour token or it might be stored in plain text in this notebook file. </center>"
          }
        },
        "89ee63f39dc54196b5ed55ae72b3f8b8": {
          "model_module": "@jupyter-widgets/controls",
          "model_name": "PasswordModel",
          "model_module_version": "1.5.0",
          "state": {
            "_dom_classes": [],
            "_model_module": "@jupyter-widgets/controls",
            "_model_module_version": "1.5.0",
            "_model_name": "PasswordModel",
            "_view_count": null,
            "_view_module": "@jupyter-widgets/controls",
            "_view_module_version": "1.5.0",
            "_view_name": "PasswordView",
            "continuous_update": true,
            "description": "Token:",
            "description_tooltip": null,
            "disabled": false,
            "layout": "IPY_MODEL_808930c33f0e4c04bb076311d49ba93c",
            "placeholder": "​",
            "style": "IPY_MODEL_c587298f31ab42d993da3912399c1fa3",
            "value": ""
          }
        },
        "b8b51215929f4715b21ed34461939c14": {
          "model_module": "@jupyter-widgets/controls",
          "model_name": "CheckboxModel",
          "model_module_version": "1.5.0",
          "state": {
            "_dom_classes": [],
            "_model_module": "@jupyter-widgets/controls",
            "_model_module_version": "1.5.0",
            "_model_name": "CheckboxModel",
            "_view_count": null,
            "_view_module": "@jupyter-widgets/controls",
            "_view_module_version": "1.5.0",
            "_view_name": "CheckboxView",
            "description": "Add token as git credential?",
            "description_tooltip": null,
            "disabled": false,
            "indent": true,
            "layout": "IPY_MODEL_8dffd45fc0e54e019b4adf95ccc65c28",
            "style": "IPY_MODEL_a5c5d09d6a4544d39c66b270ea13dfa1",
            "value": true
          }
        },
        "6df5726c577a43ca84be1338b675800b": {
          "model_module": "@jupyter-widgets/controls",
          "model_name": "ButtonModel",
          "model_module_version": "1.5.0",
          "state": {
            "_dom_classes": [],
            "_model_module": "@jupyter-widgets/controls",
            "_model_module_version": "1.5.0",
            "_model_name": "ButtonModel",
            "_view_count": null,
            "_view_module": "@jupyter-widgets/controls",
            "_view_module_version": "1.5.0",
            "_view_name": "ButtonView",
            "button_style": "",
            "description": "Login",
            "disabled": false,
            "icon": "",
            "layout": "IPY_MODEL_ee3e6568c8074f5ebb1d74256c7d0885",
            "style": "IPY_MODEL_0db1997467e04881a1db554d1156bc8d",
            "tooltip": ""
          }
        },
        "ee2d1b3f0e91437bb227c78854d78dd5": {
          "model_module": "@jupyter-widgets/controls",
          "model_name": "HTMLModel",
          "model_module_version": "1.5.0",
          "state": {
            "_dom_classes": [],
            "_model_module": "@jupyter-widgets/controls",
            "_model_module_version": "1.5.0",
            "_model_name": "HTMLModel",
            "_view_count": null,
            "_view_module": "@jupyter-widgets/controls",
            "_view_module_version": "1.5.0",
            "_view_name": "HTMLView",
            "description": "",
            "description_tooltip": null,
            "layout": "IPY_MODEL_4f31088bc50c4b59b50c3780b1edb012",
            "placeholder": "​",
            "style": "IPY_MODEL_4718ba8816a64dd3a1828fdb82705795",
            "value": "\n<b>Pro Tip:</b> If you don't already have one, you can create a dedicated\n'notebooks' token with 'write' access, that you can then easily reuse for all\nnotebooks. </center>"
          }
        },
        "37039122468140ab8273087e60f2f5c3": {
          "model_module": "@jupyter-widgets/base",
          "model_name": "LayoutModel",
          "model_module_version": "1.2.0",
          "state": {
            "_model_module": "@jupyter-widgets/base",
            "_model_module_version": "1.2.0",
            "_model_name": "LayoutModel",
            "_view_count": null,
            "_view_module": "@jupyter-widgets/base",
            "_view_module_version": "1.2.0",
            "_view_name": "LayoutView",
            "align_content": null,
            "align_items": "center",
            "align_self": null,
            "border": null,
            "bottom": null,
            "display": "flex",
            "flex": null,
            "flex_flow": "column",
            "grid_area": null,
            "grid_auto_columns": null,
            "grid_auto_flow": null,
            "grid_auto_rows": null,
            "grid_column": null,
            "grid_gap": null,
            "grid_row": null,
            "grid_template_areas": null,
            "grid_template_columns": null,
            "grid_template_rows": null,
            "height": null,
            "justify_content": null,
            "justify_items": null,
            "left": null,
            "margin": null,
            "max_height": null,
            "max_width": null,
            "min_height": null,
            "min_width": null,
            "object_fit": null,
            "object_position": null,
            "order": null,
            "overflow": null,
            "overflow_x": null,
            "overflow_y": null,
            "padding": null,
            "right": null,
            "top": null,
            "visibility": null,
            "width": "50%"
          }
        },
        "660d054548844e4aa2f2ad60069bb5a6": {
          "model_module": "@jupyter-widgets/base",
          "model_name": "LayoutModel",
          "model_module_version": "1.2.0",
          "state": {
            "_model_module": "@jupyter-widgets/base",
            "_model_module_version": "1.2.0",
            "_model_name": "LayoutModel",
            "_view_count": null,
            "_view_module": "@jupyter-widgets/base",
            "_view_module_version": "1.2.0",
            "_view_name": "LayoutView",
            "align_content": null,
            "align_items": null,
            "align_self": null,
            "border": null,
            "bottom": null,
            "display": null,
            "flex": null,
            "flex_flow": null,
            "grid_area": null,
            "grid_auto_columns": null,
            "grid_auto_flow": null,
            "grid_auto_rows": null,
            "grid_column": null,
            "grid_gap": null,
            "grid_row": null,
            "grid_template_areas": null,
            "grid_template_columns": null,
            "grid_template_rows": null,
            "height": null,
            "justify_content": null,
            "justify_items": null,
            "left": null,
            "margin": null,
            "max_height": null,
            "max_width": null,
            "min_height": null,
            "min_width": null,
            "object_fit": null,
            "object_position": null,
            "order": null,
            "overflow": null,
            "overflow_x": null,
            "overflow_y": null,
            "padding": null,
            "right": null,
            "top": null,
            "visibility": null,
            "width": null
          }
        },
        "89b519ef29fd4c458983823851d8bad2": {
          "model_module": "@jupyter-widgets/controls",
          "model_name": "DescriptionStyleModel",
          "model_module_version": "1.5.0",
          "state": {
            "_model_module": "@jupyter-widgets/controls",
            "_model_module_version": "1.5.0",
            "_model_name": "DescriptionStyleModel",
            "_view_count": null,
            "_view_module": "@jupyter-widgets/base",
            "_view_module_version": "1.2.0",
            "_view_name": "StyleView",
            "description_width": ""
          }
        },
        "808930c33f0e4c04bb076311d49ba93c": {
          "model_module": "@jupyter-widgets/base",
          "model_name": "LayoutModel",
          "model_module_version": "1.2.0",
          "state": {
            "_model_module": "@jupyter-widgets/base",
            "_model_module_version": "1.2.0",
            "_model_name": "LayoutModel",
            "_view_count": null,
            "_view_module": "@jupyter-widgets/base",
            "_view_module_version": "1.2.0",
            "_view_name": "LayoutView",
            "align_content": null,
            "align_items": null,
            "align_self": null,
            "border": null,
            "bottom": null,
            "display": null,
            "flex": null,
            "flex_flow": null,
            "grid_area": null,
            "grid_auto_columns": null,
            "grid_auto_flow": null,
            "grid_auto_rows": null,
            "grid_column": null,
            "grid_gap": null,
            "grid_row": null,
            "grid_template_areas": null,
            "grid_template_columns": null,
            "grid_template_rows": null,
            "height": null,
            "justify_content": null,
            "justify_items": null,
            "left": null,
            "margin": null,
            "max_height": null,
            "max_width": null,
            "min_height": null,
            "min_width": null,
            "object_fit": null,
            "object_position": null,
            "order": null,
            "overflow": null,
            "overflow_x": null,
            "overflow_y": null,
            "padding": null,
            "right": null,
            "top": null,
            "visibility": null,
            "width": null
          }
        },
        "c587298f31ab42d993da3912399c1fa3": {
          "model_module": "@jupyter-widgets/controls",
          "model_name": "DescriptionStyleModel",
          "model_module_version": "1.5.0",
          "state": {
            "_model_module": "@jupyter-widgets/controls",
            "_model_module_version": "1.5.0",
            "_model_name": "DescriptionStyleModel",
            "_view_count": null,
            "_view_module": "@jupyter-widgets/base",
            "_view_module_version": "1.2.0",
            "_view_name": "StyleView",
            "description_width": ""
          }
        },
        "8dffd45fc0e54e019b4adf95ccc65c28": {
          "model_module": "@jupyter-widgets/base",
          "model_name": "LayoutModel",
          "model_module_version": "1.2.0",
          "state": {
            "_model_module": "@jupyter-widgets/base",
            "_model_module_version": "1.2.0",
            "_model_name": "LayoutModel",
            "_view_count": null,
            "_view_module": "@jupyter-widgets/base",
            "_view_module_version": "1.2.0",
            "_view_name": "LayoutView",
            "align_content": null,
            "align_items": null,
            "align_self": null,
            "border": null,
            "bottom": null,
            "display": null,
            "flex": null,
            "flex_flow": null,
            "grid_area": null,
            "grid_auto_columns": null,
            "grid_auto_flow": null,
            "grid_auto_rows": null,
            "grid_column": null,
            "grid_gap": null,
            "grid_row": null,
            "grid_template_areas": null,
            "grid_template_columns": null,
            "grid_template_rows": null,
            "height": null,
            "justify_content": null,
            "justify_items": null,
            "left": null,
            "margin": null,
            "max_height": null,
            "max_width": null,
            "min_height": null,
            "min_width": null,
            "object_fit": null,
            "object_position": null,
            "order": null,
            "overflow": null,
            "overflow_x": null,
            "overflow_y": null,
            "padding": null,
            "right": null,
            "top": null,
            "visibility": null,
            "width": null
          }
        },
        "a5c5d09d6a4544d39c66b270ea13dfa1": {
          "model_module": "@jupyter-widgets/controls",
          "model_name": "DescriptionStyleModel",
          "model_module_version": "1.5.0",
          "state": {
            "_model_module": "@jupyter-widgets/controls",
            "_model_module_version": "1.5.0",
            "_model_name": "DescriptionStyleModel",
            "_view_count": null,
            "_view_module": "@jupyter-widgets/base",
            "_view_module_version": "1.2.0",
            "_view_name": "StyleView",
            "description_width": ""
          }
        },
        "ee3e6568c8074f5ebb1d74256c7d0885": {
          "model_module": "@jupyter-widgets/base",
          "model_name": "LayoutModel",
          "model_module_version": "1.2.0",
          "state": {
            "_model_module": "@jupyter-widgets/base",
            "_model_module_version": "1.2.0",
            "_model_name": "LayoutModel",
            "_view_count": null,
            "_view_module": "@jupyter-widgets/base",
            "_view_module_version": "1.2.0",
            "_view_name": "LayoutView",
            "align_content": null,
            "align_items": null,
            "align_self": null,
            "border": null,
            "bottom": null,
            "display": null,
            "flex": null,
            "flex_flow": null,
            "grid_area": null,
            "grid_auto_columns": null,
            "grid_auto_flow": null,
            "grid_auto_rows": null,
            "grid_column": null,
            "grid_gap": null,
            "grid_row": null,
            "grid_template_areas": null,
            "grid_template_columns": null,
            "grid_template_rows": null,
            "height": null,
            "justify_content": null,
            "justify_items": null,
            "left": null,
            "margin": null,
            "max_height": null,
            "max_width": null,
            "min_height": null,
            "min_width": null,
            "object_fit": null,
            "object_position": null,
            "order": null,
            "overflow": null,
            "overflow_x": null,
            "overflow_y": null,
            "padding": null,
            "right": null,
            "top": null,
            "visibility": null,
            "width": null
          }
        },
        "0db1997467e04881a1db554d1156bc8d": {
          "model_module": "@jupyter-widgets/controls",
          "model_name": "ButtonStyleModel",
          "model_module_version": "1.5.0",
          "state": {
            "_model_module": "@jupyter-widgets/controls",
            "_model_module_version": "1.5.0",
            "_model_name": "ButtonStyleModel",
            "_view_count": null,
            "_view_module": "@jupyter-widgets/base",
            "_view_module_version": "1.2.0",
            "_view_name": "StyleView",
            "button_color": null,
            "font_weight": ""
          }
        },
        "4f31088bc50c4b59b50c3780b1edb012": {
          "model_module": "@jupyter-widgets/base",
          "model_name": "LayoutModel",
          "model_module_version": "1.2.0",
          "state": {
            "_model_module": "@jupyter-widgets/base",
            "_model_module_version": "1.2.0",
            "_model_name": "LayoutModel",
            "_view_count": null,
            "_view_module": "@jupyter-widgets/base",
            "_view_module_version": "1.2.0",
            "_view_name": "LayoutView",
            "align_content": null,
            "align_items": null,
            "align_self": null,
            "border": null,
            "bottom": null,
            "display": null,
            "flex": null,
            "flex_flow": null,
            "grid_area": null,
            "grid_auto_columns": null,
            "grid_auto_flow": null,
            "grid_auto_rows": null,
            "grid_column": null,
            "grid_gap": null,
            "grid_row": null,
            "grid_template_areas": null,
            "grid_template_columns": null,
            "grid_template_rows": null,
            "height": null,
            "justify_content": null,
            "justify_items": null,
            "left": null,
            "margin": null,
            "max_height": null,
            "max_width": null,
            "min_height": null,
            "min_width": null,
            "object_fit": null,
            "object_position": null,
            "order": null,
            "overflow": null,
            "overflow_x": null,
            "overflow_y": null,
            "padding": null,
            "right": null,
            "top": null,
            "visibility": null,
            "width": null
          }
        },
        "4718ba8816a64dd3a1828fdb82705795": {
          "model_module": "@jupyter-widgets/controls",
          "model_name": "DescriptionStyleModel",
          "model_module_version": "1.5.0",
          "state": {
            "_model_module": "@jupyter-widgets/controls",
            "_model_module_version": "1.5.0",
            "_model_name": "DescriptionStyleModel",
            "_view_count": null,
            "_view_module": "@jupyter-widgets/base",
            "_view_module_version": "1.2.0",
            "_view_name": "StyleView",
            "description_width": ""
          }
        },
        "bfc65868060e44e0ad5c7b85d6a8cf24": {
          "model_module": "@jupyter-widgets/controls",
          "model_name": "LabelModel",
          "model_module_version": "1.5.0",
          "state": {
            "_dom_classes": [],
            "_model_module": "@jupyter-widgets/controls",
            "_model_module_version": "1.5.0",
            "_model_name": "LabelModel",
            "_view_count": null,
            "_view_module": "@jupyter-widgets/controls",
            "_view_module_version": "1.5.0",
            "_view_name": "LabelView",
            "description": "",
            "description_tooltip": null,
            "layout": "IPY_MODEL_edd8058967664b20843af522bbe6a918",
            "placeholder": "​",
            "style": "IPY_MODEL_062baf5c836f4607b3af926a0c8f2d9d",
            "value": "Connecting..."
          }
        },
        "edd8058967664b20843af522bbe6a918": {
          "model_module": "@jupyter-widgets/base",
          "model_name": "LayoutModel",
          "model_module_version": "1.2.0",
          "state": {
            "_model_module": "@jupyter-widgets/base",
            "_model_module_version": "1.2.0",
            "_model_name": "LayoutModel",
            "_view_count": null,
            "_view_module": "@jupyter-widgets/base",
            "_view_module_version": "1.2.0",
            "_view_name": "LayoutView",
            "align_content": null,
            "align_items": null,
            "align_self": null,
            "border": null,
            "bottom": null,
            "display": null,
            "flex": null,
            "flex_flow": null,
            "grid_area": null,
            "grid_auto_columns": null,
            "grid_auto_flow": null,
            "grid_auto_rows": null,
            "grid_column": null,
            "grid_gap": null,
            "grid_row": null,
            "grid_template_areas": null,
            "grid_template_columns": null,
            "grid_template_rows": null,
            "height": null,
            "justify_content": null,
            "justify_items": null,
            "left": null,
            "margin": null,
            "max_height": null,
            "max_width": null,
            "min_height": null,
            "min_width": null,
            "object_fit": null,
            "object_position": null,
            "order": null,
            "overflow": null,
            "overflow_x": null,
            "overflow_y": null,
            "padding": null,
            "right": null,
            "top": null,
            "visibility": null,
            "width": null
          }
        },
        "062baf5c836f4607b3af926a0c8f2d9d": {
          "model_module": "@jupyter-widgets/controls",
          "model_name": "DescriptionStyleModel",
          "model_module_version": "1.5.0",
          "state": {
            "_model_module": "@jupyter-widgets/controls",
            "_model_module_version": "1.5.0",
            "_model_name": "DescriptionStyleModel",
            "_view_count": null,
            "_view_module": "@jupyter-widgets/base",
            "_view_module_version": "1.2.0",
            "_view_name": "StyleView",
            "description_width": ""
          }
        },
        "7980ca15ac6b4e7d91b2fd049e36e4b9": {
          "model_module": "@jupyter-widgets/controls",
          "model_name": "LabelModel",
          "model_module_version": "1.5.0",
          "state": {
            "_dom_classes": [],
            "_model_module": "@jupyter-widgets/controls",
            "_model_module_version": "1.5.0",
            "_model_name": "LabelModel",
            "_view_count": null,
            "_view_module": "@jupyter-widgets/controls",
            "_view_module_version": "1.5.0",
            "_view_name": "LabelView",
            "description": "",
            "description_tooltip": null,
            "layout": "IPY_MODEL_053ce68ab33147cdac243783412aa4c1",
            "placeholder": "​",
            "style": "IPY_MODEL_0c72cea037e24cafad8baf967b913078",
            "value": "Token is valid (permission: write)."
          }
        },
        "1b2f3db658d1428386d947ec267b6084": {
          "model_module": "@jupyter-widgets/controls",
          "model_name": "LabelModel",
          "model_module_version": "1.5.0",
          "state": {
            "_dom_classes": [],
            "_model_module": "@jupyter-widgets/controls",
            "_model_module_version": "1.5.0",
            "_model_name": "LabelModel",
            "_view_count": null,
            "_view_module": "@jupyter-widgets/controls",
            "_view_module_version": "1.5.0",
            "_view_name": "LabelView",
            "description": "",
            "description_tooltip": null,
            "layout": "IPY_MODEL_67f031331783485fbfa4c6fdd5b1bfd5",
            "placeholder": "​",
            "style": "IPY_MODEL_51620654c6c4490a854117015e512faa",
            "value": "Your token has been saved in your configured git credential helpers (store)."
          }
        },
        "98bb27f424cf4c31abdf812aea941571": {
          "model_module": "@jupyter-widgets/controls",
          "model_name": "LabelModel",
          "model_module_version": "1.5.0",
          "state": {
            "_dom_classes": [],
            "_model_module": "@jupyter-widgets/controls",
            "_model_module_version": "1.5.0",
            "_model_name": "LabelModel",
            "_view_count": null,
            "_view_module": "@jupyter-widgets/controls",
            "_view_module_version": "1.5.0",
            "_view_name": "LabelView",
            "description": "",
            "description_tooltip": null,
            "layout": "IPY_MODEL_c1aea39c7f5741f4b11ae352819f9fe0",
            "placeholder": "​",
            "style": "IPY_MODEL_545028978fd14b09a7db5213f5149c64",
            "value": "Your token has been saved to /root/.cache/huggingface/token"
          }
        },
        "64c36133733144e48fd1c788dc6e515b": {
          "model_module": "@jupyter-widgets/controls",
          "model_name": "LabelModel",
          "model_module_version": "1.5.0",
          "state": {
            "_dom_classes": [],
            "_model_module": "@jupyter-widgets/controls",
            "_model_module_version": "1.5.0",
            "_model_name": "LabelModel",
            "_view_count": null,
            "_view_module": "@jupyter-widgets/controls",
            "_view_module_version": "1.5.0",
            "_view_name": "LabelView",
            "description": "",
            "description_tooltip": null,
            "layout": "IPY_MODEL_5fd0e299ed424889ad10dee6314acc11",
            "placeholder": "​",
            "style": "IPY_MODEL_6076acd2a3fa4498847bddcf388ec749",
            "value": "Login successful"
          }
        },
        "053ce68ab33147cdac243783412aa4c1": {
          "model_module": "@jupyter-widgets/base",
          "model_name": "LayoutModel",
          "model_module_version": "1.2.0",
          "state": {
            "_model_module": "@jupyter-widgets/base",
            "_model_module_version": "1.2.0",
            "_model_name": "LayoutModel",
            "_view_count": null,
            "_view_module": "@jupyter-widgets/base",
            "_view_module_version": "1.2.0",
            "_view_name": "LayoutView",
            "align_content": null,
            "align_items": null,
            "align_self": null,
            "border": null,
            "bottom": null,
            "display": null,
            "flex": null,
            "flex_flow": null,
            "grid_area": null,
            "grid_auto_columns": null,
            "grid_auto_flow": null,
            "grid_auto_rows": null,
            "grid_column": null,
            "grid_gap": null,
            "grid_row": null,
            "grid_template_areas": null,
            "grid_template_columns": null,
            "grid_template_rows": null,
            "height": null,
            "justify_content": null,
            "justify_items": null,
            "left": null,
            "margin": null,
            "max_height": null,
            "max_width": null,
            "min_height": null,
            "min_width": null,
            "object_fit": null,
            "object_position": null,
            "order": null,
            "overflow": null,
            "overflow_x": null,
            "overflow_y": null,
            "padding": null,
            "right": null,
            "top": null,
            "visibility": null,
            "width": null
          }
        },
        "0c72cea037e24cafad8baf967b913078": {
          "model_module": "@jupyter-widgets/controls",
          "model_name": "DescriptionStyleModel",
          "model_module_version": "1.5.0",
          "state": {
            "_model_module": "@jupyter-widgets/controls",
            "_model_module_version": "1.5.0",
            "_model_name": "DescriptionStyleModel",
            "_view_count": null,
            "_view_module": "@jupyter-widgets/base",
            "_view_module_version": "1.2.0",
            "_view_name": "StyleView",
            "description_width": ""
          }
        },
        "67f031331783485fbfa4c6fdd5b1bfd5": {
          "model_module": "@jupyter-widgets/base",
          "model_name": "LayoutModel",
          "model_module_version": "1.2.0",
          "state": {
            "_model_module": "@jupyter-widgets/base",
            "_model_module_version": "1.2.0",
            "_model_name": "LayoutModel",
            "_view_count": null,
            "_view_module": "@jupyter-widgets/base",
            "_view_module_version": "1.2.0",
            "_view_name": "LayoutView",
            "align_content": null,
            "align_items": null,
            "align_self": null,
            "border": null,
            "bottom": null,
            "display": null,
            "flex": null,
            "flex_flow": null,
            "grid_area": null,
            "grid_auto_columns": null,
            "grid_auto_flow": null,
            "grid_auto_rows": null,
            "grid_column": null,
            "grid_gap": null,
            "grid_row": null,
            "grid_template_areas": null,
            "grid_template_columns": null,
            "grid_template_rows": null,
            "height": null,
            "justify_content": null,
            "justify_items": null,
            "left": null,
            "margin": null,
            "max_height": null,
            "max_width": null,
            "min_height": null,
            "min_width": null,
            "object_fit": null,
            "object_position": null,
            "order": null,
            "overflow": null,
            "overflow_x": null,
            "overflow_y": null,
            "padding": null,
            "right": null,
            "top": null,
            "visibility": null,
            "width": null
          }
        },
        "51620654c6c4490a854117015e512faa": {
          "model_module": "@jupyter-widgets/controls",
          "model_name": "DescriptionStyleModel",
          "model_module_version": "1.5.0",
          "state": {
            "_model_module": "@jupyter-widgets/controls",
            "_model_module_version": "1.5.0",
            "_model_name": "DescriptionStyleModel",
            "_view_count": null,
            "_view_module": "@jupyter-widgets/base",
            "_view_module_version": "1.2.0",
            "_view_name": "StyleView",
            "description_width": ""
          }
        },
        "c1aea39c7f5741f4b11ae352819f9fe0": {
          "model_module": "@jupyter-widgets/base",
          "model_name": "LayoutModel",
          "model_module_version": "1.2.0",
          "state": {
            "_model_module": "@jupyter-widgets/base",
            "_model_module_version": "1.2.0",
            "_model_name": "LayoutModel",
            "_view_count": null,
            "_view_module": "@jupyter-widgets/base",
            "_view_module_version": "1.2.0",
            "_view_name": "LayoutView",
            "align_content": null,
            "align_items": null,
            "align_self": null,
            "border": null,
            "bottom": null,
            "display": null,
            "flex": null,
            "flex_flow": null,
            "grid_area": null,
            "grid_auto_columns": null,
            "grid_auto_flow": null,
            "grid_auto_rows": null,
            "grid_column": null,
            "grid_gap": null,
            "grid_row": null,
            "grid_template_areas": null,
            "grid_template_columns": null,
            "grid_template_rows": null,
            "height": null,
            "justify_content": null,
            "justify_items": null,
            "left": null,
            "margin": null,
            "max_height": null,
            "max_width": null,
            "min_height": null,
            "min_width": null,
            "object_fit": null,
            "object_position": null,
            "order": null,
            "overflow": null,
            "overflow_x": null,
            "overflow_y": null,
            "padding": null,
            "right": null,
            "top": null,
            "visibility": null,
            "width": null
          }
        },
        "545028978fd14b09a7db5213f5149c64": {
          "model_module": "@jupyter-widgets/controls",
          "model_name": "DescriptionStyleModel",
          "model_module_version": "1.5.0",
          "state": {
            "_model_module": "@jupyter-widgets/controls",
            "_model_module_version": "1.5.0",
            "_model_name": "DescriptionStyleModel",
            "_view_count": null,
            "_view_module": "@jupyter-widgets/base",
            "_view_module_version": "1.2.0",
            "_view_name": "StyleView",
            "description_width": ""
          }
        },
        "5fd0e299ed424889ad10dee6314acc11": {
          "model_module": "@jupyter-widgets/base",
          "model_name": "LayoutModel",
          "model_module_version": "1.2.0",
          "state": {
            "_model_module": "@jupyter-widgets/base",
            "_model_module_version": "1.2.0",
            "_model_name": "LayoutModel",
            "_view_count": null,
            "_view_module": "@jupyter-widgets/base",
            "_view_module_version": "1.2.0",
            "_view_name": "LayoutView",
            "align_content": null,
            "align_items": null,
            "align_self": null,
            "border": null,
            "bottom": null,
            "display": null,
            "flex": null,
            "flex_flow": null,
            "grid_area": null,
            "grid_auto_columns": null,
            "grid_auto_flow": null,
            "grid_auto_rows": null,
            "grid_column": null,
            "grid_gap": null,
            "grid_row": null,
            "grid_template_areas": null,
            "grid_template_columns": null,
            "grid_template_rows": null,
            "height": null,
            "justify_content": null,
            "justify_items": null,
            "left": null,
            "margin": null,
            "max_height": null,
            "max_width": null,
            "min_height": null,
            "min_width": null,
            "object_fit": null,
            "object_position": null,
            "order": null,
            "overflow": null,
            "overflow_x": null,
            "overflow_y": null,
            "padding": null,
            "right": null,
            "top": null,
            "visibility": null,
            "width": null
          }
        },
        "6076acd2a3fa4498847bddcf388ec749": {
          "model_module": "@jupyter-widgets/controls",
          "model_name": "DescriptionStyleModel",
          "model_module_version": "1.5.0",
          "state": {
            "_model_module": "@jupyter-widgets/controls",
            "_model_module_version": "1.5.0",
            "_model_name": "DescriptionStyleModel",
            "_view_count": null,
            "_view_module": "@jupyter-widgets/base",
            "_view_module_version": "1.2.0",
            "_view_name": "StyleView",
            "description_width": ""
          }
        }
      }
    }
  },
  "cells": [
    {
      "cell_type": "markdown",
      "metadata": {
        "id": "view-in-github",
        "colab_type": "text"
      },
      "source": [
        "<a href=\"https://colab.research.google.com/github/panchambanerjee/CosmologyAI/blob/main/rag_evaluate/llm_evaluate/code/rag_evals_using_llms_v1.ipynb\" target=\"_parent\"><img src=\"https://colab.research.google.com/assets/colab-badge.svg\" alt=\"Open In Colab\"/></a>"
      ]
    },
    {
      "cell_type": "markdown",
      "source": [
        "Reference: https://huggingface.co/learn/cookbook/en/rag_evaluation"
      ],
      "metadata": {
        "id": "7cBgiUWldvmK"
      }
    },
    {
      "cell_type": "code",
      "execution_count": 1,
      "metadata": {
        "colab": {
          "base_uri": "https://localhost:8080/"
        },
        "id": "sXlA91a6dnZm",
        "outputId": "5f222033-6730-4653-f0bb-271a47045ca4"
      },
      "outputs": [
        {
          "output_type": "stream",
          "name": "stdout",
          "text": [
            "\u001b[?25l     \u001b[90m━━━━━━━━━━━━━━━━━━━━━━━━━━━━━━━━━━━━━━━━\u001b[0m \u001b[32m0.0/817.7 kB\u001b[0m \u001b[31m?\u001b[0m eta \u001b[36m-:--:--\u001b[0m\r\u001b[2K     \u001b[91m━━━━━━━━━━━\u001b[0m\u001b[90m╺\u001b[0m\u001b[90m━━━━━━━━━━━━━━━━━━━━━━━━━━━━\u001b[0m \u001b[32m225.3/817.7 kB\u001b[0m \u001b[31m6.6 MB/s\u001b[0m eta \u001b[36m0:00:01\u001b[0m\r\u001b[2K     \u001b[91m━━━━━━━━━━━━━━━━━━━━━━━━━━━━━━━━\u001b[0m\u001b[90m╺\u001b[0m\u001b[90m━━━━━━━\u001b[0m \u001b[32m655.4/817.7 kB\u001b[0m \u001b[31m9.6 MB/s\u001b[0m eta \u001b[36m0:00:01\u001b[0m\r\u001b[2K     \u001b[90m━━━━━━━━━━━━━━━━━━━━━━━━━━━━━━━━━━━━━━━━\u001b[0m \u001b[32m817.7/817.7 kB\u001b[0m \u001b[31m8.7 MB/s\u001b[0m eta \u001b[36m0:00:00\u001b[0m\n",
            "\u001b[2K     \u001b[90m━━━━━━━━━━━━━━━━━━━━━━━━━━━━━━━━━━━━━━━━\u001b[0m \u001b[32m171.5/171.5 kB\u001b[0m \u001b[31m10.6 MB/s\u001b[0m eta \u001b[36m0:00:00\u001b[0m\n",
            "\u001b[2K     \u001b[90m━━━━━━━━━━━━━━━━━━━━━━━━━━━━━━━━━━━━━━━━\u001b[0m \u001b[32m311.2/311.2 kB\u001b[0m \u001b[31m12.9 MB/s\u001b[0m eta \u001b[36m0:00:00\u001b[0m\n",
            "\u001b[2K     \u001b[90m━━━━━━━━━━━━━━━━━━━━━━━━━━━━━━━━━━━━━━━━\u001b[0m \u001b[32m542.0/542.0 kB\u001b[0m \u001b[31m16.4 MB/s\u001b[0m eta \u001b[36m0:00:00\u001b[0m\n",
            "\u001b[2K     \u001b[90m━━━━━━━━━━━━━━━━━━━━━━━━━━━━━━━━━━━━━━━━\u001b[0m \u001b[32m1.9/1.9 MB\u001b[0m \u001b[31m23.6 MB/s\u001b[0m eta \u001b[36m0:00:00\u001b[0m\n",
            "\u001b[2K     \u001b[90m━━━━━━━━━━━━━━━━━━━━━━━━━━━━━━━━━━━━━━━━\u001b[0m \u001b[32m291.3/291.3 kB\u001b[0m \u001b[31m26.5 MB/s\u001b[0m eta \u001b[36m0:00:00\u001b[0m\n",
            "\u001b[2K     \u001b[90m━━━━━━━━━━━━━━━━━━━━━━━━━━━━━━━━━━━━━━━━\u001b[0m \u001b[32m115.2/115.2 kB\u001b[0m \u001b[31m17.9 MB/s\u001b[0m eta \u001b[36m0:00:00\u001b[0m\n",
            "\u001b[2K     \u001b[90m━━━━━━━━━━━━━━━━━━━━━━━━━━━━━━━━━━━━━━━━\u001b[0m \u001b[32m75.6/75.6 kB\u001b[0m \u001b[31m12.2 MB/s\u001b[0m eta \u001b[36m0:00:00\u001b[0m\n",
            "\u001b[2K     \u001b[90m━━━━━━━━━━━━━━━━━━━━━━━━━━━━━━━━━━━━━━━━\u001b[0m \u001b[32m116.3/116.3 kB\u001b[0m \u001b[31m18.7 MB/s\u001b[0m eta \u001b[36m0:00:00\u001b[0m\n",
            "\u001b[2K     \u001b[90m━━━━━━━━━━━━━━━━━━━━━━━━━━━━━━━━━━━━━━━━\u001b[0m \u001b[32m194.1/194.1 kB\u001b[0m \u001b[31m26.7 MB/s\u001b[0m eta \u001b[36m0:00:00\u001b[0m\n",
            "\u001b[2K     \u001b[90m━━━━━━━━━━━━━━━━━━━━━━━━━━━━━━━━━━━━━━━━\u001b[0m \u001b[32m134.8/134.8 kB\u001b[0m \u001b[31m21.0 MB/s\u001b[0m eta \u001b[36m0:00:00\u001b[0m\n",
            "\u001b[2K     \u001b[90m━━━━━━━━━━━━━━━━━━━━━━━━━━━━━━━━━━━━━━━━\u001b[0m \u001b[32m388.9/388.9 kB\u001b[0m \u001b[31m24.5 MB/s\u001b[0m eta \u001b[36m0:00:00\u001b[0m\n",
            "\u001b[2K     \u001b[90m━━━━━━━━━━━━━━━━━━━━━━━━━━━━━━━━━━━━━━━━\u001b[0m \u001b[32m49.4/49.4 kB\u001b[0m \u001b[31m7.7 MB/s\u001b[0m eta \u001b[36m0:00:00\u001b[0m\n",
            "\u001b[2K     \u001b[90m━━━━━━━━━━━━━━━━━━━━━━━━━━━━━━━━━━━━━━━━\u001b[0m \u001b[32m77.9/77.9 kB\u001b[0m \u001b[31m13.0 MB/s\u001b[0m eta \u001b[36m0:00:00\u001b[0m\n",
            "\u001b[2K     \u001b[90m━━━━━━━━━━━━━━━━━━━━━━━━━━━━━━━━━━━━━━━━\u001b[0m \u001b[32m58.3/58.3 kB\u001b[0m \u001b[31m10.1 MB/s\u001b[0m eta \u001b[36m0:00:00\u001b[0m\n",
            "\u001b[2K     \u001b[90m━━━━━━━━━━━━━━━━━━━━━━━━━━━━━━━━━━━━━━━━\u001b[0m \u001b[32m53.0/53.0 kB\u001b[0m \u001b[31m8.3 MB/s\u001b[0m eta \u001b[36m0:00:00\u001b[0m\n",
            "\u001b[2K     \u001b[90m━━━━━━━━━━━━━━━━━━━━━━━━━━━━━━━━━━━━━━━━\u001b[0m \u001b[32m141.1/141.1 kB\u001b[0m \u001b[31m22.5 MB/s\u001b[0m eta \u001b[36m0:00:00\u001b[0m\n",
            "\u001b[?25h"
          ]
        }
      ],
      "source": [
        "!pip install -q torch transformers transformers langchain sentence-transformers tqdm openpyxl openai pandas datasets"
      ]
    },
    {
      "cell_type": "code",
      "source": [
        "%pip install -U --quiet langchain langsmith langchainhub langchain_benchmarks\n",
        "%pip install --quiet chromadb openai huggingface pandas langchain_experimental sentence_transformers pyarrow anthropic tiktoken"
      ],
      "metadata": {
        "colab": {
          "base_uri": "https://localhost:8080/"
        },
        "id": "QKqA0as2yklK",
        "outputId": "f326b247-fd54-4d89-eb8b-45ed25e6f2b9"
      },
      "execution_count": 5,
      "outputs": [
        {
          "output_type": "stream",
          "name": "stdout",
          "text": [
            "\u001b[2K     \u001b[90m━━━━━━━━━━━━━━━━━━━━━━━━━━━━━━━━━━━━━━━━\u001b[0m \u001b[32m67.3/67.3 kB\u001b[0m \u001b[31m2.8 MB/s\u001b[0m eta \u001b[36m0:00:00\u001b[0m\n",
            "\u001b[2K     \u001b[90m━━━━━━━━━━━━━━━━━━━━━━━━━━━━━━━━━━━━━━━━\u001b[0m \u001b[32m139.4/139.4 kB\u001b[0m \u001b[31m8.2 MB/s\u001b[0m eta \u001b[36m0:00:00\u001b[0m\n",
            "\u001b[2K     \u001b[90m━━━━━━━━━━━━━━━━━━━━━━━━━━━━━━━━━━━━━━━━\u001b[0m \u001b[32m2.3/2.3 MB\u001b[0m \u001b[31m14.3 MB/s\u001b[0m eta \u001b[36m0:00:00\u001b[0m\n",
            "\u001b[2K     \u001b[90m━━━━━━━━━━━━━━━━━━━━━━━━━━━━━━━━━━━━━━━━\u001b[0m \u001b[32m1.6/1.6 MB\u001b[0m \u001b[31m25.0 MB/s\u001b[0m eta \u001b[36m0:00:00\u001b[0m\n",
            "\u001b[2K     \u001b[90m━━━━━━━━━━━━━━━━━━━━━━━━━━━━━━━━━━━━━━━━\u001b[0m \u001b[32m525.5/525.5 kB\u001b[0m \u001b[31m8.4 MB/s\u001b[0m eta \u001b[36m0:00:00\u001b[0m\n",
            "\u001b[2K     \u001b[90m━━━━━━━━━━━━━━━━━━━━━━━━━━━━━━━━━━━━━━━━\u001b[0m \u001b[32m193.4/193.4 kB\u001b[0m \u001b[31m11.3 MB/s\u001b[0m eta \u001b[36m0:00:00\u001b[0m\n",
            "\u001b[2K     \u001b[90m━━━━━━━━━━━━━━━━━━━━━━━━━━━━━━━━━━━━━━━━\u001b[0m \u001b[32m870.7/870.7 kB\u001b[0m \u001b[31m16.0 MB/s\u001b[0m eta \u001b[36m0:00:00\u001b[0m\n",
            "\u001b[2K     \u001b[90m━━━━━━━━━━━━━━━━━━━━━━━━━━━━━━━━━━━━━━━━\u001b[0m \u001b[32m1.8/1.8 MB\u001b[0m \u001b[31m21.9 MB/s\u001b[0m eta \u001b[36m0:00:00\u001b[0m\n",
            "\u001b[2K     \u001b[90m━━━━━━━━━━━━━━━━━━━━━━━━━━━━━━━━━━━━━━━━\u001b[0m \u001b[32m2.4/2.4 MB\u001b[0m \u001b[31m31.6 MB/s\u001b[0m eta \u001b[36m0:00:00\u001b[0m\n",
            "\u001b[2K     \u001b[90m━━━━━━━━━━━━━━━━━━━━━━━━━━━━━━━━━━━━━━━━\u001b[0m \u001b[32m91.9/91.9 kB\u001b[0m \u001b[31m14.5 MB/s\u001b[0m eta \u001b[36m0:00:00\u001b[0m\n",
            "\u001b[2K     \u001b[90m━━━━━━━━━━━━━━━━━━━━━━━━━━━━━━━━━━━━━━━━\u001b[0m \u001b[32m60.8/60.8 kB\u001b[0m \u001b[31m7.6 MB/s\u001b[0m eta \u001b[36m0:00:00\u001b[0m\n",
            "\u001b[2K     \u001b[90m━━━━━━━━━━━━━━━━━━━━━━━━━━━━━━━━━━━━━━━━\u001b[0m \u001b[32m41.3/41.3 kB\u001b[0m \u001b[31m6.5 MB/s\u001b[0m eta \u001b[36m0:00:00\u001b[0m\n",
            "\u001b[2K     \u001b[90m━━━━━━━━━━━━━━━━━━━━━━━━━━━━━━━━━━━━━━━━\u001b[0m \u001b[32m5.4/5.4 MB\u001b[0m \u001b[31m47.7 MB/s\u001b[0m eta \u001b[36m0:00:00\u001b[0m\n",
            "\u001b[2K     \u001b[90m━━━━━━━━━━━━━━━━━━━━━━━━━━━━━━━━━━━━━━━━\u001b[0m \u001b[32m6.8/6.8 MB\u001b[0m \u001b[31m69.7 MB/s\u001b[0m eta \u001b[36m0:00:00\u001b[0m\n",
            "\u001b[2K     \u001b[90m━━━━━━━━━━━━━━━━━━━━━━━━━━━━━━━━━━━━━━━━\u001b[0m \u001b[32m60.1/60.1 kB\u001b[0m \u001b[31m10.5 MB/s\u001b[0m eta \u001b[36m0:00:00\u001b[0m\n",
            "\u001b[2K     \u001b[90m━━━━━━━━━━━━━━━━━━━━━━━━━━━━━━━━━━━━━━━━\u001b[0m \u001b[32m106.1/106.1 kB\u001b[0m \u001b[31m17.7 MB/s\u001b[0m eta \u001b[36m0:00:00\u001b[0m\n",
            "\u001b[2K     \u001b[90m━━━━━━━━━━━━━━━━━━━━━━━━━━━━━━━━━━━━━━━━\u001b[0m \u001b[32m67.3/67.3 kB\u001b[0m \u001b[31m11.3 MB/s\u001b[0m eta \u001b[36m0:00:00\u001b[0m\n",
            "\u001b[?25h  Installing build dependencies ... \u001b[?25l\u001b[?25hdone\n",
            "  Getting requirements to build wheel ... \u001b[?25l\u001b[?25hdone\n",
            "  Preparing metadata (pyproject.toml) ... \u001b[?25l\u001b[?25hdone\n",
            "\u001b[2K     \u001b[90m━━━━━━━━━━━━━━━━━━━━━━━━━━━━━━━━━━━━━━━━\u001b[0m \u001b[32m698.9/698.9 kB\u001b[0m \u001b[31m54.2 MB/s\u001b[0m eta \u001b[36m0:00:00\u001b[0m\n",
            "\u001b[2K     \u001b[90m━━━━━━━━━━━━━━━━━━━━━━━━━━━━━━━━━━━━━━━━\u001b[0m \u001b[32m1.6/1.6 MB\u001b[0m \u001b[31m73.5 MB/s\u001b[0m eta \u001b[36m0:00:00\u001b[0m\n",
            "\u001b[2K     \u001b[90m━━━━━━━━━━━━━━━━━━━━━━━━━━━━━━━━━━━━━━━━\u001b[0m \u001b[32m67.6/67.6 kB\u001b[0m \u001b[31m11.2 MB/s\u001b[0m eta \u001b[36m0:00:00\u001b[0m\n",
            "\u001b[2K     \u001b[90m━━━━━━━━━━━━━━━━━━━━━━━━━━━━━━━━━━━━━━━━\u001b[0m \u001b[32m71.9/71.9 kB\u001b[0m \u001b[31m11.8 MB/s\u001b[0m eta \u001b[36m0:00:00\u001b[0m\n",
            "\u001b[2K     \u001b[90m━━━━━━━━━━━━━━━━━━━━━━━━━━━━━━━━━━━━━━━━\u001b[0m \u001b[32m46.0/46.0 kB\u001b[0m \u001b[31m7.2 MB/s\u001b[0m eta \u001b[36m0:00:00\u001b[0m\n",
            "\u001b[2K     \u001b[90m━━━━━━━━━━━━━━━━━━━━━━━━━━━━━━━━━━━━━━━━\u001b[0m \u001b[32m50.8/50.8 kB\u001b[0m \u001b[31m7.4 MB/s\u001b[0m eta \u001b[36m0:00:00\u001b[0m\n",
            "\u001b[2K     \u001b[90m━━━━━━━━━━━━━━━━━━━━━━━━━━━━━━━━━━━━━━━━\u001b[0m \u001b[32m341.4/341.4 kB\u001b[0m \u001b[31m42.7 MB/s\u001b[0m eta \u001b[36m0:00:00\u001b[0m\n",
            "\u001b[2K     \u001b[90m━━━━━━━━━━━━━━━━━━━━━━━━━━━━━━━━━━━━━━━━\u001b[0m \u001b[32m3.4/3.4 MB\u001b[0m \u001b[31m78.1 MB/s\u001b[0m eta \u001b[36m0:00:00\u001b[0m\n",
            "\u001b[2K     \u001b[90m━━━━━━━━━━━━━━━━━━━━━━━━━━━━━━━━━━━━━━━━\u001b[0m \u001b[32m1.3/1.3 MB\u001b[0m \u001b[31m79.8 MB/s\u001b[0m eta \u001b[36m0:00:00\u001b[0m\n",
            "\u001b[2K     \u001b[90m━━━━━━━━━━━━━━━━━━━━━━━━━━━━━━━━━━━━━━━━\u001b[0m \u001b[32m130.2/130.2 kB\u001b[0m \u001b[31m18.8 MB/s\u001b[0m eta \u001b[36m0:00:00\u001b[0m\n",
            "\u001b[2K     \u001b[90m━━━━━━━━━━━━━━━━━━━━━━━━━━━━━━━━━━━━━━━━\u001b[0m \u001b[32m86.8/86.8 kB\u001b[0m \u001b[31m14.4 MB/s\u001b[0m eta \u001b[36m0:00:00\u001b[0m\n",
            "\u001b[?25h  Building wheel for pypika (pyproject.toml) ... \u001b[?25l\u001b[?25hdone\n"
          ]
        }
      ]
    },
    {
      "cell_type": "code",
      "source": [
        "!pip install  -q langchain-openai"
      ],
      "metadata": {
        "id": "rM3DH9w72eti"
      },
      "execution_count": 19,
      "outputs": []
    },
    {
      "cell_type": "code",
      "source": [
        "!pip install GitPython"
      ],
      "metadata": {
        "colab": {
          "base_uri": "https://localhost:8080/"
        },
        "id": "DQUlsjNs73Xe",
        "outputId": "788a4bee-19f3-432e-a203-a9a8397a2bc0"
      },
      "execution_count": 28,
      "outputs": [
        {
          "output_type": "stream",
          "name": "stdout",
          "text": [
            "Collecting GitPython\n",
            "  Downloading GitPython-3.1.43-py3-none-any.whl (207 kB)\n",
            "\u001b[?25l     \u001b[90m━━━━━━━━━━━━━━━━━━━━━━━━━━━━━━━━━━━━━━━━\u001b[0m \u001b[32m0.0/207.3 kB\u001b[0m \u001b[31m?\u001b[0m eta \u001b[36m-:--:--\u001b[0m\r\u001b[2K     \u001b[91m━━━━━━━━━━━━━━━━━━━━━━━━━━━━━━━━━━━━━━━\u001b[0m\u001b[91m╸\u001b[0m \u001b[32m204.8/207.3 kB\u001b[0m \u001b[31m7.0 MB/s\u001b[0m eta \u001b[36m0:00:01\u001b[0m\r\u001b[2K     \u001b[90m━━━━━━━━━━━━━━━━━━━━━━━━━━━━━━━━━━━━━━━━\u001b[0m \u001b[32m207.3/207.3 kB\u001b[0m \u001b[31m5.4 MB/s\u001b[0m eta \u001b[36m0:00:00\u001b[0m\n",
            "\u001b[?25hCollecting gitdb<5,>=4.0.1 (from GitPython)\n",
            "  Downloading gitdb-4.0.11-py3-none-any.whl (62 kB)\n",
            "\u001b[?25l     \u001b[90m━━━━━━━━━━━━━━━━━━━━━━━━━━━━━━━━━━━━━━━━\u001b[0m \u001b[32m0.0/62.7 kB\u001b[0m \u001b[31m?\u001b[0m eta \u001b[36m-:--:--\u001b[0m\r\u001b[2K     \u001b[90m━━━━━━━━━━━━━━━━━━━━━━━━━━━━━━━━━━━━━━━━\u001b[0m \u001b[32m62.7/62.7 kB\u001b[0m \u001b[31m10.2 MB/s\u001b[0m eta \u001b[36m0:00:00\u001b[0m\n",
            "\u001b[?25hCollecting smmap<6,>=3.0.1 (from gitdb<5,>=4.0.1->GitPython)\n",
            "  Downloading smmap-5.0.1-py3-none-any.whl (24 kB)\n",
            "Installing collected packages: smmap, gitdb, GitPython\n",
            "Successfully installed GitPython-3.1.43 gitdb-4.0.11 smmap-5.0.1\n"
          ]
        }
      ]
    },
    {
      "cell_type": "code",
      "source": [
        "%reload_ext autoreload\n",
        "%autoreload 2"
      ],
      "metadata": {
        "id": "Z3BtV4DShI70"
      },
      "execution_count": 2,
      "outputs": []
    },
    {
      "cell_type": "code",
      "source": [
        "from tqdm.auto import tqdm\n",
        "import pandas as pd\n",
        "from typing import Optional, List, Tuple\n",
        "import json\n",
        "import datasets\n",
        "\n",
        "pd.set_option(\"display.max_colwidth\", None)"
      ],
      "metadata": {
        "id": "LATXxcyQhfsS"
      },
      "execution_count": 3,
      "outputs": []
    },
    {
      "cell_type": "code",
      "source": [
        "from huggingface_hub import notebook_login\n",
        "\n",
        "notebook_login()"
      ],
      "metadata": {
        "colab": {
          "base_uri": "https://localhost:8080/",
          "height": 145,
          "referenced_widgets": [
            "1ec270082da34b62abb58705a91b20a9",
            "89d551633cbc434f991d7ad252981bcc",
            "89ee63f39dc54196b5ed55ae72b3f8b8",
            "b8b51215929f4715b21ed34461939c14",
            "6df5726c577a43ca84be1338b675800b",
            "ee2d1b3f0e91437bb227c78854d78dd5",
            "37039122468140ab8273087e60f2f5c3",
            "660d054548844e4aa2f2ad60069bb5a6",
            "89b519ef29fd4c458983823851d8bad2",
            "808930c33f0e4c04bb076311d49ba93c",
            "c587298f31ab42d993da3912399c1fa3",
            "8dffd45fc0e54e019b4adf95ccc65c28",
            "a5c5d09d6a4544d39c66b270ea13dfa1",
            "ee3e6568c8074f5ebb1d74256c7d0885",
            "0db1997467e04881a1db554d1156bc8d",
            "4f31088bc50c4b59b50c3780b1edb012",
            "4718ba8816a64dd3a1828fdb82705795",
            "bfc65868060e44e0ad5c7b85d6a8cf24",
            "edd8058967664b20843af522bbe6a918",
            "062baf5c836f4607b3af926a0c8f2d9d",
            "7980ca15ac6b4e7d91b2fd049e36e4b9",
            "1b2f3db658d1428386d947ec267b6084",
            "98bb27f424cf4c31abdf812aea941571",
            "64c36133733144e48fd1c788dc6e515b",
            "053ce68ab33147cdac243783412aa4c1",
            "0c72cea037e24cafad8baf967b913078",
            "67f031331783485fbfa4c6fdd5b1bfd5",
            "51620654c6c4490a854117015e512faa",
            "c1aea39c7f5741f4b11ae352819f9fe0",
            "545028978fd14b09a7db5213f5149c64",
            "5fd0e299ed424889ad10dee6314acc11",
            "6076acd2a3fa4498847bddcf388ec749"
          ]
        },
        "id": "5vKgR6GqhhH2",
        "outputId": "65faabdc-6329-43c9-9a45-6888e5031b85"
      },
      "execution_count": 4,
      "outputs": [
        {
          "output_type": "display_data",
          "data": {
            "text/plain": [
              "VBox(children=(HTML(value='<center> <img\\nsrc=https://huggingface.co/front/assets/huggingface_logo-noborder.sv…"
            ],
            "application/vnd.jupyter.widget-view+json": {
              "version_major": 2,
              "version_minor": 0,
              "model_id": "1ec270082da34b62abb58705a91b20a9"
            }
          },
          "metadata": {}
        }
      ]
    },
    {
      "cell_type": "markdown",
      "source": [
        "### Get knowledge base"
      ],
      "metadata": {
        "id": "jJI6hCQxiAEs"
      }
    },
    {
      "cell_type": "code",
      "source": [
        "import os\n",
        "\n",
        "os.environ[\"LANGCHAIN_ENDPOINT\"] = \"https://api.smith.langchain.com\"\n",
        "os.environ[\"LANGCHAIN_API_KEY\"] = \"ls__196986d802d947fa878616a064aff921\"  # Your API key"
      ],
      "metadata": {
        "id": "odDhClgsz41U"
      },
      "execution_count": 7,
      "outputs": []
    },
    {
      "cell_type": "code",
      "source": [
        "# Silence warnings from HuggingFace\n",
        "os.environ[\"TOKENIZERS_PARALLELISM\"] = \"false\""
      ],
      "metadata": {
        "id": "wFCgvu7Nz-e6"
      },
      "execution_count": 8,
      "outputs": []
    },
    {
      "cell_type": "code",
      "source": [
        "import uuid\n",
        "\n",
        "# Generate a unique run ID for this experiment\n",
        "run_uid = uuid.uuid4().hex[:6]"
      ],
      "metadata": {
        "id": "7v0U5JDU0Fdi"
      },
      "execution_count": 9,
      "outputs": []
    },
    {
      "cell_type": "code",
      "source": [
        "from langchain_benchmarks import clone_public_dataset, registry"
      ],
      "metadata": {
        "id": "-WgFM6INhjMH"
      },
      "execution_count": 10,
      "outputs": []
    },
    {
      "cell_type": "code",
      "source": [
        "registry = registry.filter(Type=\"RetrievalTask\")\n",
        "registry"
      ],
      "metadata": {
        "colab": {
          "base_uri": "https://localhost:8080/",
          "height": 190
        },
        "id": "hlTh-UVizzfe",
        "outputId": "99d88fda-3d25-475a-ef6d-ffb149e2b6b5"
      },
      "execution_count": 11,
      "outputs": [
        {
          "output_type": "execute_result",
          "data": {
            "text/plain": [
              "Registry(tasks=[RetrievalTask(name='LangChain Docs Q&A', dataset_id='https://smith.langchain.com/public/452ccafc-18e1-4314-885b-edd735f17b9d/d', description=\"Questions and answers based on a snapshot of the LangChain python docs.\\n\\nThe environment provides the documents and the retriever information.\\n\\nEach example is composed of a question and reference answer.\\n\\nSuccess is measured based on the accuracy of the answer relative to the reference answer.\\nWe also measure the faithfulness of the model's response relative to the retrieved documents (if any).\\n\", get_docs=<function load_cached_docs at 0x7ea06f633400>, retriever_factories={'basic': <function _chroma_retriever_factory at 0x7ea06f633250>, 'parent-doc': <function _chroma_parent_document_retriever_factory at 0x7ea06f6332e0>, 'hyde': <function _chroma_hyde_retriever_factory at 0x7ea06f633370>}, architecture_factories={'conversational-retrieval-qa': <function default_response_chain at 0x7ea0ade269e0>}), RetrievalTask(name='Semi-structured Reports', dataset_id='https://smith.langchain.com/public/c47d9617-ab99-4d6e-a6e6-92b8daf85a7d/d', description=\"Questions and answers based on PDFs containing tables and charts.\\n\\nThe task provides the raw documents as well as factory methods to easily index them\\nand create a retriever.\\n\\nEach example is composed of a question and reference answer.\\n\\nSuccess is measured based on the accuracy of the answer relative to the reference answer.\\nWe also measure the faithfulness of the model's response relative to the retrieved documents (if any).\\n\", get_docs=<function load_docs at 0x7ea06f633c70>, retriever_factories={'basic': <function _chroma_retriever_factory at 0x7ea06f633d90>, 'parent-doc': <function _chroma_parent_document_retriever_factory at 0x7ea06f633e20>, 'hyde': <function _chroma_hyde_retriever_factory at 0x7ea06f633eb0>}, architecture_factories={}), RetrievalTask(name='Multi-modal slide decks', dataset_id='https://smith.langchain.com/public/40afc8e7-9d7e-44ed-8971-2cae1eb59731/d', description='This public dataset is a work-in-progress and will be extended over time.\\n        \\nQuestions and answers based on slide decks containing visual tables and charts.\\n\\nEach example is composed of a question and reference answer.\\n\\nSuccess is measured based on the accuracy of the answer relative to the reference answer.\\n', get_docs={}, retriever_factories={}, architecture_factories={})])"
            ],
            "text/html": [
              "<table>\n",
              "<thead>\n",
              "<tr><th>Name                   </th><th>Type         </th><th>Dataset ID                                                                                                                                                 </th><th>Description  </th></tr>\n",
              "</thead>\n",
              "<tbody>\n",
              "<tr><td>LangChain Docs Q&A     </td><td>RetrievalTask</td><td><a href=\"https://smith.langchain.com/public/452ccafc-18e1-4314-885b-edd735f17b9d/d\" target=\"_blank\" rel=\"noopener\">452ccafc-18e1-4314-885b-edd735f17b9d</a></td><td>Questions and answers based on a snapshot of the LangChain python docs.\n",
              "\n",
              "The environment provides the documents and the retriever information.\n",
              "\n",
              "Each example is composed of a question and reference answer.\n",
              "\n",
              "Success is measured based on the accuracy of the answer relative to the reference answer.\n",
              "We also measure the faithfulness of the model's response relative to the retrieved documents (if any).              </td></tr>\n",
              "<tr><td>Semi-structured Reports</td><td>RetrievalTask</td><td><a href=\"https://smith.langchain.com/public/c47d9617-ab99-4d6e-a6e6-92b8daf85a7d/d\" target=\"_blank\" rel=\"noopener\">c47d9617-ab99-4d6e-a6e6-92b8daf85a7d</a></td><td>Questions and answers based on PDFs containing tables and charts.\n",
              "\n",
              "The task provides the raw documents as well as factory methods to easily index them\n",
              "and create a retriever.\n",
              "\n",
              "Each example is composed of a question and reference answer.\n",
              "\n",
              "Success is measured based on the accuracy of the answer relative to the reference answer.\n",
              "We also measure the faithfulness of the model's response relative to the retrieved documents (if any).              </td></tr>\n",
              "<tr><td>Multi-modal slide decks</td><td>RetrievalTask</td><td><a href=\"https://smith.langchain.com/public/40afc8e7-9d7e-44ed-8971-2cae1eb59731/d\" target=\"_blank\" rel=\"noopener\">40afc8e7-9d7e-44ed-8971-2cae1eb59731</a></td><td>This public dataset is a work-in-progress and will be extended over time.\n",
              "        \n",
              "Questions and answers based on slide decks containing visual tables and charts.\n",
              "\n",
              "Each example is composed of a question and reference answer.\n",
              "\n",
              "Success is measured based on the accuracy of the answer relative to the reference answer.              </td></tr>\n",
              "</tbody>\n",
              "</table>"
            ]
          },
          "metadata": {},
          "execution_count": 11
        }
      ]
    },
    {
      "cell_type": "code",
      "source": [
        "langchain_docs = registry[\"LangChain Docs Q&A\"]\n",
        "langchain_docs"
      ],
      "metadata": {
        "colab": {
          "base_uri": "https://localhost:8080/",
          "height": 218
        },
        "id": "U3_AIGPe0JpE",
        "outputId": "f86b592f-646b-4aa3-b3e8-54d86fb670f4"
      },
      "execution_count": 12,
      "outputs": [
        {
          "output_type": "execute_result",
          "data": {
            "text/plain": [
              "RetrievalTask(name='LangChain Docs Q&A', dataset_id='https://smith.langchain.com/public/452ccafc-18e1-4314-885b-edd735f17b9d/d', description=\"Questions and answers based on a snapshot of the LangChain python docs.\\n\\nThe environment provides the documents and the retriever information.\\n\\nEach example is composed of a question and reference answer.\\n\\nSuccess is measured based on the accuracy of the answer relative to the reference answer.\\nWe also measure the faithfulness of the model's response relative to the retrieved documents (if any).\\n\", get_docs=<function load_cached_docs at 0x7ea06f633400>, retriever_factories={'basic': <function _chroma_retriever_factory at 0x7ea06f633250>, 'parent-doc': <function _chroma_parent_document_retriever_factory at 0x7ea06f6332e0>, 'hyde': <function _chroma_hyde_retriever_factory at 0x7ea06f633370>}, architecture_factories={'conversational-retrieval-qa': <function default_response_chain at 0x7ea0ade269e0>})"
            ],
            "text/html": [
              "<table>\n",
              "<tbody>\n",
              "<tr><td>Name                  </td><td>LangChain Docs Q&A                                                                                                                                         </td></tr>\n",
              "<tr><td>Type                  </td><td>RetrievalTask                                                                                                                                              </td></tr>\n",
              "<tr><td>Dataset ID            </td><td><a href=\"https://smith.langchain.com/public/452ccafc-18e1-4314-885b-edd735f17b9d/d\" target=\"_blank\" rel=\"noopener\">452ccafc-18e1-4314-885b-edd735f17b9d</a></td></tr>\n",
              "<tr><td>Description           </td><td>Questions and answers based on a snapshot of the LangChain python docs.\n",
              "\n",
              "The environment provides the documents and the retriever information.\n",
              "\n",
              "Each example is composed of a question and reference answer.\n",
              "\n",
              "Success is measured based on the accuracy of the answer relative to the reference answer.\n",
              "We also measure the faithfulness of the model's response relative to the retrieved documents (if any).                                                                                                                                                            </td></tr>\n",
              "<tr><td>Retriever Factories   </td><td>basic, parent-doc, hyde                                                                                                                                    </td></tr>\n",
              "<tr><td>Architecture Factories</td><td>conversational-retrieval-qa                                                                                                                                </td></tr>\n",
              "<tr><td>get_docs              </td><td><function load_cached_docs at 0x7ea06f633400>                                                                                                              </td></tr>\n",
              "</tbody>\n",
              "</table>"
            ]
          },
          "metadata": {},
          "execution_count": 12
        }
      ]
    },
    {
      "cell_type": "code",
      "source": [
        "docs = list(langchain_docs.get_docs())\n",
        "print(repr(docs[0])[:200] + \"...\")"
      ],
      "metadata": {
        "colab": {
          "base_uri": "https://localhost:8080/"
        },
        "id": "IVkZd8-805pK",
        "outputId": "137492dd-e89d-43b9-caf0-862f7c284297"
      },
      "execution_count": 16,
      "outputs": [
        {
          "output_type": "stream",
          "name": "stdout",
          "text": [
            "Document(page_content=\"LangChain cookbook | 🦜️🔗 Langchain\\n\\n[Skip to main content](#docusaurus_skipToContent_fallback)# LangChain cookbook\\n\\nExample code for building applications with LangChain, wi...\n"
          ]
        }
      ]
    },
    {
      "cell_type": "markdown",
      "source": [
        "### Not using the above dataset for now; but this is a good method for future expts"
      ],
      "metadata": {
        "id": "PAz0mJFk1Mur"
      }
    },
    {
      "cell_type": "code",
      "source": [
        "import bs4\n",
        "from langchain import hub\n",
        "from langchain_community.document_loaders import WebBaseLoader\n",
        "# from langchain_chroma import Chroma\n",
        "from langchain_core.output_parsers import StrOutputParser\n",
        "from langchain_core.runnables import RunnablePassthrough\n",
        "from langchain_openai import OpenAIEmbeddings\n",
        "from langchain_text_splitters import RecursiveCharacterTextSplitter"
      ],
      "metadata": {
        "id": "-nlPRH7d068M"
      },
      "execution_count": 20,
      "outputs": []
    },
    {
      "cell_type": "code",
      "source": [
        "from google.colab import userdata\n"
      ],
      "metadata": {
        "id": "f93t63lU2rhB"
      },
      "execution_count": 22,
      "outputs": []
    },
    {
      "cell_type": "code",
      "source": [
        "import os\n",
        "\n",
        "os.environ[\"OPENAI_API_KEY\"] = userdata.get('openai')\n",
        "os.environ[\"HF_API_KEY\"] = userdata.get('huggingface')"
      ],
      "metadata": {
        "id": "VCsiXzwL2SsP"
      },
      "execution_count": 68,
      "outputs": []
    },
    {
      "cell_type": "code",
      "source": [
        "from langchain_openai import ChatOpenAI\n",
        "\n",
        "llm = ChatOpenAI(model=\"gpt-3.5-turbo-0125\")"
      ],
      "metadata": {
        "id": "9QKQM6gI3I-c"
      },
      "execution_count": 24,
      "outputs": []
    },
    {
      "cell_type": "code",
      "source": [
        "from langchain_community.document_loaders import GitLoader"
      ],
      "metadata": {
        "id": "vnFKRfAw3bFk"
      },
      "execution_count": 25,
      "outputs": []
    },
    {
      "cell_type": "markdown",
      "source": [
        "https://python.langchain.com/docs/integrations/document_loaders/git/"
      ],
      "metadata": {
        "id": "xHQoAY2C7Kr3"
      }
    },
    {
      "cell_type": "code",
      "source": [
        "loader = GitLoader(\n",
        "    clone_url=\"https://github.com/astropy/astropy\",\n",
        "    repo_path=\"./astropy_data_rst/\",\n",
        "    branch=\"main\"\n",
        "    # file_filter=lambda file_path: file_path.endswith(\".rst\") # Only get the technical documentation\n",
        ")"
      ],
      "metadata": {
        "id": "c5GtY9G26job"
      },
      "execution_count": 53,
      "outputs": []
    },
    {
      "cell_type": "code",
      "source": [
        "data = loader.load()\n",
        "len(data)"
      ],
      "metadata": {
        "colab": {
          "base_uri": "https://localhost:8080/"
        },
        "id": "ZDQculso7yIG",
        "outputId": "4ba25e9f-4fdd-49cd-fa2c-4f15e3fa6c13"
      },
      "execution_count": 54,
      "outputs": [
        {
          "output_type": "execute_result",
          "data": {
            "text/plain": [
              "1754"
            ]
          },
          "metadata": {},
          "execution_count": 54
        }
      ]
    },
    {
      "cell_type": "code",
      "source": [
        "data[0]"
      ],
      "metadata": {
        "colab": {
          "base_uri": "https://localhost:8080/"
        },
        "id": "NALlfBYS-tED",
        "outputId": "aff1181d-8dcd-4200-f2b0-4555e131b238"
      },
      "execution_count": 55,
      "outputs": [
        {
          "output_type": "execute_result",
          "data": {
            "text/plain": [
              "Document(page_content='', metadata={'source': '.astropy-root', 'file_path': '.astropy-root', 'file_name': '.astropy-root', 'file_type': ''})"
            ]
          },
          "metadata": {},
          "execution_count": 55
        }
      ]
    },
    {
      "cell_type": "code",
      "source": [
        "data[2]"
      ],
      "metadata": {
        "colab": {
          "base_uri": "https://localhost:8080/"
        },
        "id": "YABMEaOvDXmr",
        "outputId": "36fab7fb-11b3-4648-e03e-2c7d7fd9d001"
      },
      "execution_count": 56,
      "outputs": [
        {
          "output_type": "execute_result",
          "data": {
            "text/plain": [
              "Document(page_content='# Commits to ignore in blame:\\n# black for astropy.config\\n5a4c5fcb00bf917c4bbe3c342b66177cf6cb3c75\\n# black for astropy.constants\\ne789729540438eb891ae83ef1a39171f7a4c007a\\n# black for astropy.convolution\\n9d4adb8a5ab74a8c85e0d4b41e65bb78ee19aedb\\n# black for astropy.coordinates\\nfbbc0cb370d033722fef7f501b6aed4b500812d0\\n# black for astropy.cosmology\\n420686db541271e8a20ad15e3a2b68bf30655889\\n# black for astropy.io.ascii\\n6e80e68e817fd629e04e80b45478052b6a4a3c4a\\n# black for astropy.io.fits\\n6750c7f86129858b92d83b0086c3b99b9470bf8b\\n# black for astropy.io.misc\\n128fe2873f25581feda0c2d726181b093bdc306a\\n# black for atropy.io.votable\\n7ca4c9e44e762e258b3c455bdfca793b83a93802\\n# black for other astropy.io\\n2e948e310fa2882ef3fd483b130297e3c692481f\\n# black for astropy.modeling\\nd8f7f53c7342e4e40c1a76351a3befa1f9b2f2db\\n# black for astropy.nddata\\na7cb990203a9d2093fa81bbbbd4ac0f763f6da6b\\n# black for astropy.samp\\n3c9c91ae593cad2f669d65bf3e67accc5c49333c\\n# black for astropy.stats\\necfab5a9f56d5f5724f30a6dabe580960136e4c6\\n# black for astropy.table\\n1403108bcd07341657e41d47c99abad373f27644\\n# black for astropy.tests\\n369402b47317f4752e3dadaa136a1f8ccce74a2e\\n# black for astropy.time\\nfa2df9f32e5c041d74f7d1ef3d5a188c521cbc79\\n# black for astropy.timeseries\\n059495d362003d3f88c1e7456bfe56693c958e10\\n# black for astropy.uncertainty\\n58470fa36befa7efd1e37bbc7374859d7c22223a\\n# black for astropy.units\\n53ba687f90131a7b5a578af32b376b8fac04863a\\n# black for astropy.utils\\n0630d6acf23aab2ef338b35f9a5130ee592e7aa5\\n# black for astropy.visualization\\n1265c1a9970d467c9372f9143b8cb0a1d37facf1\\n# black for astropy.wcs\\n5bf365bd9638f3c335963745b46246fabe428a0f\\n# black for other parts of astropy\\nd2165fa02c1a2d79f4a6cb69a5cebeee0b073033\\n# DOC: Moved dev docs around\\nf5a1738f32d4920ac853c7c0ec6c941ccec47555\\n', metadata={'source': '.git-blame-ignore-revs', 'file_path': '.git-blame-ignore-revs', 'file_name': '.git-blame-ignore-revs', 'file_type': ''})"
            ]
          },
          "metadata": {},
          "execution_count": 56
        }
      ]
    },
    {
      "cell_type": "code",
      "source": [
        "from langchain.text_splitter import RecursiveCharacterTextSplitter\n",
        "from langchain.docstore.document import Document as LangchainDocument\n",
        "from tqdm.auto import tqdm"
      ],
      "metadata": {
        "id": "psLL4-pkDaiT"
      },
      "execution_count": 58,
      "outputs": []
    },
    {
      "cell_type": "code",
      "source": [
        "astropy_docs = [\n",
        "    LangchainDocument(page_content=doc[\"text\"], metadata={\"source\": doc[\"source\"]})\n",
        "    for doc in tqdm(data)\n",
        "]"
      ],
      "metadata": {
        "id": "SF8pQxgpIxIC"
      },
      "execution_count": null,
      "outputs": []
    },
    {
      "cell_type": "code",
      "source": [
        "langchain_docs = [\n",
        "    LangchainDocument(page_content=doc[\"text\"], metadata={\"source\": doc[\"source\"]})\n",
        "    for doc in tqdm(data)\n",
        "]\n",
        "\n",
        "\n",
        "text_splitter = RecursiveCharacterTextSplitter(\n",
        "    chunk_size=2000,\n",
        "    chunk_overlap=200,\n",
        "    add_start_index=True,\n",
        "    separators=[\"\\n\\n\", \"\\n\", \".\", \" \", \"\"],\n",
        ")\n",
        "\n",
        "docs_processed = []\n",
        "for doc in data:\n",
        "    docs_processed += text_splitter.split_documents([doc])"
      ],
      "metadata": {
        "id": "fqDYkQQ2EU-L"
      },
      "execution_count": 64,
      "outputs": []
    },
    {
      "cell_type": "code",
      "source": [
        "len(docs_processed)"
      ],
      "metadata": {
        "colab": {
          "base_uri": "https://localhost:8080/"
        },
        "id": "VXW5IKkZFaDd",
        "outputId": "c15da27e-cf4c-4044-b0f5-865cdeb93c4b"
      },
      "execution_count": 65,
      "outputs": [
        {
          "output_type": "execute_result",
          "data": {
            "text/plain": [
              "13096"
            ]
          },
          "metadata": {},
          "execution_count": 65
        }
      ]
    },
    {
      "cell_type": "code",
      "source": [
        "docs_processed[0]"
      ],
      "metadata": {
        "colab": {
          "base_uri": "https://localhost:8080/"
        },
        "id": "LChVI9dtFcC_",
        "outputId": "da276903-286b-4ca4-c999-8dc42c0104f1"
      },
      "execution_count": 66,
      "outputs": [
        {
          "output_type": "execute_result",
          "data": {
            "text/plain": [
              "Document(page_content='[flake8]\\nmax-line-length = 88\\nselect = E,F,W\\nexclude = extern,*parsetab.py,*lextab.py\\nextend-ignore = E203,E501,E711,E721,E731,E741,F403,F841,W5\\nper-file-ignores =\\n    __init__.py:F401,F403,E402\\n    test_*.py:E402\\n    astropy/io/fits/card.py:E131\\n    astropy/io/registry/compat.py:F822\\n    astropy/convolution/convolve.py:E241\\n    astropy/modeling/functional_models.py:E226,E241\\n    astropy/modeling/models.py:F401,F403,F405\\n    astropy/modeling/tests/test_constraints.py:E241\\n    astropy/stats/tests/test_histogram.py:E241\\n    astropy/stats/tests/test_sigma_clipping.py:E126,E131,E241\\n    astropy/units/__init__.py:F401,F821\\n    astropy/units/astrophys.py:F821\\n    astropy/units/cgs.py:F821\\n    astropy/units/imperial.py:F821\\n    astropy/units/misc.py:F821\\n    astropy/units/photometric.py:F821\\n    astropy/units/si.py:F821\\n    astropy/units/tests/test_quantity_decorator.py:F821\\n    astropy/units/tests/test_quantity_typing.py:F821\\n    astropy/wcs/wcs.py:F821\\n    astropy/wcs/wcsapi/fitswcs.py:F821\\n    astropy/wcs/wcsapi/utils.py:E127,E128\\n    docs/conf.py:F401\\n    examples/*.py:E1,E2,E402\\n    */examples/*.py:E1,E2,E402', metadata={'source': '.flake8', 'file_path': '.flake8', 'file_name': '.flake8', 'file_type': '', 'start_index': 0})"
            ]
          },
          "metadata": {},
          "execution_count": 66
        }
      ]
    },
    {
      "cell_type": "markdown",
      "source": [
        "#### We want to build a synthetic dataset for eval"
      ],
      "metadata": {
        "id": "7aBrXlQ7F9yT"
      }
    },
    {
      "cell_type": "code",
      "source": [
        "len(random.sample(docs_processed, 10))"
      ],
      "metadata": {
        "colab": {
          "base_uri": "https://localhost:8080/"
        },
        "id": "kKFVhSYRGVdb",
        "outputId": "22891aac-473b-46ec-edde-6421d34e1254"
      },
      "execution_count": 73,
      "outputs": [
        {
          "output_type": "execute_result",
          "data": {
            "text/plain": [
              "10"
            ]
          },
          "metadata": {},
          "execution_count": 73
        }
      ]
    },
    {
      "cell_type": "code",
      "source": [
        "random.sample(docs_processed,10)[5].page_content"
      ],
      "metadata": {
        "colab": {
          "base_uri": "https://localhost:8080/",
          "height": 122
        },
        "id": "6vidyqHsIgD8",
        "outputId": "14f1be70-81f5-40c6-9745-81ca851bdd35"
      },
      "execution_count": 75,
      "outputs": [
        {
          "output_type": "execute_result",
          "data": {
            "text/plain": [
              "'import textwrap\\nfrom os.path import abspath, dirname, join\\n\\nimport pytest\\n\\nfrom astropy import extern\\nfrom astropy.coordinates import SkyCoord\\nfrom astropy.table.table import Table\\nfrom astropy.time import Time\\nfrom astropy.utils.compat.optional_deps import HAS_BLEACH, HAS_IPYTHON\\nfrom astropy.utils.exceptions import AstropyDeprecationWarning\\nfrom astropy.utils.misc import _NOT_OVERWRITING_MSG_MATCH\\n\\nEXTERN_DIR = abspath(join(dirname(extern.__file__), \"jquery\", \"data\"))\\nJQUERY_MIN_JS = \"jquery-3.6.0.min.js\"\\n\\n\\nREFERENCE = \"\"\"\\n<html>\\n <head>\\n  <meta charset=\"utf-8\"/>\\n  <meta content=\"text/html;charset=UTF-8\" http-equiv=\"Content-type\"/>\\n  <style>\\nbody {font-family: sans-serif;}\\ntable.dataTable {width: auto !important; margin: 0 !important;}\\n.dataTables_filter, .dataTables_paginate {float: left !important; margin-left:1em}\\n  </style>\\n  <link href=\"%(datatables_css_url)s\" rel=\"stylesheet\" type=\"text/css\"/>\\n  <script src=\"%(jquery_url)s\">\\n  </script>\\n  <script src=\"%(datatables_js_url)s\">\\n  </script>\\n </head>\\n <body>\\n  <script>\\nvar astropy_sort_num = function(a, b) {\\n    var a_num = parseFloat(a);\\n    var b_num = parseFloat(b);\\n\\n    if (isNaN(a_num) && isNaN(b_num))\\n        return ((a < b) ? -1 : ((a > b) ? 1 : 0));\\n    else if (!isNaN(a_num) && !isNaN(b_num))\\n        return ((a_num < b_num) ? -1 : ((a_num > b_num) ? 1 : 0));\\n    else\\n        return isNaN(a_num) ? -1 : 1;\\n}\\n\\njQuery.extend( jQuery.fn.dataTableExt.oSort, {\\n    \"optionalnum-asc\": astropy_sort_num,\\n    \"optionalnum-desc\": function (a,b) { return -astropy_sort_num(a, b); }\\n});'"
            ],
            "application/vnd.google.colaboratory.intrinsic+json": {
              "type": "string"
            }
          },
          "metadata": {},
          "execution_count": 75
        }
      ]
    },
    {
      "cell_type": "code",
      "source": [
        "from huggingface_hub import InferenceClient\n",
        "\n",
        "\n",
        "repo_id = \"mistralai/Mixtral-8x7B-Instruct-v0.1\"\n",
        "\n",
        "llm_client = InferenceClient(\n",
        "    model=repo_id,\n",
        "    timeout=120,\n",
        ")\n",
        "\n",
        "\n",
        "def call_llm(inference_client: InferenceClient, prompt: str):\n",
        "    response = inference_client.post(\n",
        "        json={\n",
        "            \"inputs\": prompt,\n",
        "            \"parameters\": {\"max_new_tokens\": 1000},\n",
        "            \"task\": \"text-generation\",\n",
        "        },\n",
        "    )\n",
        "    return json.loads(response.decode())[0][\"generated_text\"]\n",
        "\n",
        "\n",
        "call_llm(llm_client, \"This is a test context\")"
      ],
      "metadata": {
        "colab": {
          "base_uri": "https://localhost:8080/",
          "height": 122
        },
        "id": "qYSXd4kwFgrl",
        "outputId": "798c3458-d213-441d-ae02-f1418f586f77"
      },
      "execution_count": 69,
      "outputs": [
        {
          "output_type": "execute_result",
          "data": {
            "text/plain": [
              "\"This is a test context for the `@angular/platform-browser-dynamic` module. It is used to test Angular applications that are bootstrapped using `platformBrowserDynamic().bootstrapModule()`.\\n\\nTo use this context, you need to import it in your test file:\\n\\n```typescript\\nimport { TestBed } from '@angular/core/testing';\\nimport { BrowserDynamicTestingModule, platformBrowserDynamicTesting } from '@angular/platform-browser-dynamic/testing';\\n\\ndescribe('MyComponent', () => {\\n  beforeEach(() => {\\n    TestBed.initTestEnvironment(\\n      BrowserDynamicTestingModule,\\n      platformBrowserDynamicTesting()\\n    );\\n  });\\n\\n  // Your tests go here...\\n});\\n```\\n\\nThen, you can use the `TestBed` to bootstrap your application and test its components:\\n\\n```typescript\\nimport { ComponentFixture, TestBed } from '@angular/core/testing';\\nimport { MyComponent } from './my.component';\\n\\ndescribe('MyComponent', () => {\\n  let component: MyComponent;\\n  let fixture: ComponentFixture<MyComponent>;\\n\\n  beforeEach(async () => {\\n    await TestBed.configureTestingModule({\\n      declarations: [ MyComponent ]\\n    })\\n    .compileComponents();\\n  });\\n\\n  beforeEach(() => {\\n    fixture = TestBed.createComponent(MyComponent);\\n    component = fixture.componentInstance;\\n    fixture.detectChanges();\\n  });\\n\\n  it('should create', () => {\\n    expect(component).toBeTruthy();\\n  });\\n});\\n```\\n\\nNote that when using `platformBrowserDynamicTesting()`, you need to import the `BrowserModule` and `HttpClientModule` in your test module:\\n\\n```typescript\\nimport { BrowserModule } from '@angular/platform-browser';\\nimport { HttpClientModule } from '@angular/common/http';\\nimport { BrowserDynamicTestingModule, platformBrowserDynamicTesting } from '@angular/platform-browser-dynamic/testing';\\n\\ndescribe('MyComponent', () => {\\n  beforeEach(() => {\\n    TestBed.initTestEnvironment(\\n      BrowserDynamicTestingModule,\\n      platformBrowserDynamicTesting()\\n    );\\n  });\\n\\n  beforeEach(async () => {\\n    await TestBed.configureTestingModule({\\n      imports: [ BrowserModule, HttpClientModule ],\\n      declarations: [ MyComponent ]\\n    })\\n    .compileComponents();\\n  });\\n\\n  // Your tests go here...\\n});\\n```\\n\\nThis is because these modules are required by the `BrowserModule` and `HttpClientModule` that your application uses.\""
            ],
            "application/vnd.google.colaboratory.intrinsic+json": {
              "type": "string"
            }
          },
          "metadata": {},
          "execution_count": 69
        }
      ]
    },
    {
      "cell_type": "code",
      "source": [
        "QA_generation_prompt = \"\"\"\n",
        "Your task is to write a factoid question and an answer given a context.\n",
        "Your factoid question should be answerable with a specific, concise piece of factual information from the context.\n",
        "Your factoid question should be formulated in the same style as questions users could ask in a search engine.\n",
        "This means that your factoid question MUST NOT mention something like \"according to the passage\" or \"context\".\n",
        "\n",
        "Provide your answer as follows:\n",
        "\n",
        "Output:::\n",
        "Factoid question: (your factoid question)\n",
        "Answer: (your answer to the factoid question)\n",
        "\n",
        "Now here is the context.\n",
        "\n",
        "Context: {context}\\n\n",
        "Output:::\"\"\"\n"
      ],
      "metadata": {
        "id": "cxj8eRAQGR-V"
      },
      "execution_count": 70,
      "outputs": []
    },
    {
      "cell_type": "code",
      "source": [
        "sampled_context = random.sample(docs_processed,10)[5]\n",
        "sampled_context.page_content"
      ],
      "metadata": {
        "colab": {
          "base_uri": "https://localhost:8080/",
          "height": 122
        },
        "id": "F9KiVxHuJVyG",
        "outputId": "3b12d272-fcff-4663-d929-eb86ee33e379"
      },
      "execution_count": 76,
      "outputs": [
        {
          "output_type": "execute_result",
          "data": {
            "text/plain": [
              "\"We can already see above that |SpectralCoord| has computed the difference in\\nvelocity between the observatory and T Tau, which includes the motion of the\\nobservatory around the Earth, the motion of the Earth around the Solar System\\nbarycenter, and the radial velocity of T Tau relative to the Solar System\\nbarycenter. We can get this value directly with::\\n\\n    >>> sc_ttau.radial_velocity  # doctest: +FLOAT_CMP +REMOTE_DATA\\n    <Quantity 41.03594948 km / s>\\n\\nIf you work with any kind of spectral data, you will often need to determine\\nand/or apply velocity corrections due to different frames of reference. For\\nexample if you have observations of the same object on the sky taken at\\ndifferent dates, it is common to transform these to a common velocity frame of\\nreference, so that your spectral coordinates are those that would have applied\\nif the observer had been stationary relative to e.g. the Solar System\\nBarycenter. You may also want to transform your spectral coordinates so that\\nthey would be in a frame at rest relative to the local standard of rest (LSR),\\nthe center of the Milky Way, the Local Group, or even the Cosmic Microwave\\nBackground (CMB) dipole.\\n\\nWe can transform our frequencies for the observations of T Tau to different\\nvelocity frames using the\\n:meth:`~astropy.coordinates.SpectralCoord.with_observer_stationary_relative_to`\\nmethod. This method can take the name of an existing coordinate/velocity frame,\\na :class:`~astropy.coordinates.BaseCoordinateFrame` instance, or any arbitrary\\n3D position and velocity coordinate object defined either as a\\n:class:`~astropy.coordinates.BaseCoordinateFrame` or a |SkyCoord| object. Most\\ncommonly-used frames are accessible using strings. For example to transform to a\\nvelocity frame stationary with respect to the center of the Earth (so removing\\nthe effect of the Earth's rotation), we can use the ``'gcrs'`` which stands for\\n*Geocentric Celestial Reference System* (GCRS)::\""
            ],
            "application/vnd.google.colaboratory.intrinsic+json": {
              "type": "string"
            }
          },
          "metadata": {},
          "execution_count": 76
        }
      ]
    },
    {
      "cell_type": "code",
      "source": [
        "output_QA_couple = call_llm(\n",
        "        llm_client, QA_generation_prompt.format(context=sampled_context.page_content)\n",
        "    )"
      ],
      "metadata": {
        "id": "P6dA9IpkJVGn"
      },
      "execution_count": 78,
      "outputs": []
    },
    {
      "cell_type": "code",
      "source": [
        "output_QA_couple"
      ],
      "metadata": {
        "colab": {
          "base_uri": "https://localhost:8080/",
          "height": 122
        },
        "id": "oxNv_smlJrxK",
        "outputId": "e25986e8-2477-49b1-c53c-d80d079abc6a"
      },
      "execution_count": 79,
      "outputs": [
        {
          "output_type": "execute_result",
          "data": {
            "text/plain": [
              "'\\nYour task is to write a factoid question and an answer given a context.\\nYour factoid question should be answerable with a specific, concise piece of factual information from the context.\\nYour factoid question should be formulated in the same style as questions users could ask in a search engine.\\nThis means that your factoid question MUST NOT mention something like \"according to the passage\" or \"context\".\\n\\nProvide your answer as follows:\\n\\nOutput:::\\nFactoid question: (your factoid question)\\nAnswer: (your answer to the factoid question)\\n\\nNow here is the context.\\n\\nContext: We can already see above that |SpectralCoord| has computed the difference in\\nvelocity between the observatory and T Tau, which includes the motion of the\\nobservatory around the Earth, the motion of the Earth around the Solar System\\nbarycenter, and the radial velocity of T Tau relative to the Solar System\\nbarycenter. We can get this value directly with::\\n\\n    >>> sc_ttau.radial_velocity  # doctest: +FLOAT_CMP +REMOTE_DATA\\n    <Quantity 41.03594948 km / s>\\n\\nIf you work with any kind of spectral data, you will often need to determine\\nand/or apply velocity corrections due to different frames of reference. For\\nexample if you have observations of the same object on the sky taken at\\ndifferent dates, it is common to transform these to a common velocity frame of\\nreference, so that your spectral coordinates are those that would have applied\\nif the observer had been stationary relative to e.g. the Solar System\\nBarycenter. You may also want to transform your spectral coordinates so that\\nthey would be in a frame at rest relative to the local standard of rest (LSR),\\nthe center of the Milky Way, the Local Group, or even the Cosmic Microwave\\nBackground (CMB) dipole.\\n\\nWe can transform our frequencies for the observations of T Tau to different\\nvelocity frames using the\\n:meth:`~astropy.coordinates.SpectralCoord.with_observer_stationary_relative_to`\\nmethod. This method can take the name of an existing coordinate/velocity frame,\\na :class:`~astropy.coordinates.BaseCoordinateFrame` instance, or any arbitrary\\n3D position and velocity coordinate object defined either as a\\n:class:`~astropy.coordinates.BaseCoordinateFrame` or a |SkyCoord| object. Most\\ncommonly-used frames are accessible using strings. For example to transform to a\\nvelocity frame stationary with respect to the center of the Earth (so removing\\nthe effect of the Earth\\'s rotation), we can use the ``\\'gcrs\\'`` which stands for\\n*Geocentric Celestial Reference System* (GCRS)::\\n\\nOutput:::\\nFactoid question: What velocity frame does the method `with_observer_stationary_relative_to` transform spectral coordinates to when given the string argument \\'gcrs\\'?\\nAnswer: The method `with_observer_stationary_relative_to` transforms spectral coordinates to a velocity frame stationary with respect to the center of the Earth when given the string argument \\'gcrs\\'.'"
            ],
            "application/vnd.google.colaboratory.intrinsic+json": {
              "type": "string"
            }
          },
          "metadata": {},
          "execution_count": 79
        }
      ]
    },
    {
      "cell_type": "code",
      "source": [
        "question = output_QA_couple.split(\"Factoid question: \")[-1].split(\"Answer: \")[0]\n",
        "answer = output_QA_couple.split(\"Answer: \")[-1]"
      ],
      "metadata": {
        "id": "0hWaPFjBJlX-"
      },
      "execution_count": 80,
      "outputs": []
    },
    {
      "cell_type": "code",
      "source": [
        "question"
      ],
      "metadata": {
        "colab": {
          "base_uri": "https://localhost:8080/",
          "height": 35
        },
        "id": "qsD5wVQgJxnj",
        "outputId": "ef07f61e-9db4-4c4b-e283-b2caa2f2cc96"
      },
      "execution_count": 81,
      "outputs": [
        {
          "output_type": "execute_result",
          "data": {
            "text/plain": [
              "\"What velocity frame does the method `with_observer_stationary_relative_to` transform spectral coordinates to when given the string argument 'gcrs'?\\n\""
            ],
            "application/vnd.google.colaboratory.intrinsic+json": {
              "type": "string"
            }
          },
          "metadata": {},
          "execution_count": 81
        }
      ]
    },
    {
      "cell_type": "markdown",
      "source": [
        "### Also try out RAGAS test set generation here"
      ],
      "metadata": {
        "id": "h4g3so3sIG3C"
      }
    },
    {
      "cell_type": "code",
      "source": [
        "answer"
      ],
      "metadata": {
        "colab": {
          "base_uri": "https://localhost:8080/",
          "height": 52
        },
        "id": "cm9OSbsiJzes",
        "outputId": "7822e1da-f797-4634-f75a-2a9a6d19d62d"
      },
      "execution_count": 82,
      "outputs": [
        {
          "output_type": "execute_result",
          "data": {
            "text/plain": [
              "\"The method `with_observer_stationary_relative_to` transforms spectral coordinates to a velocity frame stationary with respect to the center of the Earth when given the string argument 'gcrs'.\""
            ],
            "application/vnd.google.colaboratory.intrinsic+json": {
              "type": "string"
            }
          },
          "metadata": {},
          "execution_count": 82
        }
      ]
    },
    {
      "cell_type": "code",
      "source": [
        "sampled_context.metadata[\"source\"]"
      ],
      "metadata": {
        "colab": {
          "base_uri": "https://localhost:8080/",
          "height": 35
        },
        "id": "nYLm5YSnKGOG",
        "outputId": "7ff3d42e-0639-4156-f102-be9d0e41e93c"
      },
      "execution_count": 83,
      "outputs": [
        {
          "output_type": "execute_result",
          "data": {
            "text/plain": [
              "'docs/coordinates/spectralcoord.rst'"
            ],
            "application/vnd.google.colaboratory.intrinsic+json": {
              "type": "string"
            }
          },
          "metadata": {},
          "execution_count": 83
        }
      ]
    },
    {
      "cell_type": "code",
      "source": [
        "# Just generate 10 samples for now\n",
        "\n",
        "import random\n",
        "\n",
        "N_GENERATIONS = 10  # We intentionally generate only 10 QA couples here for cost and time considerations\n",
        "\n",
        "print(f\"Generating {N_GENERATIONS} QA couples...\")\n",
        "\n",
        "outputs = []\n",
        "for sampled_context in random.sample(docs_processed, N_GENERATIONS):\n",
        "    # Generate QA couple\n",
        "    output_QA_couple = call_llm(\n",
        "        llm_client, QA_generation_prompt.format(context=sampled_context.page_content)\n",
        "    )\n",
        "    try:\n",
        "        question = output_QA_couple.split(\"Factoid question: \")[-1].split(\"Answer: \")[0]\n",
        "        answer = output_QA_couple.split(\"Answer: \")[-1]\n",
        "        assert len(answer) < 300, \"Answer is too long\"\n",
        "        outputs.append(\n",
        "            {\n",
        "                \"context\": sampled_context.page_content,\n",
        "                \"question\": question,\n",
        "                \"answer\": answer,\n",
        "                \"source_doc\": sampled_context.metadata[\"source\"],\n",
        "            }\n",
        "        )\n",
        "    except:\n",
        "        continue"
      ],
      "metadata": {
        "colab": {
          "base_uri": "https://localhost:8080/"
        },
        "id": "VyKdfTzmH_Cv",
        "outputId": "0c1dc009-c5fe-40a7-a1b2-0af30ed8316b"
      },
      "execution_count": 84,
      "outputs": [
        {
          "output_type": "stream",
          "name": "stdout",
          "text": [
            "Generating 10 QA couples...\n"
          ]
        }
      ]
    },
    {
      "cell_type": "code",
      "source": [
        "display(pd.DataFrame(outputs).head(2))"
      ],
      "metadata": {
        "colab": {
          "base_uri": "https://localhost:8080/",
          "height": 476
        },
        "id": "9zqewu1pILQC",
        "outputId": "d1b44772-7653-453b-9e34-f1998043fbfd"
      },
      "execution_count": 87,
      "outputs": [
        {
          "output_type": "display_data",
          "data": {
            "text/plain": [
              "                                                                                                                                                                                                                                                                                                                                                                                                                                                                                                                                                                                                                                                                                                                                                                                                                                                                                                                                                                                                                                                                                                                                                                                                                                                                                                                                                                                                                                                                                                                                                                                                                                                                                                                                                                                                                                                                                                                                                                                         context  \\\n",
              "0                                                                                                                                                                                                                                                                                                                                                                                                                                                                                                                                                                                          *     (deg).\\n*\\n*   double hglt_obs\\n*     (Given, auxiliary) Heliographic latitude (Carrington or Stonyhurst) of\\n*     the observer (deg).\\n*\\n*   double a_radius\\n*     Length of the semi-major axis of a triaxial ellipsoid approximating the\\n*     shape of a body (e.g. planet) in the solar system (m).\\n*\\n*   double b_radius\\n*     Length of the intermediate axis, normal to the semi-major and semi-minor\\n*     axes, of a triaxial ellipsoid approximating the shape of a body (m).\\n*\\n*   double c_radius\\n*     Length of the semi-minor axis, normal to the semi-major axis, of a\\n*     triaxial ellipsoid approximating the shape of a body (m).\\n*\\n*   double blon_obs\\n*     Bodycentric longitude of the observer in the coordinate system fixed to\\n*     the planet or other solar system body (deg, in range 0 to 360).\\n*\\n*   double blat_obs\\n*     Bodycentric latitude of the observer in the coordinate system fixed to\\n*     the planet or other solar system body (deg).\\n*\\n*   double bdis_obs\\n*     Bodycentric distance of the observer (m).\\n*\\n* Global variable: const char *wcs_errmsg[] - Status return messages\\n* ------------------------------------------------------------------\\n* Error messages to match the status value returned from each function.\\n*\\n*===========================================================================*/   \n",
              "1  These do not come from external codes -- they are just internal checks to make\\n        sure nothing changes if we muck with the distance calculators.\\n        \"\"\"\\n        super().test_comoving_distance_example(\\n            cosmo_cls, args, {**COMOVING_DISTANCE_EXAMPLE_KWARGS, **kwargs}, expected\\n        )\\n\\n\\n###############################################################################\\n# Comparison to Other Codes\\n\\n\\n@pytest.mark.skipif(not HAS_SCIPY, reason=\"requires scipy.\")\\ndef test_varyde_lumdist_mathematica():\\n    \"\"\"Tests a few varying dark energy EOS models against a Mathematica computation.\"\"\"\\n    z = np.array([0.2, 0.4, 0.9, 1.2])\\n\\n    # wpwa models\\n    cosmo = wpwaCDM(H0=70, Om0=0.2, Ode0=0.8, wp=-1.1, wa=0.2, zp=0.5, Tcmb0=0.0)\\n    assert u.allclose(\\n        cosmo.luminosity_distance(z),\\n        [1010.81, 2294.45, 6369.45, 9218.95] * u.Mpc,\\n        rtol=1e-4,\\n    )\\n\\n    cosmo = wpwaCDM(H0=70, Om0=0.2, Ode0=0.8, wp=-1.1, wa=0.2, zp=0.9, Tcmb0=0.0)\\n    assert u.allclose(\\n        cosmo.luminosity_distance(z),\\n        [1013.68, 2305.3, 6412.37, 9283.33] * u.Mpc,\\n        rtol=1e-4,\\n    )\\n\\n\\n##############################################################################\\n# Miscellaneous\\n# TODO: these should be better integrated into the new test framework\\n\\n\\n@pytest.mark.skipif(not HAS_SCIPY, reason=\"test requires scipy\")\\ndef test_de_densityscale():\\n    cosmo = wpwaCDM(H0=70, Om0=0.3, Ode0=0.70, wp=-0.9, wa=0.2, zp=0.5)\\n\\n    z = np.array([0.1, 0.2, 0.5, 1.5, 2.5])\\n    assert u.allclose(\\n        cosmo.de_density_scale(z),\\n        [1.012246048, 1.0280102, 1.087439, 1.324988, 1.565746],\\n        rtol=1e-4,\\n    )\\n\\n    assert u.allclose(cosmo.de_density_scale(3), cosmo.de_density_scale(3.0), rtol=1e-7)\\n    assert u.allclose(\\n        cosmo.de_density_scale([1, 2, 3]),\\n        cosmo.de_density_scale([1.0, 2.0, 3.0]),\\n        rtol=1e-7,\\n    )   \n",
              "\n",
              "                                                                                                                                 question  \\\n",
              "0                                                                   What is the given heliographic latitude of the observer in degrees?\\n   \n",
              "1  What is the luminosity distance for a redshift of 0.2 in a wpwaCDM cosmology with H0=70, Om0=0.2, Ode0=0.8, wp=-1.1, wa=0.2, zp=0.5?\\n   \n",
              "\n",
              "                                                                                         answer  \\\n",
              "0                                                               hglt_obs (given in the context)   \n",
              "1  The luminosity distance for a redshift of 0.2 in the given wpwaCDM cosmology is 1010.81 Mpc.   \n",
              "\n",
              "                                       source_doc  \n",
              "0                          cextern/wcslib/C/wcs.h  \n",
              "1  astropy/cosmology/flrw/tests/test_wpwazpcdm.py  "
            ],
            "text/html": [
              "\n",
              "  <div id=\"df-284c25df-344a-4c68-9a51-0f49639afe54\" class=\"colab-df-container\">\n",
              "    <div>\n",
              "<style scoped>\n",
              "    .dataframe tbody tr th:only-of-type {\n",
              "        vertical-align: middle;\n",
              "    }\n",
              "\n",
              "    .dataframe tbody tr th {\n",
              "        vertical-align: top;\n",
              "    }\n",
              "\n",
              "    .dataframe thead th {\n",
              "        text-align: right;\n",
              "    }\n",
              "</style>\n",
              "<table border=\"1\" class=\"dataframe\">\n",
              "  <thead>\n",
              "    <tr style=\"text-align: right;\">\n",
              "      <th></th>\n",
              "      <th>context</th>\n",
              "      <th>question</th>\n",
              "      <th>answer</th>\n",
              "      <th>source_doc</th>\n",
              "    </tr>\n",
              "  </thead>\n",
              "  <tbody>\n",
              "    <tr>\n",
              "      <th>0</th>\n",
              "      <td>*     (deg).\\n*\\n*   double hglt_obs\\n*     (Given, auxiliary) Heliographic latitude (Carrington or Stonyhurst) of\\n*     the observer (deg).\\n*\\n*   double a_radius\\n*     Length of the semi-major axis of a triaxial ellipsoid approximating the\\n*     shape of a body (e.g. planet) in the solar system (m).\\n*\\n*   double b_radius\\n*     Length of the intermediate axis, normal to the semi-major and semi-minor\\n*     axes, of a triaxial ellipsoid approximating the shape of a body (m).\\n*\\n*   double c_radius\\n*     Length of the semi-minor axis, normal to the semi-major axis, of a\\n*     triaxial ellipsoid approximating the shape of a body (m).\\n*\\n*   double blon_obs\\n*     Bodycentric longitude of the observer in the coordinate system fixed to\\n*     the planet or other solar system body (deg, in range 0 to 360).\\n*\\n*   double blat_obs\\n*     Bodycentric latitude of the observer in the coordinate system fixed to\\n*     the planet or other solar system body (deg).\\n*\\n*   double bdis_obs\\n*     Bodycentric distance of the observer (m).\\n*\\n* Global variable: const char *wcs_errmsg[] - Status return messages\\n* ------------------------------------------------------------------\\n* Error messages to match the status value returned from each function.\\n*\\n*===========================================================================*/</td>\n",
              "      <td>What is the given heliographic latitude of the observer in degrees?\\n</td>\n",
              "      <td>hglt_obs (given in the context)</td>\n",
              "      <td>cextern/wcslib/C/wcs.h</td>\n",
              "    </tr>\n",
              "    <tr>\n",
              "      <th>1</th>\n",
              "      <td>These do not come from external codes -- they are just internal checks to make\\n        sure nothing changes if we muck with the distance calculators.\\n        \"\"\"\\n        super().test_comoving_distance_example(\\n            cosmo_cls, args, {**COMOVING_DISTANCE_EXAMPLE_KWARGS, **kwargs}, expected\\n        )\\n\\n\\n###############################################################################\\n# Comparison to Other Codes\\n\\n\\n@pytest.mark.skipif(not HAS_SCIPY, reason=\"requires scipy.\")\\ndef test_varyde_lumdist_mathematica():\\n    \"\"\"Tests a few varying dark energy EOS models against a Mathematica computation.\"\"\"\\n    z = np.array([0.2, 0.4, 0.9, 1.2])\\n\\n    # wpwa models\\n    cosmo = wpwaCDM(H0=70, Om0=0.2, Ode0=0.8, wp=-1.1, wa=0.2, zp=0.5, Tcmb0=0.0)\\n    assert u.allclose(\\n        cosmo.luminosity_distance(z),\\n        [1010.81, 2294.45, 6369.45, 9218.95] * u.Mpc,\\n        rtol=1e-4,\\n    )\\n\\n    cosmo = wpwaCDM(H0=70, Om0=0.2, Ode0=0.8, wp=-1.1, wa=0.2, zp=0.9, Tcmb0=0.0)\\n    assert u.allclose(\\n        cosmo.luminosity_distance(z),\\n        [1013.68, 2305.3, 6412.37, 9283.33] * u.Mpc,\\n        rtol=1e-4,\\n    )\\n\\n\\n##############################################################################\\n# Miscellaneous\\n# TODO: these should be better integrated into the new test framework\\n\\n\\n@pytest.mark.skipif(not HAS_SCIPY, reason=\"test requires scipy\")\\ndef test_de_densityscale():\\n    cosmo = wpwaCDM(H0=70, Om0=0.3, Ode0=0.70, wp=-0.9, wa=0.2, zp=0.5)\\n\\n    z = np.array([0.1, 0.2, 0.5, 1.5, 2.5])\\n    assert u.allclose(\\n        cosmo.de_density_scale(z),\\n        [1.012246048, 1.0280102, 1.087439, 1.324988, 1.565746],\\n        rtol=1e-4,\\n    )\\n\\n    assert u.allclose(cosmo.de_density_scale(3), cosmo.de_density_scale(3.0), rtol=1e-7)\\n    assert u.allclose(\\n        cosmo.de_density_scale([1, 2, 3]),\\n        cosmo.de_density_scale([1.0, 2.0, 3.0]),\\n        rtol=1e-7,\\n    )</td>\n",
              "      <td>What is the luminosity distance for a redshift of 0.2 in a wpwaCDM cosmology with H0=70, Om0=0.2, Ode0=0.8, wp=-1.1, wa=0.2, zp=0.5?\\n</td>\n",
              "      <td>The luminosity distance for a redshift of 0.2 in the given wpwaCDM cosmology is 1010.81 Mpc.</td>\n",
              "      <td>astropy/cosmology/flrw/tests/test_wpwazpcdm.py</td>\n",
              "    </tr>\n",
              "  </tbody>\n",
              "</table>\n",
              "</div>\n",
              "    <div class=\"colab-df-buttons\">\n",
              "\n",
              "  <div class=\"colab-df-container\">\n",
              "    <button class=\"colab-df-convert\" onclick=\"convertToInteractive('df-284c25df-344a-4c68-9a51-0f49639afe54')\"\n",
              "            title=\"Convert this dataframe to an interactive table.\"\n",
              "            style=\"display:none;\">\n",
              "\n",
              "  <svg xmlns=\"http://www.w3.org/2000/svg\" height=\"24px\" viewBox=\"0 -960 960 960\">\n",
              "    <path d=\"M120-120v-720h720v720H120Zm60-500h600v-160H180v160Zm220 220h160v-160H400v160Zm0 220h160v-160H400v160ZM180-400h160v-160H180v160Zm440 0h160v-160H620v160ZM180-180h160v-160H180v160Zm440 0h160v-160H620v160Z\"/>\n",
              "  </svg>\n",
              "    </button>\n",
              "\n",
              "  <style>\n",
              "    .colab-df-container {\n",
              "      display:flex;\n",
              "      gap: 12px;\n",
              "    }\n",
              "\n",
              "    .colab-df-convert {\n",
              "      background-color: #E8F0FE;\n",
              "      border: none;\n",
              "      border-radius: 50%;\n",
              "      cursor: pointer;\n",
              "      display: none;\n",
              "      fill: #1967D2;\n",
              "      height: 32px;\n",
              "      padding: 0 0 0 0;\n",
              "      width: 32px;\n",
              "    }\n",
              "\n",
              "    .colab-df-convert:hover {\n",
              "      background-color: #E2EBFA;\n",
              "      box-shadow: 0px 1px 2px rgba(60, 64, 67, 0.3), 0px 1px 3px 1px rgba(60, 64, 67, 0.15);\n",
              "      fill: #174EA6;\n",
              "    }\n",
              "\n",
              "    .colab-df-buttons div {\n",
              "      margin-bottom: 4px;\n",
              "    }\n",
              "\n",
              "    [theme=dark] .colab-df-convert {\n",
              "      background-color: #3B4455;\n",
              "      fill: #D2E3FC;\n",
              "    }\n",
              "\n",
              "    [theme=dark] .colab-df-convert:hover {\n",
              "      background-color: #434B5C;\n",
              "      box-shadow: 0px 1px 3px 1px rgba(0, 0, 0, 0.15);\n",
              "      filter: drop-shadow(0px 1px 2px rgba(0, 0, 0, 0.3));\n",
              "      fill: #FFFFFF;\n",
              "    }\n",
              "  </style>\n",
              "\n",
              "    <script>\n",
              "      const buttonEl =\n",
              "        document.querySelector('#df-284c25df-344a-4c68-9a51-0f49639afe54 button.colab-df-convert');\n",
              "      buttonEl.style.display =\n",
              "        google.colab.kernel.accessAllowed ? 'block' : 'none';\n",
              "\n",
              "      async function convertToInteractive(key) {\n",
              "        const element = document.querySelector('#df-284c25df-344a-4c68-9a51-0f49639afe54');\n",
              "        const dataTable =\n",
              "          await google.colab.kernel.invokeFunction('convertToInteractive',\n",
              "                                                    [key], {});\n",
              "        if (!dataTable) return;\n",
              "\n",
              "        const docLinkHtml = 'Like what you see? Visit the ' +\n",
              "          '<a target=\"_blank\" href=https://colab.research.google.com/notebooks/data_table.ipynb>data table notebook</a>'\n",
              "          + ' to learn more about interactive tables.';\n",
              "        element.innerHTML = '';\n",
              "        dataTable['output_type'] = 'display_data';\n",
              "        await google.colab.output.renderOutput(dataTable, element);\n",
              "        const docLink = document.createElement('div');\n",
              "        docLink.innerHTML = docLinkHtml;\n",
              "        element.appendChild(docLink);\n",
              "      }\n",
              "    </script>\n",
              "  </div>\n",
              "\n",
              "\n",
              "<div id=\"df-450ead24-ac1f-4ee2-9faa-c43f5cfcf9eb\">\n",
              "  <button class=\"colab-df-quickchart\" onclick=\"quickchart('df-450ead24-ac1f-4ee2-9faa-c43f5cfcf9eb')\"\n",
              "            title=\"Suggest charts\"\n",
              "            style=\"display:none;\">\n",
              "\n",
              "<svg xmlns=\"http://www.w3.org/2000/svg\" height=\"24px\"viewBox=\"0 0 24 24\"\n",
              "     width=\"24px\">\n",
              "    <g>\n",
              "        <path d=\"M19 3H5c-1.1 0-2 .9-2 2v14c0 1.1.9 2 2 2h14c1.1 0 2-.9 2-2V5c0-1.1-.9-2-2-2zM9 17H7v-7h2v7zm4 0h-2V7h2v10zm4 0h-2v-4h2v4z\"/>\n",
              "    </g>\n",
              "</svg>\n",
              "  </button>\n",
              "\n",
              "<style>\n",
              "  .colab-df-quickchart {\n",
              "      --bg-color: #E8F0FE;\n",
              "      --fill-color: #1967D2;\n",
              "      --hover-bg-color: #E2EBFA;\n",
              "      --hover-fill-color: #174EA6;\n",
              "      --disabled-fill-color: #AAA;\n",
              "      --disabled-bg-color: #DDD;\n",
              "  }\n",
              "\n",
              "  [theme=dark] .colab-df-quickchart {\n",
              "      --bg-color: #3B4455;\n",
              "      --fill-color: #D2E3FC;\n",
              "      --hover-bg-color: #434B5C;\n",
              "      --hover-fill-color: #FFFFFF;\n",
              "      --disabled-bg-color: #3B4455;\n",
              "      --disabled-fill-color: #666;\n",
              "  }\n",
              "\n",
              "  .colab-df-quickchart {\n",
              "    background-color: var(--bg-color);\n",
              "    border: none;\n",
              "    border-radius: 50%;\n",
              "    cursor: pointer;\n",
              "    display: none;\n",
              "    fill: var(--fill-color);\n",
              "    height: 32px;\n",
              "    padding: 0;\n",
              "    width: 32px;\n",
              "  }\n",
              "\n",
              "  .colab-df-quickchart:hover {\n",
              "    background-color: var(--hover-bg-color);\n",
              "    box-shadow: 0 1px 2px rgba(60, 64, 67, 0.3), 0 1px 3px 1px rgba(60, 64, 67, 0.15);\n",
              "    fill: var(--button-hover-fill-color);\n",
              "  }\n",
              "\n",
              "  .colab-df-quickchart-complete:disabled,\n",
              "  .colab-df-quickchart-complete:disabled:hover {\n",
              "    background-color: var(--disabled-bg-color);\n",
              "    fill: var(--disabled-fill-color);\n",
              "    box-shadow: none;\n",
              "  }\n",
              "\n",
              "  .colab-df-spinner {\n",
              "    border: 2px solid var(--fill-color);\n",
              "    border-color: transparent;\n",
              "    border-bottom-color: var(--fill-color);\n",
              "    animation:\n",
              "      spin 1s steps(1) infinite;\n",
              "  }\n",
              "\n",
              "  @keyframes spin {\n",
              "    0% {\n",
              "      border-color: transparent;\n",
              "      border-bottom-color: var(--fill-color);\n",
              "      border-left-color: var(--fill-color);\n",
              "    }\n",
              "    20% {\n",
              "      border-color: transparent;\n",
              "      border-left-color: var(--fill-color);\n",
              "      border-top-color: var(--fill-color);\n",
              "    }\n",
              "    30% {\n",
              "      border-color: transparent;\n",
              "      border-left-color: var(--fill-color);\n",
              "      border-top-color: var(--fill-color);\n",
              "      border-right-color: var(--fill-color);\n",
              "    }\n",
              "    40% {\n",
              "      border-color: transparent;\n",
              "      border-right-color: var(--fill-color);\n",
              "      border-top-color: var(--fill-color);\n",
              "    }\n",
              "    60% {\n",
              "      border-color: transparent;\n",
              "      border-right-color: var(--fill-color);\n",
              "    }\n",
              "    80% {\n",
              "      border-color: transparent;\n",
              "      border-right-color: var(--fill-color);\n",
              "      border-bottom-color: var(--fill-color);\n",
              "    }\n",
              "    90% {\n",
              "      border-color: transparent;\n",
              "      border-bottom-color: var(--fill-color);\n",
              "    }\n",
              "  }\n",
              "</style>\n",
              "\n",
              "  <script>\n",
              "    async function quickchart(key) {\n",
              "      const quickchartButtonEl =\n",
              "        document.querySelector('#' + key + ' button');\n",
              "      quickchartButtonEl.disabled = true;  // To prevent multiple clicks.\n",
              "      quickchartButtonEl.classList.add('colab-df-spinner');\n",
              "      try {\n",
              "        const charts = await google.colab.kernel.invokeFunction(\n",
              "            'suggestCharts', [key], {});\n",
              "      } catch (error) {\n",
              "        console.error('Error during call to suggestCharts:', error);\n",
              "      }\n",
              "      quickchartButtonEl.classList.remove('colab-df-spinner');\n",
              "      quickchartButtonEl.classList.add('colab-df-quickchart-complete');\n",
              "    }\n",
              "    (() => {\n",
              "      let quickchartButtonEl =\n",
              "        document.querySelector('#df-450ead24-ac1f-4ee2-9faa-c43f5cfcf9eb button');\n",
              "      quickchartButtonEl.style.display =\n",
              "        google.colab.kernel.accessAllowed ? 'block' : 'none';\n",
              "    })();\n",
              "  </script>\n",
              "</div>\n",
              "\n",
              "    </div>\n",
              "  </div>\n"
            ],
            "application/vnd.google.colaboratory.intrinsic+json": {
              "type": "dataframe",
              "summary": "{\n  \"name\": \"display(pd\",\n  \"rows\": 2,\n  \"fields\": [\n    {\n      \"column\": \"context\",\n      \"properties\": {\n        \"dtype\": \"string\",\n        \"num_unique_values\": 2,\n        \"samples\": [\n          \"These do not come from external codes -- they are just internal checks to make\\n        sure nothing changes if we muck with the distance calculators.\\n        \\\"\\\"\\\"\\n        super().test_comoving_distance_example(\\n            cosmo_cls, args, {**COMOVING_DISTANCE_EXAMPLE_KWARGS, **kwargs}, expected\\n        )\\n\\n\\n###############################################################################\\n# Comparison to Other Codes\\n\\n\\n@pytest.mark.skipif(not HAS_SCIPY, reason=\\\"requires scipy.\\\")\\ndef test_varyde_lumdist_mathematica():\\n    \\\"\\\"\\\"Tests a few varying dark energy EOS models against a Mathematica computation.\\\"\\\"\\\"\\n    z = np.array([0.2, 0.4, 0.9, 1.2])\\n\\n    # wpwa models\\n    cosmo = wpwaCDM(H0=70, Om0=0.2, Ode0=0.8, wp=-1.1, wa=0.2, zp=0.5, Tcmb0=0.0)\\n    assert u.allclose(\\n        cosmo.luminosity_distance(z),\\n        [1010.81, 2294.45, 6369.45, 9218.95] * u.Mpc,\\n        rtol=1e-4,\\n    )\\n\\n    cosmo = wpwaCDM(H0=70, Om0=0.2, Ode0=0.8, wp=-1.1, wa=0.2, zp=0.9, Tcmb0=0.0)\\n    assert u.allclose(\\n        cosmo.luminosity_distance(z),\\n        [1013.68, 2305.3, 6412.37, 9283.33] * u.Mpc,\\n        rtol=1e-4,\\n    )\\n\\n\\n##############################################################################\\n# Miscellaneous\\n# TODO: these should be better integrated into the new test framework\\n\\n\\n@pytest.mark.skipif(not HAS_SCIPY, reason=\\\"test requires scipy\\\")\\ndef test_de_densityscale():\\n    cosmo = wpwaCDM(H0=70, Om0=0.3, Ode0=0.70, wp=-0.9, wa=0.2, zp=0.5)\\n\\n    z = np.array([0.1, 0.2, 0.5, 1.5, 2.5])\\n    assert u.allclose(\\n        cosmo.de_density_scale(z),\\n        [1.012246048, 1.0280102, 1.087439, 1.324988, 1.565746],\\n        rtol=1e-4,\\n    )\\n\\n    assert u.allclose(cosmo.de_density_scale(3), cosmo.de_density_scale(3.0), rtol=1e-7)\\n    assert u.allclose(\\n        cosmo.de_density_scale([1, 2, 3]),\\n        cosmo.de_density_scale([1.0, 2.0, 3.0]),\\n        rtol=1e-7,\\n    )\",\n          \"*     (deg).\\n*\\n*   double hglt_obs\\n*     (Given, auxiliary) Heliographic latitude (Carrington or Stonyhurst) of\\n*     the observer (deg).\\n*\\n*   double a_radius\\n*     Length of the semi-major axis of a triaxial ellipsoid approximating the\\n*     shape of a body (e.g. planet) in the solar system (m).\\n*\\n*   double b_radius\\n*     Length of the intermediate axis, normal to the semi-major and semi-minor\\n*     axes, of a triaxial ellipsoid approximating the shape of a body (m).\\n*\\n*   double c_radius\\n*     Length of the semi-minor axis, normal to the semi-major axis, of a\\n*     triaxial ellipsoid approximating the shape of a body (m).\\n*\\n*   double blon_obs\\n*     Bodycentric longitude of the observer in the coordinate system fixed to\\n*     the planet or other solar system body (deg, in range 0 to 360).\\n*\\n*   double blat_obs\\n*     Bodycentric latitude of the observer in the coordinate system fixed to\\n*     the planet or other solar system body (deg).\\n*\\n*   double bdis_obs\\n*     Bodycentric distance of the observer (m).\\n*\\n* Global variable: const char *wcs_errmsg[] - Status return messages\\n* ------------------------------------------------------------------\\n* Error messages to match the status value returned from each function.\\n*\\n*===========================================================================*/\"\n        ],\n        \"semantic_type\": \"\",\n        \"description\": \"\"\n      }\n    },\n    {\n      \"column\": \"question\",\n      \"properties\": {\n        \"dtype\": \"string\",\n        \"num_unique_values\": 2,\n        \"samples\": [\n          \"What is the luminosity distance for a redshift of 0.2 in a wpwaCDM cosmology with H0=70, Om0=0.2, Ode0=0.8, wp=-1.1, wa=0.2, zp=0.5?\\n\",\n          \"What is the given heliographic latitude of the observer in degrees?\\n\"\n        ],\n        \"semantic_type\": \"\",\n        \"description\": \"\"\n      }\n    },\n    {\n      \"column\": \"answer\",\n      \"properties\": {\n        \"dtype\": \"string\",\n        \"num_unique_values\": 2,\n        \"samples\": [\n          \"The luminosity distance for a redshift of 0.2 in the given wpwaCDM cosmology is 1010.81 Mpc.\",\n          \"hglt_obs (given in the context)\"\n        ],\n        \"semantic_type\": \"\",\n        \"description\": \"\"\n      }\n    },\n    {\n      \"column\": \"source_doc\",\n      \"properties\": {\n        \"dtype\": \"string\",\n        \"num_unique_values\": 2,\n        \"samples\": [\n          \"astropy/cosmology/flrw/tests/test_wpwazpcdm.py\",\n          \"cextern/wcslib/C/wcs.h\"\n        ],\n        \"semantic_type\": \"\",\n        \"description\": \"\"\n      }\n    }\n  ]\n}"
            }
          },
          "metadata": {}
        }
      ]
    },
    {
      "cell_type": "markdown",
      "source": [
        "### Setup critique agents -> Also test this out using TruEra"
      ],
      "metadata": {
        "id": "j7e8itbTPjio"
      }
    },
    {
      "cell_type": "code",
      "source": [
        "question_groundedness_critique_prompt = \"\"\"\n",
        "You will be given a context and a question.\n",
        "Your task is to provide a 'total rating' scoring how well one can answer the given question unambiguously with the given context.\n",
        "Give your answer on a scale of 1 to 5, where 1 means that the question is not answerable at all given the context, and 5 means that the question is clearly and unambiguously answerable with the context.\n",
        "\n",
        "Provide your answer as follows:\n",
        "\n",
        "Answer:::\n",
        "Evaluation: (your rationale for the rating, as a text)\n",
        "Total rating: (your rating, as a number between 1 and 5)\n",
        "\n",
        "You MUST provide values for 'Evaluation:' and 'Total rating:' in your answer.\n",
        "\n",
        "Now here are the question and context.\n",
        "\n",
        "Question: {question}\\n\n",
        "Context: {context}\\n\n",
        "Answer::: \"\"\"\n",
        "\n",
        "question_relevance_critique_prompt = \"\"\"\n",
        "You will be given a question.\n",
        "Your task is to provide a 'total rating' representing how useful this question can be to Computational Astrophysicists building simulations using the astropy package.\n",
        "Give your answer on a scale of 1 to 5, where 1 means that the question is not useful at all, and 5 means that the question is extremely useful.\n",
        "\n",
        "Provide your answer as follows:\n",
        "\n",
        "Answer:::\n",
        "Evaluation: (your rationale for the rating, as a text)\n",
        "Total rating: (your rating, as a number between 1 and 5)\n",
        "\n",
        "You MUST provide values for 'Evaluation:' and 'Total rating:' in your answer.\n",
        "\n",
        "Now here is the question.\n",
        "\n",
        "Question: {question}\\n\n",
        "Answer::: \"\"\"\n",
        "\n",
        "question_standalone_critique_prompt = \"\"\"\n",
        "You will be given a question.\n",
        "Your task is to provide a 'total rating' representing how context-independent this question is.\n",
        "Give your answer on a scale of 1 to 5, where 1 means that the question depends on additional information to be understood, and 5 means that the question makes sense by itself.\n",
        "For instance, if the question refers to a particular setting, like 'in the context' or 'in the document', the rating must be 1.\n",
        "The questions can contain specific technical nouns or acronyms like Spectroscopy, FITS, CMB or Velocity dispersion and still be a 5: it must simply be clear to an operator with access to documentation what the question is about.\n",
        "\n",
        "For instance, \"What is the name of the module from which the SDSS subpackage is imported?\" should receive a 1, since there is an implicit mention of a context, thus the question is not independent from the context.\n",
        "\n",
        "Provide your answer as follows:\n",
        "\n",
        "Answer:::\n",
        "Evaluation: (your rationale for the rating, as a text)\n",
        "Total rating: (your rating, as a number between 1 and 5)\n",
        "\n",
        "You MUST provide values for 'Evaluation:' and 'Total rating:' in your answer.\n",
        "\n",
        "Now here is the question.\n",
        "\n",
        "Question: {question}\\n\n",
        "Answer::: \"\"\""
      ],
      "metadata": {
        "id": "69JJGabPKOdI"
      },
      "execution_count": 88,
      "outputs": []
    },
    {
      "cell_type": "code",
      "source": [
        "print(\"Generating critique for each QA couple...\")\n",
        "for output in outputs:\n",
        "    evaluations = {\n",
        "        \"groundedness\": call_llm(\n",
        "            llm_client,\n",
        "            question_groundedness_critique_prompt.format(\n",
        "                context=output[\"context\"], question=output[\"question\"]\n",
        "            ),\n",
        "        ),\n",
        "        \"relevance\": call_llm(\n",
        "            llm_client,\n",
        "            question_relevance_critique_prompt.format(question=output[\"question\"]),\n",
        "        ),\n",
        "        \"standalone\": call_llm(\n",
        "            llm_client,\n",
        "            question_standalone_critique_prompt.format(question=output[\"question\"]),\n",
        "        ),\n",
        "    }\n",
        "    try:\n",
        "        for criterion, evaluation in evaluations.items():\n",
        "            score, eval = (\n",
        "                int(evaluation.split(\"Total rating: \")[-1].strip()),\n",
        "                evaluation.split(\"Total rating: \")[-2].split(\"Evaluation: \")[1],\n",
        "            )\n",
        "            output.update(\n",
        "                {\n",
        "                    f\"{criterion}_score\": score,\n",
        "                    f\"{criterion}_eval\": eval,\n",
        "                }\n",
        "            )\n",
        "    except Exception as e:\n",
        "        continue"
      ],
      "metadata": {
        "colab": {
          "base_uri": "https://localhost:8080/"
        },
        "id": "bnk2tQnuPwVH",
        "outputId": "5890992c-34e7-4fc9-ab4f-6acdad15c3e0"
      },
      "execution_count": 89,
      "outputs": [
        {
          "output_type": "stream",
          "name": "stdout",
          "text": [
            "Generating critique for each QA couple...\n"
          ]
        }
      ]
    },
    {
      "cell_type": "code",
      "source": [
        "import pandas as pd\n",
        "\n",
        "pd.set_option(\"display.max_colwidth\", None)\n",
        "\n",
        "generated_questions = pd.DataFrame.from_dict(outputs)\n",
        "\n",
        "# Filter out low rated QA pairs\n",
        "\n",
        "print(\"Evaluation dataset before filtering:\")\n",
        "display(\n",
        "    generated_questions[\n",
        "        [\n",
        "            \"question\",\n",
        "            \"answer\",\n",
        "            \"groundedness_score\",\n",
        "            \"relevance_score\",\n",
        "            \"standalone_score\",\n",
        "        ]\n",
        "    ]\n",
        ")\n",
        "generated_questions = generated_questions.loc[\n",
        "    (generated_questions[\"groundedness_score\"] >= 4)\n",
        "    & (generated_questions[\"relevance_score\"] >= 4)\n",
        "    & (generated_questions[\"standalone_score\"] >= 4)\n",
        "]\n",
        "print(\"============================================\")\n",
        "print(\"Final evaluation dataset:\")\n",
        "display(\n",
        "    generated_questions[\n",
        "        [\n",
        "            \"question\",\n",
        "            \"answer\",\n",
        "            \"groundedness_score\",\n",
        "            \"relevance_score\",\n",
        "            \"standalone_score\",\n",
        "        ]\n",
        "    ]\n",
        ")\n",
        "\n",
        "eval_dataset = datasets.Dataset.from_pandas(\n",
        "    generated_questions, split=\"train\", preserve_index=False\n",
        ")"
      ],
      "metadata": {
        "colab": {
          "base_uri": "https://localhost:8080/",
          "height": 620
        },
        "id": "2niFMkY4P0Xy",
        "outputId": "fec72b37-91e7-4d80-e8cb-72236b6200b9"
      },
      "execution_count": 90,
      "outputs": [
        {
          "output_type": "stream",
          "name": "stdout",
          "text": [
            "Evaluation dataset before filtering:\n"
          ]
        },
        {
          "output_type": "display_data",
          "data": {
            "text/plain": [
              "                                                                                                                                 question  \\\n",
              "0                                                                   What is the given heliographic latitude of the observer in degrees?\\n   \n",
              "1  What is the luminosity distance for a redshift of 0.2 in a wpwaCDM cosmology with H0=70, Om0=0.2, Ode0=0.8, wp=-1.1, wa=0.2, zp=0.5?\\n   \n",
              "2                                              What is the shape of the 'coeff' and 'e' arrays in TParModel with two scalar parameters?\\n   \n",
              "3                                                    What is the format of the Time object in the test_broadcast_not_writable function?\\n   \n",
              "4                                                                                   What is the value of w0 for the FlatwCDM cosmology?\\n   \n",
              "5                                                                       What is the current UTC1 time according to the Astropy library?\\n   \n",
              "6                                    What is the expected unit type for the 'solary' argument in the 'test_kwarg_wrong_unit3' function?\\n   \n",
              "7                                                                  What method is recommended for source separation in the scalar case?\\n   \n",
              "8                                           What are the valid combinations of letters for the first part of a keyword in this context?\\n   \n",
              "9                                                                         In which version of pywcs was the UnitConversion class added?\\n   \n",
              "\n",
              "                                                                                                                                                                                                                       answer  \\\n",
              "0                                                                                                                                                                                             hglt_obs (given in the context)   \n",
              "1                                                                                                                                The luminosity distance for a redshift of 0.2 in the given wpwaCDM cosmology is 1010.81 Mpc.   \n",
              "2                                                                                                                                    The shape of the 'coeff' and 'e' arrays in TParModel with two scalar parameters is (2,).   \n",
              "3                                                                                                                The Time object in the test_broadcast_not_writable function is created with the format \"jd\" and scale \"tai\".   \n",
              "4                                                                                                                                                                         The value of w0 for the FlatwCDM cosmology is -0.5.   \n",
              "5  The current UTC1 time according to the Astropy library is displayed in the context when running the code snippet `Time.now().ut1`. The specific time values are 2019-09-22 08:39:03.812731 and 2019-09-22 08:41:21.588836.   \n",
              "6                                                                              The expected unit type for the 'solary' argument in the 'test_kwarg_wrong_unit3' function is convertible to the given unit type 'solary_unit'.   \n",
              "7                                                                                                                                       The ``separation*`` methods are recommended for source separation in the scalar case.   \n",
              "8                                                                                                           The valid combinations of letters for the first part of a keyword in this context are I1, I2, Z1, Z2, Z3, and Z4.   \n",
              "9                                                                                                                                                                                                          pywcs Version 1.10   \n",
              "\n",
              "   groundedness_score  relevance_score  standalone_score  \n",
              "0                 1.0              NaN               NaN  \n",
              "1                 1.0              NaN               NaN  \n",
              "2                 5.0              NaN               NaN  \n",
              "3                 5.0              1.0               NaN  \n",
              "4                 1.0              NaN               NaN  \n",
              "5                 NaN              NaN               NaN  \n",
              "6                 1.0              1.0               1.0  \n",
              "7                 NaN              NaN               NaN  \n",
              "8                 1.0              NaN               NaN  \n",
              "9                 NaN              NaN               NaN  "
            ],
            "text/html": [
              "\n",
              "  <div id=\"df-e2f31744-e584-415b-b612-e9c3805de1a8\" class=\"colab-df-container\">\n",
              "    <div>\n",
              "<style scoped>\n",
              "    .dataframe tbody tr th:only-of-type {\n",
              "        vertical-align: middle;\n",
              "    }\n",
              "\n",
              "    .dataframe tbody tr th {\n",
              "        vertical-align: top;\n",
              "    }\n",
              "\n",
              "    .dataframe thead th {\n",
              "        text-align: right;\n",
              "    }\n",
              "</style>\n",
              "<table border=\"1\" class=\"dataframe\">\n",
              "  <thead>\n",
              "    <tr style=\"text-align: right;\">\n",
              "      <th></th>\n",
              "      <th>question</th>\n",
              "      <th>answer</th>\n",
              "      <th>groundedness_score</th>\n",
              "      <th>relevance_score</th>\n",
              "      <th>standalone_score</th>\n",
              "    </tr>\n",
              "  </thead>\n",
              "  <tbody>\n",
              "    <tr>\n",
              "      <th>0</th>\n",
              "      <td>What is the given heliographic latitude of the observer in degrees?\\n</td>\n",
              "      <td>hglt_obs (given in the context)</td>\n",
              "      <td>1.0</td>\n",
              "      <td>NaN</td>\n",
              "      <td>NaN</td>\n",
              "    </tr>\n",
              "    <tr>\n",
              "      <th>1</th>\n",
              "      <td>What is the luminosity distance for a redshift of 0.2 in a wpwaCDM cosmology with H0=70, Om0=0.2, Ode0=0.8, wp=-1.1, wa=0.2, zp=0.5?\\n</td>\n",
              "      <td>The luminosity distance for a redshift of 0.2 in the given wpwaCDM cosmology is 1010.81 Mpc.</td>\n",
              "      <td>1.0</td>\n",
              "      <td>NaN</td>\n",
              "      <td>NaN</td>\n",
              "    </tr>\n",
              "    <tr>\n",
              "      <th>2</th>\n",
              "      <td>What is the shape of the 'coeff' and 'e' arrays in TParModel with two scalar parameters?\\n</td>\n",
              "      <td>The shape of the 'coeff' and 'e' arrays in TParModel with two scalar parameters is (2,).</td>\n",
              "      <td>5.0</td>\n",
              "      <td>NaN</td>\n",
              "      <td>NaN</td>\n",
              "    </tr>\n",
              "    <tr>\n",
              "      <th>3</th>\n",
              "      <td>What is the format of the Time object in the test_broadcast_not_writable function?\\n</td>\n",
              "      <td>The Time object in the test_broadcast_not_writable function is created with the format \"jd\" and scale \"tai\".</td>\n",
              "      <td>5.0</td>\n",
              "      <td>1.0</td>\n",
              "      <td>NaN</td>\n",
              "    </tr>\n",
              "    <tr>\n",
              "      <th>4</th>\n",
              "      <td>What is the value of w0 for the FlatwCDM cosmology?\\n</td>\n",
              "      <td>The value of w0 for the FlatwCDM cosmology is -0.5.</td>\n",
              "      <td>1.0</td>\n",
              "      <td>NaN</td>\n",
              "      <td>NaN</td>\n",
              "    </tr>\n",
              "    <tr>\n",
              "      <th>5</th>\n",
              "      <td>What is the current UTC1 time according to the Astropy library?\\n</td>\n",
              "      <td>The current UTC1 time according to the Astropy library is displayed in the context when running the code snippet `Time.now().ut1`. The specific time values are 2019-09-22 08:39:03.812731 and 2019-09-22 08:41:21.588836.</td>\n",
              "      <td>NaN</td>\n",
              "      <td>NaN</td>\n",
              "      <td>NaN</td>\n",
              "    </tr>\n",
              "    <tr>\n",
              "      <th>6</th>\n",
              "      <td>What is the expected unit type for the 'solary' argument in the 'test_kwarg_wrong_unit3' function?\\n</td>\n",
              "      <td>The expected unit type for the 'solary' argument in the 'test_kwarg_wrong_unit3' function is convertible to the given unit type 'solary_unit'.</td>\n",
              "      <td>1.0</td>\n",
              "      <td>1.0</td>\n",
              "      <td>1.0</td>\n",
              "    </tr>\n",
              "    <tr>\n",
              "      <th>7</th>\n",
              "      <td>What method is recommended for source separation in the scalar case?\\n</td>\n",
              "      <td>The ``separation*`` methods are recommended for source separation in the scalar case.</td>\n",
              "      <td>NaN</td>\n",
              "      <td>NaN</td>\n",
              "      <td>NaN</td>\n",
              "    </tr>\n",
              "    <tr>\n",
              "      <th>8</th>\n",
              "      <td>What are the valid combinations of letters for the first part of a keyword in this context?\\n</td>\n",
              "      <td>The valid combinations of letters for the first part of a keyword in this context are I1, I2, Z1, Z2, Z3, and Z4.</td>\n",
              "      <td>1.0</td>\n",
              "      <td>NaN</td>\n",
              "      <td>NaN</td>\n",
              "    </tr>\n",
              "    <tr>\n",
              "      <th>9</th>\n",
              "      <td>In which version of pywcs was the UnitConversion class added?\\n</td>\n",
              "      <td>pywcs Version 1.10</td>\n",
              "      <td>NaN</td>\n",
              "      <td>NaN</td>\n",
              "      <td>NaN</td>\n",
              "    </tr>\n",
              "  </tbody>\n",
              "</table>\n",
              "</div>\n",
              "    <div class=\"colab-df-buttons\">\n",
              "\n",
              "  <div class=\"colab-df-container\">\n",
              "    <button class=\"colab-df-convert\" onclick=\"convertToInteractive('df-e2f31744-e584-415b-b612-e9c3805de1a8')\"\n",
              "            title=\"Convert this dataframe to an interactive table.\"\n",
              "            style=\"display:none;\">\n",
              "\n",
              "  <svg xmlns=\"http://www.w3.org/2000/svg\" height=\"24px\" viewBox=\"0 -960 960 960\">\n",
              "    <path d=\"M120-120v-720h720v720H120Zm60-500h600v-160H180v160Zm220 220h160v-160H400v160Zm0 220h160v-160H400v160ZM180-400h160v-160H180v160Zm440 0h160v-160H620v160ZM180-180h160v-160H180v160Zm440 0h160v-160H620v160Z\"/>\n",
              "  </svg>\n",
              "    </button>\n",
              "\n",
              "  <style>\n",
              "    .colab-df-container {\n",
              "      display:flex;\n",
              "      gap: 12px;\n",
              "    }\n",
              "\n",
              "    .colab-df-convert {\n",
              "      background-color: #E8F0FE;\n",
              "      border: none;\n",
              "      border-radius: 50%;\n",
              "      cursor: pointer;\n",
              "      display: none;\n",
              "      fill: #1967D2;\n",
              "      height: 32px;\n",
              "      padding: 0 0 0 0;\n",
              "      width: 32px;\n",
              "    }\n",
              "\n",
              "    .colab-df-convert:hover {\n",
              "      background-color: #E2EBFA;\n",
              "      box-shadow: 0px 1px 2px rgba(60, 64, 67, 0.3), 0px 1px 3px 1px rgba(60, 64, 67, 0.15);\n",
              "      fill: #174EA6;\n",
              "    }\n",
              "\n",
              "    .colab-df-buttons div {\n",
              "      margin-bottom: 4px;\n",
              "    }\n",
              "\n",
              "    [theme=dark] .colab-df-convert {\n",
              "      background-color: #3B4455;\n",
              "      fill: #D2E3FC;\n",
              "    }\n",
              "\n",
              "    [theme=dark] .colab-df-convert:hover {\n",
              "      background-color: #434B5C;\n",
              "      box-shadow: 0px 1px 3px 1px rgba(0, 0, 0, 0.15);\n",
              "      filter: drop-shadow(0px 1px 2px rgba(0, 0, 0, 0.3));\n",
              "      fill: #FFFFFF;\n",
              "    }\n",
              "  </style>\n",
              "\n",
              "    <script>\n",
              "      const buttonEl =\n",
              "        document.querySelector('#df-e2f31744-e584-415b-b612-e9c3805de1a8 button.colab-df-convert');\n",
              "      buttonEl.style.display =\n",
              "        google.colab.kernel.accessAllowed ? 'block' : 'none';\n",
              "\n",
              "      async function convertToInteractive(key) {\n",
              "        const element = document.querySelector('#df-e2f31744-e584-415b-b612-e9c3805de1a8');\n",
              "        const dataTable =\n",
              "          await google.colab.kernel.invokeFunction('convertToInteractive',\n",
              "                                                    [key], {});\n",
              "        if (!dataTable) return;\n",
              "\n",
              "        const docLinkHtml = 'Like what you see? Visit the ' +\n",
              "          '<a target=\"_blank\" href=https://colab.research.google.com/notebooks/data_table.ipynb>data table notebook</a>'\n",
              "          + ' to learn more about interactive tables.';\n",
              "        element.innerHTML = '';\n",
              "        dataTable['output_type'] = 'display_data';\n",
              "        await google.colab.output.renderOutput(dataTable, element);\n",
              "        const docLink = document.createElement('div');\n",
              "        docLink.innerHTML = docLinkHtml;\n",
              "        element.appendChild(docLink);\n",
              "      }\n",
              "    </script>\n",
              "  </div>\n",
              "\n",
              "\n",
              "<div id=\"df-9265147d-b0df-41d2-848a-b613c3f8ce96\">\n",
              "  <button class=\"colab-df-quickchart\" onclick=\"quickchart('df-9265147d-b0df-41d2-848a-b613c3f8ce96')\"\n",
              "            title=\"Suggest charts\"\n",
              "            style=\"display:none;\">\n",
              "\n",
              "<svg xmlns=\"http://www.w3.org/2000/svg\" height=\"24px\"viewBox=\"0 0 24 24\"\n",
              "     width=\"24px\">\n",
              "    <g>\n",
              "        <path d=\"M19 3H5c-1.1 0-2 .9-2 2v14c0 1.1.9 2 2 2h14c1.1 0 2-.9 2-2V5c0-1.1-.9-2-2-2zM9 17H7v-7h2v7zm4 0h-2V7h2v10zm4 0h-2v-4h2v4z\"/>\n",
              "    </g>\n",
              "</svg>\n",
              "  </button>\n",
              "\n",
              "<style>\n",
              "  .colab-df-quickchart {\n",
              "      --bg-color: #E8F0FE;\n",
              "      --fill-color: #1967D2;\n",
              "      --hover-bg-color: #E2EBFA;\n",
              "      --hover-fill-color: #174EA6;\n",
              "      --disabled-fill-color: #AAA;\n",
              "      --disabled-bg-color: #DDD;\n",
              "  }\n",
              "\n",
              "  [theme=dark] .colab-df-quickchart {\n",
              "      --bg-color: #3B4455;\n",
              "      --fill-color: #D2E3FC;\n",
              "      --hover-bg-color: #434B5C;\n",
              "      --hover-fill-color: #FFFFFF;\n",
              "      --disabled-bg-color: #3B4455;\n",
              "      --disabled-fill-color: #666;\n",
              "  }\n",
              "\n",
              "  .colab-df-quickchart {\n",
              "    background-color: var(--bg-color);\n",
              "    border: none;\n",
              "    border-radius: 50%;\n",
              "    cursor: pointer;\n",
              "    display: none;\n",
              "    fill: var(--fill-color);\n",
              "    height: 32px;\n",
              "    padding: 0;\n",
              "    width: 32px;\n",
              "  }\n",
              "\n",
              "  .colab-df-quickchart:hover {\n",
              "    background-color: var(--hover-bg-color);\n",
              "    box-shadow: 0 1px 2px rgba(60, 64, 67, 0.3), 0 1px 3px 1px rgba(60, 64, 67, 0.15);\n",
              "    fill: var(--button-hover-fill-color);\n",
              "  }\n",
              "\n",
              "  .colab-df-quickchart-complete:disabled,\n",
              "  .colab-df-quickchart-complete:disabled:hover {\n",
              "    background-color: var(--disabled-bg-color);\n",
              "    fill: var(--disabled-fill-color);\n",
              "    box-shadow: none;\n",
              "  }\n",
              "\n",
              "  .colab-df-spinner {\n",
              "    border: 2px solid var(--fill-color);\n",
              "    border-color: transparent;\n",
              "    border-bottom-color: var(--fill-color);\n",
              "    animation:\n",
              "      spin 1s steps(1) infinite;\n",
              "  }\n",
              "\n",
              "  @keyframes spin {\n",
              "    0% {\n",
              "      border-color: transparent;\n",
              "      border-bottom-color: var(--fill-color);\n",
              "      border-left-color: var(--fill-color);\n",
              "    }\n",
              "    20% {\n",
              "      border-color: transparent;\n",
              "      border-left-color: var(--fill-color);\n",
              "      border-top-color: var(--fill-color);\n",
              "    }\n",
              "    30% {\n",
              "      border-color: transparent;\n",
              "      border-left-color: var(--fill-color);\n",
              "      border-top-color: var(--fill-color);\n",
              "      border-right-color: var(--fill-color);\n",
              "    }\n",
              "    40% {\n",
              "      border-color: transparent;\n",
              "      border-right-color: var(--fill-color);\n",
              "      border-top-color: var(--fill-color);\n",
              "    }\n",
              "    60% {\n",
              "      border-color: transparent;\n",
              "      border-right-color: var(--fill-color);\n",
              "    }\n",
              "    80% {\n",
              "      border-color: transparent;\n",
              "      border-right-color: var(--fill-color);\n",
              "      border-bottom-color: var(--fill-color);\n",
              "    }\n",
              "    90% {\n",
              "      border-color: transparent;\n",
              "      border-bottom-color: var(--fill-color);\n",
              "    }\n",
              "  }\n",
              "</style>\n",
              "\n",
              "  <script>\n",
              "    async function quickchart(key) {\n",
              "      const quickchartButtonEl =\n",
              "        document.querySelector('#' + key + ' button');\n",
              "      quickchartButtonEl.disabled = true;  // To prevent multiple clicks.\n",
              "      quickchartButtonEl.classList.add('colab-df-spinner');\n",
              "      try {\n",
              "        const charts = await google.colab.kernel.invokeFunction(\n",
              "            'suggestCharts', [key], {});\n",
              "      } catch (error) {\n",
              "        console.error('Error during call to suggestCharts:', error);\n",
              "      }\n",
              "      quickchartButtonEl.classList.remove('colab-df-spinner');\n",
              "      quickchartButtonEl.classList.add('colab-df-quickchart-complete');\n",
              "    }\n",
              "    (() => {\n",
              "      let quickchartButtonEl =\n",
              "        document.querySelector('#df-9265147d-b0df-41d2-848a-b613c3f8ce96 button');\n",
              "      quickchartButtonEl.style.display =\n",
              "        google.colab.kernel.accessAllowed ? 'block' : 'none';\n",
              "    })();\n",
              "  </script>\n",
              "</div>\n",
              "\n",
              "    </div>\n",
              "  </div>\n"
            ],
            "application/vnd.google.colaboratory.intrinsic+json": {
              "type": "dataframe",
              "summary": "{\n  \"name\": \")\",\n  \"rows\": 10,\n  \"fields\": [\n    {\n      \"column\": \"question\",\n      \"properties\": {\n        \"dtype\": \"string\",\n        \"num_unique_values\": 10,\n        \"samples\": [\n          \"What are the valid combinations of letters for the first part of a keyword in this context?\\n\",\n          \"What is the luminosity distance for a redshift of 0.2 in a wpwaCDM cosmology with H0=70, Om0=0.2, Ode0=0.8, wp=-1.1, wa=0.2, zp=0.5?\\n\",\n          \"What is the current UTC1 time according to the Astropy library?\\n\"\n        ],\n        \"semantic_type\": \"\",\n        \"description\": \"\"\n      }\n    },\n    {\n      \"column\": \"answer\",\n      \"properties\": {\n        \"dtype\": \"string\",\n        \"num_unique_values\": 10,\n        \"samples\": [\n          \"The valid combinations of letters for the first part of a keyword in this context are I1, I2, Z1, Z2, Z3, and Z4.\",\n          \"The luminosity distance for a redshift of 0.2 in the given wpwaCDM cosmology is 1010.81 Mpc.\",\n          \"The current UTC1 time according to the Astropy library is displayed in the context when running the code snippet `Time.now().ut1`. The specific time values are 2019-09-22 08:39:03.812731 and 2019-09-22 08:41:21.588836.\"\n        ],\n        \"semantic_type\": \"\",\n        \"description\": \"\"\n      }\n    },\n    {\n      \"column\": \"groundedness_score\",\n      \"properties\": {\n        \"dtype\": \"number\",\n        \"std\": 1.9518001458970664,\n        \"min\": 1.0,\n        \"max\": 5.0,\n        \"num_unique_values\": 2,\n        \"samples\": [\n          5.0,\n          1.0\n        ],\n        \"semantic_type\": \"\",\n        \"description\": \"\"\n      }\n    },\n    {\n      \"column\": \"relevance_score\",\n      \"properties\": {\n        \"dtype\": \"number\",\n        \"std\": 0.0,\n        \"min\": 1.0,\n        \"max\": 1.0,\n        \"num_unique_values\": 1,\n        \"samples\": [\n          1.0\n        ],\n        \"semantic_type\": \"\",\n        \"description\": \"\"\n      }\n    },\n    {\n      \"column\": \"standalone_score\",\n      \"properties\": {\n        \"dtype\": \"number\",\n        \"std\": null,\n        \"min\": 1.0,\n        \"max\": 1.0,\n        \"num_unique_values\": 1,\n        \"samples\": [\n          1.0\n        ],\n        \"semantic_type\": \"\",\n        \"description\": \"\"\n      }\n    }\n  ]\n}"
            }
          },
          "metadata": {}
        },
        {
          "output_type": "stream",
          "name": "stdout",
          "text": [
            "============================================\n",
            "Final evaluation dataset:\n"
          ]
        },
        {
          "output_type": "display_data",
          "data": {
            "text/plain": [
              "Empty DataFrame\n",
              "Columns: [question, answer, groundedness_score, relevance_score, standalone_score]\n",
              "Index: []"
            ],
            "text/html": [
              "\n",
              "  <div id=\"df-22b0b0ba-f05c-4cb2-8c4a-ee7dee38e10a\" class=\"colab-df-container\">\n",
              "    <div>\n",
              "<style scoped>\n",
              "    .dataframe tbody tr th:only-of-type {\n",
              "        vertical-align: middle;\n",
              "    }\n",
              "\n",
              "    .dataframe tbody tr th {\n",
              "        vertical-align: top;\n",
              "    }\n",
              "\n",
              "    .dataframe thead th {\n",
              "        text-align: right;\n",
              "    }\n",
              "</style>\n",
              "<table border=\"1\" class=\"dataframe\">\n",
              "  <thead>\n",
              "    <tr style=\"text-align: right;\">\n",
              "      <th></th>\n",
              "      <th>question</th>\n",
              "      <th>answer</th>\n",
              "      <th>groundedness_score</th>\n",
              "      <th>relevance_score</th>\n",
              "      <th>standalone_score</th>\n",
              "    </tr>\n",
              "  </thead>\n",
              "  <tbody>\n",
              "  </tbody>\n",
              "</table>\n",
              "</div>\n",
              "    <div class=\"colab-df-buttons\">\n",
              "\n",
              "  <div class=\"colab-df-container\">\n",
              "    <button class=\"colab-df-convert\" onclick=\"convertToInteractive('df-22b0b0ba-f05c-4cb2-8c4a-ee7dee38e10a')\"\n",
              "            title=\"Convert this dataframe to an interactive table.\"\n",
              "            style=\"display:none;\">\n",
              "\n",
              "  <svg xmlns=\"http://www.w3.org/2000/svg\" height=\"24px\" viewBox=\"0 -960 960 960\">\n",
              "    <path d=\"M120-120v-720h720v720H120Zm60-500h600v-160H180v160Zm220 220h160v-160H400v160Zm0 220h160v-160H400v160ZM180-400h160v-160H180v160Zm440 0h160v-160H620v160ZM180-180h160v-160H180v160Zm440 0h160v-160H620v160Z\"/>\n",
              "  </svg>\n",
              "    </button>\n",
              "\n",
              "  <style>\n",
              "    .colab-df-container {\n",
              "      display:flex;\n",
              "      gap: 12px;\n",
              "    }\n",
              "\n",
              "    .colab-df-convert {\n",
              "      background-color: #E8F0FE;\n",
              "      border: none;\n",
              "      border-radius: 50%;\n",
              "      cursor: pointer;\n",
              "      display: none;\n",
              "      fill: #1967D2;\n",
              "      height: 32px;\n",
              "      padding: 0 0 0 0;\n",
              "      width: 32px;\n",
              "    }\n",
              "\n",
              "    .colab-df-convert:hover {\n",
              "      background-color: #E2EBFA;\n",
              "      box-shadow: 0px 1px 2px rgba(60, 64, 67, 0.3), 0px 1px 3px 1px rgba(60, 64, 67, 0.15);\n",
              "      fill: #174EA6;\n",
              "    }\n",
              "\n",
              "    .colab-df-buttons div {\n",
              "      margin-bottom: 4px;\n",
              "    }\n",
              "\n",
              "    [theme=dark] .colab-df-convert {\n",
              "      background-color: #3B4455;\n",
              "      fill: #D2E3FC;\n",
              "    }\n",
              "\n",
              "    [theme=dark] .colab-df-convert:hover {\n",
              "      background-color: #434B5C;\n",
              "      box-shadow: 0px 1px 3px 1px rgba(0, 0, 0, 0.15);\n",
              "      filter: drop-shadow(0px 1px 2px rgba(0, 0, 0, 0.3));\n",
              "      fill: #FFFFFF;\n",
              "    }\n",
              "  </style>\n",
              "\n",
              "    <script>\n",
              "      const buttonEl =\n",
              "        document.querySelector('#df-22b0b0ba-f05c-4cb2-8c4a-ee7dee38e10a button.colab-df-convert');\n",
              "      buttonEl.style.display =\n",
              "        google.colab.kernel.accessAllowed ? 'block' : 'none';\n",
              "\n",
              "      async function convertToInteractive(key) {\n",
              "        const element = document.querySelector('#df-22b0b0ba-f05c-4cb2-8c4a-ee7dee38e10a');\n",
              "        const dataTable =\n",
              "          await google.colab.kernel.invokeFunction('convertToInteractive',\n",
              "                                                    [key], {});\n",
              "        if (!dataTable) return;\n",
              "\n",
              "        const docLinkHtml = 'Like what you see? Visit the ' +\n",
              "          '<a target=\"_blank\" href=https://colab.research.google.com/notebooks/data_table.ipynb>data table notebook</a>'\n",
              "          + ' to learn more about interactive tables.';\n",
              "        element.innerHTML = '';\n",
              "        dataTable['output_type'] = 'display_data';\n",
              "        await google.colab.output.renderOutput(dataTable, element);\n",
              "        const docLink = document.createElement('div');\n",
              "        docLink.innerHTML = docLinkHtml;\n",
              "        element.appendChild(docLink);\n",
              "      }\n",
              "    </script>\n",
              "  </div>\n",
              "\n",
              "\n",
              "    </div>\n",
              "  </div>\n"
            ],
            "application/vnd.google.colaboratory.intrinsic+json": {
              "type": "dataframe",
              "repr_error": "Out of range float values are not JSON compliant: nan"
            }
          },
          "metadata": {}
        }
      ]
    },
    {
      "cell_type": "code",
      "source": [],
      "metadata": {
        "id": "wrQDGL0WRkzW"
      },
      "execution_count": null,
      "outputs": []
    }
  ]
}
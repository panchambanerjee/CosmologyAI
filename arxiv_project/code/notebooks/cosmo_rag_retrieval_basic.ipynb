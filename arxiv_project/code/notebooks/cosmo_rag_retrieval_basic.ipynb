{
 "cells": [
  {
   "cell_type": "markdown",
   "metadata": {},
   "source": [
    "### In this notebook, we build a simple RAG application using the Cosmology data that we download from the Arxiv dataset\n",
    "\n",
    "### The notebook is divided into 2 parts::\n",
    "* **Part 1**: We test out a minimal RAG chatbot (No memory) with the Context augmented LLM with several of the latest Cosmology papers from Arxiv (that are not a part of the training corpus of the model, as of March, 2024)\n",
    "* **Part 2**: We try a context retrieval search \n",
    "\n",
    "### Techstack: \n",
    "* LangChain - Framework\n",
    "* Mixtral-8x7B from NVIDIA - LLM \n",
    "* Chromadb - Vector database\n",
    "* all-MiniLM-L6-v2 - Embedding Model"
   ]
  },
  {
   "cell_type": "code",
   "execution_count": 1,
   "metadata": {},
   "outputs": [],
   "source": [
    "import pandas as pd\n",
    "import textwrap\n",
    "from openai import OpenAI\n",
    "\n",
    "from langchain_community.vectorstores import Chroma\n",
    "from langchain_nvidia_ai_endpoints import ChatNVIDIA\n",
    "from langchain.embeddings import HuggingFaceEmbeddings\n",
    "\n",
    "from langchain_core.prompts import ChatPromptTemplate\n",
    "from langchain.chains import create_retrieval_chain\n",
    "from langchain_core.runnables import RunnablePassthrough\n",
    "from langchain_core.output_parsers import StrOutputParser"
   ]
  },
  {
   "cell_type": "code",
   "execution_count": 2,
   "metadata": {},
   "outputs": [],
   "source": [
    "import os\n",
    "\n",
    "from dotenv import load_dotenv, find_dotenv\n",
    "_ = load_dotenv(find_dotenv()) # read local .env file\n",
    "\n",
    "# openai_api_key = os.environ['OPENAI_API_KEY']\n",
    "# hf_api_key = os.environ['HF_API_KEY']\n",
    "\n",
    "groq_api_key = os.environ['GROQ_API_KEY']\n",
    "nvidia_api_key = os.environ['NVIDIA_API_KEY']   "
   ]
  },
  {
   "cell_type": "markdown",
   "metadata": {},
   "source": [
    "### Load in the vectordB that we build with the ~66k arxiv cosmology title+abstracts"
   ]
  },
  {
   "cell_type": "code",
   "execution_count": 3,
   "metadata": {},
   "outputs": [
    {
     "name": "stderr",
     "output_type": "stream",
     "text": [
      "/Users/panchamb/miniforge3/envs/env-rag/lib/python3.10/site-packages/tqdm/auto.py:21: TqdmWarning: IProgress not found. Please update jupyter and ipywidgets. See https://ipywidgets.readthedocs.io/en/stable/user_install.html\n",
      "  from .autonotebook import tqdm as notebook_tqdm\n"
     ]
    }
   ],
   "source": [
    "# Get the embedding model, we need this again to load in the persisted vectordb\n",
    "\n",
    "model_name = \"sentence-transformers/all-MiniLM-l6-v2\" #\"BAAI/bge-small-en-v1.5\"#\"sentence-transformers/all-MiniLM-l6-v2\" #\"sentence-transformers/all-mpnet-base-v2\"\n",
    "# bge-base-en-v1.5 or bge-small taking too much time for all the cosmo docs, ~66k\n",
    "model_kwargs = {\"device\": \"cpu\"} # Since we are running on local machine, we will use CPU\n",
    "\n",
    "embeddings = HuggingFaceEmbeddings(model_name=model_name, model_kwargs=model_kwargs)"
   ]
  },
  {
   "cell_type": "code",
   "execution_count": 4,
   "metadata": {},
   "outputs": [],
   "source": [
    "vectordb = Chroma(persist_directory='./arxiv_cosmo_chroma_db', embedding_function=embeddings)\n",
    "retriever = vectordb.as_retriever()"
   ]
  },
  {
   "cell_type": "markdown",
   "metadata": {},
   "source": [
    "## Part 1: Test out a minimal RAG \"chatbot\" (No memory) with the given context"
   ]
  },
  {
   "cell_type": "markdown",
   "metadata": {},
   "source": [
    "### Load in Mixtral 8x7B from the LangChain and NVIDIA integration, and build the RAG application\n",
    "https://build.nvidia.com/mistralai/mixtral-8x7b-instruct"
   ]
  },
  {
   "cell_type": "code",
   "execution_count": 5,
   "metadata": {},
   "outputs": [],
   "source": [
    "llm = ChatNVIDIA(model=\"mixtral_8x7b\")\n",
    "\n",
    "rag_template = \"\"\"Answer the question based only on the following context:\n",
    "{context}\n",
    "Question: {question}\n",
    "\"\"\"\n",
    "rag_prompt = ChatPromptTemplate.from_template(rag_template)\n",
    "rag_chain = (\n",
    "    {\"context\": retriever, \"question\": RunnablePassthrough()}\n",
    "    | rag_prompt\n",
    "    | llm\n",
    "    | StrOutputParser()\n",
    ")"
   ]
  },
  {
   "cell_type": "code",
   "execution_count": 6,
   "metadata": {},
   "outputs": [
    {
     "name": "stdout",
     "output_type": "stream",
     "text": [
      "A galaxy cluster is a large-scale structure in the universe consisting of\n",
      "hundreds to thousands of galaxies, dark matter, and hot gas that fills the space\n",
      "in between the galaxies. They are the most massive gravitationally bound objects\n",
      "in the universe. The hot gas in the cluster can be studied through its X-ray\n",
      "emission, which is produced as the gas is heated to high temperatures by the\n",
      "deep gravitational potential of the cluster. The study of galaxy clusters is\n",
      "important for understanding the formation and evolution of large-scale\n",
      "structures in the universe, as well as the properties of dark matter and dark\n",
      "energy.\n"
     ]
    }
   ],
   "source": [
    "# Test it out\n",
    "\n",
    "response = rag_chain.invoke(\"What is a Galaxy Cluster?\")\n",
    "print(textwrap.fill(response, width=80))"
   ]
  },
  {
   "cell_type": "code",
   "execution_count": 7,
   "metadata": {},
   "outputs": [
    {
     "name": "stdout",
     "output_type": "stream",
     "text": [
      "The cosmological constant is a term in Einstein's field equations of general\n",
      "relativity that represents the energy density of empty space. It is often\n",
      "associated with the concept of dark energy, which is thought to be responsible\n",
      "for the observed accelerated expansion of the universe. However, the nature and\n",
      "precise value of the cosmological constant are still active areas of research in\n",
      "cosmology and theoretical physics. The documents provided discuss various\n",
      "aspects of the cosmological constant, including its role in cosmological\n",
      "perturbation theory, its impact on the cosmological evolution of anisotropic\n",
      "universes, and the possibility of time-dependent dark energy as an alternative\n",
      "to the cosmological constant.\n"
     ]
    }
   ],
   "source": [
    "response = rag_chain.invoke(\"What is the Cosmological Constant?\")\n",
    "print(textwrap.fill(response, width=80))"
   ]
  },
  {
   "cell_type": "markdown",
   "metadata": {},
   "source": [
    "### We will evaluate this properly later, but as a sanity check, let's test out the same queries on the Mixtral 8x7B model without any RAG context"
   ]
  },
  {
   "cell_type": "code",
   "execution_count": 8,
   "metadata": {},
   "outputs": [],
   "source": [
    "# Define the method\n",
    "def query_no_context(question):\n",
    "    client = OpenAI(\n",
    "        base_url=\"https://integrate.api.nvidia.com/v1\",\n",
    "        api_key=nvidia_api_key  # Make sure 'nvidia_api_key' is defined or passed as an argument\n",
    "    )\n",
    "\n",
    "    completion = client.chat.completions.create(\n",
    "        model=\"mistralai/mixtral-8x7b-instruct-v0.1\",\n",
    "        messages=[{\"role\": \"user\", \"content\": question}],\n",
    "        temperature=0.5,\n",
    "        top_p=1,\n",
    "        max_tokens=1024,\n",
    "        stream=True\n",
    "    )\n",
    "\n",
    "    output = \"\"\n",
    "    for chunk in completion:\n",
    "        if chunk.choices[0].delta.content is not None:\n",
    "            output += chunk.choices[0].delta.content\n",
    "\n",
    "    # `output` contains the complete summed up output.\n",
    "    return output\n"
   ]
  },
  {
   "cell_type": "code",
   "execution_count": 9,
   "metadata": {},
   "outputs": [
    {
     "name": "stderr",
     "output_type": "stream",
     "text": [
      "huggingface/tokenizers: The current process just got forked, after parallelism has already been used. Disabling parallelism to avoid deadlocks...\n",
      "To disable this warning, you can either:\n",
      "\t- Avoid using `tokenizers` before the fork if possible\n",
      "\t- Explicitly set the environment variable TOKENIZERS_PARALLELISM=(true | false)\n"
     ]
    },
    {
     "name": "stdout",
     "output_type": "stream",
     "text": [
      " A galaxy cluster is a large collection of galaxies bound together by gravity.\n",
      "It is the largest known gravitationally bound structure in the universe and can\n",
      "contain hundreds to thousands of galaxies, along with hot gas and dark matter.\n",
      "Galaxy clusters are typically classified into several types based on their\n",
      "properties, such as their X-ray emission, mass, and distribution of galaxies.\n",
      "Some common types of galaxy clusters include cool-core clusters, non-cool-core\n",
      "clusters, and fossil groups.  Cool-core clusters have a high density of hot gas\n",
      "in their centers, which emits X-rays. Non-cool-core clusters, on the other hand,\n",
      "have lower densities of hot gas in their centers and do not exhibit the same\n",
      "level of X-ray emission. Fossil groups are galaxy clusters that have a large\n",
      "amount of dark matter and a dominant, bright elliptical galaxy, but lack a\n",
      "significant number of other galaxies.  Galaxy clusters are important for\n",
      "studying the large-scale structure of the universe and the properties of dark\n",
      "matter. They are also useful for understanding the formation and evolution of\n",
      "galaxies, as the environment within a cluster can have a significant impact on\n",
      "the properties of the galaxies it contains.\n"
     ]
    }
   ],
   "source": [
    "# Example usage\n",
    "print(textwrap.fill(query_no_context(\"What is a Galaxy Cluster?\"), width=80))"
   ]
  },
  {
   "cell_type": "code",
   "execution_count": 10,
   "metadata": {},
   "outputs": [
    {
     "name": "stdout",
     "output_type": "stream",
     "text": [
      " The cosmological constant is a term that was originally included in Einstein's\n",
      "equations of general relativity to allow for a static, unchanging universe. At\n",
      "the time, it was believed that the universe was static and eternal, and\n",
      "Einstein's equations predicted that the universe should either be expanding or\n",
      "contracting. To reconcile this discrepancy, Einstein introduced the cosmological\n",
      "constant as a repulsive force that would counteract the attractive force of\n",
      "gravity and keep the universe static.  However, subsequent observations by Edwin\n",
      "Hubble and others showed that the universe is actually expanding, and the\n",
      "cosmological constant was abandoned by many physicists. In recent years,\n",
      "however, the cosmological constant has made a comeback in the form of dark\n",
      "energy, a mysterious substance that is thought to be responsible for the\n",
      "accelerated expansion of the universe.  The cosmological constant is often\n",
      "associated with the energy of empty space, or vacuum energy, and it is measured\n",
      "to be very small but nonzero. However, the exact value of the cosmological\n",
      "constant is still not well understood, and it remains one of the biggest\n",
      "mysteries in modern physics.\n"
     ]
    }
   ],
   "source": [
    "# Example usage\n",
    "print(textwrap.fill(query_no_context(\"What is the Cosmological Constant?\"), width=80))"
   ]
  },
  {
   "cell_type": "markdown",
   "metadata": {},
   "source": [
    "### The problem with these 2 questions (Galaxy Cluster, Cosmological Constant) is that they are well-established areas of research and were likely present in whatever corpus was used to train the Mixtral 8x7B model. Let us instead check how well the context augmentation is working by asking a question from a more recent paper"
   ]
  },
  {
   "cell_type": "code",
   "execution_count": 11,
   "metadata": {},
   "outputs": [
    {
     "data": {
      "text/html": [
       "<div>\n",
       "<style scoped>\n",
       "    .dataframe tbody tr th:only-of-type {\n",
       "        vertical-align: middle;\n",
       "    }\n",
       "\n",
       "    .dataframe tbody tr th {\n",
       "        vertical-align: top;\n",
       "    }\n",
       "\n",
       "    .dataframe thead th {\n",
       "        text-align: right;\n",
       "    }\n",
       "</style>\n",
       "<table border=\"1\" class=\"dataframe\">\n",
       "  <thead>\n",
       "    <tr style=\"text-align: right;\">\n",
       "      <th></th>\n",
       "      <th>id</th>\n",
       "      <th>title</th>\n",
       "      <th>abstract</th>\n",
       "      <th>categories</th>\n",
       "      <th>cat_text</th>\n",
       "      <th>prepared_text</th>\n",
       "    </tr>\n",
       "  </thead>\n",
       "  <tbody>\n",
       "    <tr>\n",
       "      <th>21664</th>\n",
       "      <td>2403.13068</td>\n",
       "      <td>Compatibility of JWST results with exotic halos</td>\n",
       "      <td>The James Webb Space Telescope (JWST) is unvei...</td>\n",
       "      <td>astro-ph.CO</td>\n",
       "      <td>Cosmology and Nongalactic Astrophysics</td>\n",
       "      <td>Compatibility of JWST results with exotic halo...</td>\n",
       "    </tr>\n",
       "    <tr>\n",
       "      <th>21665</th>\n",
       "      <td>2403.13418</td>\n",
       "      <td>Constraint on magnetized galactic outflows fro...</td>\n",
       "      <td>Outflows from galaxies, driven by active galac...</td>\n",
       "      <td>astro-ph.CO</td>\n",
       "      <td>Cosmology and Nongalactic Astrophysics</td>\n",
       "      <td>Constraint on magnetized galactic outflows fro...</td>\n",
       "    </tr>\n",
       "    <tr>\n",
       "      <th>21666</th>\n",
       "      <td>2403.13709</td>\n",
       "      <td>New measurements of $E_G$: Testing General Rel...</td>\n",
       "      <td>We combine measurements of galaxy velocities f...</td>\n",
       "      <td>astro-ph.CO</td>\n",
       "      <td>Cosmology and Nongalactic Astrophysics</td>\n",
       "      <td>New measurements of $E_G$: Testing General Rel...</td>\n",
       "    </tr>\n",
       "    <tr>\n",
       "      <th>21667</th>\n",
       "      <td>2403.13768</td>\n",
       "      <td>Disentangling the anisotropic radio sky: Fishe...</td>\n",
       "      <td>The existence of a radio synchrotron backgroun...</td>\n",
       "      <td>astro-ph.CO</td>\n",
       "      <td>Cosmology and Nongalactic Astrophysics</td>\n",
       "      <td>Disentangling the anisotropic radio sky: Fishe...</td>\n",
       "    </tr>\n",
       "    <tr>\n",
       "      <th>21668</th>\n",
       "      <td>2403.13794</td>\n",
       "      <td>Cosmic shear with small scales: DES-Y3, KiDS-1...</td>\n",
       "      <td>We present a cosmological analysis of the comb...</td>\n",
       "      <td>astro-ph.CO</td>\n",
       "      <td>Cosmology and Nongalactic Astrophysics</td>\n",
       "      <td>Cosmic shear with small scales: DES-Y3, KiDS-1...</td>\n",
       "    </tr>\n",
       "    <tr>\n",
       "      <th>21669</th>\n",
       "      <td>2403.13885</td>\n",
       "      <td>The DEHVILS in the Details: Type Ia Supernova ...</td>\n",
       "      <td>Measurements of Type Ia Supernovae (SNe Ia) in...</td>\n",
       "      <td>astro-ph.CO</td>\n",
       "      <td>Cosmology and Nongalactic Astrophysics</td>\n",
       "      <td>The DEHVILS in the Details: Type Ia Supernova ...</td>\n",
       "    </tr>\n",
       "    <tr>\n",
       "      <th>21670</th>\n",
       "      <td>2403.14060</td>\n",
       "      <td>Inferring astrophysical parameters using the 2...</td>\n",
       "      <td>Enlightening our understanding of the first ga...</td>\n",
       "      <td>astro-ph.CO</td>\n",
       "      <td>Cosmology and Nongalactic Astrophysics</td>\n",
       "      <td>Inferring astrophysical parameters using the 2...</td>\n",
       "    </tr>\n",
       "    <tr>\n",
       "      <th>21671</th>\n",
       "      <td>2403.14061</td>\n",
       "      <td>Exploring the role of the halo mass function f...</td>\n",
       "      <td>The detection of the 21-cm signal at $z\\gtrsim...</td>\n",
       "      <td>astro-ph.CO</td>\n",
       "      <td>Cosmology and Nongalactic Astrophysics</td>\n",
       "      <td>Exploring the role of the halo mass function f...</td>\n",
       "    </tr>\n",
       "    <tr>\n",
       "      <th>21672</th>\n",
       "      <td>2403.14165</td>\n",
       "      <td>Improving SDSS Cosmological Constraints throug...</td>\n",
       "      <td>The $\\beta$-skeleton approach can be convenien...</td>\n",
       "      <td>astro-ph.CO</td>\n",
       "      <td>Cosmology and Nongalactic Astrophysics</td>\n",
       "      <td>Improving SDSS Cosmological Constraints throug...</td>\n",
       "    </tr>\n",
       "    <tr>\n",
       "      <th>21673</th>\n",
       "      <td>2403.14580</td>\n",
       "      <td>Tomographic redshift dipole: Testing the cosmo...</td>\n",
       "      <td>The cosmological principle posits that the uni...</td>\n",
       "      <td>astro-ph.CO</td>\n",
       "      <td>Cosmology and Nongalactic Astrophysics</td>\n",
       "      <td>Tomographic redshift dipole: Testing the cosmo...</td>\n",
       "    </tr>\n",
       "  </tbody>\n",
       "</table>\n",
       "</div>"
      ],
      "text/plain": [
       "               id                                              title  \\\n",
       "21664  2403.13068    Compatibility of JWST results with exotic halos   \n",
       "21665  2403.13418  Constraint on magnetized galactic outflows fro...   \n",
       "21666  2403.13709  New measurements of $E_G$: Testing General Rel...   \n",
       "21667  2403.13768  Disentangling the anisotropic radio sky: Fishe...   \n",
       "21668  2403.13794  Cosmic shear with small scales: DES-Y3, KiDS-1...   \n",
       "21669  2403.13885  The DEHVILS in the Details: Type Ia Supernova ...   \n",
       "21670  2403.14060  Inferring astrophysical parameters using the 2...   \n",
       "21671  2403.14061  Exploring the role of the halo mass function f...   \n",
       "21672  2403.14165  Improving SDSS Cosmological Constraints throug...   \n",
       "21673  2403.14580  Tomographic redshift dipole: Testing the cosmo...   \n",
       "\n",
       "                                                abstract   categories  \\\n",
       "21664  The James Webb Space Telescope (JWST) is unvei...  astro-ph.CO   \n",
       "21665  Outflows from galaxies, driven by active galac...  astro-ph.CO   \n",
       "21666  We combine measurements of galaxy velocities f...  astro-ph.CO   \n",
       "21667  The existence of a radio synchrotron backgroun...  astro-ph.CO   \n",
       "21668  We present a cosmological analysis of the comb...  astro-ph.CO   \n",
       "21669  Measurements of Type Ia Supernovae (SNe Ia) in...  astro-ph.CO   \n",
       "21670  Enlightening our understanding of the first ga...  astro-ph.CO   \n",
       "21671  The detection of the 21-cm signal at $z\\gtrsim...  astro-ph.CO   \n",
       "21672  The $\\beta$-skeleton approach can be convenien...  astro-ph.CO   \n",
       "21673  The cosmological principle posits that the uni...  astro-ph.CO   \n",
       "\n",
       "                                     cat_text  \\\n",
       "21664  Cosmology and Nongalactic Astrophysics   \n",
       "21665  Cosmology and Nongalactic Astrophysics   \n",
       "21666  Cosmology and Nongalactic Astrophysics   \n",
       "21667  Cosmology and Nongalactic Astrophysics   \n",
       "21668  Cosmology and Nongalactic Astrophysics   \n",
       "21669  Cosmology and Nongalactic Astrophysics   \n",
       "21670  Cosmology and Nongalactic Astrophysics   \n",
       "21671  Cosmology and Nongalactic Astrophysics   \n",
       "21672  Cosmology and Nongalactic Astrophysics   \n",
       "21673  Cosmology and Nongalactic Astrophysics   \n",
       "\n",
       "                                           prepared_text  \n",
       "21664  Compatibility of JWST results with exotic halo...  \n",
       "21665  Constraint on magnetized galactic outflows fro...  \n",
       "21666  New measurements of $E_G$: Testing General Rel...  \n",
       "21667  Disentangling the anisotropic radio sky: Fishe...  \n",
       "21668  Cosmic shear with small scales: DES-Y3, KiDS-1...  \n",
       "21669  The DEHVILS in the Details: Type Ia Supernova ...  \n",
       "21670  Inferring astrophysical parameters using the 2...  \n",
       "21671  Exploring the role of the halo mass function f...  \n",
       "21672  Improving SDSS Cosmological Constraints throug...  \n",
       "21673  Tomographic redshift dipole: Testing the cosmo...  "
      ]
     },
     "execution_count": 11,
     "metadata": {},
     "output_type": "execute_result"
    }
   ],
   "source": [
    "df_data = pd.read_csv('arxiv_astro-ph_data_cosmo.csv')\n",
    "df_data = df_data.loc[df_data['categories']=='astro-ph.CO']\n",
    "\n",
    "df_data = df_data.reset_index(drop=True)\n",
    "\n",
    "df_data.tail(10) # 10 most recent Cosmology papers in the dataset, not cross-disciplinary"
   ]
  },
  {
   "cell_type": "code",
   "execution_count": 12,
   "metadata": {},
   "outputs": [
    {
     "name": "stdout",
     "output_type": "stream",
     "text": [
      "Compatibility of JWST results with exotic halos \n",
      " The James Webb Space Telescope (JWST) is unveiling astounding results about the first few hundred million years of life of the Universe, delivering images of galaxies at very high redshifts. Here, we develop a UV luminosity function model for high-redshift galaxies, considering parameters such as the stellar formation rate, dust extinction, and halo mass function. Calibration of this luminosity function model using UV luminosity data at redshifts z = 4-7 yields optimal parameter values. Testing the model against data at higher redshifts reveals successful accommodation of the data at z = 8-9, but challenges emerge at z~13. Our findings suggest a negligible role of dust extinction at the highest redshifts, prompting a modification of the stellar formation rate to incorporate a larger fraction of luminous objects per massive halo, consistently with similar recent studies. This effect could be attributed to mundane explanations such as unknown evolution of standard astrophysics at high redshift or to the existence of exotic objects at high redshift. We comment on this latter possibility.\n"
     ]
    }
   ],
   "source": [
    "print(df_data.loc[df_data['id']=='2403.13068']['prepared_text'].iloc[0]) # Q1"
   ]
  },
  {
   "cell_type": "code",
   "execution_count": 13,
   "metadata": {},
   "outputs": [
    {
     "name": "stdout",
     "output_type": "stream",
     "text": [
      "New measurements of $E_G$: Testing General Relativity with the Weyl   potential and galaxy velocities \n",
      " We combine measurements of galaxy velocities from galaxy surveys with measurements of the Weyl potential from the Dark Energy Survey to test the consistency of General Relativity at cosmological scales. Taking the ratio of two model-independent observables - the growth rate of structure and the Weyl potential - we obtain new measurements of the $E_G$ statistic with precision of $5.8-10.7\\%$ at four different redshifts. These measurements provide a considerable improvement to past measurements of $E_G$. They confirm the validity of General Relativity at three redshifts, while displaying a tension of $2.5\\sigma$ at $z=0.47$ as a consequence of the tension found in the measurements of the Weyl potential. Contrary to conventional methods that rely on a common galaxy sample with spectroscopic resolution to measure two types of correlations, we directly combine two observables that are independent of the galaxy bias. This provides a novel approach to testing the relation between the geometry of our Universe and the motion of galaxies with improved precision.\n"
     ]
    }
   ],
   "source": [
    "print(df_data.loc[df_data['id']=='2403.13709']['prepared_text'].iloc[0]) # Q2"
   ]
  },
  {
   "cell_type": "code",
   "execution_count": 14,
   "metadata": {},
   "outputs": [
    {
     "name": "stdout",
     "output_type": "stream",
     "text": [
      "Tomographic redshift dipole: Testing the cosmological principle \n",
      " The cosmological principle posits that the universe is statistically homogeneous and isotropic on large scales, implying all matter share the same rest frame. This principle suggests that velocity estimates of our motion from various sources should agree with the cosmic microwave background (CMB) dipole's inferred velocity of 370 km/s. Yet, for over two decades, analyses of different radio galaxy and quasar catalogs have reported velocities with amplitudes in notable tension with the CMB dipole. In a blind analysis of BOSS and eBOSS spectroscopic data from galaxies and quasars across $0.2<z<2.2$, we applied a novel dipole estimator for a tomographic approach, robustly correcting biases and quantifying uncertainties with state-of-the-art mock catalogs. Our results, indicating a velocity of $v = 353^{+123}_{-111}$ km/s, closely align with the CMB dipole, demonstrating a $1.4\\sigma$ agreement. This finding provides significant empirical support for the cosmological principle, affirming our motion's consistency with the CMB across vast cosmic distances.\n"
     ]
    }
   ],
   "source": [
    "print(df_data.loc[df_data['id']=='2403.14580']['prepared_text'].iloc[0]) # Q3"
   ]
  },
  {
   "cell_type": "markdown",
   "metadata": {},
   "source": [
    "### Now, let us test out these questions one by one "
   ]
  },
  {
   "cell_type": "markdown",
   "metadata": {},
   "source": [
    "#### Q1. JWST and exotic high-z objects"
   ]
  },
  {
   "cell_type": "code",
   "execution_count": 15,
   "metadata": {},
   "outputs": [
    {
     "name": "stdout",
     "output_type": "stream",
     "text": [
      " The James Webb Space Telescope (JWST), set to launch in 2021, will be a powerful tool for observing the universe,\n",
      "especially exotic objects at high redshift. Redshift is a measure of how much an object's light has been stretched out\n",
      "by the expansion of the universe, with higher redshifts corresponding to objects that are farther away and observed from\n",
      "earlier times in the universe's history.  Exotic objects at high redshift include the first generation of stars, known\n",
      "as Population III stars, as well as black holes, galaxies, and other cosmic phenomena that formed in the early universe.\n",
      "These objects are of particular interest to astronomers because they can provide insights into the conditions and\n",
      "processes that governed the universe's formation and evolution.  The JWST will be able to observe exotic objects at high\n",
      "redshift in several ways. First, its large mirror and advanced instruments will allow it to collect more light from\n",
      "faint, distant objects than previous telescopes. This increased sensitivity will enable the JWST to detect and study\n",
      "objects that are too faint to be observed with current technology.  Second, the JWST's infrared capabilities will be\n",
      "particularly useful for observing high-redshift objects. Because the universe has been expanding for billions of years,\n",
      "light from distant objects has been stretched out to longer, redder wavelengths. By observing in the infrared, the JWST\n",
      "will be able to detect this stretched-out light and use it to study the properties of the objects that emitted it.\n",
      "Third, the JWST's high-resolution imaging capabilities will allow it to distinguish between different objects that are\n",
      "close together in the sky. This will be especially important for studying high-redshift galaxies, which are often\n",
      "clustered together in groups and clusters.  By observing exotic objects at high redshift, the JWST will help astronomers\n",
      "answer fundamental questions about the universe's formation and evolution. For example, it may provide insights into the\n",
      "nature of dark matter and dark energy, the processes that govern galaxy formation, and the conditions that existed in\n",
      "the early universe. It may also help us understand the origins of the elements and the history of star formation in the\n",
      "universe.  In summary, the James Webb Space Telescope will be a powerful tool for observing exotic objects at high\n",
      "redshift, providing insights into the conditions and processes that governed the universe's formation and evolution. Its\n",
      "large mirror, infrared capabilities, and high-resolution imaging will allow it to detect and study objects that are too\n",
      "faint, too red, or too clustered to be observed with current technology.\n"
     ]
    }
   ],
   "source": [
    "# No Context\n",
    "\n",
    "print(textwrap.fill(query_no_context(\"What does the James Webb Space Telescope tell us about exotic objects at high redshift?\"), width=120))"
   ]
  },
  {
   "cell_type": "code",
   "execution_count": 16,
   "metadata": {},
   "outputs": [
    {
     "name": "stdout",
     "output_type": "stream",
     "text": [
      "Based on the provided documents, the James Webb Space Telescope (JWST) is expected to revolutionize our understanding of\n",
      "the high-redshift Universe, including exotic objects such as population III stars, dark stars, and population III\n",
      "galaxies. However, many of these sources are likely to be intrinsically too faint for JWST to detect directly. To\n",
      "improve the chances of detecting these exotic objects, researchers propose pointing JWST through foreground lensing\n",
      "clusters, which can reach significantly deeper than the currently planned JWST ultra deep field in just a fraction of\n",
      "the exposure time, although at the expense of probing a much smaller volume of the high-redshift Universe.\n",
      "Additionally, researchers have developed a spectral synthesis code called Yggdrasil to model the first galaxies and\n",
      "derive the masses of the faintest pop I, II, and III galaxies that can be detected through broadband imaging in JWST\n",
      "ultra deep fields.  The JWST may also help detect high-redshift dark stars, which are predicted to be cooler, larger,\n",
      "more massive, and potentially more long-lived than conventional population III stars. However, dark stars at z>6 are\n",
      "intrinsically too faint to be detected by JWST. By exploiting foreground galaxy clusters as gravitational telescopes,\n",
      "certain varieties of cool (Teff < 30000 K) dark stars should be within reach at redshifts up to z=10. If the lifetimes\n",
      "of dark stars are sufficiently long, many such objects may also congregate inside the first galaxies, giving rise to\n",
      "peculiar features in the integrated spectra of galaxies at high redshifts, provided that dark stars make up at least 1\n",
      "percent of the total stellar mass in such objects.\n"
     ]
    }
   ],
   "source": [
    "# With context\n",
    "\n",
    "print(textwrap.fill(rag_chain.invoke(\"What does the James Webb Space Telescope tell us about exotic objects at high redshift?\"), width=120))"
   ]
  },
  {
   "cell_type": "markdown",
   "metadata": {},
   "source": [
    "#### Q2. Testing General Relativity with the Weyl potential"
   ]
  },
  {
   "cell_type": "code",
   "execution_count": 17,
   "metadata": {},
   "outputs": [
    {
     "name": "stdout",
     "output_type": "stream",
     "text": [
      " The Weyl potential is a scalar potential that describes the curvature of spACetime and is often used to study the\n",
      "behavior of gravitational systems on large scales, such as in cosmology. In general relativity (GR), the Weyl potential\n",
      "is related to the matter Lagrangian through the Einstein field equations. Therefore, one way to test GR at cosmological\n",
      "scales with the Weyl potential is to compare the predictions of GR for the Weyl potential with observations of the\n",
      "large-scale structure of the universe.  One approach to doing this is to use observations of the cosmic microwave\n",
      "background (CMB) radiation, which is the afterglow of the Big Bang and provides a snapshot of the universe when it was\n",
      "only 380,000 years old. The CMB is sensitive to the curvature of spACetime on large scales, and so it provides a way to\n",
      "measure the Weyl potential at early times. By comparing the measured CMB power spectrum with the predictions of GR for\n",
      "the Weyl potential, it is possible to test the validity of GR on cosmological scales.  Another approach is to use\n",
      "observations of the large-scale structure of the universe, which is determined by the distribution of matter on large\n",
      "scales. The large-scale structure is sensitive to the Weyl potential, and so by comparing the measured distribution of\n",
      "matter with the predictions of GR for the Weyl potential, it is possible to test the validity of GR on cosmological\n",
      "scales.  There are also other ways to test GR at cosmological scales with the Weyl potential, such as by using\n",
      "observations of gravitational lensing, which is the bending of light by gravity. Gravitational lensing is sensitive to\n",
      "the Weyl potential, and so by comparing the measured lensing signal with the predictions of GR for the Weyl potential,\n",
      "it is possible to test the validity of GR on cosmological scales.  Overall, there are several ways to test GR at\n",
      "cosmological scales with the Weyl potential, and these tests can provide important insights into the nature of gravity\n",
      "on large scales.\n"
     ]
    }
   ],
   "source": [
    "# No context\n",
    "\n",
    "print(textwrap.fill(query_no_context(\"How can we test GR at cosmological scales with the Weyl potential\"), width=120))"
   ]
  },
  {
   "cell_type": "code",
   "execution_count": 18,
   "metadata": {},
   "outputs": [
    {
     "name": "stdout",
     "output_type": "stream",
     "text": [
      "We can test General Relativity (GR) at cosmological scales with the Weyl potential by combining measurements of galaxy\n",
      "velocities from galaxy surveys with measurements of the Weyl potential from the Dark Energy Survey. By taking the ratio\n",
      "of two model-independent observables - the growth rate of structure and the Weyl potential - we can obtain new\n",
      "measurements of the $E_G$ statistic with improved precision. These measurements can confirm the validity of GR at\n",
      "certain redshifts, while also displaying any tensions that may exist as a result of differences in the measurements of\n",
      "the Weyl potential. Additionally, by directly combining two observables that are independent of the galaxy bias, we can\n",
      "test the relation between the geometry of our Universe and the motion of galaxies with improved precision.  Furthermore,\n",
      "the Weyl potential can be used to test the theory of gravity and the validity of the $\\Lambda$CDM model, as it provides\n",
      "a direct way of measuring the spatial and temporal distortions of the Universe's geometry. Measurements of the Weyl\n",
      "potential can be compared with any theory of gravity, allowing for efficient tests of models beyond GR. For example,\n",
      "recent measurements of the Weyl potential from the Year 3 Dark Energy Survey data have found that it is below the\n",
      "$\\Lambda$CDM predictions in the two lowest redshift bins, which could indicate a tension with CMB measurements and weak\n",
      "lensing measurements.\n"
     ]
    }
   ],
   "source": [
    "# With context\n",
    "\n",
    "print(textwrap.fill(rag_chain.invoke(\"How can we test GR at cosmological scales with the Weyl potential\"), width=120))"
   ]
  },
  {
   "cell_type": "markdown",
   "metadata": {},
   "source": [
    "#### Q3. Testing the Cosmological Principle using the CMB Dipole"
   ]
  },
  {
   "cell_type": "code",
   "execution_count": 19,
   "metadata": {},
   "outputs": [
    {
     "name": "stdout",
     "output_type": "stream",
     "text": [
      " The Cosmic Microwave Background (CMB) dipole is an important observation that provides evidence for the validity of the\n",
      "Cosmological Principle, which states that the universe is homogeneous and isotropic on large scales. The CMB dipole is a\n",
      "small anisotropy in the CMB temperature distribution, which is interpreted as a Doppler shift caused by the motion of\n",
      "the Earth relative to the rest frame of the CMB.  The amplitude and direction of the CMB dipole are consistent with the\n",
      "motion of the Solar System with respect to the cosmic rest frame, as determined by observations of galaxy velocities.\n",
      "This agreement provides strong evidence that the Cosmological Principle is a good approximation on large scales, since\n",
      "it suggests that the observed anisotropy is not due to any intrinsic inhomogeneities in the distribution of matter and\n",
      "energy in the universe, but rather to our own motion with respect to the cosmic rest frame.  However, it is important to\n",
      "note that the Cosmological Principle is an idealization, and there are known departures from homogeneity and isotropy on\n",
      "small scales, such as the clustering of galaxies and the presence of large-scale structures like voids and\n",
      "superclusters. Nevertheless, the CMB dipole provides important evidence that the Cosmological Principle is a good\n",
      "approximation on large scales, and it is a fundamental assumption of the standard cosmological model.\n"
     ]
    }
   ],
   "source": [
    "# No context\n",
    "\n",
    "print(textwrap.fill(query_no_context(\"What can the CMB dipole tell us about the validity of the Cosmological principle?\"), width=120))"
   ]
  },
  {
   "cell_type": "code",
   "execution_count": 20,
   "metadata": {},
   "outputs": [
    {
     "name": "stdout",
     "output_type": "stream",
     "text": [
      "The CMB dipole, if it is found to be consistent with the number count dipole from other observations such as quasars and\n",
      "radio sources, would support the validity of the Cosmological Principle. However, if there is a significant discrepancy\n",
      "between the CMB dipole and the number count dipole from other observations, it could indicate that the Cosmological\n",
      "Principle is not valid. The tension between the CMB dipole and the number count dipole from other observations is\n",
      "currently an open issue in the standard cosmological model.  Additionally, it is also mentioned that gravitational waves\n",
      "(GWs) from compact binary mergers detected by the future next-generation detectors Einstein Telescope and Cosmic\n",
      "Explorer can be used to detect and estimate the cosmic dipole. A GW dipole consistent with the amplitude of the dipole\n",
      "in radio galaxies would be detectable with >3σ significance with a few years of observation and estimated with a 16%\n",
      "precision, while a GW dipole consistent with the CMB one would require at least 10^7 GW events for a confident\n",
      "detection.  It is also mentioned that a total number Ntot of GW detections would be able to detect a dipole with\n",
      "amplitude vo/c ≃1/√Ntot.\n"
     ]
    }
   ],
   "source": [
    "# With context\n",
    "\n",
    "print(textwrap.fill(rag_chain.invoke(\"What can the CMB dipole tell us about the validity of the Cosmological principle?\"), width=120))"
   ]
  },
  {
   "cell_type": "markdown",
   "metadata": {},
   "source": [
    "### So, in all 3 cases, using RAG results in very context specific refined answers, as opposed to the more generic answers from the Mixtral-8x7B model without context"
   ]
  },
  {
   "cell_type": "markdown",
   "metadata": {},
   "source": [
    "## Part 2: Test out a context retrieval (semantic) search \n",
    "\n",
    "**Note** For this part we don't need the LLM, just the embedding model, so there is the scope to compare different embedding models here\n",
    "\n",
    "**Also Note** The similarity score returned here is the L2 distance from the query to the relevant document, so lower score is better"
   ]
  },
  {
   "cell_type": "code",
   "execution_count": 32,
   "metadata": {},
   "outputs": [],
   "source": [
    "def search_vectordb_and_format_output(query, k, vectordb=vectordb):\n",
    "    # Perform the similarity search\n",
    "    results = vectordb.similarity_search_with_score(query, k=k)\n",
    "    \n",
    "    # Initialize an empty list to hold formatted results\n",
    "    formatted_results = []\n",
    "    \n",
    "    # Iterate over the results to extract and format the desired information\n",
    "    for doc, score in results:\n",
    "        formatted_result = {\n",
    "            'paper_id': doc.metadata['id'],\n",
    "            'paper_title': doc.metadata['title'],\n",
    "            'similarity_score': score\n",
    "        }\n",
    "        formatted_results.append(formatted_result)\n",
    "    \n",
    "    # Return or print the formatted results\n",
    "    return formatted_results # Top k results"
   ]
  },
  {
   "cell_type": "code",
   "execution_count": 34,
   "metadata": {},
   "outputs": [
    {
     "name": "stdout",
     "output_type": "stream",
     "text": [
      "What is a galaxy cluster?\n",
      "\n",
      "Paper ID: 1906.07683, Paper Title: An Accurate Fitting Function For Scale-dependent Growth Rate in   Hu-Sawicki $f(R)$ Gravity, Similarity Score: 0.2684834599494934\n",
      "\n",
      "Paper ID: 1006.3381, Paper Title: Central gas entropy excess as a direct evidence for AGN feedback in   galaxy groups and clusters, Similarity Score: 0.3103845417499542\n",
      "\n",
      "Paper ID: 1108.5736, Paper Title: Halo Contraction Effect in Hydrodynamic Simulations of Galaxy Formation, Similarity Score: 0.330649733543396\n",
      "\n",
      "Paper ID: 1908.05275, Paper Title: New Limits on Charged Dark Matter from Large-Scale Coherent Magnetic   Fields, Similarity Score: 0.33562418818473816\n",
      "\n",
      "Paper ID: 2306.11205, Paper Title: The 'spectral index-flux density relation' for extragalactic radio   sources selected at metre and decametre wavelengths, Similarity Score: 0.3447471559047699\n",
      "\n"
     ]
    }
   ],
   "source": [
    "query = \"What is a galaxy cluster?\"\n",
    "k=5\n",
    "\n",
    "formatted_results = search_vectordb_and_format_output(query, k=k)\n",
    "\n",
    "\n",
    "print(query)\n",
    "print()\n",
    "\n",
    "# Printing the results\n",
    "for result in formatted_results:\n",
    "    print(f\"Paper ID: {result['paper_id']}, Paper Title: {result['paper_title']}, Similarity Score: {result['similarity_score']}\")\n",
    "    print()"
   ]
  },
  {
   "cell_type": "code",
   "execution_count": 35,
   "metadata": {},
   "outputs": [
    {
     "name": "stdout",
     "output_type": "stream",
     "text": [
      "What is the cosmological constant?\n",
      "\n",
      "Paper ID: 1307.6270, Paper Title: Cosmological post-Newtonian equations from nonlinear perturbation theory, Similarity Score: 0.1184452623128891\n",
      "\n",
      "Paper ID: 1505.04782, Paper Title: Relativistic perturbations in $\\Lambda$CDM: Eulerian & Lagrangian   approaches, Similarity Score: 0.13687889277935028\n",
      "\n",
      "Paper ID: 2212.03234, Paper Title: Spatially Homogeneous Universes with Late-Time Anisotropy, Similarity Score: 0.13687889277935028\n",
      "\n",
      "Paper ID: 1709.04046, Paper Title: Crack in the cosmological paradigm, Similarity Score: 0.15486614406108856\n",
      "\n",
      "Paper ID: 1309.5444, Paper Title: Nonstandard cosmology, Similarity Score: 0.1550758332014084\n",
      "\n"
     ]
    }
   ],
   "source": [
    "query = \"What is the cosmological constant?\"\n",
    "k=5\n",
    "\n",
    "formatted_results = search_vectordb_and_format_output(query, k=k)\n",
    "\n",
    "print(query)\n",
    "print()\n",
    "\n",
    "# Printing the results\n",
    "for result in formatted_results:\n",
    "    print(f\"Paper ID: {result['paper_id']}, Paper Title: {result['paper_title']}, Similarity Score: {result['similarity_score']}\")\n",
    "    print()"
   ]
  },
  {
   "cell_type": "markdown",
   "metadata": {},
   "source": [
    "### Now let's try out the 3 questions we tested out the RAG Mixtral-8x7B application with; the most recent papers should have the lowest similarity score (i.e. they should be closest semantically to the query)"
   ]
  },
  {
   "cell_type": "code",
   "execution_count": 38,
   "metadata": {},
   "outputs": [
    {
     "name": "stdout",
     "output_type": "stream",
     "text": [
      "What does the James Webb Space Telescope tell us about exotic objects at high redshift?\n",
      "\n",
      "Paper ID: 1510.02101, Paper Title: Detectability of Local Group Dwarf Galaxy Analogues at High Redshifts, Similarity Score: 0.43622350692749023\n",
      "\n",
      "Paper ID: 1101.4033, Paper Title: Pointing the James Webb Space Telescope through lensing clusters - can   the first stars and galaxies be detected?, Similarity Score: 0.46487942337989807\n",
      "\n",
      "Paper ID: 2208.11456, Paper Title: Morpheus Reveals Distant Disk Galaxy Morphologies with JWST: The First   AI/ML Analysis of JWST Images, Similarity Score: 0.5435341000556946\n",
      "\n",
      "Paper ID: 1002.3368, Paper Title: Finding high-redshift dark stars with the James Webb Space Telescope, Similarity Score: 0.5453366041183472\n",
      "\n",
      "Paper ID: 2212.06575, Paper Title: Cosmological Model Tests with JWST, Similarity Score: 0.549606204032898\n",
      "\n"
     ]
    }
   ],
   "source": [
    "query_1 = \"What does the James Webb Space Telescope tell us about exotic objects at high redshift?\"\n",
    "k=5\n",
    "\n",
    "formatted_results = search_vectordb_and_format_output(query_1, k=k)\n",
    "\n",
    "print(query_1)\n",
    "print()\n",
    "\n",
    "# Printing the results\n",
    "for result in formatted_results:\n",
    "    print(f\"Paper ID: {result['paper_id']}, Paper Title: {result['paper_title']}, Similarity Score: {result['similarity_score']}\")\n",
    "    print()"
   ]
  },
  {
   "cell_type": "markdown",
   "metadata": {},
   "source": [
    "Interestingly, the recent JWST paper, which does seem intuitively to be most relevant, does not show up in the top 5 results. Is this expected? Or is this a deficiency of how the RAG application is constructed? (embedding model, chunking strategies, etc) **Something to explore**"
   ]
  },
  {
   "cell_type": "code",
   "execution_count": 39,
   "metadata": {},
   "outputs": [
    {
     "name": "stdout",
     "output_type": "stream",
     "text": [
      "How can we test GR at cosmological scales with the Weyl potential\n",
      "\n",
      "Paper ID: 1808.06923, Paper Title: Testing Weyl Gravity at Galactic and Extra-galactic Scales, Similarity Score: 0.46653926372528076\n",
      "\n",
      "Paper ID: 2403.13709, Paper Title: New measurements of $E_G$: Testing General Relativity with the Weyl   potential and galaxy velocities, Similarity Score: 0.5224183797836304\n",
      "\n",
      "Paper ID: 2403.13709, Paper Title: New measurements of $E_G$: Testing General Relativity with the Weyl   potential and galaxy velocities, Similarity Score: 0.5355419516563416\n",
      "\n",
      "Paper ID: 2312.06434, Paper Title: First measurement of the Weyl potential evolution from the Year 3 Dark   Energy Survey data: Localising the $\\sigma_8$ tension, Similarity Score: 0.5532782077789307\n",
      "\n",
      "Paper ID: 2403.13709, Paper Title: New measurements of $E_G$: Testing General Relativity with the Weyl   potential and galaxy velocities, Similarity Score: 0.5532880425453186\n",
      "\n"
     ]
    }
   ],
   "source": [
    "query_2 = \"How can we test GR at cosmological scales with the Weyl potential\"\n",
    "k=5\n",
    "\n",
    "formatted_results = search_vectordb_and_format_output(query_2, k=k)\n",
    "\n",
    "print(query_2)\n",
    "print()\n",
    "\n",
    "# Printing the results\n",
    "for result in formatted_results:\n",
    "    print(f\"Paper ID: {result['paper_id']}, Paper Title: {result['paper_title']}, Similarity Score: {result['similarity_score']}\")\n",
    "    print()"
   ]
  },
  {
   "cell_type": "code",
   "execution_count": 40,
   "metadata": {},
   "outputs": [
    {
     "name": "stdout",
     "output_type": "stream",
     "text": [
      "What can the CMB dipole tell us about the validity of the Cosmological principle?\n",
      "\n",
      "Paper ID: 2305.06771, Paper Title: Testing the Cosmological Principle: On the Time Dilation of Distant   Sources, Similarity Score: 0.3361070156097412\n",
      "\n",
      "Paper ID: 2401.17945, Paper Title: Euclid preparation. The Near-IR Background Dipole Experiment with Euclid, Similarity Score: 0.36623719334602356\n",
      "\n",
      "Paper ID: 2106.05284, Paper Title: A new way to test the Cosmological Principle: measuring our peculiar   velocity and the large scale anisotropy independently, Similarity Score: 0.45178478956222534\n",
      "\n",
      "Paper ID: 2209.11658, Paper Title: Detection and estimation of the cosmic dipole with the Einstein   Telescope and Cosmic Explorer, Similarity Score: 0.4780294597148895\n",
      "\n",
      "Paper ID: 2203.03956, Paper Title: Probing the Anisotropic Universe with Gravitational Waves, Similarity Score: 0.47845783829689026\n",
      "\n"
     ]
    }
   ],
   "source": [
    "query_3 = \"What can the CMB dipole tell us about the validity of the Cosmological principle?\"\n",
    "k=5\n",
    "\n",
    "formatted_results = search_vectordb_and_format_output(query_3, k=k)\n",
    "\n",
    "print(query_3)\n",
    "print()\n",
    "\n",
    "# Printing the results\n",
    "for result in formatted_results:\n",
    "    print(f\"Paper ID: {result['paper_id']}, Paper Title: {result['paper_title']}, Similarity Score: {result['similarity_score']}\")\n",
    "    print()"
   ]
  },
  {
   "cell_type": "markdown",
   "metadata": {},
   "source": [
    "For Q3 as well, the 2403... paper does not show up in the top results, however, this does seem to be a more general question than the JWST one"
   ]
  },
  {
   "cell_type": "code",
   "execution_count": null,
   "metadata": {},
   "outputs": [],
   "source": []
  }
 ],
 "metadata": {
  "kernelspec": {
   "display_name": "env-rag",
   "language": "python",
   "name": "python3"
  },
  "language_info": {
   "codemirror_mode": {
    "name": "ipython",
    "version": 3
   },
   "file_extension": ".py",
   "mimetype": "text/x-python",
   "name": "python",
   "nbconvert_exporter": "python",
   "pygments_lexer": "ipython3",
   "version": "3.10.13"
  }
 },
 "nbformat": 4,
 "nbformat_minor": 2
}

{
 "cells": [
  {
   "cell_type": "markdown",
   "metadata": {},
   "source": [
    "### In this notebook/script we use Chroma to create a vectordB with the cosmology arxiv dataset that we have already prepared"
   ]
  },
  {
   "cell_type": "code",
   "execution_count": 5,
   "metadata": {},
   "outputs": [],
   "source": [
    "import pandas as pd\n",
    "from langchain.document_loaders import DataFrameLoader\n",
    "from langchain.text_splitter import RecursiveCharacterTextSplitter\n",
    "from langchain.embeddings import HuggingFaceEmbeddings\n",
    "from langchain.vectorstores import Chroma"
   ]
  },
  {
   "cell_type": "code",
   "execution_count": 2,
   "metadata": {},
   "outputs": [
    {
     "data": {
      "text/html": [
       "<div>\n",
       "<style scoped>\n",
       "    .dataframe tbody tr th:only-of-type {\n",
       "        vertical-align: middle;\n",
       "    }\n",
       "\n",
       "    .dataframe tbody tr th {\n",
       "        vertical-align: top;\n",
       "    }\n",
       "\n",
       "    .dataframe thead th {\n",
       "        text-align: right;\n",
       "    }\n",
       "</style>\n",
       "<table border=\"1\" class=\"dataframe\">\n",
       "  <thead>\n",
       "    <tr style=\"text-align: right;\">\n",
       "      <th></th>\n",
       "      <th>id</th>\n",
       "      <th>title</th>\n",
       "      <th>abstract</th>\n",
       "      <th>categories</th>\n",
       "      <th>cat_text</th>\n",
       "      <th>prepared_text</th>\n",
       "    </tr>\n",
       "  </thead>\n",
       "  <tbody>\n",
       "    <tr>\n",
       "      <th>0</th>\n",
       "      <td>0705.2176</td>\n",
       "      <td>Gravitational particle production in braneworl...</td>\n",
       "      <td>Gravitational particle production in time vari...</td>\n",
       "      <td>hep-ph astro-ph.CO gr-qc</td>\n",
       "      <td>High Energy Physics - Phenomenology, Cosmology...</td>\n",
       "      <td>Gravitational particle production in braneworl...</td>\n",
       "    </tr>\n",
       "    <tr>\n",
       "      <th>1</th>\n",
       "      <td>0705.2299</td>\n",
       "      <td>Time evolution of T_{\\mu\\nu} and the cosmologi...</td>\n",
       "      <td>We study the cosmic time evolution of an effec...</td>\n",
       "      <td>hep-ph astro-ph.CO gr-qc</td>\n",
       "      <td>High Energy Physics - Phenomenology, Cosmology...</td>\n",
       "      <td>Time evolution of T_{\\mu\\nu} and the cosmologi...</td>\n",
       "    </tr>\n",
       "    <tr>\n",
       "      <th>2</th>\n",
       "      <td>0705.3289</td>\n",
       "      <td>Helium abundance in galaxy clusters and Sunyae...</td>\n",
       "      <td>It has long been suggested that helium nuclei ...</td>\n",
       "      <td>astro-ph astro-ph.CO astro-ph.HE astro-ph.IM</td>\n",
       "      <td>Astrophysics, Cosmology and Nongalactic Astrop...</td>\n",
       "      <td>Helium abundance in galaxy clusters and Sunyae...</td>\n",
       "    </tr>\n",
       "    <tr>\n",
       "      <th>3</th>\n",
       "      <td>0705.4139</td>\n",
       "      <td>Our Peculiar Motion Away from the Local Void</td>\n",
       "      <td>The peculiar velocity of the Local Group of ga...</td>\n",
       "      <td>astro-ph astro-ph.CO</td>\n",
       "      <td>Astrophysics, Cosmology and Nongalactic Astrop...</td>\n",
       "      <td>Our Peculiar Motion Away from the Local Void \\...</td>\n",
       "    </tr>\n",
       "    <tr>\n",
       "      <th>4</th>\n",
       "      <td>0707.1351</td>\n",
       "      <td>Inverse approach to Einstein's equations for f...</td>\n",
       "      <td>We expand previous work on an inverse approach...</td>\n",
       "      <td>gr-qc astro-ph.CO</td>\n",
       "      <td>General Relativity and Quantum Cosmology, Cosm...</td>\n",
       "      <td>Inverse approach to Einstein's equations for f...</td>\n",
       "    </tr>\n",
       "  </tbody>\n",
       "</table>\n",
       "</div>"
      ],
      "text/plain": [
       "          id                                              title  \\\n",
       "0  0705.2176  Gravitational particle production in braneworl...   \n",
       "1  0705.2299  Time evolution of T_{\\mu\\nu} and the cosmologi...   \n",
       "2  0705.3289  Helium abundance in galaxy clusters and Sunyae...   \n",
       "3  0705.4139       Our Peculiar Motion Away from the Local Void   \n",
       "4  0707.1351  Inverse approach to Einstein's equations for f...   \n",
       "\n",
       "                                            abstract  \\\n",
       "0  Gravitational particle production in time vari...   \n",
       "1  We study the cosmic time evolution of an effec...   \n",
       "2  It has long been suggested that helium nuclei ...   \n",
       "3  The peculiar velocity of the Local Group of ga...   \n",
       "4  We expand previous work on an inverse approach...   \n",
       "\n",
       "                                     categories  \\\n",
       "0                      hep-ph astro-ph.CO gr-qc   \n",
       "1                      hep-ph astro-ph.CO gr-qc   \n",
       "2  astro-ph astro-ph.CO astro-ph.HE astro-ph.IM   \n",
       "3                          astro-ph astro-ph.CO   \n",
       "4                             gr-qc astro-ph.CO   \n",
       "\n",
       "                                            cat_text  \\\n",
       "0  High Energy Physics - Phenomenology, Cosmology...   \n",
       "1  High Energy Physics - Phenomenology, Cosmology...   \n",
       "2  Astrophysics, Cosmology and Nongalactic Astrop...   \n",
       "3  Astrophysics, Cosmology and Nongalactic Astrop...   \n",
       "4  General Relativity and Quantum Cosmology, Cosm...   \n",
       "\n",
       "                                       prepared_text  \n",
       "0  Gravitational particle production in braneworl...  \n",
       "1  Time evolution of T_{\\mu\\nu} and the cosmologi...  \n",
       "2  Helium abundance in galaxy clusters and Sunyae...  \n",
       "3  Our Peculiar Motion Away from the Local Void \\...  \n",
       "4  Inverse approach to Einstein's equations for f...  "
      ]
     },
     "execution_count": 2,
     "metadata": {},
     "output_type": "execute_result"
    }
   ],
   "source": [
    "df_cosmo = pd.read_csv('arxiv_astro-ph_data_cosmo.csv')    \n",
    "df_cosmo.head()"
   ]
  },
  {
   "cell_type": "code",
   "execution_count": 3,
   "metadata": {},
   "outputs": [
    {
     "data": {
      "text/plain": [
       "(66103, 6)"
      ]
     },
     "execution_count": 3,
     "metadata": {},
     "output_type": "execute_result"
    }
   ],
   "source": [
    "df_cosmo.shape"
   ]
  },
  {
   "cell_type": "markdown",
   "metadata": {},
   "source": [
    "So we will create the vectordB from these ~66k documents"
   ]
  },
  {
   "cell_type": "code",
   "execution_count": 4,
   "metadata": {},
   "outputs": [
    {
     "data": {
      "text/plain": [
       "Document(page_content='Gravitational particle production in braneworld cosmology \\n Gravitational particle production in time variable metric of an expanding universe is efficient only when the Hubble parameter $H$ is not too small in comparison with the particle mass. In standard cosmology, the huge value of the Planck mass $M_{Pl}$ makes the mechanism phenomenologically irrelevant. On the other hand, in braneworld cosmology the expansion rate of the early universe can be much faster and many weakly interacting particles can be abundantly created. Cosmological implications are discussed.', metadata={'id': '0705.2176', 'title': 'Gravitational particle production in braneworld cosmology', 'abstract': 'Gravitational particle production in time variable metric of an expanding universe is efficient only when the Hubble parameter $H$ is not too small in comparison with the particle mass. In standard cosmology, the huge value of the Planck mass $M_{Pl}$ makes the mechanism phenomenologically irrelevant. On the other hand, in braneworld cosmology the expansion rate of the early universe can be much faster and many weakly interacting particles can be abundantly created. Cosmological implications are discussed.', 'categories': 'hep-ph astro-ph.CO gr-qc', 'cat_text': 'High Energy Physics - Phenomenology, Cosmology and Nongalactic Astrophysics, General Relativity and Quantum Cosmology'})"
      ]
     },
     "execution_count": 4,
     "metadata": {},
     "output_type": "execute_result"
    }
   ],
   "source": [
    "# Create a DataFrameLoader\n",
    "loader = DataFrameLoader(df_cosmo, page_content_column='prepared_text')\n",
    "arxiv_documents = loader.load()\n",
    "\n",
    "arxiv_documents[0]"
   ]
  },
  {
   "cell_type": "markdown",
   "metadata": {},
   "source": [
    "### Refer to the MTEB Embeddings Leaderboard for the best performing Embedding: https://huggingface.co/spaces/mteb/leaderboard\n",
    "\n",
    "#### Here we optimize for time, will improve on this later, embedding model used here: https://huggingface.co/sentence-transformers/all-MiniLM-L6-v2"
   ]
  },
  {
   "cell_type": "code",
   "execution_count": 6,
   "metadata": {},
   "outputs": [
    {
     "name": "stderr",
     "output_type": "stream",
     "text": [
      "/Users/panchamb/miniforge3/envs/env-rag/lib/python3.10/site-packages/tqdm/auto.py:21: TqdmWarning: IProgress not found. Please update jupyter and ipywidgets. See https://ipywidgets.readthedocs.io/en/stable/user_install.html\n",
      "  from .autonotebook import tqdm as notebook_tqdm\n"
     ]
    }
   ],
   "source": [
    "# Get the embedding model\n",
    "\n",
    "model_name = \"sentence-transformers/all-MiniLM-l6-v2\" #\"BAAI/bge-small-en-v1.5\"#\"sentence-transformers/all-MiniLM-l6-v2\" #\"sentence-transformers/all-mpnet-base-v2\"\n",
    "# bge-base-en-v1.5 or bge-small taking too much time for all the cosmo docs, ~66k\n",
    "model_kwargs = {\"device\": \"cpu\"} # Since we are running on local machine, we will use CPU\n",
    "\n",
    "embeddings = HuggingFaceEmbeddings(model_name=model_name, model_kwargs=model_kwargs)"
   ]
  },
  {
   "cell_type": "markdown",
   "metadata": {},
   "source": [
    "**Note** What is the optimal chunking strategy here?"
   ]
  },
  {
   "cell_type": "code",
   "execution_count": 9,
   "metadata": {},
   "outputs": [],
   "source": [
    "### Split the documents into smaller chunks\n",
    "\n",
    "splitter = RecursiveCharacterTextSplitter(chunk_size=200, chunk_overlap=20) \n",
    "# Keeping this small initially, since these are just abstracts, not full paper text\n",
    "\n",
    "chunked_docs = splitter.split_documents(arxiv_documents)"
   ]
  },
  {
   "cell_type": "code",
   "execution_count": 10,
   "metadata": {},
   "outputs": [
    {
     "data": {
      "text/plain": [
       "Document(page_content='Gravitational particle production in braneworld cosmology', metadata={'id': '0705.2176', 'title': 'Gravitational particle production in braneworld cosmology', 'abstract': 'Gravitational particle production in time variable metric of an expanding universe is efficient only when the Hubble parameter $H$ is not too small in comparison with the particle mass. In standard cosmology, the huge value of the Planck mass $M_{Pl}$ makes the mechanism phenomenologically irrelevant. On the other hand, in braneworld cosmology the expansion rate of the early universe can be much faster and many weakly interacting particles can be abundantly created. Cosmological implications are discussed.', 'categories': 'hep-ph astro-ph.CO gr-qc', 'cat_text': 'High Energy Physics - Phenomenology, Cosmology and Nongalactic Astrophysics, General Relativity and Quantum Cosmology'})"
      ]
     },
     "execution_count": 10,
     "metadata": {},
     "output_type": "execute_result"
    }
   ],
   "source": [
    "chunked_docs[0]"
   ]
  },
  {
   "cell_type": "markdown",
   "metadata": {},
   "source": [
    "**Note** Try this with FAISS etc as well, how does it affect the performance?"
   ]
  },
  {
   "cell_type": "code",
   "execution_count": 11,
   "metadata": {},
   "outputs": [],
   "source": [
    "# Create the vectordb using Chroma and persist it for future use -> Took about ~40 minutes on a Macbook M2 Pro 2023\n",
    "\n",
    "vectordb = Chroma.from_documents(documents=chunked_docs, embedding=embeddings, persist_directory=\"arxiv_cosmo_chroma_db\")"
   ]
  },
  {
   "cell_type": "code",
   "execution_count": 12,
   "metadata": {},
   "outputs": [],
   "source": [
    "vectordb.persist()"
   ]
  },
  {
   "cell_type": "code",
   "execution_count": null,
   "metadata": {},
   "outputs": [],
   "source": []
  }
 ],
 "metadata": {
  "kernelspec": {
   "display_name": "env-rag",
   "language": "python",
   "name": "python3"
  },
  "language_info": {
   "codemirror_mode": {
    "name": "ipython",
    "version": 3
   },
   "file_extension": ".py",
   "mimetype": "text/x-python",
   "name": "python",
   "nbconvert_exporter": "python",
   "pygments_lexer": "ipython3",
   "version": "3.10.13"
  }
 },
 "nbformat": 4,
 "nbformat_minor": 2
}

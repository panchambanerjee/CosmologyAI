{
 "cells": [
  {
   "cell_type": "markdown",
   "metadata": {},
   "source": [
    "# Langchain RAG, using Arxiv Cosmology Data, Parts 5 - 9 - Overview\n",
    "\n",
    "The idea is to use replicate the LangChain RAG template for our RAG application.\n",
    "This is the second notebook, based on: https://github.com/langchain-ai/rag-from-scratch/blob/main/rag_from_scratch_5_to_9.ipynb"
   ]
  },
  {
   "cell_type": "markdown",
   "metadata": {},
   "source": [
    "### Imports and API Keys"
   ]
  },
  {
   "cell_type": "code",
   "execution_count": null,
   "metadata": {},
   "outputs": [],
   "source": [
    "import os\n",
    "\n",
    "from dotenv import load_dotenv, find_dotenv\n",
    "_ = load_dotenv(find_dotenv())\n",
    "\n",
    "os.environ['LANGCHAIN_TRACING_V2'] = 'true'\n",
    "os.environ['LANGCHAIN_ENDPOINT'] = 'https://api.smith.langchain.com'\n",
    "\n",
    "os.environ['LANGCHAIN_API_KEY'] = os.environ['LANGCHAIN_API_KEY']\n",
    "os.environ['OPENAI_API_KEY'] = os.environ['OPENAI_API_KEY']"
   ]
  },
  {
   "cell_type": "code",
   "execution_count": 36,
   "metadata": {},
   "outputs": [],
   "source": [
    "import bs4\n",
    "from langchain import hub\n",
    "from langchain.text_splitter import RecursiveCharacterTextSplitter\n",
    "from langchain_community.document_loaders import WebBaseLoader\n",
    "from langchain_community.vectorstores import Chroma\n",
    "from langchain_core.output_parsers import StrOutputParser\n",
    "from langchain_core.runnables import RunnablePassthrough, RunnableLambda\n",
    "from langchain_openai import ChatOpenAI, OpenAIEmbeddings\n",
    "from langchain.embeddings import HuggingFaceEmbeddings\n",
    "from langchain.prompts import ChatPromptTemplate, FewShotChatMessagePromptTemplate\n",
    "from langchain.load import dumps, loads\n",
    "from operator import itemgetter\n",
    "\n",
    "import warnings\n",
    "warnings.filterwarnings('ignore')"
   ]
  },
  {
   "cell_type": "markdown",
   "metadata": {},
   "source": [
    "## Multi-Query\n",
    "\n",
    "https://python.langchain.com/docs/modules/data_connection/retrievers/MultiQueryRetriever"
   ]
  },
  {
   "cell_type": "markdown",
   "metadata": {},
   "source": [
    "#### Load the vector index previously created (https://github.com/panchambanerjee/CosmologyAI/blob/main/arxiv_project/code/notebooks/create_cosmo_vectordb.ipynb)"
   ]
  },
  {
   "cell_type": "code",
   "execution_count": 2,
   "metadata": {},
   "outputs": [],
   "source": [
    "# Get the embedding model, we need this again to load in the persisted vectordb\n",
    "\n",
    "model_name = \"sentence-transformers/all-MiniLM-l6-v2\" #\"BAAI/bge-small-en-v1.5\"#\"sentence-transformers/all-MiniLM-l6-v2\" #\"sentence-transformers/all-mpnet-base-v2\"\n",
    "# bge-base-en-v1.5 or bge-small taking too much time for all the cosmo docs, ~66k\n",
    "model_kwargs = {\"device\": \"cpu\"} # Since we are running on local machine, we will use CPU\n",
    "\n",
    "embeddings = HuggingFaceEmbeddings(model_name=model_name, model_kwargs=model_kwargs)\n",
    "\n",
    "# Indexing\n",
    "\n",
    "vectordb = Chroma(persist_directory='./arxiv_cosmo_chroma_db', embedding_function=embeddings)\n",
    "retriever = vectordb.as_retriever()"
   ]
  },
  {
   "cell_type": "code",
   "execution_count": 4,
   "metadata": {},
   "outputs": [],
   "source": [
    "# Prompt\n",
    "\n",
    "# Multi Query: Different Perspectives\n",
    "template = \"\"\"You are an AI language model assistant. Your task is to generate five \n",
    "different versions of the given user question to retrieve relevant documents from a vector \n",
    "database. By generating multiple perspectives on the user question, your goal is to help\n",
    "the user overcome some of the limitations of the distance-based similarity search. \n",
    "Provide these alternative questions separated by newlines. Original question: {question}\"\"\"\n",
    "prompt_perspectives = ChatPromptTemplate.from_template(template)\n",
    "\n",
    "generate_queries = (\n",
    "    prompt_perspectives \n",
    "    | ChatOpenAI(temperature=0) \n",
    "    | StrOutputParser() \n",
    "    | (lambda x: x.split(\"\\n\"))\n",
    ")"
   ]
  },
  {
   "cell_type": "code",
   "execution_count": 7,
   "metadata": {},
   "outputs": [
    {
     "data": {
      "text/plain": [
       "9"
      ]
     },
     "execution_count": 7,
     "metadata": {},
     "output_type": "execute_result"
    }
   ],
   "source": [
    "\n",
    "def get_unique_union(documents: list[list]):\n",
    "    \"\"\" Unique union of retrieved docs \"\"\"\n",
    "    # Flatten list of lists, and convert each Document to string\n",
    "    flattened_docs = [dumps(doc) for sublist in documents for doc in sublist]\n",
    "    # Get unique documents\n",
    "    unique_docs = list(set(flattened_docs))\n",
    "    # Return\n",
    "    return [loads(doc) for doc in unique_docs]\n",
    "\n",
    "# Retrieve\n",
    "question = \"What is a Galaxy Cluster?\"\n",
    "\n",
    "retrieval_chain = generate_queries | retriever.map() | get_unique_union\n",
    "docs = retrieval_chain.invoke({\"question\":question})\n",
    "\n",
    "len(docs)"
   ]
  },
  {
   "cell_type": "code",
   "execution_count": 10,
   "metadata": {},
   "outputs": [
    {
     "data": {
      "text/plain": [
       "'A galaxy cluster is a large, gravitationally bound system of galaxies that are held together by dark matter and surrounded by hot gas. It is a collection of galaxies, ranging from a few to thousands, that are interconnected through gravitational forces.'"
      ]
     },
     "execution_count": 10,
     "metadata": {},
     "output_type": "execute_result"
    }
   ],
   "source": [
    "# RAG\n",
    "template = \"\"\"Answer the following question based on this context:\n",
    "\n",
    "{context}\n",
    "\n",
    "Question: {question}\n",
    "\"\"\"\n",
    "\n",
    "prompt = ChatPromptTemplate.from_template(template)\n",
    "\n",
    "llm = ChatOpenAI(temperature=0)\n",
    "\n",
    "final_rag_chain = (\n",
    "    {\"context\": retrieval_chain, \n",
    "     \"question\": itemgetter(\"question\")} \n",
    "    | prompt\n",
    "    | llm\n",
    "    | StrOutputParser()\n",
    ")\n",
    "\n",
    "final_rag_chain.invoke({\"question\":question})"
   ]
  },
  {
   "cell_type": "markdown",
   "metadata": {},
   "source": [
    "## RAG-Fusion\n",
    " https://towardsdatascience.com/forget-rag-the-future-is-rag-fusion-1147298d8ad1"
   ]
  },
  {
   "cell_type": "code",
   "execution_count": 11,
   "metadata": {},
   "outputs": [],
   "source": [
    "# RAG-Fusion: Related\n",
    "template = \"\"\"You are a helpful assistant that generates multiple search queries based on a single input query. \\n\n",
    "Generate multiple search queries related to: {question} \\n\n",
    "Output (4 queries):\"\"\"\n",
    "prompt_rag_fusion = ChatPromptTemplate.from_template(template)"
   ]
  },
  {
   "cell_type": "code",
   "execution_count": 12,
   "metadata": {},
   "outputs": [],
   "source": [
    "generate_queries = (\n",
    "    prompt_rag_fusion \n",
    "    | ChatOpenAI(temperature=0)\n",
    "    | StrOutputParser() \n",
    "    | (lambda x: x.split(\"\\n\"))\n",
    ")"
   ]
  },
  {
   "cell_type": "code",
   "execution_count": 13,
   "metadata": {},
   "outputs": [
    {
     "data": {
      "text/plain": [
       "10"
      ]
     },
     "execution_count": 13,
     "metadata": {},
     "output_type": "execute_result"
    }
   ],
   "source": [
    "\n",
    "def reciprocal_rank_fusion(results: list[list], k=60):\n",
    "    \"\"\" Reciprocal_rank_fusion that takes multiple lists of ranked documents \n",
    "        and an optional parameter k used in the RRF formula \"\"\"\n",
    "    \n",
    "    # Initialize a dictionary to hold fused scores for each unique document\n",
    "    fused_scores = {}\n",
    "\n",
    "    # Iterate through each list of ranked documents\n",
    "    for docs in results:\n",
    "        # Iterate through each document in the list, with its rank (position in the list)\n",
    "        for rank, doc in enumerate(docs):\n",
    "            # Convert the document to a string format to use as a key (assumes documents can be serialized to JSON)\n",
    "            doc_str = dumps(doc)\n",
    "            # If the document is not yet in the fused_scores dictionary, add it with an initial score of 0\n",
    "            if doc_str not in fused_scores:\n",
    "                fused_scores[doc_str] = 0\n",
    "            # Retrieve the current score of the document, if any\n",
    "            previous_score = fused_scores[doc_str]\n",
    "            # Update the score of the document using the RRF formula: 1 / (rank + k)\n",
    "            fused_scores[doc_str] += 1 / (rank + k)\n",
    "\n",
    "    # Sort the documents based on their fused scores in descending order to get the final reranked results\n",
    "    reranked_results = [\n",
    "        (loads(doc), score)\n",
    "        for doc, score in sorted(fused_scores.items(), key=lambda x: x[1], reverse=True)\n",
    "    ]\n",
    "\n",
    "    # Return the reranked results as a list of tuples, each containing the document and its fused score\n",
    "    return reranked_results\n",
    "\n",
    "retrieval_chain_rag_fusion = generate_queries | retriever.map() | reciprocal_rank_fusion\n",
    "docs = retrieval_chain_rag_fusion.invoke({\"question\": question})\n",
    "\n",
    "len(docs)"
   ]
  },
  {
   "cell_type": "code",
   "execution_count": 14,
   "metadata": {},
   "outputs": [
    {
     "data": {
      "text/plain": [
       "'A galaxy cluster is a large group of galaxies held together by gravity.'"
      ]
     },
     "execution_count": 14,
     "metadata": {},
     "output_type": "execute_result"
    }
   ],
   "source": [
    "# RAG\n",
    "template = \"\"\"Answer the following question based on this context:\n",
    "\n",
    "{context}\n",
    "\n",
    "Question: {question}\n",
    "\"\"\"\n",
    "\n",
    "prompt = ChatPromptTemplate.from_template(template)\n",
    "\n",
    "final_rag_chain = (\n",
    "    {\"context\": retrieval_chain_rag_fusion, \n",
    "     \"question\": itemgetter(\"question\")} \n",
    "    | prompt\n",
    "    | llm\n",
    "    | StrOutputParser()\n",
    ")\n",
    "\n",
    "final_rag_chain.invoke({\"question\":question})"
   ]
  },
  {
   "cell_type": "code",
   "execution_count": 15,
   "metadata": {},
   "outputs": [
    {
     "data": {
      "text/plain": [
       "9"
      ]
     },
     "execution_count": 15,
     "metadata": {},
     "output_type": "execute_result"
    }
   ],
   "source": [
    "## Now try RAG fusion with the same prompt as for Multi-Query\n",
    "\n",
    "template = \"\"\"You are an AI language model assistant. Your task is to generate five \n",
    "different versions of the given user question to retrieve relevant documents from a vector \n",
    "database. By generating multiple perspectives on the user question, your goal is to help\n",
    "the user overcome some of the limitations of the distance-based similarity search. \n",
    "Provide these alternative questions separated by newlines. Original question: {question}\"\"\"\n",
    "prompt_rag_fusion = ChatPromptTemplate.from_template(template)\n",
    "\n",
    "generate_queries = (\n",
    "    prompt_rag_fusion \n",
    "    | ChatOpenAI(temperature=0) \n",
    "    | StrOutputParser() \n",
    "    | (lambda x: x.split(\"\\n\"))\n",
    ")\n",
    "\n",
    "retrieval_chain_rag_fusion = generate_queries | retriever.map() | reciprocal_rank_fusion\n",
    "\n",
    "docs = retrieval_chain_rag_fusion.invoke({\"question\": question})\n",
    "\n",
    "len(docs)"
   ]
  },
  {
   "cell_type": "code",
   "execution_count": 16,
   "metadata": {},
   "outputs": [
    {
     "data": {
      "text/plain": [
       "'A galaxy cluster is a large group of galaxies held together by gravity. It is a structure in the universe that consists of numerous galaxies, as well as dark matter and hot gas.'"
      ]
     },
     "execution_count": 16,
     "metadata": {},
     "output_type": "execute_result"
    }
   ],
   "source": [
    "# RAG\n",
    "template = \"\"\"Answer the following question based on this context:\n",
    "\n",
    "{context}\n",
    "\n",
    "Question: {question}\n",
    "\"\"\"\n",
    "\n",
    "prompt = ChatPromptTemplate.from_template(template)\n",
    "\n",
    "final_rag_chain = (\n",
    "    {\"context\": retrieval_chain_rag_fusion, \n",
    "     \"question\": itemgetter(\"question\")} \n",
    "    | prompt\n",
    "    | llm\n",
    "    | StrOutputParser()\n",
    ")\n",
    "\n",
    "final_rag_chain.invoke({\"question\":question})"
   ]
  },
  {
   "cell_type": "markdown",
   "metadata": {},
   "source": [
    "## Decomposition"
   ]
  },
  {
   "cell_type": "code",
   "execution_count": 17,
   "metadata": {},
   "outputs": [],
   "source": [
    "# Decomposition\n",
    "template = \"\"\"You are a helpful assistant that generates multiple sub-questions related to an input question. \\n\n",
    "The goal is to break down the input into a set of sub-problems / sub-questions that can be answers in isolation. \\n\n",
    "Generate multiple search queries related to: {question} \\n\n",
    "Output (3 queries):\"\"\"\n",
    "\n",
    "prompt_decomposition = ChatPromptTemplate.from_template(template)"
   ]
  },
  {
   "cell_type": "code",
   "execution_count": 18,
   "metadata": {},
   "outputs": [],
   "source": [
    "# LLM\n",
    "llm = ChatOpenAI(temperature=0)\n",
    "\n",
    "# Chain\n",
    "generate_queries_decomposition = ( prompt_decomposition | llm | StrOutputParser() | (lambda x: x.split(\"\\n\")))\n",
    "\n",
    "# Run\n",
    "question = \"What is a Galaxy Cluster?\"\n",
    "questions = generate_queries_decomposition.invoke({\"question\":question})"
   ]
  },
  {
   "cell_type": "code",
   "execution_count": 19,
   "metadata": {},
   "outputs": [
    {
     "data": {
      "text/plain": [
       "['1. What are the characteristics of a galaxy cluster?',\n",
       " '2. How are galaxy clusters formed?',\n",
       " '3. What is the significance of studying galaxy clusters in cosmology?']"
      ]
     },
     "execution_count": 19,
     "metadata": {},
     "output_type": "execute_result"
    }
   ],
   "source": [
    "questions"
   ]
  },
  {
   "cell_type": "markdown",
   "metadata": {},
   "source": [
    "### Answer recursively\n",
    "* https://arxiv.org/pdf/2205.10625.pdf\n",
    "* https://arxiv.org/abs/2212.10509"
   ]
  },
  {
   "cell_type": "code",
   "execution_count": 20,
   "metadata": {},
   "outputs": [],
   "source": [
    "# Prompt\n",
    "template = \"\"\"Here is the question you need to answer:\n",
    "\n",
    "\\n --- \\n {question} \\n --- \\n\n",
    "\n",
    "Here is any available background question + answer pairs:\n",
    "\n",
    "\\n --- \\n {q_a_pairs} \\n --- \\n\n",
    "\n",
    "Here is additional context relevant to the question: \n",
    "\n",
    "\\n --- \\n {context} \\n --- \\n\n",
    "\n",
    "Use the above context and any background question + answer pairs to answer the question: \\n {question}\n",
    "\"\"\"\n",
    "\n",
    "decomposition_prompt = ChatPromptTemplate.from_template(template)"
   ]
  },
  {
   "cell_type": "code",
   "execution_count": 21,
   "metadata": {},
   "outputs": [],
   "source": [
    "def format_qa_pair(question, answer):\n",
    "    \"\"\"Format Q and A pair\"\"\"\n",
    "    \n",
    "    formatted_string = \"\"\n",
    "    formatted_string += f\"Question: {question}\\nAnswer: {answer}\\n\\n\"\n",
    "    return formatted_string.strip()\n",
    "\n",
    "# llm\n",
    "llm = ChatOpenAI(model_name=\"gpt-3.5-turbo\", temperature=0)\n",
    "\n",
    "q_a_pairs = \"\"\n",
    "for q in questions:\n",
    "    \n",
    "    rag_chain = (\n",
    "    {\"context\": itemgetter(\"question\") | retriever, \n",
    "     \"question\": itemgetter(\"question\"),\n",
    "     \"q_a_pairs\": itemgetter(\"q_a_pairs\")} \n",
    "    | decomposition_prompt\n",
    "    | llm\n",
    "    | StrOutputParser())\n",
    "\n",
    "    answer = rag_chain.invoke({\"question\":q,\"q_a_pairs\":q_a_pairs})\n",
    "    q_a_pair = format_qa_pair(q,answer)\n",
    "    q_a_pairs = q_a_pairs + \"\\n---\\n\"+  q_a_pair"
   ]
  },
  {
   "cell_type": "code",
   "execution_count": 22,
   "metadata": {},
   "outputs": [
    {
     "data": {
      "text/plain": [
       "'Studying galaxy clusters in cosmology is significant for several reasons. Galaxy clusters are the largest gravitationally bound structures in the universe dominated by dark matter, composed of hundreds to thousands of galaxies held together by gravity. By studying galaxy clusters, researchers can gain insights into the formation history, dynamical properties, and feedback processes within these structures. \\n\\nAdditionally, galaxy clusters serve as important cosmological probes, providing valuable information about the evolution of the universe. The precision and accuracy of cosmological parameters inferred from galaxy clusters are influenced by the knowledge of cluster physics, such as mass-observable scaling relations and the mass function. Understanding the complex interplay between the redshift evolution of the mass function and scaling relations in galaxy clusters is crucial for accurately constraining cosmological models.\\n\\nFurthermore, galaxy clusters can help in testing fundamental assumptions of the standard model of structure formation. By studying the formation and evolution of galaxy clusters, researchers can better understand the processes involved in the growth of large-scale structures in the universe. Overall, studying galaxy clusters in cosmology provides valuable insights into the nature of dark matter, the evolution of cosmic structures, and the fundamental properties of the universe.'"
      ]
     },
     "execution_count": 22,
     "metadata": {},
     "output_type": "execute_result"
    }
   ],
   "source": [
    "answer"
   ]
  },
  {
   "cell_type": "code",
   "execution_count": 26,
   "metadata": {},
   "outputs": [
    {
     "data": {
      "text/plain": [
       "'\\n---\\nQuestion: 1. What are the characteristics of a galaxy cluster?\\nAnswer: Galaxy clusters are the largest gravitationally bound structures in the universe dominated by dark matter. They are composed of hundreds to thousands of galaxies held together by gravity. Within galaxy clusters, there are various structures and components observed, such as bubbles of relativistic plasma inflated by supermassive black holes, cooling and heating of the gas, large-scale plasma shocks, cold fronts, non-thermal halos, and relics. These components reflect both the formation history and the dynamical properties of galaxy clusters. X-ray spectroscopy is used as a tool to study the metal enrichment in clusters, and fine spectroscopy of Fe X-ray lines helps in understanding the turbulent plasma motions and the energetics of non-thermal electron populations within galaxy clusters. Understanding the complex dynamical and feedback processes in galaxy clusters is essential to comprehend the energy and matter balance and constrain the role of non-thermal components within these structures.\\n---\\nQuestion: 2. How are galaxy clusters formed?\\nAnswer: Galaxy clusters are formed through the process of collapse from initial density fluctuations in an expanding universe. This formation process involves the gravitational attraction of matter, including dark matter, which leads to the accumulation of hundreds to thousands of galaxies within a cluster. Detailed simulations of cluster formation also take into account the effects of galaxy formation. The formation of galaxy clusters is a complex process that involves the interplay of various physical phenomena, such as the structural properties of dark matter halos, mass function, clustering properties, gas and stellar fractions, thermodynamic processes in the intracluster plasma, and non-thermal processes. Understanding the formation of galaxy clusters is crucial for studying the evolution of these structures and testing fundamental assumptions of the standard model of structure formation.\\n---\\nQuestion: 3. What is the significance of studying galaxy clusters in cosmology?\\nAnswer: Studying galaxy clusters in cosmology is significant for several reasons. Galaxy clusters are the largest gravitationally bound structures in the universe dominated by dark matter, composed of hundreds to thousands of galaxies held together by gravity. By studying galaxy clusters, researchers can gain insights into the formation history, dynamical properties, and feedback processes within these structures. \\n\\nAdditionally, galaxy clusters serve as important cosmological probes, providing valuable information about the evolution of the universe. The precision and accuracy of cosmological parameters inferred from galaxy clusters are influenced by the knowledge of cluster physics, such as mass-observable scaling relations and the mass function. Understanding the complex interplay between the redshift evolution of the mass function and scaling relations in galaxy clusters is crucial for accurately constraining cosmological models.\\n\\nFurthermore, galaxy clusters can help in testing fundamental assumptions of the standard model of structure formation. By studying the formation and evolution of galaxy clusters, researchers can better understand the processes involved in the growth of large-scale structures in the universe. Overall, studying galaxy clusters in cosmology provides valuable insights into the nature of dark matter, the evolution of cosmic structures, and the fundamental properties of the universe.'"
      ]
     },
     "execution_count": 26,
     "metadata": {},
     "output_type": "execute_result"
    }
   ],
   "source": [
    "q_a_pairs"
   ]
  },
  {
   "cell_type": "markdown",
   "metadata": {},
   "source": [
    "### Answer individually"
   ]
  },
  {
   "cell_type": "code",
   "execution_count": 27,
   "metadata": {},
   "outputs": [],
   "source": [
    "# Answer each sub-question individually \n",
    "\n",
    "\n",
    "# RAG prompt\n",
    "prompt_rag = hub.pull(\"rlm/rag-prompt\")\n",
    "\n",
    "def retrieve_and_rag(question,prompt_rag,sub_question_generator_chain):\n",
    "    \"\"\"RAG on each sub-question\"\"\"\n",
    "    \n",
    "    # Use our decomposition / \n",
    "    sub_questions = sub_question_generator_chain.invoke({\"question\":question}) # This is the generate_queries_decomposition from above\n",
    "    \n",
    "    # Initialize a list to hold RAG chain results\n",
    "    rag_results = []\n",
    "    \n",
    "    for sub_question in sub_questions:\n",
    "        \n",
    "        # Retrieve documents for each sub-question\n",
    "        retrieved_docs = retriever.get_relevant_documents(sub_question)\n",
    "        \n",
    "        # Use retrieved documents and sub-question in RAG chain\n",
    "        answer = (prompt_rag | llm | StrOutputParser()).invoke({\"context\": retrieved_docs, \n",
    "                                                                \"question\": sub_question})\n",
    "        rag_results.append(answer)\n",
    "    \n",
    "    return rag_results,sub_questions\n",
    "\n",
    "# Wrap the retrieval and RAG process in a RunnableLambda for integration into a chain\n",
    "answers, questions = retrieve_and_rag(question, prompt_rag, generate_queries_decomposition)"
   ]
  },
  {
   "cell_type": "code",
   "execution_count": 29,
   "metadata": {},
   "outputs": [
    {
     "data": {
      "text/plain": [
       "(['Galaxy clusters are the largest gravitationally bounded structures in the Universe dominated by dark matter. They contain structures such as bubbles of relativistic plasma, cooling and heating of gas, large-scale plasma shocks, cold fronts, non-thermal halos, and relics. Observing these constituents can provide insights into the formation history and dynamical properties of galaxy clusters.',\n",
       "  'Galaxy clusters are formed from the general picture of collapse from initial density fluctuations in an expanding Universe. Detailed simulations of cluster formation include the effects of galaxy formation. Uncertain physics of galaxy formation and feedback contribute to areas where predictions are uncertain.',\n",
       "  'Studying galaxy clusters in cosmology is significant because they serve as a recent cosmological probe, providing precision and accuracy in inferring cosmological parameters. Knowledge of cluster physics, mass-observable scaling relations, and mass function modeling impact the analysis of galaxy clusters, leading to improved constraints on cosmological parameters. The interplay between the redshift evolution of the mass function and scaling relations is crucial for precise modeling in cosmological analysis.'],\n",
       " ['1. What are the characteristics of a galaxy cluster?',\n",
       "  '2. How are galaxy clusters formed?',\n",
       "  '3. What is the significance of studying galaxy clusters in cosmology?'])"
      ]
     },
     "execution_count": 29,
     "metadata": {},
     "output_type": "execute_result"
    }
   ],
   "source": [
    "def format_qa_pairs(questions, answers):\n",
    "    \"\"\"Format Q and A pairs\"\"\"\n",
    "    \n",
    "    formatted_string = \"\"\n",
    "    for i, (question, answer) in enumerate(zip(questions, answers), start=1):\n",
    "        formatted_string += f\"Question {i}: {question}\\nAnswer {i}: {answer}\\n\\n\"\n",
    "    return formatted_string.strip()\n",
    "\n",
    "context = format_qa_pairs(questions, answers)\n",
    "\n",
    "\n",
    "\n",
    "answers, questions"
   ]
  },
  {
   "cell_type": "code",
   "execution_count": 30,
   "metadata": {},
   "outputs": [
    {
     "data": {
      "text/plain": [
       "'Question 1: 1. What are the characteristics of a galaxy cluster?\\nAnswer 1: Galaxy clusters are the largest gravitationally bounded structures in the Universe dominated by dark matter. They contain structures such as bubbles of relativistic plasma, cooling and heating of gas, large-scale plasma shocks, cold fronts, non-thermal halos, and relics. Observing these constituents can provide insights into the formation history and dynamical properties of galaxy clusters.\\n\\nQuestion 2: 2. How are galaxy clusters formed?\\nAnswer 2: Galaxy clusters are formed from the general picture of collapse from initial density fluctuations in an expanding Universe. Detailed simulations of cluster formation include the effects of galaxy formation. Uncertain physics of galaxy formation and feedback contribute to areas where predictions are uncertain.\\n\\nQuestion 3: 3. What is the significance of studying galaxy clusters in cosmology?\\nAnswer 3: Studying galaxy clusters in cosmology is significant because they serve as a recent cosmological probe, providing precision and accuracy in inferring cosmological parameters. Knowledge of cluster physics, mass-observable scaling relations, and mass function modeling impact the analysis of galaxy clusters, leading to improved constraints on cosmological parameters. The interplay between the redshift evolution of the mass function and scaling relations is crucial for precise modeling in cosmological analysis.'"
      ]
     },
     "execution_count": 30,
     "metadata": {},
     "output_type": "execute_result"
    }
   ],
   "source": [
    "context"
   ]
  },
  {
   "cell_type": "code",
   "execution_count": 31,
   "metadata": {},
   "outputs": [
    {
     "data": {
      "text/plain": [
       "'A galaxy cluster is a large gravitationally bounded structure in the Universe dominated by dark matter. It contains various components such as bubbles of relativistic plasma, cooling and heating of gas, large-scale plasma shocks, cold fronts, non-thermal halos, and relics. Galaxy clusters are formed from the collapse of initial density fluctuations in an expanding Universe, with the uncertain physics of galaxy formation playing a role in their formation. Studying galaxy clusters is significant in cosmology as they serve as a recent cosmological probe, providing insights into the formation history and dynamical properties of these structures, as well as improving constraints on cosmological parameters through the analysis of their mass-observable scaling relations and mass function modeling.'"
      ]
     },
     "execution_count": 31,
     "metadata": {},
     "output_type": "execute_result"
    }
   ],
   "source": [
    "# Prompt\n",
    "template = \"\"\"Here is a set of Q+A pairs:\n",
    "\n",
    "{context}\n",
    "\n",
    "Use these to synthesize an answer to the question: {question}\n",
    "\"\"\"\n",
    "\n",
    "prompt = ChatPromptTemplate.from_template(template)\n",
    "\n",
    "final_rag_chain = (\n",
    "    prompt\n",
    "    | llm\n",
    "    | StrOutputParser()\n",
    ")\n",
    "\n",
    "final_rag_chain.invoke({\"context\":context,\"question\":question})"
   ]
  },
  {
   "cell_type": "markdown",
   "metadata": {},
   "source": [
    "## Step-back Prompting\n",
    "https://arxiv.org/pdf/2310.06117.pdf"
   ]
  },
  {
   "cell_type": "code",
   "execution_count": 33,
   "metadata": {},
   "outputs": [],
   "source": [
    "# Few Shot Examples\n",
    "\n",
    "examples = [\n",
    "    {\n",
    "        \"input\": \"Could the members of The Police perform lawful arrests?\",\n",
    "        \"output\": \"what can the members of The Police do?\",\n",
    "    },\n",
    "    {\n",
    "        \"input\": \"Jan Sindel’s was born in what country?\",\n",
    "        \"output\": \"what is Jan Sindel’s personal history?\",\n",
    "    },\n",
    "]\n",
    "# We now transform these to example messages\n",
    "example_prompt = ChatPromptTemplate.from_messages(\n",
    "    [\n",
    "        (\"human\", \"{input}\"),\n",
    "        (\"ai\", \"{output}\"),\n",
    "    ]\n",
    ")\n",
    "few_shot_prompt = FewShotChatMessagePromptTemplate(\n",
    "    example_prompt=example_prompt,\n",
    "    examples=examples,\n",
    ")\n",
    "prompt = ChatPromptTemplate.from_messages(\n",
    "    [\n",
    "        (\n",
    "            \"system\",\n",
    "            \"\"\"You are an expert at world knowledge. Your task is to step back and paraphrase a question to a more generic step-back question, which is easier to answer. Here are a few examples:\"\"\",\n",
    "        ),\n",
    "        # Few shot examples\n",
    "        few_shot_prompt,\n",
    "        # New question\n",
    "        (\"user\", \"{question}\"),\n",
    "    ]\n",
    ")"
   ]
  },
  {
   "cell_type": "markdown",
   "metadata": {},
   "source": [
    "Note: This above prompt might need to be refined for our cosmology vector index"
   ]
  },
  {
   "cell_type": "code",
   "execution_count": 35,
   "metadata": {},
   "outputs": [
    {
     "data": {
      "text/plain": [
       "'What are astronomical objects in space?'"
      ]
     },
     "execution_count": 35,
     "metadata": {},
     "output_type": "execute_result"
    }
   ],
   "source": [
    "generate_queries_step_back = prompt | ChatOpenAI(temperature=0) | StrOutputParser()\n",
    "question = \"What is a Galaxy Cluster?\"\n",
    "generate_queries_step_back.invoke({\"question\": question}) # Not a very good step-back question"
   ]
  },
  {
   "cell_type": "code",
   "execution_count": 37,
   "metadata": {},
   "outputs": [
    {
     "data": {
      "text/plain": [
       "'A galaxy cluster is a large, gravitationally bound system consisting of hundreds to thousands of galaxies, as well as hot gas, dark matter, and other astronomical objects. These clusters are the largest known gravitationally bound structures in the universe, typically spanning millions of light-years in size. Galaxy clusters are important in the study of cosmology and astrophysics as they provide insights into the formation and evolution of structures in the universe.\\n\\nGalaxy clusters are often characterized by their high density of galaxies compared to the surrounding cosmic environment. The galaxies within a cluster are typically moving relative to each other due to the gravitational interactions within the cluster. The mass of a galaxy cluster is dominated by dark matter, which is a form of matter that does not emit, absorb, or reflect electromagnetic radiation, making it invisible to telescopes. The presence of dark matter is inferred from its gravitational effects on visible matter within the cluster.\\n\\nIn addition to galaxies and dark matter, galaxy clusters also contain hot gas that emits X-rays. This intracluster gas is heated to temperatures of millions of degrees due to gravitational interactions and processes such as galaxy mergers and accretion of matter. The X-ray emission from this hot gas is one of the key observational signatures used to identify and study galaxy clusters.\\n\\nGalaxy clusters play a crucial role in cosmological studies as they provide valuable information about the large-scale structure of the universe, the distribution of dark matter, the evolution of galaxies, and the properties of dark energy. Studying galaxy clusters can help astronomers understand the processes that drive the formation and evolution of cosmic structures, as well as test theories of gravity and cosmology.\\n\\nOverall, galaxy clusters are complex and dynamic systems that serve as important laboratories for studying the universe on large scales and probing fundamental questions in astrophysics and cosmology.'"
      ]
     },
     "execution_count": 37,
     "metadata": {},
     "output_type": "execute_result"
    }
   ],
   "source": [
    "# Response prompt \n",
    "response_prompt_template = \"\"\"You are an expert of world knowledge. I am going to ask you a question. Your response should be comprehensive and not contradicted with the following context if they are relevant. Otherwise, ignore them if they are not relevant.\n",
    "\n",
    "# {normal_context}\n",
    "# {step_back_context}\n",
    "\n",
    "# Original Question: {question}\n",
    "# Answer:\"\"\"\n",
    "response_prompt = ChatPromptTemplate.from_template(response_prompt_template)\n",
    "\n",
    "chain = (\n",
    "    {\n",
    "        # Retrieve context using the normal question\n",
    "        \"normal_context\": RunnableLambda(lambda x: x[\"question\"]) | retriever,\n",
    "        # Retrieve context using the step-back question\n",
    "        \"step_back_context\": generate_queries_step_back | retriever,\n",
    "        # Pass on the question\n",
    "        \"question\": lambda x: x[\"question\"],\n",
    "    }\n",
    "    | response_prompt\n",
    "    | ChatOpenAI(temperature=0)\n",
    "    | StrOutputParser()\n",
    ")\n",
    "\n",
    "chain.invoke({\"question\": question})"
   ]
  },
  {
   "cell_type": "markdown",
   "metadata": {},
   "source": [
    "## HyDE\n",
    "* https://github.com/langchain-ai/langchain/blob/master/cookbook/hypothetical_document_embeddings.ipynb\n",
    "* https://arxiv.org/abs/2212.10496"
   ]
  },
  {
   "cell_type": "code",
   "execution_count": 39,
   "metadata": {},
   "outputs": [
    {
     "data": {
      "text/plain": [
       "\"A galaxy cluster is a large, gravitationally bound grouping of galaxies. These clusters can contain anywhere from a few dozen to thousands of galaxies, as well as vast amounts of dark matter and hot intergalactic gas. The galaxies within a cluster are typically spread out over a large area, with distances between them ranging from a few hundred thousand to several million light-years.\\n\\nGalaxy clusters are some of the largest structures in the universe, with masses ranging from around 10^14 to 10^15 times the mass of the Sun. They are thought to have formed through the gravitational collapse of primordial matter, and continue to evolve through mergers with other clusters and the accretion of smaller galaxy groups.\\n\\nOne of the key features of galaxy clusters is the presence of dark matter, which makes up the majority of the cluster's mass. Dark matter is a mysterious substance that does not emit, absorb, or reflect light, and its presence can only be inferred through its gravitational effects on visible matter.\\n\\nIn addition to dark matter, galaxy clusters also contain hot intergalactic gas, which emits X-rays due to its high temperatures. This gas is thought to have been heated to millions of degrees during the formation of the cluster, and is held in place by the cluster's gravitational pull.\\n\\nOverall, galaxy clusters are important objects for studying the large-scale structure of the universe, as well as the processes of galaxy formation and evolution. By studying the properties of galaxy clusters, astronomers can gain insights into the distribution of dark matter, the dynamics of galaxy interactions, and the evolution of cosmic structures over time.\""
      ]
     },
     "execution_count": 39,
     "metadata": {},
     "output_type": "execute_result"
    }
   ],
   "source": [
    "# HyDE document genration\n",
    "template = \"\"\"Please write a scientific paper passage to answer the question\n",
    "Question: {question}\n",
    "Passage:\"\"\"\n",
    "prompt_hyde = ChatPromptTemplate.from_template(template)\n",
    "\n",
    "generate_docs_for_retrieval = (\n",
    "    prompt_hyde | ChatOpenAI(temperature=0) | StrOutputParser() \n",
    ")\n",
    "\n",
    "# Run\n",
    "question = \"What is a Galaxy Cluster?\"\n",
    "generate_docs_for_retrieval.invoke({\"question\":question})"
   ]
  },
  {
   "cell_type": "code",
   "execution_count": 40,
   "metadata": {},
   "outputs": [
    {
     "data": {
      "text/plain": [
       "[Document(page_content='Galaxy clusters are the most massive gravitationally bound systems consisting of dark matter, hot baryonic gas and stars. They play an important role in observational cosmology and galaxy evolution', metadata={'abstract': 'Galaxy clusters are the most massive gravitationally bound systems consisting of dark matter, hot baryonic gas and stars. They play an important role in observational cosmology and galaxy evolution studies. We have developed a deep learning model for segmentation of SZ signal on ACT+Planck intensity maps and present here a new galaxy cluster catalogue in the ACT footprint. In order to increase the purity of the cluster catalogue, we limit ourselves to publishing here only a part of the full sample with the most probable galaxy clusters lying in the directions to the candidates of the extended Planck cluster catalogue (SZcat). The ComPACT catalogue contains 2,934 galaxy clusters (with $Purity\\\\gtrsim88$ %), $\\\\gtrsim1436$ clusters are new with respect to the existing ACT DR5 and PSZ2 cluster samples.', 'cat_text': 'Astrophysics of Galaxies, Cosmology and Nongalactic Astrophysics', 'categories': 'astro-ph.GA astro-ph.CO', 'id': '2309.17077', 'title': 'ComPACT: ACT+Planck galaxy cluster catalogue'}),\n",
       " Document(page_content='Galaxy clusters are the most recently formed and most massive, gravitationally bound structures in the universe. The number of galaxy clusters formed is highly dependent on cosmological parameters,', metadata={'abstract': 'Galaxy clusters are the most recently formed and most massive, gravitationally bound structures in the universe. The number of galaxy clusters formed is highly dependent on cosmological parameters, such as the dark matter density, $\\\\sigma_8$, and $\\\\Omega_m$. The number density is a function of the cluster mass, which can be estimated from the density and temperature profiles of the intracluster medium (ICM) under the assumption of hydrostatic equilibrium. The temperature of the plasma, hence its mass, is calculated from the X-ray spectra. However, effective area calibration uncertainties in the soft band result in significantly different temperature measurements from various space-based X-ray telescopes. NuSTAR is potentially less susceptible to these issues than Chandra and XMM-Newton, having larger effective area, particularly at higher energies, enabling high precision temperature measurements. In this work, we present analyses of Chandra, NuSTAR, and XMM-Newton data of Abell 478 to investigate the nature of this calibration discrepancy. We find that NuSTAR temperatures are on average $\\\\sim$11% lower than that of Chandra, and XMM-Newton temperatures are on average $\\\\sim$5% lower than that of NuSTAR. This results in a NuSTAR mass at $r_{2500,Chandra}$ of $M_{2500,NuSTAR}=3.39^{+0.07}_{-0.07}\\\\times10^{14}$ $M_{\\\\odot}$, which is $\\\\sim$10% lower than that of $M_{2500,Chandra}$ and $\\\\sim$4% higher than $M_{2500,XMM-Newton}$.', 'cat_text': 'Cosmology and Nongalactic Astrophysics, High Energy Astrophysical Phenomena', 'categories': 'astro-ph.CO astro-ph.HE', 'id': '2309.11743', 'title': 'The Hydrostatic Mass of A478: Discrepant Results From Chandra, NuSTAR,   and XMM-Newton'}),\n",
       " Document(page_content='Clusters of galaxies are the most massive gravitationally-bound objects in the Universe and are still forming. They are thus important probes of cosmological parameters and a host of astrophysical', metadata={'abstract': 'Clusters of galaxies are the most massive gravitationally-bound objects in the Universe and are still forming. They are thus important probes of cosmological parameters and a host of astrophysical processes. Knowledge of the dynamics of the pervasive hot gas, which dominates in mass over stars in a cluster, is a crucial missing ingredient. It can enable new insights into mechanical energy injection by the central supermassive black hole and the use of hydrostatic equilibrium for the determination of cluster masses. X-rays from the core of the Perseus cluster are emitted by the 50 million K diffuse hot plasma filling its gravitational potential well. The Active Galactic Nucleus of the central galaxy NGC1275 is pumping jetted energy into the surrounding intracluster medium, creating buoyant bubbles filled with relativistic plasma. These likely induce motions in the intracluster medium and heat the inner gas preventing runaway radiative cooling; a process known as Active Galactic Nucleus Feedback. Here we report on Hitomi X-ray observations of the Perseus cluster core, which reveal a remarkably quiescent atmosphere where the gas has a line-of-sight velocity dispersion of 164+/-10 km/s in a region 30-60 kpc from the central nucleus. A gradient in the line-of-sight velocity of 150+/-70 km/s is found across the 60 kpc image of the cluster core. Turbulent pressure support in the gas is 4% or less of the thermodynamic pressure, with large scale shear at most doubling that estimate. We infer that total cluster masses determined from hydrostatic equilibrium in the central regions need little correction for turbulent pressure.', 'cat_text': 'Astrophysics of Galaxies, Cosmology and Nongalactic Astrophysics, High Energy Astrophysical Phenomena', 'categories': 'astro-ph.GA astro-ph.CO astro-ph.HE', 'id': '1607.04487', 'title': 'The Quiescent Intracluster Medium in the Core of the Perseus Cluster'}),\n",
       " Document(page_content='Clusters of galaxies are the most massive objects in the Universe and precise knowledge of their mass structure is important to understand the history of structure formation and constrain still', metadata={'abstract': 'Clusters of galaxies are the most massive objects in the Universe and precise knowledge of their mass structure is important to understand the history of structure formation and constrain still unknown types of dark contents of the Universe. X-ray spectroscopy of galaxy clusters provides rich information about the physical state of hot intracluster gas and the underlying potential structure. In this paper, starting from the basic description of clusters under equilibrium conditions, we review properties of clusters revealed primarily through X-ray observations considering their thermal and dynamical evolutions. The future prospects of cluster studies using upcoming X-ray missions are also mentioned.', 'cat_text': 'Cosmology and Nongalactic Astrophysics', 'categories': 'astro-ph.CO', 'id': '1211.0679', 'title': 'X-ray Spectroscopy of Clusters of Galaxies'})]"
      ]
     },
     "execution_count": 40,
     "metadata": {},
     "output_type": "execute_result"
    }
   ],
   "source": [
    "# Retrieve\n",
    "\n",
    "retrieval_chain = generate_docs_for_retrieval | retriever \n",
    "retrieved_docs = retrieval_chain.invoke({\"question\":question})\n",
    "\n",
    "retrieved_docs"
   ]
  },
  {
   "cell_type": "code",
   "execution_count": 41,
   "metadata": {},
   "outputs": [
    {
     "data": {
      "text/plain": [
       "'A galaxy cluster is the most massive gravitationally bound system consisting of dark matter, hot baryonic gas, and stars. It plays an important role in observational cosmology and galaxy evolution.'"
      ]
     },
     "execution_count": 41,
     "metadata": {},
     "output_type": "execute_result"
    }
   ],
   "source": [
    "# RAG\n",
    "template = \"\"\"Answer the following question based on this context:\n",
    "\n",
    "{context}\n",
    "\n",
    "Question: {question}\n",
    "\"\"\"\n",
    "\n",
    "prompt = ChatPromptTemplate.from_template(template)\n",
    "\n",
    "final_rag_chain = (\n",
    "    prompt\n",
    "    | llm\n",
    "    | StrOutputParser()\n",
    ")\n",
    "\n",
    "final_rag_chain.invoke({\"context\":retrieved_docs,\"question\":question})"
   ]
  }
 ],
 "metadata": {
  "kernelspec": {
   "display_name": "env-rag",
   "language": "python",
   "name": "python3"
  },
  "language_info": {
   "codemirror_mode": {
    "name": "ipython",
    "version": 3
   },
   "file_extension": ".py",
   "mimetype": "text/x-python",
   "name": "python",
   "nbconvert_exporter": "python",
   "pygments_lexer": "ipython3",
   "version": "3.10.13"
  }
 },
 "nbformat": 4,
 "nbformat_minor": 2
}

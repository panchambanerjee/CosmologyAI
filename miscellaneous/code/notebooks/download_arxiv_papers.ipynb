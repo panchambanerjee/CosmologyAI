{
 "cells": [
  {
   "cell_type": "markdown",
   "metadata": {},
   "source": [
    "### Getting all arxiv pdfs listed in the following Github repo:: https://github.com/georgestein/ml-in-cosmology\n",
    "\n",
    "### Then using https://pypi.org/project/arxiv-dl/"
   ]
  },
  {
   "cell_type": "code",
   "execution_count": 1,
   "metadata": {},
   "outputs": [
    {
     "name": "stdout",
     "output_type": "stream",
     "text": [
      "### ml-in-cosmology\n",
      "\n",
      "\n",
      "### ## Dictionary\n",
      "https://arxiv.org/abs/1502.03509\n",
      "https://arxiv.org/abs/1310.1659\n",
      "https://arxiv.org/abs/1706.04008\n",
      "https://arxiv.org/abs/1606.04797\n",
      "\n",
      "\n",
      "### ## Structure Formation\n",
      "https://arxiv.org/abs/1303.1055\n",
      "https://arxiv.org/abs/1409.1576\n",
      "https://arxiv.org/abs/1203.1695\n",
      "https://arxiv.org/abs/1312.2101\n",
      "https://arxiv.org/abs/1510.06402\n",
      "https://arxiv.org/abs/1510.07659\n",
      "https://arxiv.org/abs/1711.02033\n",
      "https://arxiv.org/abs/1712.03255\n",
      "https://arxiv.org/abs/1712.04467\n",
      "https://arxiv.org/abs/1801.09070\n",
      "https://arxiv.org/abs/1802.04271\n",
      "https://arxiv.org/abs/1803.11156\n",
      "https://arxiv.org/abs/1804.00816\n",
      "https://arxiv.org/abs/1805.02247\n",
      "https://arxiv.org/abs/1805.04537\n",
      "https://arxiv.org/abs/1811.06533\n",
      "https://arxiv.org/abs/1901.01264\n",
      "https://arxiv.org/abs/1902.05965\n",
      "https://arxiv.org/abs/1903.10524\n",
      "https://arxiv.org/abs/1903.12173\n",
      "https://arxiv.org/abs/1904.12846\n",
      "https://arxiv.org/abs/1905.06958\n",
      "https://arxiv.org/abs/1906.06339\n",
      "https://arxiv.org/abs/1908.05519\n",
      "https://arxiv.org/abs/1908.10590\n",
      "https://arxiv.org/abs/1909.06379\n",
      "https://arxiv.org/abs/1909.10527\n",
      "https://arxiv.org/abs/1910.00291\n",
      "https://arxiv.org/abs/1910.04255\n",
      "https://arxiv.org/abs/1912.04299\n",
      "https://arxiv.org/abs/1912.04412\n",
      "https://arxiv.org/abs/2001.05519\n",
      "https://arxiv.org/abs/2002.10218\n",
      "https://arxiv.org/abs/2004.08139\n",
      "https://arxiv.org/abs/2004.10223\n",
      "https://arxiv.org/abs/2005.03050\n",
      "https://arxiv.org/abs/2005.12276\n",
      "https://arxiv.org/abs/2006.11287\n",
      "https://arxiv.org/abs/2007.07267\n",
      "https://arxiv.org/abs/2007.10340\n",
      "https://arxiv.org/abs/2008.05001\n",
      "https://arxiv.org/abs/2010.02926\n",
      "https://arxiv.org/abs/2010.06608\n",
      "https://arxiv.org/abs/2011.05244\n",
      "https://arxiv.org/abs/2011.10577\n",
      "https://arxiv.org/abs/2011.12987\n",
      "https://arxiv.org/abs/2011.15018\n",
      "https://arxiv.org/abs/2012.00186\n",
      "https://arxiv.org/abs/2012.00240\n",
      "https://arxiv.org/abs/2012.03778\n",
      "https://arxiv.org/abs/2104.12864\n",
      "https://arxiv.org/abs/2105.01016\n",
      "https://arxiv.org/abs/2105.09450\n",
      "https://arxiv.org/abs/2105.12024\n",
      "https://arxiv.org/abs/2106.04014\n",
      "https://arxiv.org/abs/2106.06587\n",
      "https://arxiv.org/abs/2106.12662\n",
      "https://arxiv.org/abs/2106.12675\n",
      "https://arxiv.org/abs/2107.01223\n",
      "https://arxiv.org/abs/2109.04484\n",
      "https://arxiv.org/abs/2109.09747\n",
      "https://arxiv.org/abs/2109.10360\n",
      "https://arxiv.org/abs/2109.07070\n",
      "https://arxiv.org/abs/2110.05755\n",
      "https://arxiv.org/abs/2110.11970\n",
      "https://arxiv.org/abs/2111.02441\n",
      "https://arxiv.org/abs/2111.02422\n",
      "https://arxiv.org/abs/2111.06393\n",
      "https://arxiv.org/abs/2111.08683\n",
      "https://arxiv.org/abs/2112.01288\n",
      "https://arxiv.org/abs/2112.05889\n",
      "https://arxiv.org/abs/2112.05681\n",
      "https://arxiv.org/abs/2112.08424\n",
      "https://arxiv.org/abs/2112.14743\n",
      "https://arxiv.org/abs/2201.02202\n",
      "https://arxiv.org/abs/2201.06054\n",
      "https://arxiv.org/abs/2202.14006\n",
      "https://arxiv.org/abs/2203.00026\n",
      "https://arxiv.org/abs/2203.08827\n",
      "https://arxiv.org/abs/2203.12669\n",
      "https://arxiv.org/abs/2204.02408\n",
      "https://arxiv.org/abs/2204.07077\n",
      "https://arxiv.org/abs/2204.13713\n",
      "https://arxiv.org/abs/2205.04474\n",
      "https://arxiv.org/abs/2205.07898\n",
      "https://arxiv.org/abs/2206.04594\n",
      "https://arxiv.org/abs/2207.05202\n",
      "https://arxiv.org/abs/2207.05509\n",
      "https://arxiv.org/abs/2207.05707\n",
      "https://arxiv.org/abs/2207.08435\n",
      "\n",
      "\n",
      "### Structure Identification\n",
      "https://arxiv.org/abs/1410.0686\n",
      "https://arxiv.org/abs/1509.05409\n",
      "https://arxiv.org/abs/1810.07703\n",
      "https://arxiv.org/abs/1810.08430\n",
      "https://arxiv.org/abs/1902.02680\n",
      "https://arxiv.org/abs/1902.05950\n",
      "https://arxiv.org/abs/1905.09920\n",
      "https://arxiv.org/abs/1907.03957\n",
      "https://arxiv.org/abs/1908.02765\n",
      "https://arxiv.org/abs/1910.07868\n",
      "https://arxiv.org/abs/2003.05951\n",
      "https://arxiv.org/abs/2003.06135\n",
      "https://arxiv.org/abs/2005.11819\n",
      "https://arxiv.org/abs/2005.13985\n",
      "https://arxiv.org/abs/2006.05998\n",
      "https://arxiv.org/abs/2006.08235\n",
      "https://arxiv.org/abs/2006.13231\n",
      "https://arxiv.org/abs/2007.05144\n",
      "https://arxiv.org/abs/2008.01738\n",
      "https://arxiv.org/abs/2009.03340\n",
      "https://arxiv.org/abs/2102.05403\n",
      "https://arxiv.org/abs/2102.13123\n",
      "https://arxiv.org/abs/2103.01373\n",
      "https://arxiv.org/abs/2106.05253\n",
      "https://arxiv.org/abs/2111.01933\n",
      "https://arxiv.org/abs/2203.06288\n",
      "https://arxiv.org/abs/2204.10751\n",
      "https://arxiv.org/abs/2204.10332\n",
      "https://arxiv.org/abs/2205.15988\n",
      "https://arxiv.org/abs/2206.11312\n",
      "https://arxiv.org/abs/2207.09072\n",
      "\n",
      "\n",
      "### Gravitational Lensing\n",
      "\n",
      "\n",
      "### Weak Lensing\n",
      "https://arxiv.org/abs/1002.0838\n",
      "https://arxiv.org/abs/1411.3193\n",
      "https://arxiv.org/abs/1706.02390\n",
      "https://arxiv.org/abs/1707.05167\n",
      "https://arxiv.org/abs/1802.01212\n",
      "https://arxiv.org/abs/1806.05995\n",
      "https://arxiv.org/abs/1807.02120\n",
      "https://arxiv.org/abs/1807.08732\n",
      "https://arxiv.org/abs/1808.07491\n",
      "https://arxiv.org/abs/1810.11027\n",
      "https://arxiv.org/abs/1810.11030\n",
      "https://arxiv.org/abs/1812.05781\n",
      "https://arxiv.org/abs/1902.03663\n",
      "https://arxiv.org/abs/1902.08161\n",
      "https://arxiv.org/abs/1906.03156\n",
      "https://arxiv.org/abs/1908.00543\n",
      "https://arxiv.org/abs/1911.12890\n",
      "https://arxiv.org/abs/2005.06551\n",
      "https://arxiv.org/abs/2006.07011\n",
      "https://arxiv.org/abs/2007.06529\n",
      "https://arxiv.org/abs/2011.08271\n",
      "https://arxiv.org/abs/2011.10438\n",
      "https://arxiv.org/abs/2109.11060\n",
      "https://arxiv.org/abs/2201.05561\n",
      "https://arxiv.org/abs/2203.06124\n",
      "\n",
      "\n",
      "### Strong Lensing\n",
      "https://arxiv.org/abs/1607.04644\n",
      "https://arxiv.org/abs/1703.02642\n",
      "https://arxiv.org/abs/1704.02322\n",
      "https://arxiv.org/abs/1704.02744\n",
      "https://arxiv.org/abs/1708.08842\n",
      "https://arxiv.org/abs/1708.08843\n",
      "https://arxiv.org/abs/1802.03609\n",
      "https://arxiv.org/abs/1807.04764\n",
      "https://arxiv.org/abs/1808.00011\n",
      "https://arxiv.org/abs/1901.01359\n",
      "https://arxiv.org/abs/1906.00970\n",
      "https://arxiv.org/abs/1909.02005\n",
      "https://arxiv.org/abs/1909.07346\n",
      "https://arxiv.org/abs/1910.00015\n",
      "https://arxiv.org/abs/1910.06157\n",
      "https://arxiv.org/abs/1911.04320\n",
      "https://arxiv.org/abs/1911.03867\n",
      "https://arxiv.org/abs/2004.13048\n",
      "https://arxiv.org/abs/2005.04730\n",
      "https://arxiv.org/abs/2005.05353\n",
      "https://arxiv.org/abs/2007.00188\n",
      "https://arxiv.org/abs/2008.12731\n",
      "https://arxiv.org/abs/2009.06639\n",
      "https://arxiv.org/abs/2009.06663\n",
      "https://arxiv.org/abs/2010.12960\n",
      "https://arxiv.org/abs/2010.07032\n",
      "https://arxiv.org/abs/2012.00042\n",
      "https://arxiv.org/abs/2109.00014\n",
      "https://arxiv.org/abs/2109.09781\n",
      "https://arxiv.org/abs/2110.00023\n",
      "https://arxiv.org/abs/2110.01905\n",
      "https://arxiv.org/abs/2110.02418\n",
      "https://arxiv.org/abs/2110.09202\n",
      "https://arxiv.org/abs/2110.11972\n",
      "https://arxiv.org/abs/2112.02479\n",
      "https://arxiv.org/abs/2202.12776\n",
      "https://arxiv.org/abs/2202.07663\n",
      "https://arxiv.org/abs/2203.09536\n",
      "https://arxiv.org/abs/2204.05924\n",
      "https://arxiv.org/abs/2206.02764\n",
      "https://arxiv.org/abs/2205.09126\n",
      "https://arxiv.org/abs/2206.11279\n",
      "https://arxiv.org/abs/2206.14820\n",
      "https://arxiv.org/abs/2207.01073\n",
      "https://arxiv.org/abs/2207.04123\n",
      "https://arxiv.org/abs/2207.10124\n",
      "https://arxiv.org/abs/2207.10698\n",
      "\n",
      "\n",
      "### Observational\n",
      "\n",
      "\n",
      "### Redshifts\n",
      "https://arxiv.org/abs/0804.3413\n",
      "https://arxiv.org/abs/0908.4085\n",
      "https://arxiv.org/abs/1110.0005\n",
      "https://arxiv.org/abs/1201.1098\n",
      "https://arxiv.org/abs/1303.7269\n",
      "https://arxiv.org/abs/1305.5023\n",
      "https://arxiv.org/abs/1309.2418\n",
      "https://arxiv.org/abs/1312.1287\n",
      "https://arxiv.org/abs/1312.5753\n",
      "https://arxiv.org/abs/1410.4696\n",
      "https://arxiv.org/abs/1412.5997\n",
      "https://arxiv.org/abs/1503.08214\n",
      "https://arxiv.org/abs/1504.07255\n",
      "https://arxiv.org/abs/1505.05489\n",
      "https://arxiv.org/abs/1507.00490\n",
      "https://arxiv.org/abs/1511.07623\n",
      "https://arxiv.org/abs/1601.01739\n",
      "https://arxiv.org/abs/1602.06294\n",
      "https://arxiv.org/abs/1604.03593\n",
      "https://arxiv.org/abs/1609.03568\n",
      "https://arxiv.org/abs/1706.02467\n",
      "https://arxiv.org/abs/1709.04205\n",
      "https://arxiv.org/abs/1710.01313\n",
      "https://arxiv.org/abs/1712.02777\n",
      "https://arxiv.org/abs/1803.10032\n",
      "https://arxiv.org/abs/1806.06607\n",
      "https://arxiv.org/abs/1904.09988\n",
      "https://arxiv.org/abs/1907.10572\n",
      "https://arxiv.org/abs/1909.09632\n",
      "https://arxiv.org/abs/1910.10167\n",
      "https://arxiv.org/abs/2002.07263\n",
      "https://arxiv.org/abs/2003.10766\n",
      "https://arxiv.org/abs/2004.07979\n",
      "https://arxiv.org/abs/2005.04207\n",
      "https://arxiv.org/abs/2005.12931\n",
      "https://arxiv.org/abs/2010.13857\n",
      "https://arxiv.org/abs/2011.12312\n",
      "https://arxiv.org/abs/2012.05928\n",
      "https://arxiv.org/abs/2101.02532\n",
      "https://arxiv.org/abs/2101.04293\n",
      "https://arxiv.org/abs/2102.09177\n",
      "https://arxiv.org/abs/2104.01875\n",
      "https://arxiv.org/abs/2104.11335\n",
      "https://arxiv.org/abs/2107.01891\n",
      "https://arxiv.org/abs/2108.09415\n",
      "https://arxiv.org/abs/2108.13260\n",
      "https://arxiv.org/abs/2109.02503\n",
      "https://arxiv.org/abs/2110.05726\n",
      "https://arxiv.org/abs/2110.14951\n",
      "https://arxiv.org/abs/2110.13901\n",
      "https://arxiv.org/abs/2111.12118\n",
      "https://arxiv.org/abs/2112.03939\n",
      "https://arxiv.org/abs/2112.07104\n",
      "https://arxiv.org/abs/2112.07811\n",
      "https://arxiv.org/abs/2112.08690\n",
      "https://arxiv.org/abs/2202.07121\n",
      "https://arxiv.org/abs/2202.12775\n",
      "https://arxiv.org/abs/2202.09964\n",
      "https://arxiv.org/abs/2202.13504\n",
      "https://arxiv.org/abs/2203.01949\n",
      "https://arxiv.org/abs/2204.02080\n",
      "https://arxiv.org/abs/2204.09135\n",
      "https://arxiv.org/abs/2206.01440\n",
      "https://arxiv.org/abs/2206.13696\n",
      "\n",
      "\n",
      "### Other Observational\n",
      "https://arxiv.org/abs/0809.0547\n",
      "https://arxiv.org/abs/1606.02694\n",
      "https://arxiv.org/abs/1703.07607\n",
      "https://arxiv.org/abs/1709.04962\n",
      "https://arxiv.org/abs/1709.05834\n",
      "https://arxiv.org/abs/1712.03970\n",
      "https://arxiv.org/abs/1803.08334\n",
      "https://arxiv.org/abs/1805.02427\n",
      "https://arxiv.org/abs/1805.07845\n",
      "https://arxiv.org/abs/1805.12008\n",
      "https://arxiv.org/abs/1807.00807\n",
      "https://arxiv.org/abs/1901.04506\n",
      "https://arxiv.org/abs/1904.10286\n",
      "https://arxiv.org/abs/1905.10376\n",
      "https://arxiv.org/abs/1906.08784\n",
      "https://arxiv.org/abs/1907.11355\n",
      "https://arxiv.org/abs/1910.01529\n",
      "https://arxiv.org/abs/1910.02788\n",
      "https://arxiv.org/abs/1910.03636\n",
      "https://arxiv.org/abs/1910.03596\n",
      "https://arxiv.org/abs/1910.07317\n",
      "https://arxiv.org/abs/1702.00075\n",
      "https://arxiv.org/abs/2002.12700\n",
      "https://arxiv.org/abs/2005.02807\n",
      "https://arxiv.org/abs/2005.12039\n",
      "https://arxiv.org/abs/2006.00615\n",
      "https://arxiv.org/abs/2008.02583\n",
      "https://arxiv.org/abs/2008.11577\n",
      "https://arxiv.org/abs/2009.11932\n",
      "https://arxiv.org/abs/2010.00809\n",
      "https://arxiv.org/abs/2010.03762\n",
      "https://arxiv.org/abs/2011.02718\n",
      "https://arxiv.org/abs/2011.07124\n",
      "https://arxiv.org/abs/2011.12437\n",
      "https://arxiv.org/abs/2011.13590\n",
      "https://arxiv.org/abs/2012.13083\n",
      "https://arxiv.org/abs/2101.06683\n",
      "https://arxiv.org/abs/2102.05050\n",
      "https://arxiv.org/abs/2104.02778\n",
      "https://arxiv.org/abs/2104.08292\n",
      "https://arxiv.org/abs/2105.02434\n",
      "https://arxiv.org/abs/2105.12149\n",
      "https://arxiv.org/abs/2106.00059\n",
      "https://arxiv.org/abs/2107.00385\n",
      "https://arxiv.org/abs/2109.09550\n",
      "https://arxiv.org/abs/2103.00276\n",
      "https://arxiv.org/abs/2110.02232\n",
      "https://arxiv.org/abs/2110.08180\n",
      "https://arxiv.org/abs/2110.08288\n",
      "https://arxiv.org/abs/2110.10694\n",
      "https://arxiv.org/abs/2111.01713\n",
      "https://arxiv.org/abs/2111.04353\n",
      "https://arxiv.org/abs/2111.11654\n",
      "https://arxiv.org/abs/2111.15455\n",
      "https://arxiv.org/abs/2112.03564\n",
      "https://arxiv.org/abs/2201.00827\n",
      "https://arxiv.org/abs/2112.13865\n",
      "https://arxiv.org/abs/2201.04714\n",
      "https://arxiv.org/abs/2201.10189\n",
      "https://arxiv.org/abs/2202.08172\n",
      "https://arxiv.org/abs/2203.07412\n",
      "https://arxiv.org/abs/2203.09908\n",
      "https://arxiv.org/abs/2203.16813\n",
      "https://arxiv.org/abs/2204.10141\n",
      "https://arxiv.org/abs/2205.01700\n",
      "https://arxiv.org/abs/2205.04587\n",
      "https://arxiv.org/abs/2205.06252\n",
      "https://arxiv.org/abs/2205.06758\n",
      "https://arxiv.org/abs/2205.09760\n",
      "https://arxiv.org/abs/2205.12964\n",
      "https://arxiv.org/abs/2206.06165\n",
      "https://arxiv.org/abs/2206.14834\n",
      "https://arxiv.org/abs/2206.15131\n",
      "https://arxiv.org/abs/2207.00185\n",
      "https://arxiv.org/abs/2207.03207\n",
      "https://arxiv.org/abs/2207.03471\n",
      "https://arxiv.org/abs/2207.05642\n",
      "https://arxiv.org/abs/2207.05107\n",
      "https://arxiv.org/abs/2207.04578\n",
      "\n",
      "\n",
      "### Tools\n",
      "https://arxiv.org/abs/1808.04728\n",
      "https://arxiv.org/abs/1810.12186\n",
      "https://arxiv.org/abs/1902.04083\n",
      "https://arxiv.org/abs/1907.05764\n",
      "https://arxiv.org/abs/2010.11847\n",
      "https://arxiv.org/abs/2102.02828\n",
      "https://arxiv.org/abs/2107.00665\n",
      "https://arxiv.org/abs/2106.06662\n",
      "\n",
      "\n",
      "### Reviews\n",
      "https://arxiv.org/abs/0906.2173\n",
      "https://arxiv.org/abs/1902.10159\n",
      "https://arxiv.org/abs/1903.10563\n",
      "https://arxiv.org/abs/2111.14566\n",
      "https://arxiv.org/abs/2203.08056\n",
      "https://arxiv.org/abs/2206.13633\n",
      "\n",
      "\n"
     ]
    }
   ],
   "source": [
    "import re\n",
    "# from tqdm import tqdm\n",
    "\n",
    "def read_markdown_file(file_path):\n",
    "    \"\"\"Read the content of a Markdown file and return it.\"\"\"\n",
    "    with open(file_path, 'r', encoding='utf-8') as file:\n",
    "        content = file.read()\n",
    "    return content\n",
    "\n",
    "def extract_arxiv_links(markdown_content):\n",
    "    \"\"\"Extract sections and arXiv links from the markdown content.\"\"\"\n",
    "    pattern = re.compile(r\"##\\s*(.*?)\\n(.*?)##\", re.DOTALL)\n",
    "    section_links = {}\n",
    "    for match in pattern.finditer(markdown_content + \"##\"):  # Appending '##' to ensure last section is captured\n",
    "        section_title = match.group(1).strip()\n",
    "        section_content = match.group(2)\n",
    "        links = re.findall(r\"https://arxiv.org/abs/\\d+\\.\\d+\", section_content)\n",
    "        section_links[section_title] = links\n",
    "    return section_links\n",
    "\n",
    "# Path to the github repo Markdown file\n",
    "file_path = 'github_repo.md'\n",
    "\n",
    "# Reading the markdown file\n",
    "markdown_content = read_markdown_file(file_path)\n",
    "\n",
    "# Extracting arXiv links\n",
    "links_by_section = extract_arxiv_links(markdown_content)\n",
    "\n",
    "# Printing the links by section\n",
    "for section, links in links_by_section.items():\n",
    "    print(f\"### {section}\")\n",
    "    for link in links:\n",
    "        print(link)\n",
    "    print(\"\\n\")\n"
   ]
  },
  {
   "cell_type": "code",
   "execution_count": 3,
   "metadata": {},
   "outputs": [
    {
     "data": {
      "text/plain": [
       "dict_keys(['ml-in-cosmology', '## Dictionary', '## Structure Formation', 'Structure Identification', 'Gravitational Lensing', 'Weak Lensing', 'Strong Lensing', 'Observational', 'Redshifts', 'Other Observational', 'Tools', 'Reviews'])"
      ]
     },
     "execution_count": 3,
     "metadata": {},
     "output_type": "execute_result"
    }
   ],
   "source": [
    "links_by_section.keys()"
   ]
  },
  {
   "cell_type": "markdown",
   "metadata": {},
   "source": [
    "### For a first pass, let us pick the Gravitational Lensing papers and download them with https://pypi.org/project/arxiv-dl/"
   ]
  },
  {
   "cell_type": "code",
   "execution_count": 14,
   "metadata": {},
   "outputs": [],
   "source": [
    "def get_links_for_section(links_by_section, section_name):\n",
    "    \"\"\"\n",
    "    Extracts and returns the list of arXiv links for a specified section.\n",
    "    \n",
    "    Parameters:\n",
    "    links_by_section (dict): A dictionary where keys are section names and values are lists of arXiv links.\n",
    "    section_name (str): The name of the section from which to extract arXiv links.\n",
    "    \n",
    "    Returns:\n",
    "    list: A list of arXiv links for the specified section. Returns an empty list if the section is not found.\n",
    "    \"\"\"\n",
    "    # Return the links for the specified section, or an empty list if the section is not found\n",
    "    return links_by_section.get(section_name, [])\n"
   ]
  },
  {
   "cell_type": "code",
   "execution_count": 16,
   "metadata": {},
   "outputs": [
    {
     "name": "stdout",
     "output_type": "stream",
     "text": [
      "ArXiv links for section 'Strong Lensing':\n",
      "https://arxiv.org/abs/1607.04644\n",
      "https://arxiv.org/abs/1703.02642\n",
      "https://arxiv.org/abs/1704.02322\n",
      "https://arxiv.org/abs/1704.02744\n",
      "https://arxiv.org/abs/1708.08842\n",
      "https://arxiv.org/abs/1708.08843\n",
      "https://arxiv.org/abs/1802.03609\n",
      "https://arxiv.org/abs/1807.04764\n",
      "https://arxiv.org/abs/1808.00011\n",
      "https://arxiv.org/abs/1901.01359\n",
      "https://arxiv.org/abs/1906.00970\n",
      "https://arxiv.org/abs/1909.02005\n",
      "https://arxiv.org/abs/1909.07346\n",
      "https://arxiv.org/abs/1910.00015\n",
      "https://arxiv.org/abs/1910.06157\n",
      "https://arxiv.org/abs/1911.04320\n",
      "https://arxiv.org/abs/1911.03867\n",
      "https://arxiv.org/abs/2004.13048\n",
      "https://arxiv.org/abs/2005.04730\n",
      "https://arxiv.org/abs/2005.05353\n",
      "https://arxiv.org/abs/2007.00188\n",
      "https://arxiv.org/abs/2008.12731\n",
      "https://arxiv.org/abs/2009.06639\n",
      "https://arxiv.org/abs/2009.06663\n",
      "https://arxiv.org/abs/2010.12960\n",
      "https://arxiv.org/abs/2010.07032\n",
      "https://arxiv.org/abs/2012.00042\n",
      "https://arxiv.org/abs/2109.00014\n",
      "https://arxiv.org/abs/2109.09781\n",
      "https://arxiv.org/abs/2110.00023\n",
      "https://arxiv.org/abs/2110.01905\n",
      "https://arxiv.org/abs/2110.02418\n",
      "https://arxiv.org/abs/2110.09202\n",
      "https://arxiv.org/abs/2110.11972\n",
      "https://arxiv.org/abs/2112.02479\n",
      "https://arxiv.org/abs/2202.12776\n",
      "https://arxiv.org/abs/2202.07663\n",
      "https://arxiv.org/abs/2203.09536\n",
      "https://arxiv.org/abs/2204.05924\n",
      "https://arxiv.org/abs/2206.02764\n",
      "https://arxiv.org/abs/2205.09126\n",
      "https://arxiv.org/abs/2206.11279\n",
      "https://arxiv.org/abs/2206.14820\n",
      "https://arxiv.org/abs/2207.01073\n",
      "https://arxiv.org/abs/2207.04123\n",
      "https://arxiv.org/abs/2207.10124\n",
      "https://arxiv.org/abs/2207.10698\n"
     ]
    }
   ],
   "source": [
    "section_to_extract = \"Strong Lensing\"\n",
    "extracted_links = get_links_for_section(links_by_section, section_to_extract)\n",
    "\n",
    "strong_lensing_links = []\n",
    "\n",
    "# Print the extracted links\n",
    "print(f\"ArXiv links for section '{section_to_extract}':\")\n",
    "for link in extracted_links:\n",
    "    strong_lensing_links.append(link)\n",
    "    print(link)"
   ]
  },
  {
   "cell_type": "code",
   "execution_count": 17,
   "metadata": {},
   "outputs": [
    {
     "data": {
      "text/plain": [
       "47"
      ]
     },
     "execution_count": 17,
     "metadata": {},
     "output_type": "execute_result"
    }
   ],
   "source": [
    "len(strong_lensing_links)"
   ]
  },
  {
   "cell_type": "code",
   "execution_count": 18,
   "metadata": {},
   "outputs": [
    {
     "name": "stdout",
     "output_type": "stream",
     "text": [
      "ArXiv links for section 'Weak Lensing':\n",
      "https://arxiv.org/abs/1002.0838\n",
      "https://arxiv.org/abs/1411.3193\n",
      "https://arxiv.org/abs/1706.02390\n",
      "https://arxiv.org/abs/1707.05167\n",
      "https://arxiv.org/abs/1802.01212\n",
      "https://arxiv.org/abs/1806.05995\n",
      "https://arxiv.org/abs/1807.02120\n",
      "https://arxiv.org/abs/1807.08732\n",
      "https://arxiv.org/abs/1808.07491\n",
      "https://arxiv.org/abs/1810.11027\n",
      "https://arxiv.org/abs/1810.11030\n",
      "https://arxiv.org/abs/1812.05781\n",
      "https://arxiv.org/abs/1902.03663\n",
      "https://arxiv.org/abs/1902.08161\n",
      "https://arxiv.org/abs/1906.03156\n",
      "https://arxiv.org/abs/1908.00543\n",
      "https://arxiv.org/abs/1911.12890\n",
      "https://arxiv.org/abs/2005.06551\n",
      "https://arxiv.org/abs/2006.07011\n",
      "https://arxiv.org/abs/2007.06529\n",
      "https://arxiv.org/abs/2011.08271\n",
      "https://arxiv.org/abs/2011.10438\n",
      "https://arxiv.org/abs/2109.11060\n",
      "https://arxiv.org/abs/2201.05561\n",
      "https://arxiv.org/abs/2203.06124\n",
      "['https://arxiv.org/abs/1607.04644', 'https://arxiv.org/abs/1703.02642', 'https://arxiv.org/abs/1704.02322', 'https://arxiv.org/abs/1704.02744', 'https://arxiv.org/abs/1708.08842', 'https://arxiv.org/abs/1708.08843', 'https://arxiv.org/abs/1802.03609', 'https://arxiv.org/abs/1807.04764', 'https://arxiv.org/abs/1808.00011', 'https://arxiv.org/abs/1901.01359', 'https://arxiv.org/abs/1906.00970', 'https://arxiv.org/abs/1909.02005', 'https://arxiv.org/abs/1909.07346', 'https://arxiv.org/abs/1910.00015', 'https://arxiv.org/abs/1910.06157', 'https://arxiv.org/abs/1911.04320', 'https://arxiv.org/abs/1911.03867', 'https://arxiv.org/abs/2004.13048', 'https://arxiv.org/abs/2005.04730', 'https://arxiv.org/abs/2005.05353', 'https://arxiv.org/abs/2007.00188', 'https://arxiv.org/abs/2008.12731', 'https://arxiv.org/abs/2009.06639', 'https://arxiv.org/abs/2009.06663', 'https://arxiv.org/abs/2010.12960', 'https://arxiv.org/abs/2010.07032', 'https://arxiv.org/abs/2012.00042', 'https://arxiv.org/abs/2109.00014', 'https://arxiv.org/abs/2109.09781', 'https://arxiv.org/abs/2110.00023', 'https://arxiv.org/abs/2110.01905', 'https://arxiv.org/abs/2110.02418', 'https://arxiv.org/abs/2110.09202', 'https://arxiv.org/abs/2110.11972', 'https://arxiv.org/abs/2112.02479', 'https://arxiv.org/abs/2202.12776', 'https://arxiv.org/abs/2202.07663', 'https://arxiv.org/abs/2203.09536', 'https://arxiv.org/abs/2204.05924', 'https://arxiv.org/abs/2206.02764', 'https://arxiv.org/abs/2205.09126', 'https://arxiv.org/abs/2206.11279', 'https://arxiv.org/abs/2206.14820', 'https://arxiv.org/abs/2207.01073', 'https://arxiv.org/abs/2207.04123', 'https://arxiv.org/abs/2207.10124', 'https://arxiv.org/abs/2207.10698']\n"
     ]
    }
   ],
   "source": [
    "section_to_extract = \"Weak Lensing\"\n",
    "extracted_links = get_links_for_section(links_by_section, section_to_extract)\n",
    "\n",
    "weak_lensing_links = []\n",
    "\n",
    "# Print the extracted links\n",
    "print(f\"ArXiv links for section '{section_to_extract}':\")\n",
    "for link in extracted_links:\n",
    "    weak_lensing_links.append(link)\n",
    "    print(link)"
   ]
  },
  {
   "cell_type": "code",
   "execution_count": 19,
   "metadata": {},
   "outputs": [
    {
     "data": {
      "text/plain": [
       "26"
      ]
     },
     "execution_count": 19,
     "metadata": {},
     "output_type": "execute_result"
    }
   ],
   "source": [
    "len(weak_lensing_links)"
   ]
  },
  {
   "cell_type": "code",
   "execution_count": 21,
   "metadata": {},
   "outputs": [],
   "source": [
    "### There is a nested list inside weak_links (why??)\n",
    "\n",
    "### Make one list::\n",
    "\n",
    "import itertools\n",
    "\n",
    "# Use itertools.chain to flatten the list\n",
    "flat_list = list(itertools.chain.from_iterable([sublist if isinstance(sublist, list) else [sublist] for sublist in weak_lensing_links]))"
   ]
  },
  {
   "cell_type": "code",
   "execution_count": 22,
   "metadata": {},
   "outputs": [
    {
     "data": {
      "text/plain": [
       "['https://arxiv.org/abs/1002.0838',\n",
       " 'https://arxiv.org/abs/1411.3193',\n",
       " 'https://arxiv.org/abs/1706.02390',\n",
       " 'https://arxiv.org/abs/1707.05167',\n",
       " 'https://arxiv.org/abs/1802.01212',\n",
       " 'https://arxiv.org/abs/1806.05995',\n",
       " 'https://arxiv.org/abs/1807.02120',\n",
       " 'https://arxiv.org/abs/1807.08732',\n",
       " 'https://arxiv.org/abs/1808.07491',\n",
       " 'https://arxiv.org/abs/1810.11027',\n",
       " 'https://arxiv.org/abs/1810.11030',\n",
       " 'https://arxiv.org/abs/1812.05781',\n",
       " 'https://arxiv.org/abs/1902.03663',\n",
       " 'https://arxiv.org/abs/1902.08161',\n",
       " 'https://arxiv.org/abs/1906.03156',\n",
       " 'https://arxiv.org/abs/1908.00543',\n",
       " 'https://arxiv.org/abs/1911.12890',\n",
       " 'https://arxiv.org/abs/2005.06551',\n",
       " 'https://arxiv.org/abs/2006.07011',\n",
       " 'https://arxiv.org/abs/2007.06529',\n",
       " 'https://arxiv.org/abs/2011.08271',\n",
       " 'https://arxiv.org/abs/2011.10438',\n",
       " 'https://arxiv.org/abs/2109.11060',\n",
       " 'https://arxiv.org/abs/2201.05561',\n",
       " 'https://arxiv.org/abs/2203.06124',\n",
       " 'https://arxiv.org/abs/1607.04644',\n",
       " 'https://arxiv.org/abs/1703.02642',\n",
       " 'https://arxiv.org/abs/1704.02322',\n",
       " 'https://arxiv.org/abs/1704.02744',\n",
       " 'https://arxiv.org/abs/1708.08842',\n",
       " 'https://arxiv.org/abs/1708.08843',\n",
       " 'https://arxiv.org/abs/1802.03609',\n",
       " 'https://arxiv.org/abs/1807.04764',\n",
       " 'https://arxiv.org/abs/1808.00011',\n",
       " 'https://arxiv.org/abs/1901.01359',\n",
       " 'https://arxiv.org/abs/1906.00970',\n",
       " 'https://arxiv.org/abs/1909.02005',\n",
       " 'https://arxiv.org/abs/1909.07346',\n",
       " 'https://arxiv.org/abs/1910.00015',\n",
       " 'https://arxiv.org/abs/1910.06157',\n",
       " 'https://arxiv.org/abs/1911.04320',\n",
       " 'https://arxiv.org/abs/1911.03867',\n",
       " 'https://arxiv.org/abs/2004.13048',\n",
       " 'https://arxiv.org/abs/2005.04730',\n",
       " 'https://arxiv.org/abs/2005.05353',\n",
       " 'https://arxiv.org/abs/2007.00188',\n",
       " 'https://arxiv.org/abs/2008.12731',\n",
       " 'https://arxiv.org/abs/2009.06639',\n",
       " 'https://arxiv.org/abs/2009.06663',\n",
       " 'https://arxiv.org/abs/2010.12960',\n",
       " 'https://arxiv.org/abs/2010.07032',\n",
       " 'https://arxiv.org/abs/2012.00042',\n",
       " 'https://arxiv.org/abs/2109.00014',\n",
       " 'https://arxiv.org/abs/2109.09781',\n",
       " 'https://arxiv.org/abs/2110.00023',\n",
       " 'https://arxiv.org/abs/2110.01905',\n",
       " 'https://arxiv.org/abs/2110.02418',\n",
       " 'https://arxiv.org/abs/2110.09202',\n",
       " 'https://arxiv.org/abs/2110.11972',\n",
       " 'https://arxiv.org/abs/2112.02479',\n",
       " 'https://arxiv.org/abs/2202.12776',\n",
       " 'https://arxiv.org/abs/2202.07663',\n",
       " 'https://arxiv.org/abs/2203.09536',\n",
       " 'https://arxiv.org/abs/2204.05924',\n",
       " 'https://arxiv.org/abs/2206.02764',\n",
       " 'https://arxiv.org/abs/2205.09126',\n",
       " 'https://arxiv.org/abs/2206.11279',\n",
       " 'https://arxiv.org/abs/2206.14820',\n",
       " 'https://arxiv.org/abs/2207.01073',\n",
       " 'https://arxiv.org/abs/2207.04123',\n",
       " 'https://arxiv.org/abs/2207.10124',\n",
       " 'https://arxiv.org/abs/2207.10698']"
      ]
     },
     "execution_count": 22,
     "metadata": {},
     "output_type": "execute_result"
    }
   ],
   "source": [
    "flat_list"
   ]
  },
  {
   "cell_type": "code",
   "execution_count": 23,
   "metadata": {},
   "outputs": [
    {
     "data": {
      "text/plain": [
       "119"
      ]
     },
     "execution_count": 23,
     "metadata": {},
     "output_type": "execute_result"
    }
   ],
   "source": [
    "total_lensing_lst = strong_lensing_links + flat_list\n",
    "len(total_lensing_lst)"
   ]
  },
  {
   "cell_type": "markdown",
   "metadata": {},
   "source": [
    "### Now try and download these 119 arxiv papers on Lensing"
   ]
  },
  {
   "cell_type": "code",
   "execution_count": 24,
   "metadata": {},
   "outputs": [],
   "source": [
    "grav_lensing_arxiv = total_lensing_lst"
   ]
  },
  {
   "cell_type": "code",
   "execution_count": 32,
   "metadata": {},
   "outputs": [],
   "source": [
    "import subprocess\n",
    "import os\n",
    "\n",
    "def download_paper(url, download_dir):\n",
    "    \"\"\"\n",
    "    Downloads a paper from the given URL using the 'paper' command-line tool.\n",
    "    \n",
    "    Parameters:\n",
    "        url (str): The URL to download the paper from.\n",
    "        download_dir (str): The directory to download the paper into.\n",
    "    \"\"\"\n",
    "    # Construct the command for a single paper download\n",
    "    command = [\n",
    "        'paper',  # Command name\n",
    "        '-p',  # Download PDFs only\n",
    "        # '-d', download_dir,  # Set the download directory\n",
    "        url  # The paper URL to download\n",
    "    ]\n",
    "\n",
    "    # Execute the command\n",
    "    result = subprocess.run(command, stdout=subprocess.PIPE, stderr=subprocess.PIPE)\n",
    "    # Optionally print output and errors (or handle them as needed)\n",
    "    print(\"Output:\", result.stdout.decode())\n",
    "    print(\"Error:\", result.stderr.decode())"
   ]
  },
  {
   "cell_type": "code",
   "execution_count": 33,
   "metadata": {},
   "outputs": [],
   "source": [
    "def download_papers(paper_urls):\n",
    "    \"\"\"\n",
    "    Downloads each paper from the given list of URLs individually using the 'paper' command-line tool.\n",
    "    \n",
    "    Parameters:\n",
    "        paper_urls (list): A list of URLs to download.\n",
    "    \"\"\"\n",
    "    # Create download directory name based on the list name\n",
    "    download_dir = f\"{paper_urls}_papers\"\n",
    "    \n",
    "    # Ensure the directory exists\n",
    "    if not os.path.exists(download_dir):\n",
    "        os.makedirs(download_dir)\n",
    "\n",
    "    # Loop through each URL and download it\n",
    "    for url in paper_urls:\n",
    "        download_paper(url, download_dir)"
   ]
  },
  {
   "cell_type": "code",
   "execution_count": 34,
   "metadata": {},
   "outputs": [
    {
     "data": {
      "text/plain": [
       "119"
      ]
     },
     "execution_count": 34,
     "metadata": {},
     "output_type": "execute_result"
    }
   ],
   "source": [
    "len(grav_lensing_arxiv)"
   ]
  },
  {
   "cell_type": "code",
   "execution_count": 35,
   "metadata": {},
   "outputs": [],
   "source": [
    "# grav_lensing_arxiv"
   ]
  },
  {
   "cell_type": "markdown",
   "metadata": {},
   "source": [
    "### Using the default download directory (~/Downloads for now)"
   ]
  },
  {
   "cell_type": "code",
   "execution_count": 43,
   "metadata": {},
   "outputs": [],
   "source": [
    "def download_paper(url):\n",
    "    \"\"\"\n",
    "    Downloads a paper from the given URL using the 'paper' command-line tool.\n",
    "    \n",
    "    Parameters:\n",
    "        url (str): The URL to download the paper from.\n",
    "    \"\"\"\n",
    "    # Construct the command for a single paper download\n",
    "    command = [\n",
    "        'paper',  # Command name\n",
    "        '-p',  # Download PDFs only\n",
    "         url  # The paper URL to download\n",
    "    ]\n",
    "\n",
    "    # Execute the command\n",
    "    result = subprocess.run(command, stdout=subprocess.PIPE, stderr=subprocess.PIPE)\n",
    "    # Optionally print output and errors (or handle them as needed)\n",
    "    print(\"Output:\", result.stdout.decode())\n",
    "    print(\"Error:\", result.stderr.decode())"
   ]
  },
  {
   "cell_type": "code",
   "execution_count": 44,
   "metadata": {},
   "outputs": [
    {
     "data": {
      "text/plain": [
       "'https://arxiv.org/abs/1607.04644'"
      ]
     },
     "execution_count": 44,
     "metadata": {},
     "output_type": "execute_result"
    }
   ],
   "source": [
    "grav_lensing_arxiv[0]"
   ]
  },
  {
   "cell_type": "code",
   "execution_count": 46,
   "metadata": {},
   "outputs": [],
   "source": [
    "from tqdm import tqdm"
   ]
  },
  {
   "cell_type": "code",
   "execution_count": 47,
   "metadata": {},
   "outputs": [
    {
     "name": "stderr",
     "output_type": "stream",
     "text": [
      "  0%|          | 0/119 [00:00<?, ?it/s]"
     ]
    },
    {
     "name": "stderr",
     "output_type": "stream",
     "text": [
      "  1%|          | 1/119 [00:08<15:56,  8.10s/it]"
     ]
    },
    {
     "name": "stdout",
     "output_type": "stream",
     "text": [
      "Output: [arxiv-dl] (version: 1.1.5)\n",
      "[1/1] >>> https://arxiv.org/abs/1607.04644\n",
      "\n",
      "\n",
      "Error: \u001b[32m[Processing] Retrieving paper metadata...\u001b[0m\n",
      "\u001b[32m[Downloading] Using aria2 with 5 connections\u001b[0m\n",
      "\u001b[32m[Done] Paper saved to \"/Users/panchamb/Downloads/ArXiv_Papers/1607.04644_A_Neural_Network_Gravitational_Arc_Finder_based_on_the_Mediatrix_filamentation_Method.pdf\"\u001b[0m\n",
      "\n"
     ]
    },
    {
     "name": "stderr",
     "output_type": "stream",
     "text": [
      "  2%|▏         | 2/119 [00:15<15:25,  7.91s/it]"
     ]
    },
    {
     "name": "stdout",
     "output_type": "stream",
     "text": [
      "Output: [arxiv-dl] (version: 1.1.5)\n",
      "[1/1] >>> https://arxiv.org/abs/1703.02642\n",
      "\n",
      "\n",
      "Error: \u001b[32m[Processing] Retrieving paper metadata...\u001b[0m\n",
      "\u001b[32m[Downloading] Using aria2 with 5 connections\u001b[0m\n",
      "\u001b[32m[Done] Paper saved to \"/Users/panchamb/Downloads/ArXiv_Papers/1703.02642_CMU_DeepLens_Deep_Learning_For_Automatic_Image-based_Galaxy-Galaxy_Strong_Lens_Finding.pdf\"\u001b[0m\n",
      "\n"
     ]
    },
    {
     "name": "stderr",
     "output_type": "stream",
     "text": [
      "  3%|▎         | 3/119 [00:24<16:11,  8.38s/it]"
     ]
    },
    {
     "name": "stdout",
     "output_type": "stream",
     "text": [
      "Output: [arxiv-dl] (version: 1.1.5)\n",
      "[1/1] >>> https://arxiv.org/abs/1704.02322\n",
      "\n",
      "\n",
      "Error: \u001b[32m[Processing] Retrieving paper metadata...\u001b[0m\n",
      "\u001b[32m[Downloading] Using aria2 with 5 connections\u001b[0m\n",
      "\u001b[32m[Done] Paper saved to \"/Users/panchamb/Downloads/ArXiv_Papers/1704.02322_Automated_Lensing_Learner_Automated_Strong_Lensing_Identification_with_a_Computer_Vision_Technique.pdf\"\u001b[0m\n",
      "\n"
     ]
    },
    {
     "name": "stderr",
     "output_type": "stream",
     "text": [
      "  3%|▎         | 4/119 [00:33<16:08,  8.43s/it]"
     ]
    },
    {
     "name": "stdout",
     "output_type": "stream",
     "text": [
      "Output: [arxiv-dl] (version: 1.1.5)\n",
      "[1/1] >>> https://arxiv.org/abs/1704.02744\n",
      "\n",
      "\n",
      "Error: \u001b[32m[Processing] Retrieving paper metadata...\u001b[0m\n",
      "\u001b[32m[Downloading] Using aria2 with 5 connections\u001b[0m\n",
      "\u001b[32m[Done] Paper saved to \"/Users/panchamb/Downloads/ArXiv_Papers/1704.02744_Finding_strong_lenses_in_CFHTLS_using_convolutional_neural_networks.pdf\"\u001b[0m\n",
      "\n"
     ]
    },
    {
     "name": "stderr",
     "output_type": "stream",
     "text": [
      "  4%|▍         | 5/119 [00:41<15:30,  8.17s/it]"
     ]
    },
    {
     "name": "stdout",
     "output_type": "stream",
     "text": [
      "Output: [arxiv-dl] (version: 1.1.5)\n",
      "[1/1] >>> https://arxiv.org/abs/1708.08842\n",
      "\n",
      "\n",
      "Error: \u001b[32m[Processing] Retrieving paper metadata...\u001b[0m\n",
      "\u001b[32m[Downloading] Using aria2 with 5 connections\u001b[0m\n",
      "\u001b[32m[Done] Paper saved to \"/Users/panchamb/Downloads/ArXiv_Papers/1708.08842_Fast_Automated_Analysis_of_Strong_Gravitational_Lenses_with_Convolutional_Neural_Networks.pdf\"\u001b[0m\n",
      "\n"
     ]
    },
    {
     "name": "stderr",
     "output_type": "stream",
     "text": [
      "  5%|▌         | 6/119 [00:47<14:35,  7.75s/it]"
     ]
    },
    {
     "name": "stdout",
     "output_type": "stream",
     "text": [
      "Output: [arxiv-dl] (version: 1.1.5)\n",
      "[1/1] >>> https://arxiv.org/abs/1708.08843\n",
      "\n",
      "\n",
      "Error: \u001b[32m[Processing] Retrieving paper metadata...\u001b[0m\n",
      "\u001b[32m[Downloading] Using aria2 with 5 connections\u001b[0m\n",
      "\u001b[32m[Done] Paper saved to \"/Users/panchamb/Downloads/ArXiv_Papers/1708.08843_Uncertainties_in_Parameters_Estimated_with_Neural_Networks_Application_to_Strong_Gravitational_Lensing.pdf\"\u001b[0m\n",
      "\n"
     ]
    },
    {
     "name": "stderr",
     "output_type": "stream",
     "text": [
      "  6%|▌         | 7/119 [00:56<14:50,  7.95s/it]"
     ]
    },
    {
     "name": "stdout",
     "output_type": "stream",
     "text": [
      "Output: [arxiv-dl] (version: 1.1.5)\n",
      "[1/1] >>> https://arxiv.org/abs/1802.03609\n",
      "\n",
      "\n",
      "Error: \u001b[32m[Processing] Retrieving paper metadata...\u001b[0m\n",
      "\u001b[32m[Downloading] Using aria2 with 5 connections\u001b[0m\n",
      "\u001b[32m[Done] Paper saved to \"/Users/panchamb/Downloads/ArXiv_Papers/1802.03609_The_Strong_Gravitational_Lens_Finding_Challenge.pdf\"\u001b[0m\n",
      "\n"
     ]
    },
    {
     "name": "stderr",
     "output_type": "stream",
     "text": [
      "  7%|▋         | 8/119 [01:04<14:56,  8.08s/it]"
     ]
    },
    {
     "name": "stdout",
     "output_type": "stream",
     "text": [
      "Output: [arxiv-dl] (version: 1.1.5)\n",
      "[1/1] >>> https://arxiv.org/abs/1807.04764\n",
      "\n",
      "\n",
      "Error: \u001b[32m[Processing] Retrieving paper metadata...\u001b[0m\n",
      "\u001b[32m[Downloading] Using aria2 with 5 connections\u001b[0m\n",
      "\u001b[32m[Done] Paper saved to \"/Users/panchamb/Downloads/ArXiv_Papers/1807.04764_Testing_Convolutional_Neural_Networks_for_finding_strong_gravitational_lenses_in_KiDS.pdf\"\u001b[0m\n",
      "\n"
     ]
    },
    {
     "name": "stderr",
     "output_type": "stream",
     "text": [
      "  8%|▊         | 9/119 [01:12<14:47,  8.07s/it]"
     ]
    },
    {
     "name": "stdout",
     "output_type": "stream",
     "text": [
      "Output: [arxiv-dl] (version: 1.1.5)\n",
      "[1/1] >>> https://arxiv.org/abs/1808.00011\n",
      "\n",
      "\n",
      "Error: \u001b[32m[Processing] Retrieving paper metadata...\u001b[0m\n",
      "\u001b[32m[Downloading] Using aria2 with 5 connections\u001b[0m\n",
      "\u001b[32m[Done] Paper saved to \"/Users/panchamb/Downloads/ArXiv_Papers/1808.00011_Analyzing_interferometric_observations_of_strong_gravitational_lenses_with_recurrent_and_convolutional_neural_networks.pdf\"\u001b[0m\n",
      "\n"
     ]
    },
    {
     "name": "stderr",
     "output_type": "stream",
     "text": [
      "  8%|▊         | 10/119 [01:21<14:47,  8.14s/it]"
     ]
    },
    {
     "name": "stdout",
     "output_type": "stream",
     "text": [
      "Output: [arxiv-dl] (version: 1.1.5)\n",
      "[1/1] >>> https://arxiv.org/abs/1901.01359\n",
      "\n",
      "\n",
      "Error: \u001b[32m[Processing] Retrieving paper metadata...\u001b[0m\n",
      "\u001b[32m[Downloading] Using aria2 with 5 connections\u001b[0m\n",
      "\u001b[32m[Done] Paper saved to \"/Users/panchamb/Downloads/ArXiv_Papers/1901.01359_Data-Driven_Reconstruction_of_Gravitationally_Lensed_Galaxies_using_Recurrent_Inference_Machines.pdf\"\u001b[0m\n",
      "\n"
     ]
    },
    {
     "name": "stderr",
     "output_type": "stream",
     "text": [
      "  9%|▉         | 11/119 [01:31<15:59,  8.89s/it]"
     ]
    },
    {
     "name": "stdout",
     "output_type": "stream",
     "text": [
      "Output: [arxiv-dl] (version: 1.1.5)\n",
      "[1/1] >>> https://arxiv.org/abs/1906.00970\n",
      "\n",
      "\n",
      "Error: \u001b[32m[Processing] Retrieving paper metadata...\u001b[0m\n",
      "\u001b[32m[Downloading] Using aria2 with 5 connections\u001b[0m\n",
      "\u001b[32m[Done] Paper saved to \"/Users/panchamb/Downloads/ArXiv_Papers/1906.00970_Finding_Strong_Gravitational_Lenses_in_the_DESI_DECam_Legacy_Survey.pdf\"\u001b[0m\n",
      "\n"
     ]
    },
    {
     "name": "stderr",
     "output_type": "stream",
     "text": [
      " 10%|█         | 12/119 [01:39<15:28,  8.68s/it]"
     ]
    },
    {
     "name": "stdout",
     "output_type": "stream",
     "text": [
      "Output: [arxiv-dl] (version: 1.1.5)\n",
      "[1/1] >>> https://arxiv.org/abs/1909.02005\n",
      "\n",
      "\n",
      "Error: \u001b[32m[Processing] Retrieving paper metadata...\u001b[0m\n",
      "\u001b[32m[Downloading] Using aria2 with 5 connections\u001b[0m\n",
      "\u001b[32m[Done] Paper saved to \"/Users/panchamb/Downloads/ArXiv_Papers/1909.02005_Mining_for_Dark_Matter_Substructure_Inferring_subhalo_population_properties_from_strong_lenses_with_machine_learning.pdf\"\u001b[0m\n",
      "\n"
     ]
    },
    {
     "name": "stderr",
     "output_type": "stream",
     "text": [
      " 11%|█         | 13/119 [01:47<14:49,  8.40s/it]"
     ]
    },
    {
     "name": "stdout",
     "output_type": "stream",
     "text": [
      "Output: [arxiv-dl] (version: 1.1.5)\n",
      "[1/1] >>> https://arxiv.org/abs/1909.07346\n",
      "\n",
      "\n",
      "Error: \u001b[32m[Processing] Retrieving paper metadata...\u001b[0m\n",
      "\u001b[32m[Downloading] Using aria2 with 5 connections\u001b[0m\n",
      "\u001b[32m[Done] Paper saved to \"/Users/panchamb/Downloads/ArXiv_Papers/1909.07346_Deep_Learning_the_Morphology_of_Dark_Matter_Substructure.pdf\"\u001b[0m\n",
      "\n"
     ]
    },
    {
     "name": "stderr",
     "output_type": "stream",
     "text": [
      " 12%|█▏        | 14/119 [01:55<14:19,  8.19s/it]"
     ]
    },
    {
     "name": "stdout",
     "output_type": "stream",
     "text": [
      "Output: [arxiv-dl] (version: 1.1.5)\n",
      "[1/1] >>> https://arxiv.org/abs/1910.00015\n",
      "\n",
      "\n",
      "Error: \u001b[32m[Processing] Retrieving paper metadata...\u001b[0m\n",
      "\u001b[32m[Downloading] Using aria2 with 5 connections\u001b[0m\n",
      "\u001b[32m[Done] Paper saved to \"/Users/panchamb/Downloads/ArXiv_Papers/1910.00015_Direct_Detection_of_Dark_Matter_Substructure_in_Strong_Lens_Images_with_Convolutional_Neural_Networks.pdf\"\u001b[0m\n",
      "\n"
     ]
    },
    {
     "name": "stderr",
     "output_type": "stream",
     "text": [
      " 13%|█▎        | 15/119 [02:03<14:22,  8.30s/it]"
     ]
    },
    {
     "name": "stdout",
     "output_type": "stream",
     "text": [
      "Output: [arxiv-dl] (version: 1.1.5)\n",
      "[1/1] >>> https://arxiv.org/abs/1910.06157\n",
      "\n",
      "\n",
      "Error: \u001b[32m[Processing] Retrieving paper metadata...\u001b[0m\n",
      "\u001b[32m[Downloading] Using aria2 with 5 connections\u001b[0m\n",
      "\u001b[32m[Done] Paper saved to \"/Users/panchamb/Downloads/ArXiv_Papers/1910.06157_Differentiable_Strong_Lensing_Uniting_Gravity_and_Neural_Nets_through_Differentiable_Probabilistic_Programming.pdf\"\u001b[0m\n",
      "\n"
     ]
    },
    {
     "name": "stderr",
     "output_type": "stream",
     "text": [
      " 13%|█▎        | 16/119 [02:18<17:26, 10.16s/it]"
     ]
    },
    {
     "name": "stdout",
     "output_type": "stream",
     "text": [
      "Output: [arxiv-dl] (version: 1.1.5)\n",
      "[1/1] >>> https://arxiv.org/abs/1911.04320\n",
      "\n",
      "\n",
      "Error: \u001b[32m[Processing] Retrieving paper metadata...\u001b[0m\n",
      "\u001b[32m[Downloading] Using aria2 with 5 connections\u001b[0m\n",
      "\u001b[32m[Done] Paper saved to \"/Users/panchamb/Downloads/ArXiv_Papers/1911.04320_Identifying_Strong_Lenses_with_Unsupervised_Machine_Learning_using_Convolutional_Autoencoder.pdf\"\u001b[0m\n",
      "\n"
     ]
    },
    {
     "name": "stderr",
     "output_type": "stream",
     "text": [
      " 14%|█▍        | 17/119 [02:37<21:43, 12.77s/it]"
     ]
    },
    {
     "name": "stdout",
     "output_type": "stream",
     "text": [
      "Output: [arxiv-dl] (version: 1.1.5)\n",
      "[1/1] >>> https://arxiv.org/abs/1911.03867\n",
      "\n",
      "\n",
      "Error: \u001b[32m[Processing] Retrieving paper metadata...\u001b[0m\n",
      "\u001b[32m[Downloading] Using aria2 with 5 connections\u001b[0m\n",
      "\u001b[32m[Done] Paper saved to \"/Users/panchamb/Downloads/ArXiv_Papers/1911.03867_A_Modular_Deep_Learning_Pipeline_for_Galaxy-Scale_Strong_Gravitational_Lens_Detection_and_Modeling.pdf\"\u001b[0m\n",
      "\n"
     ]
    },
    {
     "name": "stderr",
     "output_type": "stream",
     "text": [
      " 15%|█▌        | 18/119 [02:48<20:56, 12.44s/it]"
     ]
    },
    {
     "name": "stdout",
     "output_type": "stream",
     "text": [
      "Output: [arxiv-dl] (version: 1.1.5)\n",
      "[1/1] >>> https://arxiv.org/abs/2004.13048\n",
      "\n",
      "\n",
      "Error: \u001b[32m[Processing] Retrieving paper metadata...\u001b[0m\n",
      "\u001b[32m[Downloading] Using aria2 with 5 connections\u001b[0m\n",
      "\u001b[32m[Done] Paper saved to \"/Users/panchamb/Downloads/ArXiv_Papers/2004.13048_HOLISMOKES_--_II_Identifying_galaxy-scale_strong_gravitational_lenses_in_Pan-STARRS_using_convolutional_neural_networks.pdf\"\u001b[0m\n",
      "\n"
     ]
    },
    {
     "name": "stderr",
     "output_type": "stream",
     "text": [
      " 16%|█▌        | 19/119 [03:03<22:04, 13.24s/it]"
     ]
    },
    {
     "name": "stdout",
     "output_type": "stream",
     "text": [
      "Output: [arxiv-dl] (version: 1.1.5)\n",
      "[1/1] >>> https://arxiv.org/abs/2005.04730\n",
      "\n",
      "\n",
      "Error: \u001b[32m[Processing] Retrieving paper metadata...\u001b[0m\n",
      "\u001b[32m[Downloading] Using aria2 with 5 connections\u001b[0m\n",
      "\u001b[32m[Done] Paper saved to \"/Users/panchamb/Downloads/ArXiv_Papers/2005.04730_Discovering_New_Strong_Gravitational_Lenses_in_the_DESI_Legacy_Imaging_Surveys.pdf\"\u001b[0m\n",
      "\n"
     ]
    },
    {
     "name": "stderr",
     "output_type": "stream",
     "text": [
      " 17%|█▋        | 20/119 [03:12<19:17, 11.69s/it]"
     ]
    },
    {
     "name": "stdout",
     "output_type": "stream",
     "text": [
      "Output: [arxiv-dl] (version: 1.1.5)\n",
      "[1/1] >>> https://arxiv.org/abs/2005.05353\n",
      "\n",
      "\n",
      "Error: \u001b[32m[Processing] Retrieving paper metadata...\u001b[0m\n",
      "\u001b[32m[Downloading] Using aria2 with 5 connections\u001b[0m\n",
      "\u001b[32m[Done] Paper saved to \"/Users/panchamb/Downloads/ArXiv_Papers/2005.05353_Dark_Matter_Subhalos_Strong_Lensing_and_Machine_Learning.pdf\"\u001b[0m\n",
      "\n"
     ]
    },
    {
     "name": "stderr",
     "output_type": "stream",
     "text": [
      " 18%|█▊        | 21/119 [03:19<17:10, 10.52s/it]"
     ]
    },
    {
     "name": "stdout",
     "output_type": "stream",
     "text": [
      "Output: [arxiv-dl] (version: 1.1.5)\n",
      "[1/1] >>> https://arxiv.org/abs/2007.00188\n",
      "\n",
      "\n",
      "Error: \u001b[32m[Processing] Retrieving paper metadata...\u001b[0m\n",
      "\u001b[32m[Downloading] Using aria2 with 5 connections\u001b[0m\n",
      "\u001b[32m[Done] Paper saved to \"/Users/panchamb/Downloads/ArXiv_Papers/2007.00188_Deep_Learning_for_Strong_Lensing_Search_Tests_of_the_Convolutional_Neural_Networks_and_New_Candidates_from_KiDS_DR3.pdf\"\u001b[0m\n",
      "\n"
     ]
    },
    {
     "name": "stderr",
     "output_type": "stream",
     "text": [
      " 18%|█▊        | 22/119 [03:27<15:41,  9.70s/it]"
     ]
    },
    {
     "name": "stdout",
     "output_type": "stream",
     "text": [
      "Output: [arxiv-dl] (version: 1.1.5)\n",
      "[1/1] >>> https://arxiv.org/abs/2008.12731\n",
      "\n",
      "\n",
      "Error: \u001b[32m[Processing] Retrieving paper metadata...\u001b[0m\n",
      "\u001b[32m[Downloading] Using aria2 with 5 connections\u001b[0m\n",
      "\u001b[32m[Done] Paper saved to \"/Users/panchamb/Downloads/ArXiv_Papers/2008.12731_Decoding_Dark_Matter_Substructure_without_Supervision.pdf\"\u001b[0m\n",
      "\n"
     ]
    },
    {
     "name": "stderr",
     "output_type": "stream",
     "text": [
      " 19%|█▉        | 23/119 [03:35<14:43,  9.20s/it]"
     ]
    },
    {
     "name": "stdout",
     "output_type": "stream",
     "text": [
      "Output: [arxiv-dl] (version: 1.1.5)\n",
      "[1/1] >>> https://arxiv.org/abs/2009.06639\n",
      "\n",
      "\n",
      "Error: \u001b[32m[Processing] Retrieving paper metadata...\u001b[0m\n",
      "\u001b[32m[Downloading] Using aria2 with 5 connections\u001b[0m\n",
      "\u001b[32m[Done] Paper saved to \"/Users/panchamb/Downloads/ArXiv_Papers/2009.06639_Extracting_the_Subhalo_Mass_Function_from_Strong_Lens_Images_with_Image_Segmentation.pdf\"\u001b[0m\n",
      "\n"
     ]
    },
    {
     "name": "stderr",
     "output_type": "stream",
     "text": [
      " 20%|██        | 24/119 [03:43<13:55,  8.80s/it]"
     ]
    },
    {
     "name": "stdout",
     "output_type": "stream",
     "text": [
      "Output: [arxiv-dl] (version: 1.1.5)\n",
      "[1/1] >>> https://arxiv.org/abs/2009.06663\n",
      "\n",
      "\n",
      "Error: \u001b[32m[Processing] Retrieving paper metadata...\u001b[0m\n",
      "\u001b[32m[Downloading] Using aria2 with 5 connections\u001b[0m\n",
      "\u001b[32m[Done] Paper saved to \"/Users/panchamb/Downloads/ArXiv_Papers/2009.06663_Image_segmentation_for_analyzing_galaxy-galaxy_strong_lensing_systems.pdf\"\u001b[0m\n",
      "\n"
     ]
    },
    {
     "name": "stderr",
     "output_type": "stream",
     "text": [
      " 21%|██        | 25/119 [03:51<13:11,  8.42s/it]"
     ]
    },
    {
     "name": "stdout",
     "output_type": "stream",
     "text": [
      "Output: [arxiv-dl] (version: 1.1.5)\n",
      "[1/1] >>> https://arxiv.org/abs/2010.12960\n",
      "\n",
      "\n",
      "Error: \u001b[32m[Processing] Retrieving paper metadata...\u001b[0m\n",
      "\u001b[32m[Downloading] Using aria2 with 5 connections\u001b[0m\n",
      "\u001b[32m[Done] Paper saved to \"/Users/panchamb/Downloads/ArXiv_Papers/2010.12960_Hunting_for_Dark_Matter_Subhalos_in_Strong_Gravitational_Lensing_with_Neural_Networks.pdf\"\u001b[0m\n",
      "\n"
     ]
    },
    {
     "name": "stderr",
     "output_type": "stream",
     "text": [
      " 22%|██▏       | 26/119 [03:58<12:42,  8.20s/it]"
     ]
    },
    {
     "name": "stdout",
     "output_type": "stream",
     "text": [
      "Output: [arxiv-dl] (version: 1.1.5)\n",
      "[1/1] >>> https://arxiv.org/abs/2010.07032\n",
      "\n",
      "\n",
      "Error: \u001b[32m[Processing] Retrieving paper metadata...\u001b[0m\n",
      "\u001b[32m[Downloading] Using aria2 with 5 connections\u001b[0m\n",
      "\u001b[32m[Done] Paper saved to \"/Users/panchamb/Downloads/ArXiv_Papers/2010.07032_Targeted_Likelihood-Free_Inference_of_Dark_Matter_Substructure_in_Strongly-Lensed_Galaxies.pdf\"\u001b[0m\n",
      "\n"
     ]
    },
    {
     "name": "stderr",
     "output_type": "stream",
     "text": [
      " 23%|██▎       | 27/119 [04:07<12:45,  8.32s/it]"
     ]
    },
    {
     "name": "stdout",
     "output_type": "stream",
     "text": [
      "Output: [arxiv-dl] (version: 1.1.5)\n",
      "[1/1] >>> https://arxiv.org/abs/2012.00042\n",
      "\n",
      "\n",
      "Error: \u001b[32m[Processing] Retrieving paper metadata...\u001b[0m\n",
      "\u001b[32m[Downloading] Using aria2 with 5 connections\u001b[0m\n",
      "\u001b[32m[Done] Paper saved to \"/Users/panchamb/Downloads/ArXiv_Papers/2012.00042_Large-Scale_Gravitational_Lens_Modeling_with_Bayesian_Neural_Networks_for_Accurate_and_Precise_Inference_of_the_Hubble_Constant.pdf\"\u001b[0m\n",
      "\n"
     ]
    },
    {
     "name": "stderr",
     "output_type": "stream",
     "text": [
      " 24%|██▎       | 28/119 [04:17<13:22,  8.82s/it]"
     ]
    },
    {
     "name": "stdout",
     "output_type": "stream",
     "text": [
      "Output: [arxiv-dl] (version: 1.1.5)\n",
      "[1/1] >>> https://arxiv.org/abs/2109.00014\n",
      "\n",
      "\n",
      "Error: \u001b[32m[Processing] Retrieving paper metadata...\u001b[0m\n",
      "\u001b[32m[Downloading] Using aria2 with 5 connections\u001b[0m\n",
      "\u001b[32m[Done] Paper saved to \"/Users/panchamb/Downloads/ArXiv_Papers/2109.00014_Strong_lens_systems_search_in_the_Dark_Energy_Survey_using_Convolutional_Neural_Networks.pdf\"\u001b[0m\n",
      "\n"
     ]
    },
    {
     "name": "stderr",
     "output_type": "stream",
     "text": [
      " 24%|██▍       | 29/119 [04:27<14:01,  9.35s/it]"
     ]
    },
    {
     "name": "stdout",
     "output_type": "stream",
     "text": [
      "Output: [arxiv-dl] (version: 1.1.5)\n",
      "[1/1] >>> https://arxiv.org/abs/2109.09781\n",
      "\n",
      "\n",
      "Error: \u001b[32m[Processing] Retrieving paper metadata...\u001b[0m\n",
      "\u001b[32m[Downloading] Using aria2 with 5 connections\u001b[0m\n",
      "\u001b[32m[Done] Paper saved to \"/Users/panchamb/Downloads/ArXiv_Papers/2109.09781_Finding_quadruply_imaged_quasars_with_machine_learning_I_Methods.pdf\"\u001b[0m\n",
      "\n"
     ]
    },
    {
     "name": "stderr",
     "output_type": "stream",
     "text": [
      " 25%|██▌       | 30/119 [04:46<18:06, 12.21s/it]"
     ]
    },
    {
     "name": "stdout",
     "output_type": "stream",
     "text": [
      "Output: [arxiv-dl] (version: 1.1.5)\n",
      "[1/1] >>> https://arxiv.org/abs/2110.00023\n",
      "\n",
      "\n",
      "Error: \u001b[32m[Processing] Retrieving paper metadata...\u001b[0m\n",
      "\u001b[32m[Downloading] Using aria2 with 5 connections\u001b[0m\n",
      "\u001b[32m[Done] Paper saved to \"/Users/panchamb/Downloads/ArXiv_Papers/2110.00023_Mining_for_Strong_Gravitational_Lenses_with_Self-supervised_Learning.pdf\"\u001b[0m\n",
      "\n"
     ]
    },
    {
     "name": "stderr",
     "output_type": "stream",
     "text": [
      " 26%|██▌       | 31/119 [04:55<16:10, 11.03s/it]"
     ]
    },
    {
     "name": "stdout",
     "output_type": "stream",
     "text": [
      "Output: [arxiv-dl] (version: 1.1.5)\n",
      "[1/1] >>> https://arxiv.org/abs/2110.01905\n",
      "\n",
      "\n",
      "Error: \u001b[32m[Processing] Retrieving paper metadata...\u001b[0m\n",
      "\u001b[32m[Downloading] Using aria2 with 5 connections\u001b[0m\n",
      "\u001b[32m[Done] Paper saved to \"/Users/panchamb/Downloads/ArXiv_Papers/2110.01905_High-quality_strong_lens_candidates_in_the_final_Kilo_Degree_survey_footprint.pdf\"\u001b[0m\n",
      "\n"
     ]
    },
    {
     "name": "stderr",
     "output_type": "stream",
     "text": [
      " 27%|██▋       | 32/119 [05:04<15:06, 10.42s/it]"
     ]
    },
    {
     "name": "stdout",
     "output_type": "stream",
     "text": [
      "Output: [arxiv-dl] (version: 1.1.5)\n",
      "[1/1] >>> https://arxiv.org/abs/2110.02418\n",
      "\n",
      "\n",
      "Error: \u001b[32m[Processing] Retrieving paper metadata...\u001b[0m\n",
      "\u001b[32m[Downloading] Using aria2 with 5 connections\u001b[0m\n",
      "\u001b[32m[Done] Paper saved to \"/Users/panchamb/Downloads/ArXiv_Papers/2110.02418_The_DES_Bright_Arcs_Survey_Candidate_Strongly_Lensed_Galaxy_Systems_from_the_Dark_Energy_Survey_5000_Sq_Deg_Footprint.pdf\"\u001b[0m\n",
      "\n"
     ]
    },
    {
     "name": "stderr",
     "output_type": "stream",
     "text": [
      " 28%|██▊       | 33/119 [05:17<16:18, 11.38s/it]"
     ]
    },
    {
     "name": "stdout",
     "output_type": "stream",
     "text": [
      "Output: [arxiv-dl] (version: 1.1.5)\n",
      "[1/1] >>> https://arxiv.org/abs/2110.09202\n",
      "\n",
      "\n",
      "Error: \u001b[32m[Processing] Retrieving paper metadata...\u001b[0m\n",
      "\u001b[32m[Downloading] Using aria2 with 5 connections\u001b[0m\n",
      "\u001b[32m[Done] Paper saved to \"/Users/panchamb/Downloads/ArXiv_Papers/2110.09202_Finding_Strong_Gravitational_Lenses_Through_Self-Attention.pdf\"\u001b[0m\n",
      "\n"
     ]
    },
    {
     "name": "stderr",
     "output_type": "stream",
     "text": [
      " 29%|██▊       | 34/119 [05:26<15:03, 10.63s/it]"
     ]
    },
    {
     "name": "stdout",
     "output_type": "stream",
     "text": [
      "Output: [arxiv-dl] (version: 1.1.5)\n",
      "[1/1] >>> https://arxiv.org/abs/2110.11972\n",
      "\n",
      "\n",
      "Error: \u001b[32m[Processing] Retrieving paper metadata...\u001b[0m\n",
      "\u001b[32m[Downloading] Using aria2 with 5 connections\u001b[0m\n",
      "\u001b[32m[Done] Paper saved to \"/Users/panchamb/Downloads/ArXiv_Papers/2110.11972_Strong_lensing_in_UNIONS_Toward_a_pipeline_from_discovery_to_modeling.pdf\"\u001b[0m\n",
      "\n"
     ]
    },
    {
     "name": "stderr",
     "output_type": "stream",
     "text": [
      " 29%|██▉       | 35/119 [05:34<13:51,  9.90s/it]"
     ]
    },
    {
     "name": "stdout",
     "output_type": "stream",
     "text": [
      "Output: [arxiv-dl] (version: 1.1.5)\n",
      "[1/1] >>> https://arxiv.org/abs/2112.02479\n",
      "\n",
      "\n",
      "Error: \u001b[32m[Processing] Retrieving paper metadata...\u001b[0m\n",
      "\u001b[32m[Downloading] Using aria2 with 5 connections\u001b[0m\n",
      "\u001b[32m[Done] Paper saved to \"/Users/panchamb/Downloads/ArXiv_Papers/2112.02479_Exploring_the_interpretability_of_deep_neural_networks_used_for_gravitational_lens_finding_with_a_sensitivity_probe.pdf\"\u001b[0m\n",
      "\n"
     ]
    },
    {
     "name": "stderr",
     "output_type": "stream",
     "text": [
      " 30%|███       | 36/119 [05:45<13:51, 10.02s/it]"
     ]
    },
    {
     "name": "stdout",
     "output_type": "stream",
     "text": [
      "Output: [arxiv-dl] (version: 1.1.5)\n",
      "[1/1] >>> https://arxiv.org/abs/2202.12776\n",
      "\n",
      "\n",
      "Error: \u001b[32m[Processing] Retrieving paper metadata...\u001b[0m\n",
      "\u001b[32m[Downloading] Using aria2 with 5 connections\u001b[0m\n",
      "\u001b[32m[Done] Paper saved to \"/Users/panchamb/Downloads/ArXiv_Papers/2202.12776_Detecting_gravitational_lenses_using_machine_learning_exploring_interpretability_and_sensitivity_to_rare_lensing_configurations.pdf\"\u001b[0m\n",
      "\n"
     ]
    },
    {
     "name": "stderr",
     "output_type": "stream",
     "text": [
      " 31%|███       | 37/119 [05:53<13:03,  9.56s/it]"
     ]
    },
    {
     "name": "stdout",
     "output_type": "stream",
     "text": [
      "Output: [arxiv-dl] (version: 1.1.5)\n",
      "[1/1] >>> https://arxiv.org/abs/2202.07663\n",
      "\n",
      "\n",
      "Error: \u001b[32m[Processing] Retrieving paper metadata...\u001b[0m\n",
      "\u001b[32m[Downloading] Using aria2 with 5 connections\u001b[0m\n",
      "\u001b[32m[Done] Paper saved to \"/Users/panchamb/Downloads/ArXiv_Papers/2202.07663_GIGA-Lens_Fast_Bayesian_Inference_for_Strong_Gravitational_Lens_Modeling.pdf\"\u001b[0m\n",
      "\n"
     ]
    },
    {
     "name": "stderr",
     "output_type": "stream",
     "text": [
      " 32%|███▏      | 38/119 [06:01<12:19,  9.12s/it]"
     ]
    },
    {
     "name": "stdout",
     "output_type": "stream",
     "text": [
      "Output: [arxiv-dl] (version: 1.1.5)\n",
      "[1/1] >>> https://arxiv.org/abs/2203.09536\n",
      "\n",
      "\n",
      "Error: \u001b[32m[Processing] Retrieving paper metadata...\u001b[0m\n",
      "\u001b[32m[Downloading] Using aria2 with 5 connections\u001b[0m\n",
      "\u001b[32m[Done] Paper saved to \"/Users/panchamb/Downloads/ArXiv_Papers/2203.09536_Developing_a_Victorious_Strategy_to_the_Second_Strong_Gravitational_Lensing_Data_Challenge.pdf\"\u001b[0m\n",
      "\n"
     ]
    },
    {
     "name": "stderr",
     "output_type": "stream",
     "text": [
      " 33%|███▎      | 39/119 [06:09<11:49,  8.87s/it]"
     ]
    },
    {
     "name": "stdout",
     "output_type": "stream",
     "text": [
      "Output: [arxiv-dl] (version: 1.1.5)\n",
      "[1/1] >>> https://arxiv.org/abs/2204.05924\n",
      "\n",
      "\n",
      "Error: \u001b[32m[Processing] Retrieving paper metadata...\u001b[0m\n",
      "\u001b[32m[Downloading] Using aria2 with 5 connections\u001b[0m\n",
      "\u001b[32m[Done] Paper saved to \"/Users/panchamb/Downloads/ArXiv_Papers/2204.05924_DeepZipper_II_Searching_for_Lensed_Supernovae_in_Dark_Energy_Survey_Data_with_Deep_Learning.pdf\"\u001b[0m\n",
      "\n"
     ]
    },
    {
     "name": "stderr",
     "output_type": "stream",
     "text": [
      " 34%|███▎      | 40/119 [06:26<14:35, 11.09s/it]"
     ]
    },
    {
     "name": "stdout",
     "output_type": "stream",
     "text": [
      "Output: [arxiv-dl] (version: 1.1.5)\n",
      "[1/1] >>> https://arxiv.org/abs/2206.02764\n",
      "\n",
      "\n",
      "Error: \u001b[32m[Processing] Retrieving paper metadata...\u001b[0m\n",
      "\u001b[32m[Downloading] Using aria2 with 5 connections\u001b[0m\n",
      "\u001b[32m[Done] Paper saved to \"/Users/panchamb/Downloads/ArXiv_Papers/2206.02764_New_Strong_Gravitational_Lenses_from_the_DESI_Legacy_Imaging_Surveys_Data_Release_9.pdf\"\u001b[0m\n",
      "\n"
     ]
    },
    {
     "name": "stderr",
     "output_type": "stream",
     "text": [
      " 34%|███▍      | 41/119 [06:35<13:40, 10.51s/it]"
     ]
    },
    {
     "name": "stdout",
     "output_type": "stream",
     "text": [
      "Output: [arxiv-dl] (version: 1.1.5)\n",
      "[1/1] >>> https://arxiv.org/abs/2205.09126\n",
      "\n",
      "\n",
      "Error: \u001b[32m[Processing] Retrieving paper metadata...\u001b[0m\n",
      "\u001b[32m[Downloading] Using aria2 with 5 connections\u001b[0m\n",
      "\u001b[32m[Done] Paper saved to \"/Users/panchamb/Downloads/ArXiv_Papers/2205.09126_Estimating_the_warm_dark_matter_mass_from_strong_lensing_images_with_truncated_marginal_neural_ratio_estimation.pdf\"\u001b[0m\n",
      "\n"
     ]
    },
    {
     "name": "stderr",
     "output_type": "stream",
     "text": [
      " 35%|███▌      | 42/119 [06:43<12:31,  9.76s/it]"
     ]
    },
    {
     "name": "stdout",
     "output_type": "stream",
     "text": [
      "Output: [arxiv-dl] (version: 1.1.5)\n",
      "[1/1] >>> https://arxiv.org/abs/2206.11279\n",
      "\n",
      "\n",
      "Error: \u001b[32m[Processing] Retrieving paper metadata...\u001b[0m\n",
      "\u001b[32m[Downloading] Using aria2 with 5 connections\u001b[0m\n",
      "\u001b[32m[Done] Paper saved to \"/Users/panchamb/Downloads/ArXiv_Papers/2206.11279_HOLISMOKES_--_IX_Neural_network_inference_of_strong-lens_parameters_and_uncertainties_from_ground-based_images.pdf\"\u001b[0m\n",
      "\n"
     ]
    },
    {
     "name": "stderr",
     "output_type": "stream",
     "text": [
      " 36%|███▌      | 43/119 [06:51<11:46,  9.30s/it]"
     ]
    },
    {
     "name": "stdout",
     "output_type": "stream",
     "text": [
      "Output: [arxiv-dl] (version: 1.1.5)\n",
      "[1/1] >>> https://arxiv.org/abs/2206.14820\n",
      "\n",
      "\n",
      "Error: \u001b[32m[Processing] Retrieving paper metadata...\u001b[0m\n",
      "\u001b[32m[Downloading] Using aria2 with 5 connections\u001b[0m\n",
      "\u001b[32m[Done] Paper saved to \"/Users/panchamb/Downloads/ArXiv_Papers/2206.14820_Strong_Lensing_Source_Reconstruction_Using_Continuous_Neural_Fields.pdf\"\u001b[0m\n",
      "\n"
     ]
    },
    {
     "name": "stderr",
     "output_type": "stream",
     "text": [
      " 37%|███▋      | 44/119 [06:59<11:13,  8.98s/it]"
     ]
    },
    {
     "name": "stdout",
     "output_type": "stream",
     "text": [
      "Output: [arxiv-dl] (version: 1.1.5)\n",
      "[1/1] >>> https://arxiv.org/abs/2207.01073\n",
      "\n",
      "\n",
      "Error: \u001b[32m[Processing] Retrieving paper metadata...\u001b[0m\n",
      "\u001b[32m[Downloading] Using aria2 with 5 connections\u001b[0m\n",
      "\u001b[32m[Done] Paper saved to \"/Users/panchamb/Downloads/ArXiv_Papers/2207.01073_Pixelated_Reconstruction_of_Gravitational_Lenses_using_Recurrent_Inference_Machines.pdf\"\u001b[0m\n",
      "\n"
     ]
    },
    {
     "name": "stderr",
     "output_type": "stream",
     "text": [
      " 38%|███▊      | 45/119 [07:07<10:46,  8.74s/it]"
     ]
    },
    {
     "name": "stdout",
     "output_type": "stream",
     "text": [
      "Output: [arxiv-dl] (version: 1.1.5)\n",
      "[1/1] >>> https://arxiv.org/abs/2207.04123\n",
      "\n",
      "\n",
      "Error: \u001b[32m[Processing] Retrieving paper metadata...\u001b[0m\n",
      "\u001b[32m[Downloading] Using aria2 with 5 connections\u001b[0m\n",
      "\u001b[32m[Done] Paper saved to \"/Users/panchamb/Downloads/ArXiv_Papers/2207.04123_Population-Level_Inference_of_Strong_Gravitational_Lenses_with_Neural_Network-Based_Selection_Correction.pdf\"\u001b[0m\n",
      "\n"
     ]
    },
    {
     "name": "stderr",
     "output_type": "stream",
     "text": [
      " 39%|███▊      | 46/119 [07:16<10:35,  8.70s/it]"
     ]
    },
    {
     "name": "stdout",
     "output_type": "stream",
     "text": [
      "Output: [arxiv-dl] (version: 1.1.5)\n",
      "[1/1] >>> https://arxiv.org/abs/2207.10124\n",
      "\n",
      "\n",
      "Error: \u001b[32m[Processing] Retrieving paper metadata...\u001b[0m\n",
      "\u001b[32m[Downloading] Using aria2 with 5 connections\u001b[0m\n",
      "\u001b[32m[Done] Paper saved to \"/Users/panchamb/Downloads/ArXiv_Papers/2207.10124_HOLISMOKES_--_X_Comparison_between_neural_network_and_semi-automated_traditional_modeling_of_strong_lenses.pdf\"\u001b[0m\n",
      "\n"
     ]
    },
    {
     "name": "stderr",
     "output_type": "stream",
     "text": [
      " 39%|███▉      | 47/119 [07:37<14:56, 12.45s/it]"
     ]
    },
    {
     "name": "stdout",
     "output_type": "stream",
     "text": [
      "Output: [arxiv-dl] (version: 1.1.5)\n",
      "[1/1] >>> https://arxiv.org/abs/2207.10698\n",
      "\n",
      "\n",
      "Error: \u001b[32m[Processing] Retrieving paper metadata...\u001b[0m\n",
      "\u001b[32m[Downloading] Using aria2 with 5 connections\u001b[0m\n",
      "\u001b[32m[Done] Paper saved to \"/Users/panchamb/Downloads/ArXiv_Papers/2207.10698_A_machine_learning_based_approach_to_gravitational_lens_identification_with_the_International_LOFAR_Telescope.pdf\"\u001b[0m\n",
      "\n"
     ]
    },
    {
     "name": "stderr",
     "output_type": "stream",
     "text": [
      " 40%|████      | 48/119 [07:45<12:53, 10.89s/it]"
     ]
    },
    {
     "name": "stdout",
     "output_type": "stream",
     "text": [
      "Output: [arxiv-dl] (version: 1.1.5)\n",
      "[1/1] >>> https://arxiv.org/abs/1002.0838\n",
      "\n",
      "\n",
      "Error: \u001b[32m[Processing] Retrieving paper metadata...\u001b[0m\n",
      "\u001b[32m[Downloading] Using aria2 with 5 connections\u001b[0m\n",
      "\u001b[32m[Done] Paper saved to \"/Users/panchamb/Downloads/ArXiv_Papers/1002.0838_Bias-Free_Shear_Estimation_using_Artificial_Neural_Networks.pdf\"\u001b[0m\n",
      "\n"
     ]
    },
    {
     "name": "stderr",
     "output_type": "stream",
     "text": [
      " 41%|████      | 49/119 [07:52<11:37,  9.96s/it]"
     ]
    },
    {
     "name": "stdout",
     "output_type": "stream",
     "text": [
      "Output: [arxiv-dl] (version: 1.1.5)\n",
      "[1/1] >>> https://arxiv.org/abs/1411.3193\n",
      "\n",
      "\n",
      "Error: \u001b[32m[Processing] Retrieving paper metadata...\u001b[0m\n",
      "\u001b[32m[Downloading] Using aria2 with 5 connections\u001b[0m\n",
      "\u001b[32m[Done] Paper saved to \"/Users/panchamb/Downloads/ArXiv_Papers/1411.3193_Hopfield_Neural_Network_deconvolution_for_weak_lensing_measurement.pdf\"\u001b[0m\n",
      "\u001b[33mObject 727 0 not defined.\u001b[0m\n",
      "\n"
     ]
    },
    {
     "name": "stderr",
     "output_type": "stream",
     "text": [
      " 42%|████▏     | 50/119 [08:02<11:12,  9.75s/it]"
     ]
    },
    {
     "name": "stdout",
     "output_type": "stream",
     "text": [
      "Output: [arxiv-dl] (version: 1.1.5)\n",
      "[1/1] >>> https://arxiv.org/abs/1706.02390\n",
      "\n",
      "\n",
      "Error: \u001b[32m[Processing] Retrieving paper metadata...\u001b[0m\n",
      "\u001b[32m[Downloading] Using aria2 with 5 connections\u001b[0m\n",
      "\u001b[32m[Done] Paper saved to \"/Users/panchamb/Downloads/ArXiv_Papers/1706.02390_CosmoGAN_creating_high-fidelity_weak_lensing_convergence_maps_using_Generative_Adversarial_Networks.pdf\"\u001b[0m\n",
      "\n"
     ]
    },
    {
     "name": "stderr",
     "output_type": "stream",
     "text": [
      " 43%|████▎     | 51/119 [08:10<10:25,  9.20s/it]"
     ]
    },
    {
     "name": "stdout",
     "output_type": "stream",
     "text": [
      "Output: [arxiv-dl] (version: 1.1.5)\n",
      "[1/1] >>> https://arxiv.org/abs/1707.05167\n",
      "\n",
      "\n",
      "Error: \u001b[32m[Processing] Retrieving paper metadata...\u001b[0m\n",
      "\u001b[32m[Downloading] Using aria2 with 5 connections\u001b[0m\n",
      "\u001b[32m[Done] Paper saved to \"/Users/panchamb/Downloads/ArXiv_Papers/1707.05167_Cosmological_model_discrimination_with_Deep_Learning.pdf\"\u001b[0m\n",
      "\n"
     ]
    },
    {
     "name": "stderr",
     "output_type": "stream",
     "text": [
      " 44%|████▎     | 52/119 [08:17<09:43,  8.70s/it]"
     ]
    },
    {
     "name": "stdout",
     "output_type": "stream",
     "text": [
      "Output: [arxiv-dl] (version: 1.1.5)\n",
      "[1/1] >>> https://arxiv.org/abs/1802.01212\n",
      "\n",
      "\n",
      "Error: \u001b[32m[Processing] Retrieving paper metadata...\u001b[0m\n",
      "\u001b[32m[Downloading] Using aria2 with 5 connections\u001b[0m\n",
      "\u001b[32m[Done] Paper saved to \"/Users/panchamb/Downloads/ArXiv_Papers/1802.01212_Non-Gaussian_information_from_weak_lensing_data_via_deep_learning.pdf\"\u001b[0m\n",
      "\n"
     ]
    },
    {
     "name": "stderr",
     "output_type": "stream",
     "text": [
      " 45%|████▍     | 53/119 [08:25<09:22,  8.53s/it]"
     ]
    },
    {
     "name": "stdout",
     "output_type": "stream",
     "text": [
      "Output: [arxiv-dl] (version: 1.1.5)\n",
      "[1/1] >>> https://arxiv.org/abs/1806.05995\n",
      "\n",
      "\n",
      "Error: \u001b[32m[Processing] Retrieving paper metadata...\u001b[0m\n",
      "\u001b[32m[Downloading] Using aria2 with 5 connections\u001b[0m\n",
      "\u001b[32m[Done] Paper saved to \"/Users/panchamb/Downloads/ArXiv_Papers/1806.05995_An_improved_cosmological_parameter_inference_scheme_motivated_by_deep_learning.pdf\"\u001b[0m\n",
      "\n"
     ]
    },
    {
     "name": "stderr",
     "output_type": "stream",
     "text": [
      " 45%|████▌     | 54/119 [08:34<09:17,  8.58s/it]"
     ]
    },
    {
     "name": "stdout",
     "output_type": "stream",
     "text": [
      "Output: [arxiv-dl] (version: 1.1.5)\n",
      "[1/1] >>> https://arxiv.org/abs/1807.02120\n",
      "\n",
      "\n",
      "Error: \u001b[32m[Processing] Retrieving paper metadata...\u001b[0m\n",
      "\u001b[32m[Downloading] Using aria2 with 5 connections\u001b[0m\n",
      "\u001b[32m[Done] Paper saved to \"/Users/panchamb/Downloads/ArXiv_Papers/1807.02120_Weak-lensing_shear_measurement_with_machine_learning_teaching_artificial_neural_networks_about_feature_noise.pdf\"\u001b[0m\n",
      "\n"
     ]
    },
    {
     "name": "stderr",
     "output_type": "stream",
     "text": [
      " 46%|████▌     | 55/119 [08:42<09:03,  8.50s/it]"
     ]
    },
    {
     "name": "stdout",
     "output_type": "stream",
     "text": [
      "Output: [arxiv-dl] (version: 1.1.5)\n",
      "[1/1] >>> https://arxiv.org/abs/1807.08732\n",
      "\n",
      "\n",
      "Error: \u001b[32m[Processing] Retrieving paper metadata...\u001b[0m\n",
      "\u001b[32m[Downloading] Using aria2 with 5 connections\u001b[0m\n",
      "\u001b[32m[Done] Paper saved to \"/Users/panchamb/Downloads/ArXiv_Papers/1807.08732_Cosmological_constraints_from_noisy_convergence_maps_through_deep_learning.pdf\"\u001b[0m\n",
      "\n"
     ]
    },
    {
     "name": "stderr",
     "output_type": "stream",
     "text": [
      " 47%|████▋     | 56/119 [08:50<08:44,  8.33s/it]"
     ]
    },
    {
     "name": "stdout",
     "output_type": "stream",
     "text": [
      "Output: [arxiv-dl] (version: 1.1.5)\n",
      "[1/1] >>> https://arxiv.org/abs/1808.07491\n",
      "\n",
      "\n",
      "Error: \u001b[32m[Processing] Retrieving paper metadata...\u001b[0m\n",
      "\u001b[32m[Downloading] Using aria2 with 5 connections\u001b[0m\n",
      "\u001b[32m[Done] Paper saved to \"/Users/panchamb/Downloads/ArXiv_Papers/1808.07491_Weak_lensing_shear_estimation_beyond_the_shape-noise_limit_a_machine_learning_approach.pdf\"\u001b[0m\n",
      "\n"
     ]
    },
    {
     "name": "stderr",
     "output_type": "stream",
     "text": [
      " 48%|████▊     | 57/119 [08:59<08:46,  8.49s/it]"
     ]
    },
    {
     "name": "stdout",
     "output_type": "stream",
     "text": [
      "Output: [arxiv-dl] (version: 1.1.5)\n",
      "[1/1] >>> https://arxiv.org/abs/1810.11027\n",
      "\n",
      "\n",
      "Error: \u001b[32m[Processing] Retrieving paper metadata...\u001b[0m\n",
      "\u001b[32m[Downloading] Using aria2 with 5 connections\u001b[0m\n",
      "\u001b[32m[Done] Paper saved to \"/Users/panchamb/Downloads/ArXiv_Papers/1810.11027_On_the_dissection_of_degenerate_cosmologies_with_machine_learning.pdf\"\u001b[0m\n",
      "\n"
     ]
    },
    {
     "name": "stderr",
     "output_type": "stream",
     "text": [
      " 49%|████▊     | 58/119 [09:07<08:27,  8.33s/it]"
     ]
    },
    {
     "name": "stdout",
     "output_type": "stream",
     "text": [
      "Output: [arxiv-dl] (version: 1.1.5)\n",
      "[1/1] >>> https://arxiv.org/abs/1810.11030\n",
      "\n",
      "\n",
      "Error: \u001b[32m[Processing] Retrieving paper metadata...\u001b[0m\n",
      "\u001b[32m[Downloading] Using aria2 with 5 connections\u001b[0m\n",
      "\u001b[32m[Done] Paper saved to \"/Users/panchamb/Downloads/ArXiv_Papers/1810.11030_Distinguishing_standard_and_modified_gravity_cosmologies_with_machine_learning.pdf\"\u001b[0m\n",
      "\n"
     ]
    },
    {
     "name": "stderr",
     "output_type": "stream",
     "text": [
      " 50%|████▉     | 59/119 [09:15<08:07,  8.12s/it]"
     ]
    },
    {
     "name": "stdout",
     "output_type": "stream",
     "text": [
      "Output: [arxiv-dl] (version: 1.1.5)\n",
      "[1/1] >>> https://arxiv.org/abs/1812.05781\n",
      "\n",
      "\n",
      "Error: \u001b[32m[Processing] Retrieving paper metadata...\u001b[0m\n",
      "\u001b[32m[Downloading] Using aria2 with 5 connections\u001b[0m\n",
      "\u001b[32m[Done] Paper saved to \"/Users/panchamb/Downloads/ArXiv_Papers/1812.05781_Denoising_Weak_Lensing_Mass_Maps_with_Deep_Learning.pdf\"\u001b[0m\n",
      "\n"
     ]
    },
    {
     "name": "stderr",
     "output_type": "stream",
     "text": [
      " 50%|█████     | 60/119 [09:22<07:55,  8.05s/it]"
     ]
    },
    {
     "name": "stdout",
     "output_type": "stream",
     "text": [
      "Output: [arxiv-dl] (version: 1.1.5)\n",
      "[1/1] >>> https://arxiv.org/abs/1902.03663\n",
      "\n",
      "\n",
      "Error: \u001b[32m[Processing] Retrieving paper metadata...\u001b[0m\n",
      "\u001b[32m[Downloading] Using aria2 with 5 connections\u001b[0m\n",
      "\u001b[32m[Done] Paper saved to \"/Users/panchamb/Downloads/ArXiv_Papers/1902.03663_Weak_lensing_cosmology_with_convolutional_neural_networks_on_noisy_data.pdf\"\u001b[0m\n",
      "\n"
     ]
    },
    {
     "name": "stderr",
     "output_type": "stream",
     "text": [
      " 51%|█████▏    | 61/119 [09:30<07:39,  7.92s/it]"
     ]
    },
    {
     "name": "stdout",
     "output_type": "stream",
     "text": [
      "Output: [arxiv-dl] (version: 1.1.5)\n",
      "[1/1] >>> https://arxiv.org/abs/1902.08161\n",
      "\n",
      "\n",
      "Error: \u001b[32m[Processing] Retrieving paper metadata...\u001b[0m\n",
      "\u001b[32m[Downloading] Using aria2 with 5 connections\u001b[0m\n",
      "\u001b[32m[Done] Paper saved to \"/Users/panchamb/Downloads/ArXiv_Papers/1902.08161_Galaxy_shape_measurement_with_convolutional_neural_networks.pdf\"\u001b[0m\n",
      "\n"
     ]
    },
    {
     "name": "stderr",
     "output_type": "stream",
     "text": [
      " 52%|█████▏    | 62/119 [09:38<07:33,  7.96s/it]"
     ]
    },
    {
     "name": "stdout",
     "output_type": "stream",
     "text": [
      "Output: [arxiv-dl] (version: 1.1.5)\n",
      "[1/1] >>> https://arxiv.org/abs/1906.03156\n",
      "\n",
      "\n",
      "Error: \u001b[32m[Processing] Retrieving paper metadata...\u001b[0m\n",
      "\u001b[32m[Downloading] Using aria2 with 5 connections\u001b[0m\n",
      "\u001b[32m[Done] Paper saved to \"/Users/panchamb/Downloads/ArXiv_Papers/1906.03156_Cosmological_constraints_with_deep_learning_from_KiDS-450_weak_lensing_maps.pdf\"\u001b[0m\n",
      "\n"
     ]
    },
    {
     "name": "stderr",
     "output_type": "stream",
     "text": [
      " 53%|█████▎    | 63/119 [09:46<07:22,  7.89s/it]"
     ]
    },
    {
     "name": "stdout",
     "output_type": "stream",
     "text": [
      "Output: [arxiv-dl] (version: 1.1.5)\n",
      "[1/1] >>> https://arxiv.org/abs/1908.00543\n",
      "\n",
      "\n",
      "Error: \u001b[32m[Processing] Retrieving paper metadata...\u001b[0m\n",
      "\u001b[32m[Downloading] Using aria2 with 5 connections\u001b[0m\n",
      "\u001b[32m[Done] Paper saved to \"/Users/panchamb/Downloads/ArXiv_Papers/1908.00543_Deep_learning_dark_matter_map_reconstructions_from_DES_SV_weak_lensing_data.pdf\"\u001b[0m\n",
      "\n"
     ]
    },
    {
     "name": "stderr",
     "output_type": "stream",
     "text": [
      " 54%|█████▍    | 64/119 [09:54<07:15,  7.91s/it]"
     ]
    },
    {
     "name": "stdout",
     "output_type": "stream",
     "text": [
      "Output: [arxiv-dl] (version: 1.1.5)\n",
      "[1/1] >>> https://arxiv.org/abs/1911.12890\n",
      "\n",
      "\n",
      "Error: \u001b[32m[Processing] Retrieving paper metadata...\u001b[0m\n",
      "\u001b[32m[Downloading] Using aria2 with 5 connections\u001b[0m\n",
      "\u001b[32m[Done] Paper saved to \"/Users/panchamb/Downloads/ArXiv_Papers/1911.12890_Noise_reduction_for_weak_lensing_mass_mapping_An_application_of_generative_adversarial_networks_to_Subaru_Hyper_Suprime-Cam_first-year_data.pdf\"\u001b[0m\n",
      "\n"
     ]
    },
    {
     "name": "stderr",
     "output_type": "stream",
     "text": [
      " 55%|█████▍    | 65/119 [10:02<07:05,  7.88s/it]"
     ]
    },
    {
     "name": "stdout",
     "output_type": "stream",
     "text": [
      "Output: [arxiv-dl] (version: 1.1.5)\n",
      "[1/1] >>> https://arxiv.org/abs/2005.06551\n",
      "\n",
      "\n",
      "Error: \u001b[32m[Processing] Retrieving paper metadata...\u001b[0m\n",
      "\u001b[32m[Downloading] Using aria2 with 5 connections\u001b[0m\n",
      "\u001b[32m[Done] Paper saved to \"/Users/panchamb/Downloads/ArXiv_Papers/2005.06551_Parameter_Inference_for_Weak_Lensing_using_Gaussian_Processes_and_MOPED.pdf\"\u001b[0m\n",
      "\n"
     ]
    },
    {
     "name": "stderr",
     "output_type": "stream",
     "text": [
      " 55%|█████▌    | 66/119 [10:10<07:00,  7.93s/it]"
     ]
    },
    {
     "name": "stdout",
     "output_type": "stream",
     "text": [
      "Output: [arxiv-dl] (version: 1.1.5)\n",
      "[1/1] >>> https://arxiv.org/abs/2006.07011\n",
      "\n",
      "\n",
      "Error: \u001b[32m[Processing] Retrieving paper metadata...\u001b[0m\n",
      "\u001b[32m[Downloading] Using aria2 with 5 connections\u001b[0m\n",
      "\u001b[32m[Done] Paper saved to \"/Users/panchamb/Downloads/ArXiv_Papers/2006.07011_Shear_measurement_bias_II_a_fast_machine_learning_calibration_method.pdf\"\u001b[0m\n",
      "\n"
     ]
    },
    {
     "name": "stderr",
     "output_type": "stream",
     "text": [
      " 56%|█████▋    | 67/119 [10:17<06:46,  7.82s/it]"
     ]
    },
    {
     "name": "stdout",
     "output_type": "stream",
     "text": [
      "Output: [arxiv-dl] (version: 1.1.5)\n",
      "[1/1] >>> https://arxiv.org/abs/2007.06529\n",
      "\n",
      "\n",
      "Error: \u001b[32m[Processing] Retrieving paper metadata...\u001b[0m\n",
      "\u001b[32m[Downloading] Using aria2 with 5 connections\u001b[0m\n",
      "\u001b[32m[Done] Paper saved to \"/Users/panchamb/Downloads/ArXiv_Papers/2007.06529_Interpreting_deep_learning_models_for_weak_lensing.pdf\"\u001b[0m\n",
      "\n"
     ]
    },
    {
     "name": "stderr",
     "output_type": "stream",
     "text": [
      " 57%|█████▋    | 68/119 [10:25<06:31,  7.68s/it]"
     ]
    },
    {
     "name": "stdout",
     "output_type": "stream",
     "text": [
      "Output: [arxiv-dl] (version: 1.1.5)\n",
      "[1/1] >>> https://arxiv.org/abs/2011.08271\n",
      "\n",
      "\n",
      "Error: \u001b[32m[Processing] Retrieving paper metadata...\u001b[0m\n",
      "\u001b[32m[Downloading] Using aria2 with 5 connections\u001b[0m\n",
      "\u001b[32m[Done] Paper saved to \"/Users/panchamb/Downloads/ArXiv_Papers/2011.08271_Probabilistic_Mapping_of_Dark_Matter_by_Neural_Score_Matching.pdf\"\u001b[0m\n",
      "\n"
     ]
    },
    {
     "name": "stderr",
     "output_type": "stream",
     "text": [
      " 58%|█████▊    | 69/119 [10:32<06:20,  7.61s/it]"
     ]
    },
    {
     "name": "stdout",
     "output_type": "stream",
     "text": [
      "Output: [arxiv-dl] (version: 1.1.5)\n",
      "[1/1] >>> https://arxiv.org/abs/2011.10438\n",
      "\n",
      "\n",
      "Error: \u001b[32m[Processing] Retrieving paper metadata...\u001b[0m\n",
      "\u001b[32m[Downloading] Using aria2 with 5 connections\u001b[0m\n",
      "\u001b[32m[Done] Paper saved to \"/Users/panchamb/Downloads/ArXiv_Papers/2011.10438_Higher_order_statistics_of_shear_field_a_machine_learning_approach.pdf\"\u001b[0m\n",
      "\n"
     ]
    },
    {
     "name": "stderr",
     "output_type": "stream",
     "text": [
      " 59%|█████▉    | 70/119 [10:39<06:10,  7.57s/it]"
     ]
    },
    {
     "name": "stdout",
     "output_type": "stream",
     "text": [
      "Output: [arxiv-dl] (version: 1.1.5)\n",
      "[1/1] >>> https://arxiv.org/abs/2109.11060\n",
      "\n",
      "\n",
      "Error: \u001b[32m[Processing] Retrieving paper metadata...\u001b[0m\n",
      "\u001b[32m[Downloading] Using aria2 with 5 connections\u001b[0m\n",
      "\u001b[32m[Done] Paper saved to \"/Users/panchamb/Downloads/ArXiv_Papers/2109.11060_Simultaneously_constraining_cosmology_and_baryonic_physics_via_deep_learning_from_weak_lensing.pdf\"\u001b[0m\n",
      "\n"
     ]
    },
    {
     "name": "stderr",
     "output_type": "stream",
     "text": [
      " 60%|█████▉    | 71/119 [10:48<06:14,  7.81s/it]"
     ]
    },
    {
     "name": "stdout",
     "output_type": "stream",
     "text": [
      "Output: [arxiv-dl] (version: 1.1.5)\n",
      "[1/1] >>> https://arxiv.org/abs/2201.05561\n",
      "\n",
      "\n",
      "Error: \u001b[32m[Processing] Retrieving paper metadata...\u001b[0m\n",
      "\u001b[32m[Downloading] Using aria2 with 5 connections\u001b[0m\n",
      "\u001b[32m[Done] Paper saved to \"/Users/panchamb/Downloads/ArXiv_Papers/2201.05561_Probabilistic_Mass_Mapping_with_Neural_Score_Estimation.pdf\"\u001b[0m\n",
      "\n"
     ]
    },
    {
     "name": "stderr",
     "output_type": "stream",
     "text": [
      " 61%|██████    | 72/119 [10:56<06:12,  7.92s/it]"
     ]
    },
    {
     "name": "stdout",
     "output_type": "stream",
     "text": [
      "Output: [arxiv-dl] (version: 1.1.5)\n",
      "[1/1] >>> https://arxiv.org/abs/2203.06124\n",
      "\n",
      "\n",
      "Error: \u001b[32m[Processing] Retrieving paper metadata...\u001b[0m\n",
      "\u001b[32m[Downloading] Using aria2 with 5 connections\u001b[0m\n",
      "\u001b[32m[Done] Paper saved to \"/Users/panchamb/Downloads/ArXiv_Papers/2203.06124_Accelerating_cosmological_inference_with_Gaussian_processes_and_neural_networks_--_an_application_to_LSST_Y1_weak_lensing_and_galaxy_clustering.pdf\"\u001b[0m\n",
      "\n"
     ]
    },
    {
     "name": "stderr",
     "output_type": "stream",
     "text": [
      " 61%|██████▏   | 73/119 [11:00<05:16,  6.87s/it]"
     ]
    },
    {
     "name": "stdout",
     "output_type": "stream",
     "text": [
      "Output: [arxiv-dl] (version: 1.1.5)\n",
      "[1/1] >>> https://arxiv.org/abs/1607.04644\n",
      "\n",
      "\n",
      "Error: \u001b[32m[Processing] Retrieving paper metadata...\u001b[0m\n",
      "\u001b[32m[Done] Paper PDF already exists at: \"/Users/panchamb/Downloads/ArXiv_Papers/1607.04644_A_Neural_Network_Gravitational_Arc_Finder_based_on_the_Mediatrix_filamentation_Method.pdf\"\u001b[0m\n",
      "\n"
     ]
    },
    {
     "name": "stderr",
     "output_type": "stream",
     "text": [
      " 62%|██████▏   | 74/119 [11:05<04:36,  6.15s/it]"
     ]
    },
    {
     "name": "stdout",
     "output_type": "stream",
     "text": [
      "Output: [arxiv-dl] (version: 1.1.5)\n",
      "[1/1] >>> https://arxiv.org/abs/1703.02642\n",
      "\n",
      "\n",
      "Error: \u001b[32m[Processing] Retrieving paper metadata...\u001b[0m\n",
      "\u001b[32m[Done] Paper PDF already exists at: \"/Users/panchamb/Downloads/ArXiv_Papers/1703.02642_CMU_DeepLens_Deep_Learning_For_Automatic_Image-based_Galaxy-Galaxy_Strong_Lens_Finding.pdf\"\u001b[0m\n",
      "\n"
     ]
    },
    {
     "name": "stderr",
     "output_type": "stream",
     "text": [
      " 63%|██████▎   | 75/119 [11:09<04:04,  5.55s/it]"
     ]
    },
    {
     "name": "stdout",
     "output_type": "stream",
     "text": [
      "Output: [arxiv-dl] (version: 1.1.5)\n",
      "[1/1] >>> https://arxiv.org/abs/1704.02322\n",
      "\n",
      "\n",
      "Error: \u001b[32m[Processing] Retrieving paper metadata...\u001b[0m\n",
      "\u001b[32m[Done] Paper PDF already exists at: \"/Users/panchamb/Downloads/ArXiv_Papers/1704.02322_Automated_Lensing_Learner_Automated_Strong_Lensing_Identification_with_a_Computer_Vision_Technique.pdf\"\u001b[0m\n",
      "\n"
     ]
    },
    {
     "name": "stderr",
     "output_type": "stream",
     "text": [
      " 64%|██████▍   | 76/119 [11:13<03:40,  5.14s/it]"
     ]
    },
    {
     "name": "stdout",
     "output_type": "stream",
     "text": [
      "Output: [arxiv-dl] (version: 1.1.5)\n",
      "[1/1] >>> https://arxiv.org/abs/1704.02744\n",
      "\n",
      "\n",
      "Error: \u001b[32m[Processing] Retrieving paper metadata...\u001b[0m\n",
      "\u001b[32m[Done] Paper PDF already exists at: \"/Users/panchamb/Downloads/ArXiv_Papers/1704.02744_Finding_strong_lenses_in_CFHTLS_using_convolutional_neural_networks.pdf\"\u001b[0m\n",
      "\n"
     ]
    },
    {
     "name": "stderr",
     "output_type": "stream",
     "text": [
      " 65%|██████▍   | 77/119 [11:17<03:23,  4.84s/it]"
     ]
    },
    {
     "name": "stdout",
     "output_type": "stream",
     "text": [
      "Output: [arxiv-dl] (version: 1.1.5)\n",
      "[1/1] >>> https://arxiv.org/abs/1708.08842\n",
      "\n",
      "\n",
      "Error: \u001b[32m[Processing] Retrieving paper metadata...\u001b[0m\n",
      "\u001b[32m[Done] Paper PDF already exists at: \"/Users/panchamb/Downloads/ArXiv_Papers/1708.08842_Fast_Automated_Analysis_of_Strong_Gravitational_Lenses_with_Convolutional_Neural_Networks.pdf\"\u001b[0m\n",
      "\n"
     ]
    },
    {
     "name": "stderr",
     "output_type": "stream",
     "text": [
      " 66%|██████▌   | 78/119 [11:21<03:09,  4.62s/it]"
     ]
    },
    {
     "name": "stdout",
     "output_type": "stream",
     "text": [
      "Output: [arxiv-dl] (version: 1.1.5)\n",
      "[1/1] >>> https://arxiv.org/abs/1708.08843\n",
      "\n",
      "\n",
      "Error: \u001b[32m[Processing] Retrieving paper metadata...\u001b[0m\n",
      "\u001b[32m[Done] Paper PDF already exists at: \"/Users/panchamb/Downloads/ArXiv_Papers/1708.08843_Uncertainties_in_Parameters_Estimated_with_Neural_Networks_Application_to_Strong_Gravitational_Lensing.pdf\"\u001b[0m\n",
      "\n"
     ]
    },
    {
     "name": "stderr",
     "output_type": "stream",
     "text": [
      " 66%|██████▋   | 79/119 [11:26<03:00,  4.52s/it]"
     ]
    },
    {
     "name": "stdout",
     "output_type": "stream",
     "text": [
      "Output: [arxiv-dl] (version: 1.1.5)\n",
      "[1/1] >>> https://arxiv.org/abs/1802.03609\n",
      "\n",
      "\n",
      "Error: \u001b[32m[Processing] Retrieving paper metadata...\u001b[0m\n",
      "\u001b[32m[Done] Paper PDF already exists at: \"/Users/panchamb/Downloads/ArXiv_Papers/1802.03609_The_Strong_Gravitational_Lens_Finding_Challenge.pdf\"\u001b[0m\n",
      "\n"
     ]
    },
    {
     "name": "stderr",
     "output_type": "stream",
     "text": [
      " 67%|██████▋   | 80/119 [11:30<02:51,  4.41s/it]"
     ]
    },
    {
     "name": "stdout",
     "output_type": "stream",
     "text": [
      "Output: [arxiv-dl] (version: 1.1.5)\n",
      "[1/1] >>> https://arxiv.org/abs/1807.04764\n",
      "\n",
      "\n",
      "Error: \u001b[32m[Processing] Retrieving paper metadata...\u001b[0m\n",
      "\u001b[32m[Done] Paper PDF already exists at: \"/Users/panchamb/Downloads/ArXiv_Papers/1807.04764_Testing_Convolutional_Neural_Networks_for_finding_strong_gravitational_lenses_in_KiDS.pdf\"\u001b[0m\n",
      "\n"
     ]
    },
    {
     "name": "stderr",
     "output_type": "stream",
     "text": [
      " 68%|██████▊   | 81/119 [11:34<02:44,  4.33s/it]"
     ]
    },
    {
     "name": "stdout",
     "output_type": "stream",
     "text": [
      "Output: [arxiv-dl] (version: 1.1.5)\n",
      "[1/1] >>> https://arxiv.org/abs/1808.00011\n",
      "\n",
      "\n",
      "Error: \u001b[32m[Processing] Retrieving paper metadata...\u001b[0m\n",
      "\u001b[32m[Done] Paper PDF already exists at: \"/Users/panchamb/Downloads/ArXiv_Papers/1808.00011_Analyzing_interferometric_observations_of_strong_gravitational_lenses_with_recurrent_and_convolutional_neural_networks.pdf\"\u001b[0m\n",
      "\n"
     ]
    },
    {
     "name": "stderr",
     "output_type": "stream",
     "text": [
      " 69%|██████▉   | 82/119 [11:38<02:38,  4.29s/it]"
     ]
    },
    {
     "name": "stdout",
     "output_type": "stream",
     "text": [
      "Output: [arxiv-dl] (version: 1.1.5)\n",
      "[1/1] >>> https://arxiv.org/abs/1901.01359\n",
      "\n",
      "\n",
      "Error: \u001b[32m[Processing] Retrieving paper metadata...\u001b[0m\n",
      "\u001b[32m[Done] Paper PDF already exists at: \"/Users/panchamb/Downloads/ArXiv_Papers/1901.01359_Data-Driven_Reconstruction_of_Gravitationally_Lensed_Galaxies_using_Recurrent_Inference_Machines.pdf\"\u001b[0m\n",
      "\n"
     ]
    },
    {
     "name": "stderr",
     "output_type": "stream",
     "text": [
      " 70%|██████▉   | 83/119 [11:42<02:33,  4.25s/it]"
     ]
    },
    {
     "name": "stdout",
     "output_type": "stream",
     "text": [
      "Output: [arxiv-dl] (version: 1.1.5)\n",
      "[1/1] >>> https://arxiv.org/abs/1906.00970\n",
      "\n",
      "\n",
      "Error: \u001b[32m[Processing] Retrieving paper metadata...\u001b[0m\n",
      "\u001b[32m[Done] Paper PDF already exists at: \"/Users/panchamb/Downloads/ArXiv_Papers/1906.00970_Finding_Strong_Gravitational_Lenses_in_the_DESI_DECam_Legacy_Survey.pdf\"\u001b[0m\n",
      "\n"
     ]
    },
    {
     "name": "stderr",
     "output_type": "stream",
     "text": [
      " 71%|███████   | 84/119 [11:47<02:28,  4.23s/it]"
     ]
    },
    {
     "name": "stdout",
     "output_type": "stream",
     "text": [
      "Output: [arxiv-dl] (version: 1.1.5)\n",
      "[1/1] >>> https://arxiv.org/abs/1909.02005\n",
      "\n",
      "\n",
      "Error: \u001b[32m[Processing] Retrieving paper metadata...\u001b[0m\n",
      "\u001b[32m[Done] Paper PDF already exists at: \"/Users/panchamb/Downloads/ArXiv_Papers/1909.02005_Mining_for_Dark_Matter_Substructure_Inferring_subhalo_population_properties_from_strong_lenses_with_machine_learning.pdf\"\u001b[0m\n",
      "\n"
     ]
    },
    {
     "name": "stderr",
     "output_type": "stream",
     "text": [
      " 71%|███████▏  | 85/119 [11:51<02:22,  4.20s/it]"
     ]
    },
    {
     "name": "stdout",
     "output_type": "stream",
     "text": [
      "Output: [arxiv-dl] (version: 1.1.5)\n",
      "[1/1] >>> https://arxiv.org/abs/1909.07346\n",
      "\n",
      "\n",
      "Error: \u001b[32m[Processing] Retrieving paper metadata...\u001b[0m\n",
      "\u001b[32m[Done] Paper PDF already exists at: \"/Users/panchamb/Downloads/ArXiv_Papers/1909.07346_Deep_Learning_the_Morphology_of_Dark_Matter_Substructure.pdf\"\u001b[0m\n",
      "\n"
     ]
    },
    {
     "name": "stderr",
     "output_type": "stream",
     "text": [
      " 72%|███████▏  | 86/119 [11:55<02:18,  4.19s/it]"
     ]
    },
    {
     "name": "stdout",
     "output_type": "stream",
     "text": [
      "Output: [arxiv-dl] (version: 1.1.5)\n",
      "[1/1] >>> https://arxiv.org/abs/1910.00015\n",
      "\n",
      "\n",
      "Error: \u001b[32m[Processing] Retrieving paper metadata...\u001b[0m\n",
      "\u001b[32m[Done] Paper PDF already exists at: \"/Users/panchamb/Downloads/ArXiv_Papers/1910.00015_Direct_Detection_of_Dark_Matter_Substructure_in_Strong_Lens_Images_with_Convolutional_Neural_Networks.pdf\"\u001b[0m\n",
      "\n"
     ]
    },
    {
     "name": "stderr",
     "output_type": "stream",
     "text": [
      " 73%|███████▎  | 87/119 [11:59<02:13,  4.18s/it]"
     ]
    },
    {
     "name": "stdout",
     "output_type": "stream",
     "text": [
      "Output: [arxiv-dl] (version: 1.1.5)\n",
      "[1/1] >>> https://arxiv.org/abs/1910.06157\n",
      "\n",
      "\n",
      "Error: \u001b[32m[Processing] Retrieving paper metadata...\u001b[0m\n",
      "\u001b[32m[Done] Paper PDF already exists at: \"/Users/panchamb/Downloads/ArXiv_Papers/1910.06157_Differentiable_Strong_Lensing_Uniting_Gravity_and_Neural_Nets_through_Differentiable_Probabilistic_Programming.pdf\"\u001b[0m\n",
      "\n"
     ]
    },
    {
     "name": "stderr",
     "output_type": "stream",
     "text": [
      " 74%|███████▍  | 88/119 [12:03<02:09,  4.16s/it]"
     ]
    },
    {
     "name": "stdout",
     "output_type": "stream",
     "text": [
      "Output: [arxiv-dl] (version: 1.1.5)\n",
      "[1/1] >>> https://arxiv.org/abs/1911.04320\n",
      "\n",
      "\n",
      "Error: \u001b[32m[Processing] Retrieving paper metadata...\u001b[0m\n",
      "\u001b[32m[Done] Paper PDF already exists at: \"/Users/panchamb/Downloads/ArXiv_Papers/1911.04320_Identifying_Strong_Lenses_with_Unsupervised_Machine_Learning_using_Convolutional_Autoencoder.pdf\"\u001b[0m\n",
      "\n"
     ]
    },
    {
     "name": "stderr",
     "output_type": "stream",
     "text": [
      " 75%|███████▍  | 89/119 [12:07<02:05,  4.18s/it]"
     ]
    },
    {
     "name": "stdout",
     "output_type": "stream",
     "text": [
      "Output: [arxiv-dl] (version: 1.1.5)\n",
      "[1/1] >>> https://arxiv.org/abs/1911.03867\n",
      "\n",
      "\n",
      "Error: \u001b[32m[Processing] Retrieving paper metadata...\u001b[0m\n",
      "\u001b[32m[Done] Paper PDF already exists at: \"/Users/panchamb/Downloads/ArXiv_Papers/1911.03867_A_Modular_Deep_Learning_Pipeline_for_Galaxy-Scale_Strong_Gravitational_Lens_Detection_and_Modeling.pdf\"\u001b[0m\n",
      "\n"
     ]
    },
    {
     "name": "stderr",
     "output_type": "stream",
     "text": [
      " 76%|███████▌  | 90/119 [12:12<02:00,  4.16s/it]"
     ]
    },
    {
     "name": "stdout",
     "output_type": "stream",
     "text": [
      "Output: [arxiv-dl] (version: 1.1.5)\n",
      "[1/1] >>> https://arxiv.org/abs/2004.13048\n",
      "\n",
      "\n",
      "Error: \u001b[32m[Processing] Retrieving paper metadata...\u001b[0m\n",
      "\u001b[32m[Done] Paper PDF already exists at: \"/Users/panchamb/Downloads/ArXiv_Papers/2004.13048_HOLISMOKES_--_II_Identifying_galaxy-scale_strong_gravitational_lenses_in_Pan-STARRS_using_convolutional_neural_networks.pdf\"\u001b[0m\n",
      "\n"
     ]
    },
    {
     "name": "stderr",
     "output_type": "stream",
     "text": [
      " 76%|███████▋  | 91/119 [12:16<01:56,  4.16s/it]"
     ]
    },
    {
     "name": "stdout",
     "output_type": "stream",
     "text": [
      "Output: [arxiv-dl] (version: 1.1.5)\n",
      "[1/1] >>> https://arxiv.org/abs/2005.04730\n",
      "\n",
      "\n",
      "Error: \u001b[32m[Processing] Retrieving paper metadata...\u001b[0m\n",
      "\u001b[32m[Done] Paper PDF already exists at: \"/Users/panchamb/Downloads/ArXiv_Papers/2005.04730_Discovering_New_Strong_Gravitational_Lenses_in_the_DESI_Legacy_Imaging_Surveys.pdf\"\u001b[0m\n",
      "\n"
     ]
    },
    {
     "name": "stderr",
     "output_type": "stream",
     "text": [
      " 77%|███████▋  | 92/119 [12:20<01:51,  4.12s/it]"
     ]
    },
    {
     "name": "stdout",
     "output_type": "stream",
     "text": [
      "Output: [arxiv-dl] (version: 1.1.5)\n",
      "[1/1] >>> https://arxiv.org/abs/2005.05353\n",
      "\n",
      "\n",
      "Error: \u001b[32m[Processing] Retrieving paper metadata...\u001b[0m\n",
      "\u001b[32m[Done] Paper PDF already exists at: \"/Users/panchamb/Downloads/ArXiv_Papers/2005.05353_Dark_Matter_Subhalos_Strong_Lensing_and_Machine_Learning.pdf\"\u001b[0m\n",
      "\n"
     ]
    },
    {
     "name": "stderr",
     "output_type": "stream",
     "text": [
      " 78%|███████▊  | 93/119 [12:24<01:47,  4.15s/it]"
     ]
    },
    {
     "name": "stdout",
     "output_type": "stream",
     "text": [
      "Output: [arxiv-dl] (version: 1.1.5)\n",
      "[1/1] >>> https://arxiv.org/abs/2007.00188\n",
      "\n",
      "\n",
      "Error: \u001b[32m[Processing] Retrieving paper metadata...\u001b[0m\n",
      "\u001b[32m[Done] Paper PDF already exists at: \"/Users/panchamb/Downloads/ArXiv_Papers/2007.00188_Deep_Learning_for_Strong_Lensing_Search_Tests_of_the_Convolutional_Neural_Networks_and_New_Candidates_from_KiDS_DR3.pdf\"\u001b[0m\n",
      "\n"
     ]
    },
    {
     "name": "stderr",
     "output_type": "stream",
     "text": [
      " 79%|███████▉  | 94/119 [12:28<01:43,  4.12s/it]"
     ]
    },
    {
     "name": "stdout",
     "output_type": "stream",
     "text": [
      "Output: [arxiv-dl] (version: 1.1.5)\n",
      "[1/1] >>> https://arxiv.org/abs/2008.12731\n",
      "\n",
      "\n",
      "Error: \u001b[32m[Processing] Retrieving paper metadata...\u001b[0m\n",
      "\u001b[32m[Done] Paper PDF already exists at: \"/Users/panchamb/Downloads/ArXiv_Papers/2008.12731_Decoding_Dark_Matter_Substructure_without_Supervision.pdf\"\u001b[0m\n",
      "\n"
     ]
    },
    {
     "name": "stderr",
     "output_type": "stream",
     "text": [
      " 80%|███████▉  | 95/119 [12:32<01:39,  4.13s/it]"
     ]
    },
    {
     "name": "stdout",
     "output_type": "stream",
     "text": [
      "Output: [arxiv-dl] (version: 1.1.5)\n",
      "[1/1] >>> https://arxiv.org/abs/2009.06639\n",
      "\n",
      "\n",
      "Error: \u001b[32m[Processing] Retrieving paper metadata...\u001b[0m\n",
      "\u001b[32m[Done] Paper PDF already exists at: \"/Users/panchamb/Downloads/ArXiv_Papers/2009.06639_Extracting_the_Subhalo_Mass_Function_from_Strong_Lens_Images_with_Image_Segmentation.pdf\"\u001b[0m\n",
      "\n"
     ]
    },
    {
     "name": "stderr",
     "output_type": "stream",
     "text": [
      " 81%|████████  | 96/119 [12:36<01:34,  4.11s/it]"
     ]
    },
    {
     "name": "stdout",
     "output_type": "stream",
     "text": [
      "Output: [arxiv-dl] (version: 1.1.5)\n",
      "[1/1] >>> https://arxiv.org/abs/2009.06663\n",
      "\n",
      "\n",
      "Error: \u001b[32m[Processing] Retrieving paper metadata...\u001b[0m\n",
      "\u001b[32m[Done] Paper PDF already exists at: \"/Users/panchamb/Downloads/ArXiv_Papers/2009.06663_Image_segmentation_for_analyzing_galaxy-galaxy_strong_lensing_systems.pdf\"\u001b[0m\n",
      "\n"
     ]
    },
    {
     "name": "stderr",
     "output_type": "stream",
     "text": [
      " 82%|████████▏ | 97/119 [12:40<01:29,  4.07s/it]"
     ]
    },
    {
     "name": "stdout",
     "output_type": "stream",
     "text": [
      "Output: [arxiv-dl] (version: 1.1.5)\n",
      "[1/1] >>> https://arxiv.org/abs/2010.12960\n",
      "\n",
      "\n",
      "Error: \u001b[32m[Processing] Retrieving paper metadata...\u001b[0m\n",
      "\u001b[32m[Done] Paper PDF already exists at: \"/Users/panchamb/Downloads/ArXiv_Papers/2010.12960_Hunting_for_Dark_Matter_Subhalos_in_Strong_Gravitational_Lensing_with_Neural_Networks.pdf\"\u001b[0m\n",
      "\n"
     ]
    },
    {
     "name": "stderr",
     "output_type": "stream",
     "text": [
      " 82%|████████▏ | 98/119 [12:44<01:24,  4.04s/it]"
     ]
    },
    {
     "name": "stdout",
     "output_type": "stream",
     "text": [
      "Output: [arxiv-dl] (version: 1.1.5)\n",
      "[1/1] >>> https://arxiv.org/abs/2010.07032\n",
      "\n",
      "\n",
      "Error: \u001b[32m[Processing] Retrieving paper metadata...\u001b[0m\n",
      "\u001b[32m[Done] Paper PDF already exists at: \"/Users/panchamb/Downloads/ArXiv_Papers/2010.07032_Targeted_Likelihood-Free_Inference_of_Dark_Matter_Substructure_in_Strongly-Lensed_Galaxies.pdf\"\u001b[0m\n",
      "\n"
     ]
    },
    {
     "name": "stderr",
     "output_type": "stream",
     "text": [
      " 83%|████████▎ | 99/119 [12:48<01:21,  4.06s/it]"
     ]
    },
    {
     "name": "stdout",
     "output_type": "stream",
     "text": [
      "Output: [arxiv-dl] (version: 1.1.5)\n",
      "[1/1] >>> https://arxiv.org/abs/2012.00042\n",
      "\n",
      "\n",
      "Error: \u001b[32m[Processing] Retrieving paper metadata...\u001b[0m\n",
      "\u001b[32m[Done] Paper PDF already exists at: \"/Users/panchamb/Downloads/ArXiv_Papers/2012.00042_Large-Scale_Gravitational_Lens_Modeling_with_Bayesian_Neural_Networks_for_Accurate_and_Precise_Inference_of_the_Hubble_Constant.pdf\"\u001b[0m\n",
      "\n"
     ]
    },
    {
     "name": "stderr",
     "output_type": "stream",
     "text": [
      " 84%|████████▍ | 100/119 [12:52<01:17,  4.06s/it]"
     ]
    },
    {
     "name": "stdout",
     "output_type": "stream",
     "text": [
      "Output: [arxiv-dl] (version: 1.1.5)\n",
      "[1/1] >>> https://arxiv.org/abs/2109.00014\n",
      "\n",
      "\n",
      "Error: \u001b[32m[Processing] Retrieving paper metadata...\u001b[0m\n",
      "\u001b[32m[Done] Paper PDF already exists at: \"/Users/panchamb/Downloads/ArXiv_Papers/2109.00014_Strong_lens_systems_search_in_the_Dark_Energy_Survey_using_Convolutional_Neural_Networks.pdf\"\u001b[0m\n",
      "\n"
     ]
    },
    {
     "name": "stderr",
     "output_type": "stream",
     "text": [
      " 85%|████████▍ | 101/119 [12:57<01:13,  4.11s/it]"
     ]
    },
    {
     "name": "stdout",
     "output_type": "stream",
     "text": [
      "Output: [arxiv-dl] (version: 1.1.5)\n",
      "[1/1] >>> https://arxiv.org/abs/2109.09781\n",
      "\n",
      "\n",
      "Error: \u001b[32m[Processing] Retrieving paper metadata...\u001b[0m\n",
      "\u001b[32m[Done] Paper PDF already exists at: \"/Users/panchamb/Downloads/ArXiv_Papers/2109.09781_Finding_quadruply_imaged_quasars_with_machine_learning_I_Methods.pdf\"\u001b[0m\n",
      "\n"
     ]
    },
    {
     "name": "stderr",
     "output_type": "stream",
     "text": [
      " 86%|████████▌ | 102/119 [13:01<01:09,  4.09s/it]"
     ]
    },
    {
     "name": "stdout",
     "output_type": "stream",
     "text": [
      "Output: [arxiv-dl] (version: 1.1.5)\n",
      "[1/1] >>> https://arxiv.org/abs/2110.00023\n",
      "\n",
      "\n",
      "Error: \u001b[32m[Processing] Retrieving paper metadata...\u001b[0m\n",
      "\u001b[32m[Done] Paper PDF already exists at: \"/Users/panchamb/Downloads/ArXiv_Papers/2110.00023_Mining_for_Strong_Gravitational_Lenses_with_Self-supervised_Learning.pdf\"\u001b[0m\n",
      "\n"
     ]
    },
    {
     "name": "stderr",
     "output_type": "stream",
     "text": [
      " 87%|████████▋ | 103/119 [13:05<01:05,  4.12s/it]"
     ]
    },
    {
     "name": "stdout",
     "output_type": "stream",
     "text": [
      "Output: [arxiv-dl] (version: 1.1.5)\n",
      "[1/1] >>> https://arxiv.org/abs/2110.01905\n",
      "\n",
      "\n",
      "Error: \u001b[32m[Processing] Retrieving paper metadata...\u001b[0m\n",
      "\u001b[32m[Done] Paper PDF already exists at: \"/Users/panchamb/Downloads/ArXiv_Papers/2110.01905_High-quality_strong_lens_candidates_in_the_final_Kilo_Degree_survey_footprint.pdf\"\u001b[0m\n",
      "\n"
     ]
    },
    {
     "name": "stderr",
     "output_type": "stream",
     "text": [
      " 87%|████████▋ | 104/119 [13:09<01:02,  4.15s/it]"
     ]
    },
    {
     "name": "stdout",
     "output_type": "stream",
     "text": [
      "Output: [arxiv-dl] (version: 1.1.5)\n",
      "[1/1] >>> https://arxiv.org/abs/2110.02418\n",
      "\n",
      "\n",
      "Error: \u001b[32m[Processing] Retrieving paper metadata...\u001b[0m\n",
      "\u001b[32m[Done] Paper PDF already exists at: \"/Users/panchamb/Downloads/ArXiv_Papers/2110.02418_The_DES_Bright_Arcs_Survey_Candidate_Strongly_Lensed_Galaxy_Systems_from_the_Dark_Energy_Survey_5000_Sq_Deg_Footprint.pdf\"\u001b[0m\n",
      "\n"
     ]
    },
    {
     "name": "stderr",
     "output_type": "stream",
     "text": [
      " 88%|████████▊ | 105/119 [13:13<00:58,  4.15s/it]"
     ]
    },
    {
     "name": "stdout",
     "output_type": "stream",
     "text": [
      "Output: [arxiv-dl] (version: 1.1.5)\n",
      "[1/1] >>> https://arxiv.org/abs/2110.09202\n",
      "\n",
      "\n",
      "Error: \u001b[32m[Processing] Retrieving paper metadata...\u001b[0m\n",
      "\u001b[32m[Done] Paper PDF already exists at: \"/Users/panchamb/Downloads/ArXiv_Papers/2110.09202_Finding_Strong_Gravitational_Lenses_Through_Self-Attention.pdf\"\u001b[0m\n",
      "\n"
     ]
    },
    {
     "name": "stderr",
     "output_type": "stream",
     "text": [
      " 89%|████████▉ | 106/119 [13:17<00:53,  4.15s/it]"
     ]
    },
    {
     "name": "stdout",
     "output_type": "stream",
     "text": [
      "Output: [arxiv-dl] (version: 1.1.5)\n",
      "[1/1] >>> https://arxiv.org/abs/2110.11972\n",
      "\n",
      "\n",
      "Error: \u001b[32m[Processing] Retrieving paper metadata...\u001b[0m\n",
      "\u001b[32m[Done] Paper PDF already exists at: \"/Users/panchamb/Downloads/ArXiv_Papers/2110.11972_Strong_lensing_in_UNIONS_Toward_a_pipeline_from_discovery_to_modeling.pdf\"\u001b[0m\n",
      "\n"
     ]
    },
    {
     "name": "stderr",
     "output_type": "stream",
     "text": [
      " 90%|████████▉ | 107/119 [13:21<00:49,  4.14s/it]"
     ]
    },
    {
     "name": "stdout",
     "output_type": "stream",
     "text": [
      "Output: [arxiv-dl] (version: 1.1.5)\n",
      "[1/1] >>> https://arxiv.org/abs/2112.02479\n",
      "\n",
      "\n",
      "Error: \u001b[32m[Processing] Retrieving paper metadata...\u001b[0m\n",
      "\u001b[32m[Done] Paper PDF already exists at: \"/Users/panchamb/Downloads/ArXiv_Papers/2112.02479_Exploring_the_interpretability_of_deep_neural_networks_used_for_gravitational_lens_finding_with_a_sensitivity_probe.pdf\"\u001b[0m\n",
      "\n"
     ]
    },
    {
     "name": "stderr",
     "output_type": "stream",
     "text": [
      " 91%|█████████ | 108/119 [13:26<00:45,  4.14s/it]"
     ]
    },
    {
     "name": "stdout",
     "output_type": "stream",
     "text": [
      "Output: [arxiv-dl] (version: 1.1.5)\n",
      "[1/1] >>> https://arxiv.org/abs/2202.12776\n",
      "\n",
      "\n",
      "Error: \u001b[32m[Processing] Retrieving paper metadata...\u001b[0m\n",
      "\u001b[32m[Done] Paper PDF already exists at: \"/Users/panchamb/Downloads/ArXiv_Papers/2202.12776_Detecting_gravitational_lenses_using_machine_learning_exploring_interpretability_and_sensitivity_to_rare_lensing_configurations.pdf\"\u001b[0m\n",
      "\n"
     ]
    },
    {
     "name": "stderr",
     "output_type": "stream",
     "text": [
      " 92%|█████████▏| 109/119 [13:30<00:41,  4.15s/it]"
     ]
    },
    {
     "name": "stdout",
     "output_type": "stream",
     "text": [
      "Output: [arxiv-dl] (version: 1.1.5)\n",
      "[1/1] >>> https://arxiv.org/abs/2202.07663\n",
      "\n",
      "\n",
      "Error: \u001b[32m[Processing] Retrieving paper metadata...\u001b[0m\n",
      "\u001b[32m[Done] Paper PDF already exists at: \"/Users/panchamb/Downloads/ArXiv_Papers/2202.07663_GIGA-Lens_Fast_Bayesian_Inference_for_Strong_Gravitational_Lens_Modeling.pdf\"\u001b[0m\n",
      "\n"
     ]
    },
    {
     "name": "stderr",
     "output_type": "stream",
     "text": [
      " 92%|█████████▏| 110/119 [13:34<00:37,  4.13s/it]"
     ]
    },
    {
     "name": "stdout",
     "output_type": "stream",
     "text": [
      "Output: [arxiv-dl] (version: 1.1.5)\n",
      "[1/1] >>> https://arxiv.org/abs/2203.09536\n",
      "\n",
      "\n",
      "Error: \u001b[32m[Processing] Retrieving paper metadata...\u001b[0m\n",
      "\u001b[32m[Done] Paper PDF already exists at: \"/Users/panchamb/Downloads/ArXiv_Papers/2203.09536_Developing_a_Victorious_Strategy_to_the_Second_Strong_Gravitational_Lensing_Data_Challenge.pdf\"\u001b[0m\n",
      "\n"
     ]
    },
    {
     "name": "stderr",
     "output_type": "stream",
     "text": [
      " 93%|█████████▎| 111/119 [13:38<00:33,  4.17s/it]"
     ]
    },
    {
     "name": "stdout",
     "output_type": "stream",
     "text": [
      "Output: [arxiv-dl] (version: 1.1.5)\n",
      "[1/1] >>> https://arxiv.org/abs/2204.05924\n",
      "\n",
      "\n",
      "Error: \u001b[32m[Processing] Retrieving paper metadata...\u001b[0m\n",
      "\u001b[32m[Done] Paper PDF already exists at: \"/Users/panchamb/Downloads/ArXiv_Papers/2204.05924_DeepZipper_II_Searching_for_Lensed_Supernovae_in_Dark_Energy_Survey_Data_with_Deep_Learning.pdf\"\u001b[0m\n",
      "\n"
     ]
    },
    {
     "name": "stderr",
     "output_type": "stream",
     "text": [
      " 94%|█████████▍| 112/119 [13:42<00:28,  4.14s/it]"
     ]
    },
    {
     "name": "stdout",
     "output_type": "stream",
     "text": [
      "Output: [arxiv-dl] (version: 1.1.5)\n",
      "[1/1] >>> https://arxiv.org/abs/2206.02764\n",
      "\n",
      "\n",
      "Error: \u001b[32m[Processing] Retrieving paper metadata...\u001b[0m\n",
      "\u001b[32m[Done] Paper PDF already exists at: \"/Users/panchamb/Downloads/ArXiv_Papers/2206.02764_New_Strong_Gravitational_Lenses_from_the_DESI_Legacy_Imaging_Surveys_Data_Release_9.pdf\"\u001b[0m\n",
      "\n"
     ]
    },
    {
     "name": "stderr",
     "output_type": "stream",
     "text": [
      " 95%|█████████▍| 113/119 [13:46<00:24,  4.15s/it]"
     ]
    },
    {
     "name": "stdout",
     "output_type": "stream",
     "text": [
      "Output: [arxiv-dl] (version: 1.1.5)\n",
      "[1/1] >>> https://arxiv.org/abs/2205.09126\n",
      "\n",
      "\n",
      "Error: \u001b[32m[Processing] Retrieving paper metadata...\u001b[0m\n",
      "\u001b[32m[Done] Paper PDF already exists at: \"/Users/panchamb/Downloads/ArXiv_Papers/2205.09126_Estimating_the_warm_dark_matter_mass_from_strong_lensing_images_with_truncated_marginal_neural_ratio_estimation.pdf\"\u001b[0m\n",
      "\n"
     ]
    },
    {
     "name": "stderr",
     "output_type": "stream",
     "text": [
      " 96%|█████████▌| 114/119 [13:50<00:20,  4.14s/it]"
     ]
    },
    {
     "name": "stdout",
     "output_type": "stream",
     "text": [
      "Output: [arxiv-dl] (version: 1.1.5)\n",
      "[1/1] >>> https://arxiv.org/abs/2206.11279\n",
      "\n",
      "\n",
      "Error: \u001b[32m[Processing] Retrieving paper metadata...\u001b[0m\n",
      "\u001b[32m[Done] Paper PDF already exists at: \"/Users/panchamb/Downloads/ArXiv_Papers/2206.11279_HOLISMOKES_--_IX_Neural_network_inference_of_strong-lens_parameters_and_uncertainties_from_ground-based_images.pdf\"\u001b[0m\n",
      "\n"
     ]
    },
    {
     "name": "stderr",
     "output_type": "stream",
     "text": [
      " 97%|█████████▋| 115/119 [13:55<00:16,  4.12s/it]"
     ]
    },
    {
     "name": "stdout",
     "output_type": "stream",
     "text": [
      "Output: [arxiv-dl] (version: 1.1.5)\n",
      "[1/1] >>> https://arxiv.org/abs/2206.14820\n",
      "\n",
      "\n",
      "Error: \u001b[32m[Processing] Retrieving paper metadata...\u001b[0m\n",
      "\u001b[32m[Done] Paper PDF already exists at: \"/Users/panchamb/Downloads/ArXiv_Papers/2206.14820_Strong_Lensing_Source_Reconstruction_Using_Continuous_Neural_Fields.pdf\"\u001b[0m\n",
      "\n"
     ]
    },
    {
     "name": "stderr",
     "output_type": "stream",
     "text": [
      " 97%|█████████▋| 116/119 [13:59<00:12,  4.13s/it]"
     ]
    },
    {
     "name": "stdout",
     "output_type": "stream",
     "text": [
      "Output: [arxiv-dl] (version: 1.1.5)\n",
      "[1/1] >>> https://arxiv.org/abs/2207.01073\n",
      "\n",
      "\n",
      "Error: \u001b[32m[Processing] Retrieving paper metadata...\u001b[0m\n",
      "\u001b[32m[Done] Paper PDF already exists at: \"/Users/panchamb/Downloads/ArXiv_Papers/2207.01073_Pixelated_Reconstruction_of_Gravitational_Lenses_using_Recurrent_Inference_Machines.pdf\"\u001b[0m\n",
      "\n"
     ]
    },
    {
     "name": "stderr",
     "output_type": "stream",
     "text": [
      " 98%|█████████▊| 117/119 [14:03<00:08,  4.14s/it]"
     ]
    },
    {
     "name": "stdout",
     "output_type": "stream",
     "text": [
      "Output: [arxiv-dl] (version: 1.1.5)\n",
      "[1/1] >>> https://arxiv.org/abs/2207.04123\n",
      "\n",
      "\n",
      "Error: \u001b[32m[Processing] Retrieving paper metadata...\u001b[0m\n",
      "\u001b[32m[Done] Paper PDF already exists at: \"/Users/panchamb/Downloads/ArXiv_Papers/2207.04123_Population-Level_Inference_of_Strong_Gravitational_Lenses_with_Neural_Network-Based_Selection_Correction.pdf\"\u001b[0m\n",
      "\n"
     ]
    },
    {
     "name": "stderr",
     "output_type": "stream",
     "text": [
      " 99%|█████████▉| 118/119 [14:07<00:04,  4.14s/it]"
     ]
    },
    {
     "name": "stdout",
     "output_type": "stream",
     "text": [
      "Output: [arxiv-dl] (version: 1.1.5)\n",
      "[1/1] >>> https://arxiv.org/abs/2207.10124\n",
      "\n",
      "\n",
      "Error: \u001b[32m[Processing] Retrieving paper metadata...\u001b[0m\n",
      "\u001b[32m[Done] Paper PDF already exists at: \"/Users/panchamb/Downloads/ArXiv_Papers/2207.10124_HOLISMOKES_--_X_Comparison_between_neural_network_and_semi-automated_traditional_modeling_of_strong_lenses.pdf\"\u001b[0m\n",
      "\n"
     ]
    },
    {
     "name": "stderr",
     "output_type": "stream",
     "text": [
      "100%|██████████| 119/119 [14:11<00:00,  7.16s/it]"
     ]
    },
    {
     "name": "stdout",
     "output_type": "stream",
     "text": [
      "Output: [arxiv-dl] (version: 1.1.5)\n",
      "[1/1] >>> https://arxiv.org/abs/2207.10698\n",
      "\n",
      "\n",
      "Error: \u001b[32m[Processing] Retrieving paper metadata...\u001b[0m\n",
      "\u001b[32m[Done] Paper PDF already exists at: \"/Users/panchamb/Downloads/ArXiv_Papers/2207.10698_A_machine_learning_based_approach_to_gravitational_lens_identification_with_the_International_LOFAR_Telescope.pdf\"\u001b[0m\n",
      "\n"
     ]
    },
    {
     "name": "stderr",
     "output_type": "stream",
     "text": [
      "\n"
     ]
    }
   ],
   "source": [
    "for url in tqdm(grav_lensing_arxiv):\n",
    "    download_paper(url)"
   ]
  },
  {
   "cell_type": "code",
   "execution_count": null,
   "metadata": {},
   "outputs": [],
   "source": []
  }
 ],
 "metadata": {
  "kernelspec": {
   "display_name": "venv_pdi_general",
   "language": "python",
   "name": "python3"
  },
  "language_info": {
   "codemirror_mode": {
    "name": "ipython",
    "version": 3
   },
   "file_extension": ".py",
   "mimetype": "text/x-python",
   "name": "python",
   "nbconvert_exporter": "python",
   "pygments_lexer": "ipython3",
   "version": "3.10.13"
  }
 },
 "nbformat": 4,
 "nbformat_minor": 2
}
